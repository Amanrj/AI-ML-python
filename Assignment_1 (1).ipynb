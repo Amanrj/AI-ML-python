{
 "cells": [
  {
   "cell_type": "markdown",
   "id": "1c0498b7-7b5b-49aa-8c8c-4ea97f50a986",
   "metadata": {},
   "source": [
    "1. Print 'Hello, World!'"
   ]
  },
  {
   "cell_type": "code",
   "execution_count": 7,
   "id": "da5aa99a-7a67-44c6-b50c-995916883346",
   "metadata": {},
   "outputs": [
    {
     "name": "stdout",
     "output_type": "stream",
     "text": [
      "Hello, World!\n"
     ]
    }
   ],
   "source": [
    "print('Hello, World!')"
   ]
  },
  {
   "cell_type": "markdown",
   "id": "6032a8dc-614f-4478-a705-d659e50cf9ba",
   "metadata": {},
   "source": [
    "2. Add two numbers"
   ]
  },
  {
   "cell_type": "code",
   "execution_count": 10,
   "id": "08931279-23ae-4c25-b349-fdb15a5d5c61",
   "metadata": {},
   "outputs": [
    {
     "name": "stdout",
     "output_type": "stream",
     "text": [
      "8\n"
     ]
    }
   ],
   "source": [
    "def add_numbers(a, b):\n",
    "    return a + b\n",
    "\n",
    "num1 = 5\n",
    "num2 = 3\n",
    "print(add_numbers(num1, num2))\n"
   ]
  },
  {
   "cell_type": "markdown",
   "id": "391a05da-d286-4339-9e6d-94f801e9e454",
   "metadata": {},
   "source": [
    "3. Find the square root of a number"
   ]
  },
  {
   "cell_type": "code",
   "execution_count": 13,
   "id": "71af4acc-bbf6-414d-af3d-117ff1d13898",
   "metadata": {},
   "outputs": [
    {
     "name": "stdout",
     "output_type": "stream",
     "text": [
      "4.0\n"
     ]
    }
   ],
   "source": [
    "import math\n",
    "\n",
    "def square_root(num):\n",
    "    return math.sqrt(num)\n",
    "\n",
    "print(square_root(16))\n"
   ]
  },
  {
   "cell_type": "markdown",
   "id": "a3aa3fed-3160-4330-afb4-7dfe81d12aa7",
   "metadata": {},
   "source": [
    "4. Calculate the area of a triangle"
   ]
  },
  {
   "cell_type": "code",
   "execution_count": 16,
   "id": "27a00348-9fb7-485c-b66a-913654796ce1",
   "metadata": {},
   "outputs": [
    {
     "name": "stdout",
     "output_type": "stream",
     "text": [
      "25.0\n"
     ]
    }
   ],
   "source": [
    "def triangle_area(base, height):\n",
    "    return 0.5 * base * height\n",
    "\n",
    "base = 5\n",
    "height = 10\n",
    "print(triangle_area(base, height))\n"
   ]
  },
  {
   "cell_type": "markdown",
   "id": "37461963-71ef-40dc-9e6b-047333d2588e",
   "metadata": {},
   "source": [
    "5. Swap two variables"
   ]
  },
  {
   "cell_type": "code",
   "execution_count": 19,
   "id": "33ec00db-8e3e-419b-a170-62090c6469bc",
   "metadata": {},
   "outputs": [
    {
     "name": "stdout",
     "output_type": "stream",
     "text": [
      "a = 10\n",
      "b = 5\n"
     ]
    }
   ],
   "source": [
    "a = 5\n",
    "b = 10\n",
    "\n",
    "a, b = b, a\n",
    "print(\"a =\", a)\n",
    "print(\"b =\", b)\n"
   ]
  },
  {
   "cell_type": "markdown",
   "id": "81787128-853f-4773-934b-03b979d131d7",
   "metadata": {},
   "source": [
    "6. Generate a random number"
   ]
  },
  {
   "cell_type": "code",
   "execution_count": 24,
   "id": "1a737e6d-7ab9-435a-a436-779ac1a6f641",
   "metadata": {},
   "outputs": [
    {
     "name": "stdout",
     "output_type": "stream",
     "text": [
      "64\n"
     ]
    }
   ],
   "source": [
    "import random\n",
    "\n",
    "print(random.randint(1, 100))\n"
   ]
  },
  {
   "cell_type": "markdown",
   "id": "2e11258c-01e9-4232-b9ce-7b47cfa3bdb6",
   "metadata": {},
   "source": [
    " 7. Convert kilometers to miles"
   ]
  },
  {
   "cell_type": "code",
   "execution_count": 27,
   "id": "b173a956-24fc-426a-a04a-8e12dfecf4be",
   "metadata": {},
   "outputs": [
    {
     "name": "stdout",
     "output_type": "stream",
     "text": [
      "3.106855\n"
     ]
    }
   ],
   "source": [
    "def km_to_miles(km):\n",
    "    return km * 0.621371\n",
    "\n",
    "kilometers = 5\n",
    "print(km_to_miles(kilometers))\n"
   ]
  },
  {
   "cell_type": "markdown",
   "id": "28d7b0ce-a662-48bb-961f-ae1596146a8c",
   "metadata": {},
   "source": [
    "8. Check if a number is positive, negative, or zero"
   ]
  },
  {
   "cell_type": "code",
   "execution_count": 36,
   "id": "bdafc051-01ea-4acd-aa01-905c39fa3a2a",
   "metadata": {},
   "outputs": [
    {
     "name": "stdout",
     "output_type": "stream",
     "text": [
      "Positive\n"
     ]
    }
   ],
   "source": [
    "def check_number(num):\n",
    "    if num > 0:\n",
    "        return \"Positive\"\n",
    "    elif num < 0:\n",
    "        return \"Negative\"\n",
    "    else:\n",
    "        return \"Zero\"\n",
    "\n",
    "print(check_number(11))\n"
   ]
  },
  {
   "cell_type": "markdown",
   "id": "f605a5b5-e028-407d-accf-9b703474d1ff",
   "metadata": {},
   "source": [
    "9. Check if a number is odd or even"
   ]
  },
  {
   "cell_type": "code",
   "execution_count": 43,
   "id": "2b0b7cab-fd5c-4c8d-98a4-f26cc6a58f23",
   "metadata": {},
   "outputs": [
    {
     "name": "stdout",
     "output_type": "stream",
     "text": [
      "Even\n"
     ]
    }
   ],
   "source": [
    "def odd_or_even(num):\n",
    "    return \"Even\" if num % 2 == 0 else \"Odd\"\n",
    "\n",
    "print(odd_or_even(10))\n"
   ]
  },
  {
   "cell_type": "markdown",
   "id": "2c65ada8-ac8e-42cb-809f-65664cdcc014",
   "metadata": {},
   "source": [
    "10. Check if a year is a leap year"
   ]
  },
  {
   "cell_type": "code",
   "execution_count": 46,
   "id": "10c73551-98ce-4c30-a60a-c7adae137110",
   "metadata": {},
   "outputs": [
    {
     "name": "stdout",
     "output_type": "stream",
     "text": [
      "True\n"
     ]
    }
   ],
   "source": [
    "def is_leap_year(year):\n",
    "    return year % 4 == 0 and (year % 100 != 0 or year % 400 == 0)\n",
    "\n",
    "print(is_leap_year(2020))\n"
   ]
  },
  {
   "cell_type": "markdown",
   "id": "561a46a6-bb68-43f2-bc35-8afcfda2b9ea",
   "metadata": {},
   "source": [
    "11. Find the largest of three numbers"
   ]
  },
  {
   "cell_type": "code",
   "execution_count": 49,
   "id": "72f1d6e0-6b4a-42a1-a048-9f6583155b47",
   "metadata": {},
   "outputs": [
    {
     "name": "stdout",
     "output_type": "stream",
     "text": [
      "5\n"
     ]
    }
   ],
   "source": [
    "def largest_of_three(a, b, c):\n",
    "    return max(a, b, c)\n",
    "\n",
    "print(largest_of_three(1, 5, 3))\n"
   ]
  },
  {
   "cell_type": "markdown",
   "id": "1764dfdb-cf63-474d-82ed-3fb6c21257d9",
   "metadata": {},
   "source": [
    "12. Find the factorial of a number"
   ]
  },
  {
   "cell_type": "code",
   "execution_count": 56,
   "id": "b0c7d66d-98f4-4906-a014-ec833325ffe3",
   "metadata": {},
   "outputs": [
    {
     "name": "stdout",
     "output_type": "stream",
     "text": [
      "2\n"
     ]
    }
   ],
   "source": [
    "def factorial(n):\n",
    "    if n == 0:\n",
    "        return 1\n",
    "    else:\n",
    "        return n * factorial(n-1)\n",
    "\n",
    "print(factorial(2))\n"
   ]
  },
  {
   "cell_type": "markdown",
   "id": "e793953a-25d5-4c53-91c2-77880d490413",
   "metadata": {},
   "source": [
    "13. Display the multiplication table"
   ]
  },
  {
   "cell_type": "code",
   "execution_count": 59,
   "id": "dcb36bd0-6114-4229-89af-67e73a976aea",
   "metadata": {},
   "outputs": [
    {
     "name": "stdout",
     "output_type": "stream",
     "text": [
      "5 x 1 = 5\n",
      "5 x 2 = 10\n",
      "5 x 3 = 15\n",
      "5 x 4 = 20\n",
      "5 x 5 = 25\n",
      "5 x 6 = 30\n",
      "5 x 7 = 35\n",
      "5 x 8 = 40\n",
      "5 x 9 = 45\n",
      "5 x 10 = 50\n"
     ]
    }
   ],
   "source": [
    "def multiplication_table(num):\n",
    "    for i in range(1, 11):\n",
    "        print(f\"{num} x {i} = {num * i}\")\n",
    "\n",
    "multiplication_table(5)\n"
   ]
  },
  {
   "cell_type": "markdown",
   "id": "103c1a1c-ad14-4af7-b163-bd500ea42813",
   "metadata": {},
   "source": [
    "14. Print the Fibonacci sequence"
   ]
  },
  {
   "cell_type": "code",
   "execution_count": 62,
   "id": "be0a7c7e-d33c-449f-813c-a04be8ef7cce",
   "metadata": {},
   "outputs": [
    {
     "name": "stdout",
     "output_type": "stream",
     "text": [
      "0 1 1 2 3 5 8 13 21 34 "
     ]
    }
   ],
   "source": [
    "def fibonacci(n):\n",
    "    a, b = 0, 1\n",
    "    while n > 0:\n",
    "        print(a, end=' ')\n",
    "        a, b = b, a + b\n",
    "        n -= 1\n",
    "\n",
    "fibonacci(10)\n"
   ]
  },
  {
   "cell_type": "markdown",
   "id": "58489505-737c-408d-9040-04c7e5e1a6dc",
   "metadata": {},
   "source": [
    "15. Check if a number is an Armstrong number"
   ]
  },
  {
   "cell_type": "code",
   "execution_count": 65,
   "id": "0ba0a114-11bb-485c-9d37-eb487464cfb7",
   "metadata": {},
   "outputs": [
    {
     "name": "stdout",
     "output_type": "stream",
     "text": [
      "True\n"
     ]
    }
   ],
   "source": [
    "def is_armstrong(num):\n",
    "    order = len(str(num))\n",
    "    sum = 0\n",
    "    temp = num\n",
    "    while temp > 0:\n",
    "        digit = temp % 10\n",
    "        sum += digit ** order\n",
    "        temp //= 10\n",
    "    return num == sum\n",
    "\n",
    "print(is_armstrong(153))\n"
   ]
  },
  {
   "cell_type": "markdown",
   "id": "60dd909d-a945-404f-8a08-f8bdac5c29e3",
   "metadata": {},
   "source": [
    "16. Find the sum of natural numbers"
   ]
  },
  {
   "cell_type": "code",
   "execution_count": 72,
   "id": "83cff808-2cfb-426a-a36c-b968cc16d1f8",
   "metadata": {},
   "outputs": [
    {
     "name": "stdout",
     "output_type": "stream",
     "text": [
      "55\n"
     ]
    }
   ],
   "source": [
    "def sum_of_natural_numbers(n):\n",
    "    return n * (n + 1) // 2\n",
    "\n",
    "print(sum_of_natural_numbers(10))\n"
   ]
  },
  {
   "cell_type": "markdown",
   "id": "67b89b6d-88f2-41df-b74e-88b630da448f",
   "metadata": {},
   "source": [
    "17. Find the sum of digits of a number"
   ]
  },
  {
   "cell_type": "code",
   "execution_count": 75,
   "id": "5caa41ed-d1f8-4a31-8202-cf6e52b41d22",
   "metadata": {},
   "outputs": [
    {
     "name": "stdout",
     "output_type": "stream",
     "text": [
      "10\n"
     ]
    }
   ],
   "source": [
    "def sum_of_digits(num):\n",
    "    sum = 0\n",
    "    while num > 0:\n",
    "        sum += num % 10\n",
    "        num //= 10\n",
    "    return sum\n",
    "\n",
    "print(sum_of_digits(1234))\n"
   ]
  },
  {
   "cell_type": "markdown",
   "id": "c368e68b-c654-430f-bd86-3fadec95305d",
   "metadata": {},
   "source": [
    "18. Reverse a number"
   ]
  },
  {
   "cell_type": "code",
   "execution_count": 81,
   "id": "e44759d8-609d-4f7a-b4fd-13f151ab328b",
   "metadata": {},
   "outputs": [
    {
     "name": "stdout",
     "output_type": "stream",
     "text": [
      "4321\n"
     ]
    }
   ],
   "source": [
    "def reverse_number(num):\n",
    "    reversed_num = 0\n",
    "    while num > 0:\n",
    "        digit = num % 10\n",
    "        reversed_num = reversed_num * 10 + digit\n",
    "        num //= 10\n",
    "    return reversed_num\n",
    "\n",
    "print(reverse_number(1234))\n"
   ]
  },
  {
   "cell_type": "markdown",
   "id": "13816ceb-db6b-4e99-8cde-fc2998b13cef",
   "metadata": {},
   "source": [
    "19. Convert decimal to binary, octal, and hexadecimal"
   ]
  },
  {
   "cell_type": "code",
   "execution_count": 84,
   "id": "7b347534-a62e-4553-b506-33413eaa7ad1",
   "metadata": {},
   "outputs": [
    {
     "name": "stdout",
     "output_type": "stream",
     "text": [
      "('0b1010', '0o12', '0xa')\n"
     ]
    }
   ],
   "source": [
    "def convert_number(num):\n",
    "    return bin(num), oct(num), hex(num)\n",
    "\n",
    "print(convert_number(10))\n"
   ]
  },
  {
   "cell_type": "markdown",
   "id": "1290ee49-0b8a-4792-ad23-1650bc49905d",
   "metadata": {},
   "source": [
    "20. Find HCF or GCD of two numbers"
   ]
  },
  {
   "cell_type": "code",
   "execution_count": 87,
   "id": "652172f4-99f4-4f01-81f0-62a9bc498e2e",
   "metadata": {},
   "outputs": [
    {
     "name": "stdout",
     "output_type": "stream",
     "text": [
      "6\n"
     ]
    }
   ],
   "source": [
    "import math\n",
    "\n",
    "def gcd(a, b):\n",
    "    return math.gcd(a, b)\n",
    "\n",
    "print(gcd(54, 24))\n"
   ]
  },
  {
   "cell_type": "markdown",
   "id": "f2054a30-3bf6-4ccb-9e0a-1a161b42e5c9",
   "metadata": {},
   "source": [
    "21. Find LCM of two numbers"
   ]
  },
  {
   "cell_type": "code",
   "execution_count": 90,
   "id": "7d9850fb-a3bf-4939-9f76-87e290349df2",
   "metadata": {},
   "outputs": [
    {
     "name": "stdout",
     "output_type": "stream",
     "text": [
      "216\n"
     ]
    }
   ],
   "source": [
    "def lcm(a, b):\n",
    "    return abs(a*b) // math.gcd(a, b)\n",
    "\n",
    "print(lcm(54, 24))\n"
   ]
  },
  {
   "cell_type": "markdown",
   "id": "2f92ed95-b821-4732-aa0a-e965982f6336",
   "metadata": {},
   "source": [
    "22. Count the number of each vowel in a string"
   ]
  },
  {
   "cell_type": "code",
   "execution_count": 93,
   "id": "68a0c0a7-92f5-4d26-bab9-63d43661dac3",
   "metadata": {},
   "outputs": [
    {
     "name": "stdout",
     "output_type": "stream",
     "text": [
      "{'a': 0, 'e': 1, 'i': 0, 'o': 2, 'u': 0}\n"
     ]
    }
   ],
   "source": [
    "def count_vowels(string):\n",
    "    vowels = \"aeiou\"\n",
    "    count = {vowel: string.lower().count(vowel) for vowel in vowels}\n",
    "    return count\n",
    "\n",
    "print(count_vowels(\"Hello World\"))\n"
   ]
  },
  {
   "cell_type": "markdown",
   "id": "7ebde38d-1060-458b-aa58-d2f45fb64ca4",
   "metadata": {},
   "source": [
    "23. Remove punctuation from a string"
   ]
  },
  {
   "cell_type": "code",
   "execution_count": 98,
   "id": "ff0da279-25de-4edf-9992-f7f8c8b8783b",
   "metadata": {},
   "outputs": [
    {
     "name": "stdout",
     "output_type": "stream",
     "text": [
      "Hello\n"
     ]
    }
   ],
   "source": [
    "import string\n",
    "\n",
    "def remove_punctuation(input_string):\n",
    "    return input_string.translate(str.maketrans('', '', string.punctuation))\n",
    "\n",
    "print(remove_punctuation(\"Hello\"))\n"
   ]
  },
  {
   "cell_type": "markdown",
   "id": "519e0b02-1658-40c4-bf02-b5958aa6b600",
   "metadata": {},
   "source": [
    "24. Sort a list of numbers in ascending order"
   ]
  },
  {
   "cell_type": "code",
   "execution_count": 101,
   "id": "d4c05e6e-e94a-47db-b83c-cd9dd72244d7",
   "metadata": {},
   "outputs": [
    {
     "name": "stdout",
     "output_type": "stream",
     "text": [
      "[1, 2, 5, 5, 6, 9]\n"
     ]
    }
   ],
   "source": [
    "def sort_numbers(num_list):\n",
    "    return sorted(num_list)\n",
    "\n",
    "print(sort_numbers([5, 2, 9, 1, 5, 6]))\n"
   ]
  },
  {
   "cell_type": "markdown",
   "id": "f79e7843-db75-4b02-aaf4-554a4fb355d5",
   "metadata": {},
   "source": [
    "25. Merge two lists and sort it"
   ]
  },
  {
   "cell_type": "code",
   "execution_count": 104,
   "id": "ec24d21e-055c-482d-bb04-e10f97a03a84",
   "metadata": {},
   "outputs": [
    {
     "name": "stdout",
     "output_type": "stream",
     "text": [
      "[1, 2, 3, 4, 5, 6]\n"
     ]
    }
   ],
   "source": [
    "def merge_and_sort(list1, list2):\n",
    "    return sorted(list1 + list2)\n",
    "\n",
    "print(merge_and_sort([1, 3, 5], [2, 4, 6]))\n"
   ]
  },
  {
   "cell_type": "code",
   "execution_count": null,
   "id": "f382b590-0f03-4844-83d1-ba77410ec6ba",
   "metadata": {},
   "outputs": [],
   "source": []
  }
 ],
 "metadata": {
  "kernelspec": {
   "display_name": "Python 3 (ipykernel)",
   "language": "python",
   "name": "python3"
  },
  "language_info": {
   "codemirror_mode": {
    "name": "ipython",
    "version": 3
   },
   "file_extension": ".py",
   "mimetype": "text/x-python",
   "name": "python",
   "nbconvert_exporter": "python",
   "pygments_lexer": "ipython3",
   "version": "3.11.7"
  }
 },
 "nbformat": 4,
 "nbformat_minor": 5
}
