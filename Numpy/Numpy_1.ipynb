{
 "cells": [
  {
   "cell_type": "markdown",
   "id": "42079d7a-69fb-4ae4-8e91-5b5fee2a9069",
   "metadata": {},
   "source": [
    "# Numpy"
   ]
  },
  {
   "cell_type": "markdown",
   "id": "54ce622c-73b7-439e-b293-b4b17497caf0",
   "metadata": {},
   "source": [
    "#### NumPy is a powerful library in Python for numerical computing. It provides support for arrays, matrices, and many mathematical functions to operate on these data structures\n",
    "\n",
    "NumPy offers a wide range of functions for array creation, manipulation, and mathematical operations"
   ]
  },
  {
   "cell_type": "code",
   "execution_count": 2,
   "id": "8b34d965-17ca-4fec-a42f-d4782c25fe0a",
   "metadata": {},
   "outputs": [],
   "source": [
    "#importing Numpy\n",
    "import numpy as np"
   ]
  },
  {
   "cell_type": "code",
   "execution_count": 4,
   "id": "de11f1fd-0fe7-4898-97e6-2876e11cd8eb",
   "metadata": {},
   "outputs": [
    {
     "data": {
      "text/plain": [
       "5.0"
      ]
     },
     "execution_count": 4,
     "metadata": {},
     "output_type": "execute_result"
    }
   ],
   "source": [
    "np.sqrt(25) # sqrt = square root"
   ]
  },
  {
   "cell_type": "code",
   "execution_count": 5,
   "id": "336f2d80-e7ce-43a1-a142-b67fab6d4635",
   "metadata": {},
   "outputs": [
    {
     "data": {
      "text/plain": [
       "3.4641016151377544"
      ]
     },
     "execution_count": 5,
     "metadata": {},
     "output_type": "execute_result"
    }
   ],
   "source": [
    "np.sqrt(12) "
   ]
  },
  {
   "cell_type": "code",
   "execution_count": 7,
   "id": "f894fe72-24a1-475b-8874-e5a8fe7bc2b6",
   "metadata": {},
   "outputs": [
    {
     "name": "stdout",
     "output_type": "stream",
     "text": [
      "Maximum 909\n"
     ]
    }
   ],
   "source": [
    "print(\"Maximum\" , np.amax([12,40,112,909]))   #  find maximum value"
   ]
  },
  {
   "cell_type": "code",
   "execution_count": 8,
   "id": "d6905b76-5cdc-4fee-8d42-696cbab0916f",
   "metadata": {},
   "outputs": [
    {
     "name": "stdout",
     "output_type": "stream",
     "text": [
      "minimum 12\n"
     ]
    }
   ],
   "source": [
    "print(\"minimum\" , np.amin([12,40,89,200]))  # find minimum value"
   ]
  },
  {
   "cell_type": "markdown",
   "id": "77fe6697-b0d1-4436-89da-da6c4038daf9",
   "metadata": {},
   "source": [
    "#### Ceil function :  the ceil function returns the smallest integer greater than or equal to a given number. This can be achieved using the math module's ceil function."
   ]
  },
  {
   "cell_type": "code",
   "execution_count": 12,
   "id": "1b86eff9-b5a0-45d7-8deb-3102b5fe9b82",
   "metadata": {},
   "outputs": [
    {
     "name": "stdout",
     "output_type": "stream",
     "text": [
      "5\n"
     ]
    }
   ],
   "source": [
    "import math\n",
    "number = 4.2\n",
    "ceiling_value = math.ceil(number)\n",
    "print(ceiling_value)  \n"
   ]
  },
  {
   "cell_type": "code",
   "execution_count": 13,
   "id": "40377aa8-4e6d-468b-aa33-96aa6829556e",
   "metadata": {},
   "outputs": [
    {
     "name": "stdout",
     "output_type": "stream",
     "text": [
      "[2. 3. 4. 5.]\n"
     ]
    }
   ],
   "source": [
    "import numpy as np\n",
    "array = np.array([1.1, 2.5, 3.3, 4.9])\n",
    "ceiling_array = np.ceil(array)\n",
    "print(ceiling_array)\n"
   ]
  },
  {
   "cell_type": "code",
   "execution_count": 14,
   "id": "46f19252-1922-4e34-bf44-ec436855bcfe",
   "metadata": {},
   "outputs": [
    {
     "data": {
      "text/plain": [
       "4.0"
      ]
     },
     "execution_count": 14,
     "metadata": {},
     "output_type": "execute_result"
    }
   ],
   "source": [
    "np.ceil(3.1)"
   ]
  },
  {
   "cell_type": "code",
   "execution_count": 16,
   "id": "3ed84385-2fe5-4a8a-9918-f230da10d427",
   "metadata": {},
   "outputs": [
    {
     "data": {
      "text/plain": [
       "5.0"
      ]
     },
     "execution_count": 16,
     "metadata": {},
     "output_type": "execute_result"
    }
   ],
   "source": [
    "np.ceil(4.9)    # its means when we use ceil they given roundfigure answer."
   ]
  },
  {
   "cell_type": "code",
   "execution_count": 18,
   "id": "6e519b17-66e7-4b4e-b758-f16d9e1f4a55",
   "metadata": {},
   "outputs": [
    {
     "data": {
      "text/plain": [
       "7.0"
      ]
     },
     "execution_count": 18,
     "metadata": {},
     "output_type": "execute_result"
    }
   ],
   "source": [
    "np.ceil(np.sqrt(41))  # find the sqare root then after find ceil value"
   ]
  },
  {
   "cell_type": "code",
   "execution_count": 21,
   "id": "70bd3fda-9f25-4110-94b8-d69393c6a861",
   "metadata": {},
   "outputs": [
    {
     "data": {
      "text/plain": [
       "16.0"
      ]
     },
     "execution_count": 21,
     "metadata": {},
     "output_type": "execute_result"
    }
   ],
   "source": [
    "np.ceil(np.sum(np.sqrt([50, 40, 5])))  # "
   ]
  },
  {
   "cell_type": "code",
   "execution_count": 23,
   "id": "66e81866-9ab0-4502-8ab4-9d88d2f9b530",
   "metadata": {},
   "outputs": [
    {
     "name": "stdout",
     "output_type": "stream",
     "text": [
      "['ALLOW_THREADS', 'BUFSIZE', 'CLIP', 'DataSource', 'ERR_CALL', 'ERR_DEFAULT', 'ERR_IGNORE', 'ERR_LOG', 'ERR_PRINT', 'ERR_RAISE', 'ERR_WARN', 'FLOATING_POINT_SUPPORT', 'FPE_DIVIDEBYZERO', 'FPE_INVALID', 'FPE_OVERFLOW', 'FPE_UNDERFLOW', 'False_', 'Inf', 'Infinity', 'MAXDIMS', 'MAY_SHARE_BOUNDS', 'MAY_SHARE_EXACT', 'NAN', 'NINF', 'NZERO', 'NaN', 'PINF', 'PZERO', 'RAISE', 'RankWarning', 'SHIFT_DIVIDEBYZERO', 'SHIFT_INVALID', 'SHIFT_OVERFLOW', 'SHIFT_UNDERFLOW', 'ScalarType', 'True_', 'UFUNC_BUFSIZE_DEFAULT', 'UFUNC_PYVALS_NAME', 'WRAP', '_CopyMode', '_NoValue', '_UFUNC_API', '__NUMPY_SETUP__', '__all__', '__builtins__', '__cached__', '__config__', '__deprecated_attrs__', '__dir__', '__doc__', '__expired_functions__', '__file__', '__former_attrs__', '__future_scalars__', '__getattr__', '__loader__', '__name__', '__package__', '__path__', '__spec__', '__version__', '_add_newdoc_ufunc', '_builtins', '_distributor_init', '_financial_names', '_get_promotion_state', '_globals', '_int_extended_msg', '_mat', '_no_nep50_warning', '_pyinstaller_hooks_dir', '_pytesttester', '_set_promotion_state', '_specific_msg', '_typing', '_using_numpy2_behavior', '_utils', 'abs', 'absolute', 'add', 'add_docstring', 'add_newdoc', 'add_newdoc_ufunc', 'all', 'allclose', 'alltrue', 'amax', 'amin', 'angle', 'any', 'append', 'apply_along_axis', 'apply_over_axes', 'arange', 'arccos', 'arccosh', 'arcsin', 'arcsinh', 'arctan', 'arctan2', 'arctanh', 'argmax', 'argmin', 'argpartition', 'argsort', 'argwhere', 'around', 'array', 'array2string', 'array_equal', 'array_equiv', 'array_repr', 'array_split', 'array_str', 'asanyarray', 'asarray', 'asarray_chkfinite', 'ascontiguousarray', 'asfarray', 'asfortranarray', 'asmatrix', 'atleast_1d', 'atleast_2d', 'atleast_3d', 'average', 'bartlett', 'base_repr', 'binary_repr', 'bincount', 'bitwise_and', 'bitwise_not', 'bitwise_or', 'bitwise_xor', 'blackman', 'block', 'bmat', 'bool_', 'broadcast', 'broadcast_arrays', 'broadcast_shapes', 'broadcast_to', 'busday_count', 'busday_offset', 'busdaycalendar', 'byte', 'byte_bounds', 'bytes_', 'c_', 'can_cast', 'cast', 'cbrt', 'cdouble', 'ceil', 'cfloat', 'char', 'character', 'chararray', 'choose', 'clip', 'clongdouble', 'clongfloat', 'column_stack', 'common_type', 'compare_chararrays', 'compat', 'complex128', 'complex64', 'complex_', 'complexfloating', 'compress', 'concatenate', 'conj', 'conjugate', 'convolve', 'copy', 'copysign', 'copyto', 'corrcoef', 'correlate', 'cos', 'cosh', 'count_nonzero', 'cov', 'cross', 'csingle', 'ctypeslib', 'cumprod', 'cumproduct', 'cumsum', 'datetime64', 'datetime_as_string', 'datetime_data', 'deg2rad', 'degrees', 'delete', 'deprecate', 'deprecate_with_doc', 'diag', 'diag_indices', 'diag_indices_from', 'diagflat', 'diagonal', 'diff', 'digitize', 'disp', 'divide', 'divmod', 'dot', 'double', 'dsplit', 'dstack', 'dtype', 'dtypes', 'e', 'ediff1d', 'einsum', 'einsum_path', 'emath', 'empty', 'empty_like', 'equal', 'errstate', 'euler_gamma', 'exceptions', 'exp', 'exp2', 'expand_dims', 'expm1', 'extract', 'eye', 'fabs', 'fastCopyAndTranspose', 'fft', 'fill_diagonal', 'find_common_type', 'finfo', 'fix', 'flatiter', 'flatnonzero', 'flexible', 'flip', 'fliplr', 'flipud', 'float16', 'float32', 'float64', 'float_', 'float_power', 'floating', 'floor', 'floor_divide', 'fmax', 'fmin', 'fmod', 'format_float_positional', 'format_float_scientific', 'format_parser', 'frexp', 'from_dlpack', 'frombuffer', 'fromfile', 'fromfunction', 'fromiter', 'frompyfunc', 'fromregex', 'fromstring', 'full', 'full_like', 'gcd', 'generic', 'genfromtxt', 'geomspace', 'get_array_wrap', 'get_include', 'get_printoptions', 'getbufsize', 'geterr', 'geterrcall', 'geterrobj', 'gradient', 'greater', 'greater_equal', 'half', 'hamming', 'hanning', 'heaviside', 'histogram', 'histogram2d', 'histogram_bin_edges', 'histogramdd', 'hsplit', 'hstack', 'hypot', 'i0', 'identity', 'iinfo', 'imag', 'in1d', 'index_exp', 'indices', 'inexact', 'inf', 'info', 'infty', 'inner', 'insert', 'int16', 'int32', 'int64', 'int8', 'int_', 'intc', 'integer', 'interp', 'intersect1d', 'intp', 'invert', 'is_busday', 'isclose', 'iscomplex', 'iscomplexobj', 'isfinite', 'isfortran', 'isin', 'isinf', 'isnan', 'isnat', 'isneginf', 'isposinf', 'isreal', 'isrealobj', 'isscalar', 'issctype', 'issubclass_', 'issubdtype', 'issubsctype', 'iterable', 'ix_', 'kaiser', 'kron', 'lcm', 'ldexp', 'left_shift', 'less', 'less_equal', 'lexsort', 'lib', 'linalg', 'linspace', 'little_endian', 'load', 'loadtxt', 'log', 'log10', 'log1p', 'log2', 'logaddexp', 'logaddexp2', 'logical_and', 'logical_not', 'logical_or', 'logical_xor', 'logspace', 'longcomplex', 'longdouble', 'longfloat', 'longlong', 'lookfor', 'ma', 'mask_indices', 'mat', 'matmul', 'matrix', 'max', 'maximum', 'maximum_sctype', 'may_share_memory', 'mean', 'median', 'memmap', 'meshgrid', 'mgrid', 'min', 'min_scalar_type', 'minimum', 'mintypecode', 'mod', 'modf', 'moveaxis', 'msort', 'multiply', 'nan', 'nan_to_num', 'nanargmax', 'nanargmin', 'nancumprod', 'nancumsum', 'nanmax', 'nanmean', 'nanmedian', 'nanmin', 'nanpercentile', 'nanprod', 'nanquantile', 'nanstd', 'nansum', 'nanvar', 'nbytes', 'ndarray', 'ndenumerate', 'ndim', 'ndindex', 'nditer', 'negative', 'nested_iters', 'newaxis', 'nextafter', 'nonzero', 'not_equal', 'numarray', 'number', 'obj2sctype', 'object_', 'ogrid', 'oldnumeric', 'ones', 'ones_like', 'outer', 'packbits', 'pad', 'partition', 'percentile', 'pi', 'piecewise', 'place', 'poly', 'poly1d', 'polyadd', 'polyder', 'polydiv', 'polyfit', 'polyint', 'polymul', 'polynomial', 'polysub', 'polyval', 'positive', 'power', 'printoptions', 'prod', 'product', 'promote_types', 'ptp', 'put', 'put_along_axis', 'putmask', 'quantile', 'r_', 'rad2deg', 'radians', 'random', 'ravel', 'ravel_multi_index', 'real', 'real_if_close', 'rec', 'recarray', 'recfromcsv', 'recfromtxt', 'reciprocal', 'record', 'remainder', 'repeat', 'require', 'reshape', 'resize', 'result_type', 'right_shift', 'rint', 'roll', 'rollaxis', 'roots', 'rot90', 'round', 'round_', 'row_stack', 's_', 'safe_eval', 'save', 'savetxt', 'savez', 'savez_compressed', 'sctype2char', 'sctypeDict', 'sctypes', 'searchsorted', 'select', 'set_numeric_ops', 'set_printoptions', 'set_string_function', 'setbufsize', 'setdiff1d', 'seterr', 'seterrcall', 'seterrobj', 'setxor1d', 'shape', 'shares_memory', 'short', 'show_config', 'show_runtime', 'sign', 'signbit', 'signedinteger', 'sin', 'sinc', 'single', 'singlecomplex', 'sinh', 'size', 'sometrue', 'sort', 'sort_complex', 'source', 'spacing', 'split', 'sqrt', 'square', 'squeeze', 'stack', 'std', 'str_', 'string_', 'subtract', 'sum', 'swapaxes', 'take', 'take_along_axis', 'tan', 'tanh', 'tensordot', 'test', 'testing', 'tile', 'timedelta64', 'trace', 'tracemalloc_domain', 'transpose', 'trapz', 'tri', 'tril', 'tril_indices', 'tril_indices_from', 'trim_zeros', 'triu', 'triu_indices', 'triu_indices_from', 'true_divide', 'trunc', 'typecodes', 'typename', 'ubyte', 'ufunc', 'uint', 'uint16', 'uint32', 'uint64', 'uint8', 'uintc', 'uintp', 'ulonglong', 'unicode_', 'union1d', 'unique', 'unpackbits', 'unravel_index', 'unsignedinteger', 'unwrap', 'ushort', 'vander', 'var', 'vdot', 'vectorize', 'version', 'void', 'vsplit', 'vstack', 'where', 'who', 'zeros', 'zeros_like']\n"
     ]
    }
   ],
   "source": [
    "print(dir(np))   "
   ]
  },
  {
   "cell_type": "code",
   "execution_count": 28,
   "id": "a488b512-2ea7-4281-8aba-d6e5bb3372cb",
   "metadata": {},
   "outputs": [
    {
     "data": {
      "text/plain": [
       "array([10,  5, 34])"
      ]
     },
     "execution_count": 28,
     "metadata": {},
     "output_type": "execute_result"
    }
   ],
   "source": [
    "import numpy as array\n",
    "np.array([10,5,34])"
   ]
  },
  {
   "cell_type": "code",
   "execution_count": 33,
   "id": "d506bbd9-a80c-4a14-8c2d-3b255b87cb9b",
   "metadata": {},
   "outputs": [
    {
     "data": {
      "text/plain": [
       "list"
      ]
     },
     "execution_count": 33,
     "metadata": {},
     "output_type": "execute_result"
    }
   ],
   "source": [
    "type([array])  # check the type "
   ]
  },
  {
   "cell_type": "code",
   "execution_count": 34,
   "id": "86e62fc9-94c5-4373-aa41-21562db9c710",
   "metadata": {},
   "outputs": [
    {
     "data": {
      "text/plain": [
       "numpy.ndarray"
      ]
     },
     "execution_count": 34,
     "metadata": {},
     "output_type": "execute_result"
    }
   ],
   "source": [
    "abc = np.array([23,90,56]) # check the type of array\n",
    "type (abc)"
   ]
  },
  {
   "cell_type": "code",
   "execution_count": 32,
   "id": "44a57902-fd3a-49a0-badb-3a12e737720d",
   "metadata": {},
   "outputs": [
    {
     "name": "stdout",
     "output_type": "stream",
     "text": [
      "Type -  int32\n",
      "\n",
      " [[[ 1 22]\n",
      "  [ 2  4]\n",
      "  [11 43]]]\n"
     ]
    }
   ],
   "source": [
    "\n",
    "a=np.array([[[1,22],[2,4],[11,43]]])\n",
    "print(\"Type - \",a.dtype)\n",
    "\n",
    "print(\"\\n\",a)"
   ]
  },
  {
   "cell_type": "code",
   "execution_count": 35,
   "id": "1b1aa545-bc99-495e-b4b0-4da2e3873cad",
   "metadata": {},
   "outputs": [],
   "source": [
    "# dtype.conversion "
   ]
  },
  {
   "cell_type": "code",
   "execution_count": 36,
   "id": "5538e7db-6ead-4578-a238-1931fe551274",
   "metadata": {},
   "outputs": [
    {
     "data": {
      "text/plain": [
       "array([10., 20., 30.])"
      ]
     },
     "execution_count": 36,
     "metadata": {},
     "output_type": "execute_result"
    }
   ],
   "source": [
    "np.array([10,20,30],dtype=float)"
   ]
  },
  {
   "cell_type": "code",
   "execution_count": 37,
   "id": "bb027207-495a-4161-9c77-99e412dbd5fc",
   "metadata": {},
   "outputs": [],
   "source": [
    "\n",
    "#Covert a list into an array :"
   ]
  },
  {
   "cell_type": "code",
   "execution_count": 38,
   "id": "d241820d-5d16-4dff-965c-8e7589ffcef1",
   "metadata": {},
   "outputs": [
    {
     "name": "stdout",
     "output_type": "stream",
     "text": [
      "[11 22]\n"
     ]
    }
   ],
   "source": [
    "a = [11,22]\n",
    "c = np.array(a)\n",
    "print(c)"
   ]
  },
  {
   "cell_type": "code",
   "execution_count": 39,
   "id": "142b391d-211c-445c-9d31-e8c04a1d445b",
   "metadata": {},
   "outputs": [
    {
     "data": {
      "text/plain": [
       "numpy.ndarray"
      ]
     },
     "execution_count": 39,
     "metadata": {},
     "output_type": "execute_result"
    }
   ],
   "source": [
    "type(c)"
   ]
  },
  {
   "cell_type": "code",
   "execution_count": 40,
   "id": "337e327a-1da3-41dd-81ec-1330a237d26d",
   "metadata": {},
   "outputs": [],
   "source": [
    "#copy array into other"
   ]
  },
  {
   "cell_type": "code",
   "execution_count": 42,
   "id": "71dc746b-82ff-45ba-843e-d651c09a046e",
   "metadata": {},
   "outputs": [
    {
     "name": "stdout",
     "output_type": "stream",
     "text": [
      "[11 22]\n"
     ]
    }
   ],
   "source": [
    "s=np.asarray(c)\n",
    "print(s)"
   ]
  },
  {
   "cell_type": "code",
   "execution_count": 43,
   "id": "23cb41da-fb57-4777-8050-eab5c4c72ca9",
   "metadata": {},
   "outputs": [],
   "source": [
    "\n",
    "# Data Types"
   ]
  },
  {
   "cell_type": "code",
   "execution_count": 44,
   "id": "9a803b11-eba2-4669-a3e1-f2b148e6e438",
   "metadata": {},
   "outputs": [],
   "source": [
    "\n",
    "import numpy as np\n"
   ]
  },
  {
   "cell_type": "code",
   "execution_count": 45,
   "id": "2db5e17d-e7c1-4754-bc9b-89f8645d18f0",
   "metadata": {},
   "outputs": [
    {
     "name": "stdout",
     "output_type": "stream",
     "text": [
      "Type/class of this object :  <class 'numpy.ndarray'>\n",
      "Here is the marks \n",
      "------\n",
      " [[ 3 24 10]\n",
      " [40 50 60]\n",
      " [70 80 90]] \n",
      "-----------\n",
      "print dimension of this matrix :  2\n",
      "size of the matrix :  9\n",
      "Shape of the matrix :  (3, 3)\n",
      "Data Type of the matrix ;  int32\n"
     ]
    }
   ],
   "source": [
    "\n",
    "my_mat=[[3,24,10],[40,50,60],[70,80,90]]\n",
    "mat=np.array(my_mat)\n",
    "print(\"Type/class of this object : \",type(mat))\n",
    "print(\"Here is the marks \\n------\\n\",mat,\"\\n-----------\")\n",
    "print(\"print dimension of this matrix : \",mat.ndim)#ndim gives dimension,2 for a matrix and 1 for vector\n",
    "print(\"size of the matrix : \",mat.size)#size shows total number elements\n",
    "print(\"Shape of the matrix : \",mat.shape)#shape shows how many rows and column\n",
    "print(\"Data Type of the matrix ; \",mat.dtype)#shoes which type"
   ]
  },
  {
   "cell_type": "code",
   "execution_count": 46,
   "id": "58e55e7d-6d89-48b4-b2cb-f69dfda420f9",
   "metadata": {},
   "outputs": [],
   "source": [
    "\n",
    "#arange and linespace "
   ]
  },
  {
   "cell_type": "code",
   "execution_count": 47,
   "id": "a58b1d84-f494-46b8-8dd7-aca647544af9",
   "metadata": {},
   "outputs": [],
   "source": [
    "a=np.arange(100)"
   ]
  },
  {
   "cell_type": "code",
   "execution_count": 48,
   "id": "2f9e6f4b-67a1-4527-9715-4f76c188d6be",
   "metadata": {},
   "outputs": [
    {
     "name": "stdout",
     "output_type": "stream",
     "text": [
      "[ 0  1  2  3  4  5  6  7  8  9 10 11 12 13 14 15 16 17 18 19 20 21 22 23\n",
      " 24 25 26 27 28 29 30 31 32 33 34 35 36 37 38 39 40 41 42 43 44 45 46 47\n",
      " 48 49 50 51 52 53 54 55 56 57 58 59 60 61 62 63 64 65 66 67 68 69 70 71\n",
      " 72 73 74 75 76 77 78 79 80 81 82 83 84 85 86 87 88 89 90 91 92 93 94 95\n",
      " 96 97 98 99]\n"
     ]
    }
   ],
   "source": [
    "print(a)"
   ]
  },
  {
   "cell_type": "code",
   "execution_count": 49,
   "id": "84a0a58b-de34-40be-bb76-3164e2a8533e",
   "metadata": {},
   "outputs": [
    {
     "data": {
      "text/plain": [
       "array([ 0,  1,  2,  3,  4,  5,  6,  7,  8,  9, 10, 11, 12, 13, 14, 15, 16,\n",
       "       17, 18, 19, 20, 21, 22, 23, 24, 25, 26, 27, 28, 29, 30, 31, 32, 33,\n",
       "       34, 35, 36, 37, 38, 39, 40, 41, 42, 43, 44, 45, 46, 47, 48, 49, 50,\n",
       "       51, 52, 53, 54, 55, 56, 57, 58, 59, 60, 61, 62, 63, 64, 65, 66, 67,\n",
       "       68, 69, 70, 71, 72, 73, 74, 75, 76, 77, 78, 79, 80, 81, 82, 83, 84,\n",
       "       85, 86, 87, 88, 89, 90, 91, 92, 93, 94, 95, 96, 97, 98, 99])"
      ]
     },
     "execution_count": 49,
     "metadata": {},
     "output_type": "execute_result"
    }
   ],
   "source": [
    "a"
   ]
  },
  {
   "cell_type": "code",
   "execution_count": 50,
   "id": "c38b4e1b-620b-4f1c-bf00-a2e71429ebfc",
   "metadata": {},
   "outputs": [],
   "source": [
    "\n",
    "#Reverse Order"
   ]
  },
  {
   "cell_type": "code",
   "execution_count": 51,
   "id": "9dfe5b8c-d98b-4b4e-9fda-578d7b8f020a",
   "metadata": {},
   "outputs": [
    {
     "name": "stdout",
     "output_type": "stream",
     "text": [
      "Every 10th number from 100 in reverse order \n",
      " [100  90  80  70  60  50  40  30  20  10   0]\n"
     ]
    }
   ],
   "source": [
    "print(\"Every 10th number from 100 in reverse order \\n\",np.arange(100,-1,-10))"
   ]
  },
  {
   "cell_type": "code",
   "execution_count": 52,
   "id": "1278ac56-fe40-405d-9ae0-da24c8fe07aa",
   "metadata": {},
   "outputs": [
    {
     "name": "stdout",
     "output_type": "stream",
     "text": [
      "linearly space numbers between 1 and 50 \n",
      "-------------\n",
      "[50. 40. 30. 20. 10.]\n"
     ]
    }
   ],
   "source": [
    "\n",
    "print(\"linearly space numbers between 1 and 50 \\n-------------\")\n",
    "print(np.linspace(50,10,5))"
   ]
  },
  {
   "cell_type": "code",
   "execution_count": 53,
   "id": "9823f46c-be1d-401c-a79b-555eaa4fffae",
   "metadata": {},
   "outputs": [],
   "source": [
    "\n",
    "#Include end points and check space between the points\n",
    "#By default endpoint=True\n",
    "#Bydefaul retstep=False\n"
   ]
  },
  {
   "cell_type": "code",
   "execution_count": 55,
   "id": "5144f7ad-9ad5-4df8-b51e-7d078fbb6fcd",
   "metadata": {},
   "outputs": [
    {
     "data": {
      "text/plain": [
       "(array([ 5.        ,  6.66666667,  8.33333333, 10.        ]),\n",
       " 1.6666666666666667)"
      ]
     },
     "execution_count": 55,
     "metadata": {},
     "output_type": "execute_result"
    }
   ],
   "source": [
    "np.linspace(5.0,10.0,num=4,endpoint=True,retstep=True)   # retstep = difference between first and second number "
   ]
  },
  {
   "cell_type": "code",
   "execution_count": 56,
   "id": "43bc5a91-6f84-4c60-819f-4804cf7c1ad8",
   "metadata": {},
   "outputs": [
    {
     "name": "stdout",
     "output_type": "stream",
     "text": [
      "(array([10.45      , 10.85885526, 11.26771053, 11.67656579, 12.08542105,\n",
      "       12.49427632, 12.90313158, 13.31198684, 13.72084211, 14.12969737,\n",
      "       14.53855263, 14.94740789, 15.35626316, 15.76511842, 16.17397368,\n",
      "       16.58282895, 16.99168421, 17.40053947, 17.80939474, 18.21825   ,\n",
      "       18.62710526, 19.03596053, 19.44481579, 19.85367105, 20.26252632,\n",
      "       20.67138158, 21.08023684, 21.48909211, 21.89794737, 22.30680263,\n",
      "       22.71565789, 23.12451316, 23.53336842, 23.94222368, 24.35107895,\n",
      "       24.75993421, 25.16878947, 25.57764474, 25.9865    ]), 0.4088552631578947)\n"
     ]
    }
   ],
   "source": [
    "\n",
    "print(np.linspace(10.45,25.9865,39,retstep=True))"
   ]
  },
  {
   "cell_type": "code",
   "execution_count": 57,
   "id": "6cdb3c21-18bc-4cd0-900c-2cc68e45dde1",
   "metadata": {},
   "outputs": [],
   "source": [
    "\n",
    "#Matrics creation"
   ]
  },
  {
   "cell_type": "code",
   "execution_count": 58,
   "id": "54093ceb-84be-4f7f-9159-5187569a1760",
   "metadata": {},
   "outputs": [
    {
     "name": "stdout",
     "output_type": "stream",
     "text": [
      "vector of zeros \n",
      "\n",
      "[0. 0. 0. 0. 0. 0. 0. 0. 0. 0.]\n"
     ]
    }
   ],
   "source": [
    "\n",
    "print(\"vector of zeros \\n\")\n",
    "print(np.zeros([10]))"
   ]
  },
  {
   "cell_type": "code",
   "execution_count": 59,
   "id": "bc113187-e7ab-4142-a274-1780d95debe0",
   "metadata": {},
   "outputs": [
    {
     "name": "stdout",
     "output_type": "stream",
     "text": [
      "vector of zeros \n",
      "------------\n",
      "[[0. 0. 0. 0. 0.]\n",
      " [0. 0. 0. 0. 0.]\n",
      " [0. 0. 0. 0. 0.]\n",
      " [0. 0. 0. 0. 0.]\n",
      " [0. 0. 0. 0. 0.]\n",
      " [0. 0. 0. 0. 0.]\n",
      " [0. 0. 0. 0. 0.]\n",
      " [0. 0. 0. 0. 0.]\n",
      " [0. 0. 0. 0. 0.]\n",
      " [0. 0. 0. 0. 0.]]\n"
     ]
    }
   ],
   "source": [
    "\n",
    "print(\"vector of zeros \\n------------\")\n",
    "print(np.zeros([10,5]))"
   ]
  },
  {
   "cell_type": "code",
   "execution_count": 60,
   "id": "f7cc8438-df09-4623-937c-b45c547320dd",
   "metadata": {},
   "outputs": [
    {
     "name": "stdout",
     "output_type": "stream",
     "text": [
      "vector of zeros \n",
      "------------\n",
      "[[[0. 0. 0. 0. 0. 0.]\n",
      "  [0. 0. 0. 0. 0. 0.]\n",
      "  [0. 0. 0. 0. 0. 0.]\n",
      "  [0. 0. 0. 0. 0. 0.]]\n",
      "\n",
      " [[0. 0. 0. 0. 0. 0.]\n",
      "  [0. 0. 0. 0. 0. 0.]\n",
      "  [0. 0. 0. 0. 0. 0.]\n",
      "  [0. 0. 0. 0. 0. 0.]]\n",
      "\n",
      " [[0. 0. 0. 0. 0. 0.]\n",
      "  [0. 0. 0. 0. 0. 0.]\n",
      "  [0. 0. 0. 0. 0. 0.]\n",
      "  [0. 0. 0. 0. 0. 0.]]\n",
      "\n",
      " [[0. 0. 0. 0. 0. 0.]\n",
      "  [0. 0. 0. 0. 0. 0.]\n",
      "  [0. 0. 0. 0. 0. 0.]\n",
      "  [0. 0. 0. 0. 0. 0.]]\n",
      "\n",
      " [[0. 0. 0. 0. 0. 0.]\n",
      "  [0. 0. 0. 0. 0. 0.]\n",
      "  [0. 0. 0. 0. 0. 0.]\n",
      "  [0. 0. 0. 0. 0. 0.]]]\n"
     ]
    }
   ],
   "source": [
    "\n",
    "print(\"vector of zeros \\n------------\")\n",
    "print(np.zeros([5,4,6]))"
   ]
  },
  {
   "cell_type": "code",
   "execution_count": 63,
   "id": "cc1c5e6b-ac60-4fc8-bc61-b836d50f3b5d",
   "metadata": {},
   "outputs": [],
   "source": [
    "\n",
    "#Lets Try with Ones\n",
    "\n",
    "#This tecniques only work with zero and ones if you want to print another number then use .below given technique"
   ]
  },
  {
   "cell_type": "code",
   "execution_count": 62,
   "id": "ead3cad6-4e91-430b-8cb6-319c9e62e168",
   "metadata": {},
   "outputs": [
    {
     "name": "stdout",
     "output_type": "stream",
     "text": [
      "vector of ones \n",
      "\n",
      "[[1. 1. 1. 1.]\n",
      " [1. 1. 1. 1.]\n",
      " [1. 1. 1. 1.]\n",
      " [1. 1. 1. 1.]\n",
      " [1. 1. 1. 1.]]\n"
     ]
    }
   ],
   "source": [
    "\n",
    "print(\"vector of ones \\n\")\n",
    "print(np.ones([5,4]))"
   ]
  },
  {
   "cell_type": "code",
   "execution_count": 64,
   "id": "faa1aba4-7292-459e-8357-f6c390afbfc9",
   "metadata": {},
   "outputs": [
    {
     "name": "stdout",
     "output_type": "stream",
     "text": [
      "matrix of 5 \n",
      "--------\n",
      "[[5. 5.]\n",
      " [5. 5.]]\n"
     ]
    }
   ],
   "source": [
    "\n",
    "print(\"matrix of 5 \\n--------\")\n",
    "print(5*np.ones([2,2]))"
   ]
  },
  {
   "cell_type": "code",
   "execution_count": 65,
   "id": "150effe6-80ed-40ea-a775-1ca95129a7e0",
   "metadata": {},
   "outputs": [],
   "source": [
    "#Construct diagonal matrix\n"
   ]
  },
  {
   "cell_type": "code",
   "execution_count": 68,
   "id": "fd345b42-1f2a-4503-97df-ebd7ecdb35f7",
   "metadata": {},
   "outputs": [
    {
     "name": "stdout",
     "output_type": "stream",
     "text": [
      "[[ 0  1  2  3  4]\n",
      " [ 5  6  7  8  9]\n",
      " [10 11 12 13 14]\n",
      " [15 16 17 18 19]\n",
      " [20 21 22 23 24]]\n"
     ]
    }
   ],
   "source": [
    "\n",
    "x=np.arange(25).reshape(5,5)\n",
    "print(x)"
   ]
  },
  {
   "cell_type": "code",
   "execution_count": 69,
   "id": "a31b370f-100a-48af-b377-1998e1b28b87",
   "metadata": {},
   "outputs": [],
   "source": [
    "#Random Number Generation"
   ]
  },
  {
   "cell_type": "code",
   "execution_count": 70,
   "id": "b2907518-385c-4b58-a3d2-8bd36449e8ec",
   "metadata": {},
   "outputs": [
    {
     "name": "stdout",
     "output_type": "stream",
     "text": [
      "Random number genration (from uniform distribution)\n",
      "[[0.89286015 0.33197981 0.82122912 0.04169663 0.10765668]\n",
      " [0.59505206 0.52981736 0.41880743 0.33540785 0.62251943]\n",
      " [0.43814143 0.73588211 0.51803641 0.5788586  0.6453551 ]\n",
      " [0.99022427 0.8198582  0.41320093 0.87626766 0.82375943]\n",
      " [0.05447451 0.71863724 0.80217056 0.73640664 0.70913175]\n",
      " [0.54093685 0.12482417 0.9576473  0.4032563  0.21695116]\n",
      " [0.71727585 0.99420744 0.25561406 0.67130943 0.59900591]]\n"
     ]
    }
   ],
   "source": [
    "np.random.seed(6) # Each seed number will generate similar data\n",
    "print(\"Random number genration (from uniform distribution)\")\n",
    "print(np.random.rand(7,5))"
   ]
  },
  {
   "cell_type": "code",
   "execution_count": 71,
   "id": "c23a3eae-cc69-4447-96eb-a7d4622e5345",
   "metadata": {},
   "outputs": [
    {
     "name": "stdout",
     "output_type": "stream",
     "text": [
      "Number from normal distribution with zero mean and standard deviation 1 i.e standard noraml\n",
      "[[ 0.27473356  0.13652337 -1.27492685 -0.76687441  1.48137821]\n",
      " [-0.5860804  -0.65666684  1.56711318 -0.02575935  0.25466512]\n",
      " [ 1.44853789 -0.87198626 -0.1840664  -0.75624874  0.73663324]\n",
      " [ 0.75368908 -0.86692034 -0.60354963 -2.05956406 -0.35843006]\n",
      " [-0.79742357  0.6020828   0.92508324 -0.45389277  0.89475268]\n",
      " [ 0.26713641  0.4312979  -1.16256293 -2.47133677 -0.61603672]\n",
      " [ 0.73343111  0.54429857 -0.82047949  0.41675765 -0.31114142]]\n"
     ]
    }
   ],
   "source": [
    "print(\"Number from normal distribution with zero mean and standard deviation 1 i.e standard noraml\")\n",
    "print(np.random.randn(7,5))"
   ]
  },
  {
   "cell_type": "code",
   "execution_count": 72,
   "id": "de1c4f56-a84e-4ae9-bb6d-3d4e96f56337",
   "metadata": {},
   "outputs": [
    {
     "name": "stdout",
     "output_type": "stream",
     "text": [
      "Random integer vector :  [6 8 7 9 6 6 7 6 7 9]\n"
     ]
    }
   ],
   "source": [
    "\n",
    "print(\"Random integer vector : \",np.random.randint(6,10,10))"
   ]
  },
  {
   "cell_type": "code",
   "execution_count": 73,
   "id": "ae6f8bf9-f19d-4edd-856b-673615a3d6b8",
   "metadata": {},
   "outputs": [
    {
     "name": "stdout",
     "output_type": "stream",
     "text": [
      "\n",
      " Random integer matrix\n",
      "[[  8 229 217  78  40]\n",
      " [121 235  77 173 121]\n",
      " [205 239 152 177 296]\n",
      " [220  38 108 127 290]\n",
      " [279  52 296 262  58]]\n"
     ]
    }
   ],
   "source": [
    "print(\"\\n Random integer matrix\")    # choose the random values from given values\n",
    "print(np.random.randint(1,300,(5,5)))"
   ]
  },
  {
   "cell_type": "code",
   "execution_count": 74,
   "id": "1f3e8f04-e537-46ae-9fc8-d4181adac14d",
   "metadata": {},
   "outputs": [],
   "source": [
    "def generate_otp():\n",
    "    otp=np.random.randint(999,99999,1)\n",
    "    print(\"Your Otp is \",otp)\n",
    "    user_otp=int(input(\"Enter Your OTP Here\"))\n",
    "    if otp==user_otp:\n",
    "        print(\"Log in Sucessfully\")\n",
    "    else:\n",
    "        print(\"Your OTP is invalid\")"
   ]
  },
  {
   "cell_type": "code",
   "execution_count": 75,
   "id": "4509bc2e-c43a-455c-b09c-7d3c7a52cd5f",
   "metadata": {},
   "outputs": [
    {
     "name": "stdout",
     "output_type": "stream",
     "text": [
      "Your Otp is  [46175]\n"
     ]
    },
    {
     "name": "stdin",
     "output_type": "stream",
     "text": [
      "Enter Your OTP Here 46175\n"
     ]
    },
    {
     "name": "stdout",
     "output_type": "stream",
     "text": [
      "Log in Sucessfully\n"
     ]
    }
   ],
   "source": [
    "generate_otp()"
   ]
  },
  {
   "cell_type": "code",
   "execution_count": null,
   "id": "561aa7d1-8e33-486b-87ca-0c9801b5e009",
   "metadata": {},
   "outputs": [],
   "source": []
  }
 ],
 "metadata": {
  "kernelspec": {
   "display_name": "Python 3 (ipykernel)",
   "language": "python",
   "name": "python3"
  },
  "language_info": {
   "codemirror_mode": {
    "name": "ipython",
    "version": 3
   },
   "file_extension": ".py",
   "mimetype": "text/x-python",
   "name": "python",
   "nbconvert_exporter": "python",
   "pygments_lexer": "ipython3",
   "version": "3.12.4"
  }
 },
 "nbformat": 4,
 "nbformat_minor": 5
}
