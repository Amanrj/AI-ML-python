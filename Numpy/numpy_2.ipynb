{
 "cells": [
  {
   "cell_type": "code",
   "execution_count": 4,
   "id": "ff6287a2-a5d6-4c13-b999-a032c7db7248",
   "metadata": {},
   "outputs": [],
   "source": [
    "import numpy as np\n"
   ]
  },
  {
   "cell_type": "code",
   "execution_count": 5,
   "id": "2ddbda93-9bb8-43bb-950b-93311f4d876e",
   "metadata": {},
   "outputs": [],
   "source": [
    "salary=np.random.randint(1000,20000,10)"
   ]
  },
  {
   "cell_type": "code",
   "execution_count": 6,
   "id": "c2ffe6a5-5ca9-4a3e-8427-cb0a716da02f",
   "metadata": {},
   "outputs": [
    {
     "data": {
      "text/plain": [
       "array([15238,  7799,  4623, 19057,  6081, 17397,  5793, 13144, 16157,\n",
       "        4689])"
      ]
     },
     "execution_count": 6,
     "metadata": {},
     "output_type": "execute_result"
    }
   ],
   "source": [
    "salary"
   ]
  },
  {
   "cell_type": "code",
   "execution_count": 7,
   "id": "21298339-2700-484a-a21a-7711cbdbfedb",
   "metadata": {},
   "outputs": [],
   "source": [
    "#set minimum and maximum salary using a_min and a_max "
   ]
  },
  {
   "cell_type": "code",
   "execution_count": 8,
   "id": "aa95ba9e-5dbc-4ffe-b534-b881dea1967c",
   "metadata": {},
   "outputs": [
    {
     "data": {
      "text/plain": [
       "array([10000,  7799,  4623, 10000,  6081, 10000,  5793, 10000, 10000,\n",
       "        4689])"
      ]
     },
     "execution_count": 8,
     "metadata": {},
     "output_type": "execute_result"
    }
   ],
   "source": [
    "np.clip(salary,a_min=2000,a_max=10000)"
   ]
  },
  {
   "cell_type": "code",
   "execution_count": 9,
   "id": "2717ad19-8e4f-47b5-b9d5-c252f47e7d0c",
   "metadata": {},
   "outputs": [],
   "source": [
    "#If you want to find actual salary which are less then or greater than some salary use np.where\n",
    "#np.where gives index detail"
   ]
  },
  {
   "cell_type": "code",
   "execution_count": 11,
   "id": "cac2423b-b0d3-4739-85e8-3e4b2eab733e",
   "metadata": {},
   "outputs": [
    {
     "name": "stdout",
     "output_type": "stream",
     "text": [
      "(array([0, 1, 3, 4, 5, 6, 7, 8], dtype=int64),)\n"
     ]
    }
   ],
   "source": [
    "print(np.where(salary >5000))"
   ]
  },
  {
   "cell_type": "code",
   "execution_count": 12,
   "id": "8bcecf08-8d45-41ca-ad49-45690ee90735",
   "metadata": {},
   "outputs": [],
   "source": [
    "#If you want to see actual data, use index"
   ]
  },
  {
   "cell_type": "code",
   "execution_count": 13,
   "id": "2e839638-5e14-4182-bbe1-04d82d444bf3",
   "metadata": {},
   "outputs": [
    {
     "data": {
      "text/plain": [
       "array([ 7799, 17397])"
      ]
     },
     "execution_count": 13,
     "metadata": {},
     "output_type": "execute_result"
    }
   ],
   "source": [
    "salary[[1,5]]"
   ]
  },
  {
   "cell_type": "code",
   "execution_count": 14,
   "id": "7de34ab2-089d-44ca-8537-b067e18f5aa3",
   "metadata": {},
   "outputs": [],
   "source": [
    "\n",
    "#similarly you can  check for any condition (<,>,=,==,<=,>=)"
   ]
  },
  {
   "cell_type": "code",
   "execution_count": 19,
   "id": "cb9bca2f-98ad-499f-a247-3dd58b20f687",
   "metadata": {},
   "outputs": [
    {
     "name": "stdout",
     "output_type": "stream",
     "text": [
      "(array([], dtype=int64),)\n"
     ]
    }
   ],
   "source": [
    "print(np.where(salary ==2000))"
   ]
  },
  {
   "cell_type": "code",
   "execution_count": 20,
   "id": "875cadba-e7ed-4969-8e42-038513700176",
   "metadata": {},
   "outputs": [
    {
     "name": "stdout",
     "output_type": "stream",
     "text": [
      "(array([0, 1, 3, 4, 5, 6, 7, 8], dtype=int64),)\n"
     ]
    }
   ],
   "source": [
    "print(np.where(salary >=5000))"
   ]
  },
  {
   "cell_type": "code",
   "execution_count": 21,
   "id": "22f930e7-4e98-4556-a15c-bf08d47b8f73",
   "metadata": {},
   "outputs": [
    {
     "name": "stdout",
     "output_type": "stream",
     "text": [
      "(array([1, 2, 4, 6, 7, 9], dtype=int64),)\n"
     ]
    }
   ],
   "source": [
    "print(np.where(salary < 15000))"
   ]
  },
  {
   "cell_type": "code",
   "execution_count": 24,
   "id": "00912691-23b8-4808-b55f-53c0b4814348",
   "metadata": {},
   "outputs": [],
   "source": [
    "\n",
    "#Reshaping Otherways"
   ]
  },
  {
   "cell_type": "code",
   "execution_count": 22,
   "id": "faea8cb3-4992-4dc3-954b-b7f5ed393b5d",
   "metadata": {},
   "outputs": [],
   "source": [
    "import numpy as np\n",
    "from numpy.random import randint as ri"
   ]
  },
  {
   "cell_type": "code",
   "execution_count": 23,
   "id": "071c9f42-c1be-4828-86d2-335cec104d51",
   "metadata": {},
   "outputs": [
    {
     "name": "stdout",
     "output_type": "stream",
     "text": [
      "[296 238 230 248 211 232 224 232 228 277 277 208 263 207 278 264 250 246\n",
      " 253 285 245 242 206 219 234 282 296 211 256 289]\n"
     ]
    }
   ],
   "source": [
    "a=ri(200,300,30)\n",
    "print(a)"
   ]
  },
  {
   "cell_type": "code",
   "execution_count": 26,
   "id": "471f7e7e-30af-4a60-84ab-516681fdf69c",
   "metadata": {},
   "outputs": [
    {
     "name": "stdout",
     "output_type": "stream",
     "text": [
      "[[[296 238 230 248 211]\n",
      "  [232 224 232 228 277]\n",
      "  [277 208 263 207 278]]\n",
      "\n",
      " [[264 250 246 253 285]\n",
      "  [245 242 206 219 234]\n",
      "  [282 296 211 256 289]]]\n"
     ]
    }
   ],
   "source": [
    "\n",
    "b=a.reshape(2,3,5)\n",
    "print(b)"
   ]
  },
  {
   "cell_type": "code",
   "execution_count": 28,
   "id": "14962fbc-a326-4c8b-a3a7-26f2234e4488",
   "metadata": {},
   "outputs": [
    {
     "name": "stdout",
     "output_type": "stream",
     "text": [
      "Minimum of a is  206\n",
      "Maximum of a is  296\n"
     ]
    }
   ],
   "source": [
    "print(\"Minimum of a is \",b.min())  # find minimum value \n",
    "print(\"Maximum of a is \",b.max())  # find maximum value"
   ]
  },
  {
   "cell_type": "code",
   "execution_count": 31,
   "id": "e68f46c0-0399-4b40-9321-18c2b15edb29",
   "metadata": {},
   "outputs": [],
   "source": [
    "m=ri(1,1000,25).reshape(5,5) #matrix of random integer"
   ]
  },
  {
   "cell_type": "code",
   "execution_count": 32,
   "id": "19539742-052c-406f-9140-c0ad074ad81f",
   "metadata": {},
   "outputs": [
    {
     "data": {
      "text/plain": [
       "array([[950, 242, 679, 810, 758],\n",
       "       [726, 607,  23, 775, 252],\n",
       "       [828, 314,  36, 518, 525],\n",
       "       [214, 366, 290, 425, 190],\n",
       "       [248,  31, 187, 785,  12]])"
      ]
     },
     "execution_count": 32,
     "metadata": {},
     "output_type": "execute_result"
    }
   ],
   "source": [
    "m"
   ]
  },
  {
   "cell_type": "code",
   "execution_count": 33,
   "id": "0c2d516c-d9c4-43ed-aebe-1867fdf4299c",
   "metadata": {},
   "outputs": [],
   "source": [
    "# Index and slicing"
   ]
  },
  {
   "cell_type": "code",
   "execution_count": 34,
   "id": "cb5afb1f-663e-49c4-bef0-9e940abdf016",
   "metadata": {},
   "outputs": [
    {
     "name": "stdout",
     "output_type": "stream",
     "text": [
      "Array [20 21 22 23 24 25 26 27 28 29]\n"
     ]
    }
   ],
   "source": [
    "arr=np.arange(20,30)\n",
    "print(\"Array\",arr)"
   ]
  },
  {
   "cell_type": "code",
   "execution_count": 35,
   "id": "661e5738-b19a-41ae-998f-d57cb6d93235",
   "metadata": {},
   "outputs": [
    {
     "name": "stdout",
     "output_type": "stream",
     "text": [
      "Element of 7th index is = 26\n"
     ]
    }
   ],
   "source": [
    "print(\"Element of 7th index is =\",arr[6])"
   ]
  },
  {
   "cell_type": "code",
   "execution_count": 36,
   "id": "70c18bef-8152-4dcd-9660-b03f48148915",
   "metadata": {},
   "outputs": [
    {
     "name": "stdout",
     "output_type": "stream",
     "text": [
      "Element of 3rd and 5th index is =  [23]\n"
     ]
    }
   ],
   "source": [
    "\n",
    "print(\"Element of 3rd and 5th index is = \",arr[3:4])"
   ]
  },
  {
   "cell_type": "code",
   "execution_count": 37,
   "id": "67f273e2-a180-4b52-b4e7-a44b01e0ae2e",
   "metadata": {},
   "outputs": [],
   "source": [
    "#Store arr in abc and check upto 4th index of abc"
   ]
  },
  {
   "cell_type": "code",
   "execution_count": 38,
   "id": "5e8dbc69-b34d-4874-b835-2811abe4a54e",
   "metadata": {},
   "outputs": [
    {
     "name": "stdout",
     "output_type": "stream",
     "text": [
      "[25 26 27 28 29]\n"
     ]
    }
   ],
   "source": [
    "aman=arr[5:]\n",
    "print(aman)"
   ]
  },
  {
   "cell_type": "code",
   "execution_count": 41,
   "id": "8cd673a5-9eeb-40c0-8ec5-a1f9b86f8de3",
   "metadata": {},
   "outputs": [
    {
     "name": "stdout",
     "output_type": "stream",
     "text": [
      "Element from last backwords :  [29 28 27 26 25]\n"
     ]
    }
   ],
   "source": [
    "print(\"Element from last backwords : \",aman[-1::-1])"
   ]
  },
  {
   "cell_type": "code",
   "execution_count": 42,
   "id": "d8de65a1-dc9c-4d28-bdbc-ec9c4a4afc69",
   "metadata": {},
   "outputs": [
    {
     "name": "stdout",
     "output_type": "stream",
     "text": [
      "[[1 2 3]\n",
      " [4 5 6]\n",
      " [7 8 9]]\n"
     ]
    }
   ],
   "source": [
    "\n",
    "my_mat=[[1,2,3],[4,5,6],[7,8,9]]\n",
    "mat=np.array(my_mat)\n",
    "print(mat)"
   ]
  },
  {
   "cell_type": "code",
   "execution_count": 45,
   "id": "69deca4e-1949-4d9a-9896-23e6e8838c0f",
   "metadata": {},
   "outputs": [
    {
     "name": "stdout",
     "output_type": "stream",
     "text": [
      "Entire row at index 1:  [4 5 6]\n"
     ]
    }
   ],
   "source": [
    "print(\"Entire row at index 1: \",mat[1])"
   ]
  },
  {
   "cell_type": "code",
   "execution_count": 46,
   "id": "c76a5989-ab7b-4f69-98a8-9dc6ea973f88",
   "metadata": {},
   "outputs": [],
   "source": [
    "#Subsetting-So what is subsetting ? subsetting means when we wann to fetch only few dara from matrix then we use subsetting method."
   ]
  },
  {
   "cell_type": "code",
   "execution_count": 48,
   "id": "1144da03-b264-4030-8d59-5a386c9d5002",
   "metadata": {},
   "outputs": [],
   "source": [
    "mat=np.array(ri(5,50,15)).reshape(3,5)\n"
   ]
  },
  {
   "cell_type": "code",
   "execution_count": 49,
   "id": "7242627e-9892-4353-9d1d-502c37a6b1f8",
   "metadata": {},
   "outputs": [
    {
     "data": {
      "text/plain": [
       "array([[ 8, 38, 14, 23, 36],\n",
       "       [46, 43, 14, 42, 23],\n",
       "       [49, 35, 30, 27, 41]])"
      ]
     },
     "execution_count": 49,
     "metadata": {},
     "output_type": "execute_result"
    }
   ],
   "source": [
    "mat"
   ]
  },
  {
   "cell_type": "code",
   "execution_count": 50,
   "id": "f875d7e4-f518-4e75-b5db-c4cfa40f446b",
   "metadata": {},
   "outputs": [],
   "source": [
    "mat1=np.array(ri(1,10,9)).reshape(3,3)\n",
    "mat2=np.array(ri(1,10,9)).reshape(3,3)"
   ]
  },
  {
   "cell_type": "code",
   "execution_count": 53,
   "id": "e5e17aa9-41ee-49a5-bd0d-4df36651d2de",
   "metadata": {},
   "outputs": [
    {
     "name": "stdout",
     "output_type": "stream",
     "text": [
      "[[6 1 2]\n",
      " [9 6 8]\n",
      " [6 2 2]]\n",
      "[[9 6 3]\n",
      " [8 3 5]\n",
      " [3 7 7]]\n"
     ]
    }
   ],
   "source": [
    "print(mat1)\n",
    "print(mat2)"
   ]
  },
  {
   "cell_type": "code",
   "execution_count": 54,
   "id": "4f9bb053-a3ea-4627-97a6-c60c63f6e759",
   "metadata": {},
   "outputs": [],
   "source": [
    "\n",
    "#Broadcasting-\n",
    "#Numpy operations are usually dont on pairs of arrays on an element by element basis. in the simplest case, the two arays must have exactly the same shape\n",
    "# Numpy broadcasting rules relaxex this constraints when the array shape meet certain constraints when operatings on two array,\n",
    "# Numpy compares their shape element wise it starts with the trailing dimensions ,and word its way forword ,two dimension are compatible\n",
    "#when they are eqaul,or one of them is 1"
   ]
  },
  {
   "cell_type": "code",
   "execution_count": 55,
   "id": "078ef67c-6235-4300-8579-11a7973949ff",
   "metadata": {},
   "outputs": [
    {
     "name": "stdout",
     "output_type": "stream",
     "text": [
      "[[0. 0. 0. 0. 0.]\n",
      " [0. 0. 0. 0. 0.]\n",
      " [0. 0. 0. 0. 0.]\n",
      " [0. 0. 0. 0. 0.]\n",
      " [0. 0. 0. 0. 0.]]\n"
     ]
    }
   ],
   "source": [
    "start=np.zeros((5,5))\n",
    "print(start)"
   ]
  },
  {
   "cell_type": "code",
   "execution_count": 56,
   "id": "3684fe59-5611-46ef-bb85-e6e15b254e64",
   "metadata": {},
   "outputs": [],
   "source": [
    "\n",
    "#create a rank1 ndarray with 3 values"
   ]
  },
  {
   "cell_type": "code",
   "execution_count": 59,
   "id": "14e85e68-5829-4d97-a338-a04fdb480f67",
   "metadata": {},
   "outputs": [
    {
     "name": "stdout",
     "output_type": "stream",
     "text": [
      "[[2 4 6]]\n"
     ]
    }
   ],
   "source": [
    "\n",
    "add_rows=np.array([[2,4,6]])\n",
    "print(add_rows)"
   ]
  },
  {
   "cell_type": "code",
   "execution_count": 61,
   "id": "8fbf6ef1-797b-415d-9194-52528216f0c2",
   "metadata": {},
   "outputs": [],
   "source": [
    "new_row=add_rows.T  # t is use to transpose "
   ]
  },
  {
   "cell_type": "code",
   "execution_count": 62,
   "id": "3c36c6e3-939d-4479-8de7-341301922d8a",
   "metadata": {},
   "outputs": [
    {
     "data": {
      "text/plain": [
       "array([[2],\n",
       "       [4],\n",
       "       [6]])"
      ]
     },
     "execution_count": 62,
     "metadata": {},
     "output_type": "execute_result"
    }
   ],
   "source": [
    "\n",
    "new_row"
   ]
  },
  {
   "cell_type": "code",
   "execution_count": null,
   "id": "0bfb8a5f-0a56-4019-a919-11e0a1097400",
   "metadata": {},
   "outputs": [],
   "source": []
  }
 ],
 "metadata": {
  "kernelspec": {
   "display_name": "Python 3 (ipykernel)",
   "language": "python",
   "name": "python3"
  },
  "language_info": {
   "codemirror_mode": {
    "name": "ipython",
    "version": 3
   },
   "file_extension": ".py",
   "mimetype": "text/x-python",
   "name": "python",
   "nbconvert_exporter": "python",
   "pygments_lexer": "ipython3",
   "version": "3.12.4"
  }
 },
 "nbformat": 4,
 "nbformat_minor": 5
}
