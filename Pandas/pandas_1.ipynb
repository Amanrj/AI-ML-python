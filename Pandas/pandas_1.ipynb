{
 "cells": [
  {
   "cell_type": "markdown",
   "id": "d88b63c5-fbb4-4682-b0b8-f1b468e8b9bc",
   "metadata": {},
   "source": [
    "# PANDAS IN PYTHON"
   ]
  },
  {
   "cell_type": "markdown",
   "id": "bdbb3088-6b28-450a-b556-107cae18ea49",
   "metadata": {},
   "source": [
    "##### Pandas is an open source data analysis and manipulation library for python. it provides data structue and functions needed to work with structured data seamlessly and intuitively. the  primary data structure in pandas are:\n",
    "   #### 1. series : A one-dimentional labeled array capable of holding any data type\n",
    "   #### 2. DataFrame : A two-dimensional labeled data structure with columns of potentially different datatypes."
   ]
  },
  {
   "cell_type": "code",
   "execution_count": null,
   "id": "80aeec74-4414-4878-980d-297913903ebe",
   "metadata": {},
   "outputs": [],
   "source": [
    "# importing pandas "
   ]
  },
  {
   "cell_type": "code",
   "execution_count": 34,
   "id": "bf2cdc55-ff3c-4b7c-acb1-848cc8077dc1",
   "metadata": {},
   "outputs": [],
   "source": [
    "import pandas as pd"
   ]
  },
  {
   "cell_type": "code",
   "execution_count": 41,
   "id": "ad246111-3c04-436d-9cbb-13461b460937",
   "metadata": {},
   "outputs": [],
   "source": [
    "# creating blank series"
   ]
  },
  {
   "cell_type": "code",
   "execution_count": 40,
   "id": "b2a480ec-dd5b-4dfb-b259-5f973198a8b8",
   "metadata": {},
   "outputs": [
    {
     "name": "stdout",
     "output_type": "stream",
     "text": [
      "Series([], dtype: object)\n"
     ]
    }
   ],
   "source": [
    "import pandas as pd\n",
    "\n",
    "# Create a blank series\n",
    "blank_series = pd.Series()\n",
    "\n",
    "print(blank_series)\n"
   ]
  },
  {
   "cell_type": "code",
   "execution_count": 44,
   "id": "8d894108-8d54-4b12-9aee-35b3ba91fa0e",
   "metadata": {},
   "outputs": [
    {
     "name": "stdout",
     "output_type": "stream",
     "text": [
      "0     0\n",
      "1    11\n",
      "2    22\n",
      "3    33\n",
      "4    44\n",
      "5    55\n",
      "6    66\n",
      "7    77\n",
      "8    88\n",
      "9    99\n",
      "dtype: int64\n"
     ]
    }
   ],
   "source": [
    "series = pd.Series([0,11,22,33,44,55,66,77,88,99])\n",
    "print(series)"
   ]
  },
  {
   "cell_type": "markdown",
   "id": "bf51e60b-053c-4dcd-8355-379ab43ad034",
   "metadata": {},
   "source": [
    "# Creating  a dictionary"
   ]
  },
  {
   "cell_type": "code",
   "execution_count": 46,
   "id": "5629887f-5851-4e43-9fd9-263b4596fa6e",
   "metadata": {},
   "outputs": [
    {
     "name": "stdout",
     "output_type": "stream",
     "text": [
      "{'f': [1, 2, 3], 'g': [4, 8, 9], 'h': [4, 7, 1]}\n"
     ]
    }
   ],
   "source": [
    "dictionary = {'f': [1,2,3], 'g': [4,8,9], 'h':[4,7,1]}\n",
    "print(dictionary)"
   ]
  },
  {
   "cell_type": "markdown",
   "id": "fe57f458-ca35-40cf-a1e2-a79cbc7de70f",
   "metadata": {},
   "source": [
    "# Creating a  Dataframe "
   ]
  },
  {
   "cell_type": "code",
   "execution_count": 47,
   "id": "91823e7e-a2b0-44a0-b5a5-23d77a2041f2",
   "metadata": {},
   "outputs": [
    {
     "name": "stdout",
     "output_type": "stream",
     "text": [
      "      Name  Age         City\n",
      "0    Alice   24     New York\n",
      "1      Bob   27  Los Angeles\n",
      "2  Charlie   22      Chicago\n",
      "3    David   32      Houston\n"
     ]
    }
   ],
   "source": [
    "data = {\n",
    "    'Name': ['Alice', 'Bob', 'Charlie', 'David'],\n",
    "    'Age': [24, 27, 22, 32],\n",
    "    'City': ['New York', 'Los Angeles', 'Chicago', 'Houston']\n",
    "}\n",
    "df = pd.DataFrame(data)\n",
    "print(df)\n"
   ]
  },
  {
   "cell_type": "code",
   "execution_count": 54,
   "id": "6dbfc17e-5f65-4537-9e5e-d1882122f4e6",
   "metadata": {},
   "outputs": [
    {
     "name": "stdout",
     "output_type": "stream",
     "text": [
      "   name state  salary\n",
      "0  aman    br   20000\n",
      "1   tom    gj   30000\n",
      "2   jim    tm   49000\n",
      "3   raj    cn    5000\n"
     ]
    }
   ],
   "source": [
    "info = {\n",
    "    'name' : ['aman' , 'tom' , 'jim' , 'raj'],\n",
    "    'state' : ['br' , 'gj' , 'tm', 'cn'],\n",
    "    'salary' : [20000 , 30000, 49000, 5000]\n",
    "}\n",
    "d = pd.DataFrame(info)\n",
    "print(d)"
   ]
  },
  {
   "cell_type": "code",
   "execution_count": 55,
   "id": "48765b2d-10bd-4f66-8bcc-13543c651fee",
   "metadata": {},
   "outputs": [],
   "source": [
    "# add new column in table and add values "
   ]
  },
  {
   "cell_type": "code",
   "execution_count": 58,
   "id": "f1acdc0c-e434-474b-a1ba-62152ea0063c",
   "metadata": {},
   "outputs": [
    {
     "name": "stdout",
     "output_type": "stream",
     "text": [
      "   name state  salary mobile\n",
      "0  aman    br   20000     99\n",
      "1   tom    gj   30000     44\n",
      "2   jim    tm   49000     66\n",
      "3   raj    cn    5000     88\n"
     ]
    }
   ],
   "source": [
    "d['mobile']= \"99,44,66,88\".split(',')\n",
    "print (d)"
   ]
  },
  {
   "cell_type": "code",
   "execution_count": 59,
   "id": "bc3aa098-5d72-4e1f-81c7-dc5d97613c31",
   "metadata": {},
   "outputs": [],
   "source": [
    "# nan values  "
   ]
  },
  {
   "cell_type": "code",
   "execution_count": 72,
   "id": "056d0dc9-55a2-477f-bed2-6a2f30d13ca1",
   "metadata": {},
   "outputs": [
    {
     "name": "stdout",
     "output_type": "stream",
     "text": [
      "   name state   salary\n",
      "0  aman    br  20000.0\n",
      "1   tom    gj  30000.0\n",
      "2   NaN    tm  49000.0\n",
      "3   NaN    cn      NaN\n"
     ]
    }
   ],
   "source": [
    "info = {\n",
    "    'name' : ['aman' , 'tom' , np.nan , np.nan],\n",
    "    'state' : ['br' , 'gj' , 'tm', 'cn'],\n",
    "    'salary' : [20000 , 30000, 49000, np.nan]}\n",
    "d = pd.DataFrame(info)\n",
    "print(d)"
   ]
  },
  {
   "cell_type": "code",
   "execution_count": 62,
   "id": "6326b8be-ce18-4456-b4c1-47b9031250b0",
   "metadata": {},
   "outputs": [],
   "source": [
    " # drop nan values // column"
   ]
  },
  {
   "cell_type": "code",
   "execution_count": 64,
   "id": "501abd8a-e6cc-47f2-b040-35c3808cd672",
   "metadata": {},
   "outputs": [
    {
     "name": "stdout",
     "output_type": "stream",
     "text": [
      "\n",
      " Dropping any column with nan value\n",
      "-----------------------------------\n",
      "     name state\n",
      "0    aman    br\n",
      "1     tom    gj\n",
      "2  np.nan    tm\n",
      "3  np.nan    cn\n"
     ]
    }
   ],
   "source": [
    "print(\"\\n Dropping any column with nan value\\n\",'-'*35,sep='')\n",
    "print(d.dropna(axis=1))  //"
   ]
  },
  {
   "cell_type": "code",
   "execution_count": 73,
   "id": "6bd7ba33-45e4-48a1-8474-68348cf8097c",
   "metadata": {},
   "outputs": [
    {
     "name": "stdout",
     "output_type": "stream",
     "text": [
      "\n",
      " Dropping any Rows with nan value\n",
      "---------------------------------------------------------------------------\n",
      "   name state   salary\n",
      "0  aman    br  20000.0\n",
      "1   tom    gj  30000.0\n"
     ]
    }
   ],
   "source": [
    "print(\"\\n Dropping any Rows with nan value\\n\",'-'*75,sep='')\n",
    "print(d.dropna(axis=0))"
   ]
  },
  {
   "cell_type": "code",
   "execution_count": 74,
   "id": "615c676c-af0a-49bf-aa39-4d373b86408d",
   "metadata": {},
   "outputs": [],
   "source": [
    "# fill the position of nan with 99"
   ]
  },
  {
   "cell_type": "code",
   "execution_count": 77,
   "id": "408ec9c0-491c-4445-8389-47cedb1e825b",
   "metadata": {},
   "outputs": [
    {
     "name": "stdout",
     "output_type": "stream",
     "text": [
      "\n",
      " Filling Value with 99 \t--------\n",
      "   name state   salary\n",
      "0  aman    br  20000.0\n",
      "1   tom    gj  30000.0\n",
      "2    99    tm  49000.0\n",
      "3    99    cn     99.0\n"
     ]
    }
   ],
   "source": [
    "print(\"\\n Filling Value with 99 \\t\",'-'*8,sep='')\n",
    "print(d.fillna(value=99))"
   ]
  },
  {
   "cell_type": "code",
   "execution_count": 80,
   "id": "65f02e29-32dc-42ec-b92a-902a1faeef0e",
   "metadata": {},
   "outputs": [
    {
     "name": "stdout",
     "output_type": "stream",
     "text": [
      "\n",
      " Filling Value with 00 \n",
      "-----------------------------------\n",
      "   name state   salary\n",
      "0  aman    br  20000.0\n",
      "1   tom    gj  30000.0\n",
      "2     0    tm  49000.0\n",
      "3     0    cn      0.0\n"
     ]
    }
   ],
   "source": [
    "print(\"\\n Filling Value with 00 \\n\",'-'*35,sep='')\n",
    "print(d.fillna(value=00))"
   ]
  },
  {
   "cell_type": "code",
   "execution_count": 81,
   "id": "6968d175-08d3-4204-8ebd-0c87ff60be8a",
   "metadata": {},
   "outputs": [
    {
     "name": "stdout",
     "output_type": "stream",
     "text": [
      "   name state   salary\n",
      "0  aman    br  20000.0\n",
      "1   tom    gj  30000.0\n",
      "2   NaN    tm  49000.0\n",
      "3   NaN    cn      NaN\n"
     ]
    }
   ],
   "source": [
    "print(d)"
   ]
  },
  {
   "cell_type": "code",
   "execution_count": 84,
   "id": "b4c65bc3-c319-4aed-b790-3b6e21dc2d09",
   "metadata": {},
   "outputs": [
    {
     "name": "stdout",
     "output_type": "stream",
     "text": [
      "\n",
      " Filling Values (mean of a column )\n",
      " -\n",
      "      name state   salary\n",
      "0     aman    br  20000.0\n",
      "1      tom    gj  30000.0\n",
      "2  33000.0    tm  49000.0\n",
      "3  33000.0    cn  33000.0\n"
     ]
    }
   ],
   "source": [
    "print(\"\\n Filling Values (mean of a column )\\n\",'-')\n",
    "d.fillna(value=d['salary'].mean(),inplace=True)\n",
    "print(d)"
   ]
  },
  {
   "cell_type": "code",
   "execution_count": 85,
   "id": "d9b6139d-e90a-4101-98dc-f6d5a6b78d25",
   "metadata": {},
   "outputs": [],
   "source": [
    " #find the mean company wise. firstly we have to group by column names using groupby"
   ]
  },
  {
   "cell_type": "code",
   "execution_count": 88,
   "id": "66fdae10-589c-468b-8972-cd5476abc662",
   "metadata": {},
   "outputs": [],
   "source": [
    "df = pd.DataFrame({'Animal': ['Falcon', 'Falcon',\n",
    "                              'Parrot', 'Parrot'],\n",
    "                   'Max Speed': [380., 370., 24., 26.]})\n",
    "\n"
   ]
  },
  {
   "cell_type": "code",
   "execution_count": 89,
   "id": "e78adf7e-fb96-48a9-8e55-cef1f06cb914",
   "metadata": {},
   "outputs": [
    {
     "name": "stdout",
     "output_type": "stream",
     "text": [
      "   Animal  Max Speed\n",
      "0  Falcon      380.0\n",
      "1  Falcon      370.0\n",
      "2  Parrot       24.0\n",
      "3  Parrot       26.0\n"
     ]
    }
   ],
   "source": [
    "print (df)"
   ]
  },
  {
   "cell_type": "code",
   "execution_count": 93,
   "id": "e3eb20b7-7aed-4042-ba9f-a6e6e86750cd",
   "metadata": {},
   "outputs": [
    {
     "data": {
      "text/html": [
       "<div>\n",
       "<style scoped>\n",
       "    .dataframe tbody tr th:only-of-type {\n",
       "        vertical-align: middle;\n",
       "    }\n",
       "\n",
       "    .dataframe tbody tr th {\n",
       "        vertical-align: top;\n",
       "    }\n",
       "\n",
       "    .dataframe thead th {\n",
       "        text-align: right;\n",
       "    }\n",
       "</style>\n",
       "<table border=\"1\" class=\"dataframe\">\n",
       "  <thead>\n",
       "    <tr style=\"text-align: right;\">\n",
       "      <th></th>\n",
       "      <th>Max Speed</th>\n",
       "    </tr>\n",
       "    <tr>\n",
       "      <th>Animal</th>\n",
       "      <th></th>\n",
       "    </tr>\n",
       "  </thead>\n",
       "  <tbody>\n",
       "    <tr>\n",
       "      <th>Falcon</th>\n",
       "      <td>375.0</td>\n",
       "    </tr>\n",
       "    <tr>\n",
       "      <th>Parrot</th>\n",
       "      <td>25.0</td>\n",
       "    </tr>\n",
       "  </tbody>\n",
       "</table>\n",
       "</div>"
      ],
      "text/plain": [
       "        Max Speed\n",
       "Animal           \n",
       "Falcon      375.0\n",
       "Parrot       25.0"
      ]
     },
     "execution_count": 93,
     "metadata": {},
     "output_type": "execute_result"
    }
   ],
   "source": [
    "df.groupby(['Animal']).mean() "
   ]
  },
  {
   "cell_type": "code",
   "execution_count": 94,
   "id": "d08a65e1-b710-4e6d-b1a9-998e659d16e1",
   "metadata": {},
   "outputs": [],
   "source": [
    "#Concating DataFrame \n",
    "#There are Three types of concating  -1 = Concat\n",
    "#                                     2  = Merge\n",
    "#                                     3 =  Join\n"
   ]
  },
  {
   "cell_type": "code",
   "execution_count": 95,
   "id": "c11f2d39-81ac-4248-bb3b-658bbc0a7cac",
   "metadata": {},
   "outputs": [],
   "source": [
    "info =pd.DataFrame({'Mat':[45,68,35,65],\n",
    "                     'Eng':[54,87,36,52],\n",
    "                     'Sci':[66,77,88,70],\n",
    "                     'hindi':[54,79,58,76]},\n",
    "                    index=['Ravi','Shyam','Saurav','Abhi'])"
   ]
  },
  {
   "cell_type": "code",
   "execution_count": 96,
   "id": "cf3c75af-e75f-46c3-ba88-d2eff453fc3c",
   "metadata": {},
   "outputs": [
    {
     "name": "stdout",
     "output_type": "stream",
     "text": [
      "        Mat  Eng  Sci  hindi\n",
      "Ravi     45   54   66     54\n",
      "Shyam    68   87   77     79\n",
      "Saurav   35   36   88     58\n",
      "Abhi     65   52   70     76\n"
     ]
    }
   ],
   "source": [
    "print(info)"
   ]
  },
  {
   "cell_type": "code",
   "execution_count": 98,
   "id": "105cdf9b-f7b2-4f2b-8408-6f780f769fa0",
   "metadata": {},
   "outputs": [
    {
     "data": {
      "text/html": [
       "<div>\n",
       "<style scoped>\n",
       "    .dataframe tbody tr th:only-of-type {\n",
       "        vertical-align: middle;\n",
       "    }\n",
       "\n",
       "    .dataframe tbody tr th {\n",
       "        vertical-align: top;\n",
       "    }\n",
       "\n",
       "    .dataframe thead th {\n",
       "        text-align: right;\n",
       "    }\n",
       "</style>\n",
       "<table border=\"1\" class=\"dataframe\">\n",
       "  <thead>\n",
       "    <tr style=\"text-align: right;\">\n",
       "      <th></th>\n",
       "      <th>Mat</th>\n",
       "      <th>Eng</th>\n",
       "      <th>Sci</th>\n",
       "      <th>hindi</th>\n",
       "    </tr>\n",
       "  </thead>\n",
       "  <tbody>\n",
       "    <tr>\n",
       "      <th>aman</th>\n",
       "      <td>45</td>\n",
       "      <td>54</td>\n",
       "      <td>66</td>\n",
       "      <td>66</td>\n",
       "    </tr>\n",
       "    <tr>\n",
       "      <th>amit</th>\n",
       "      <td>68</td>\n",
       "      <td>87</td>\n",
       "      <td>77</td>\n",
       "      <td>71</td>\n",
       "    </tr>\n",
       "    <tr>\n",
       "      <th>rahul</th>\n",
       "      <td>35</td>\n",
       "      <td>36</td>\n",
       "      <td>88</td>\n",
       "      <td>5</td>\n",
       "    </tr>\n",
       "    <tr>\n",
       "      <th>ravi</th>\n",
       "      <td>95</td>\n",
       "      <td>54</td>\n",
       "      <td>72</td>\n",
       "      <td>46</td>\n",
       "    </tr>\n",
       "  </tbody>\n",
       "</table>\n",
       "</div>"
      ],
      "text/plain": [
       "       Mat  Eng  Sci  hindi\n",
       "aman    45   54   66     66\n",
       "amit    68   87   77     71\n",
       "rahul   35   36   88      5\n",
       "ravi    95   54   72     46"
      ]
     },
     "execution_count": 98,
     "metadata": {},
     "output_type": "execute_result"
    }
   ],
   "source": [
    "info_2=pd.DataFrame({'Mat':[45,68,35,95],\n",
    "                     'Eng':[54,87,36,54],\n",
    "                     'Sci':[66,77,88,72],\n",
    "                     'hindi':[66,71,5,46]},\n",
    "                    index=['aman','amit','rahul','ravi'])\n",
    "info_2"
   ]
  },
  {
   "cell_type": "code",
   "execution_count": 100,
   "id": "f4c6852a-caf6-4e7b-bd13-86e4c4245b67",
   "metadata": {},
   "outputs": [
    {
     "data": {
      "text/html": [
       "<div>\n",
       "<style scoped>\n",
       "    .dataframe tbody tr th:only-of-type {\n",
       "        vertical-align: middle;\n",
       "    }\n",
       "\n",
       "    .dataframe tbody tr th {\n",
       "        vertical-align: top;\n",
       "    }\n",
       "\n",
       "    .dataframe thead th {\n",
       "        text-align: right;\n",
       "    }\n",
       "</style>\n",
       "<table border=\"1\" class=\"dataframe\">\n",
       "  <thead>\n",
       "    <tr style=\"text-align: right;\">\n",
       "      <th></th>\n",
       "      <th>Mat</th>\n",
       "      <th>Eng</th>\n",
       "      <th>Sci</th>\n",
       "      <th>hindi</th>\n",
       "    </tr>\n",
       "  </thead>\n",
       "  <tbody>\n",
       "    <tr>\n",
       "      <th>akash</th>\n",
       "      <td>0</td>\n",
       "      <td>64</td>\n",
       "      <td>66</td>\n",
       "      <td>66</td>\n",
       "    </tr>\n",
       "    <tr>\n",
       "      <th>ankit</th>\n",
       "      <td>8</td>\n",
       "      <td>83</td>\n",
       "      <td>77</td>\n",
       "      <td>71</td>\n",
       "    </tr>\n",
       "    <tr>\n",
       "      <th>tom</th>\n",
       "      <td>95</td>\n",
       "      <td>6</td>\n",
       "      <td>18</td>\n",
       "      <td>5</td>\n",
       "    </tr>\n",
       "    <tr>\n",
       "      <th>ai</th>\n",
       "      <td>5</td>\n",
       "      <td>14</td>\n",
       "      <td>72</td>\n",
       "      <td>46</td>\n",
       "    </tr>\n",
       "  </tbody>\n",
       "</table>\n",
       "</div>"
      ],
      "text/plain": [
       "       Mat  Eng  Sci  hindi\n",
       "akash    0   64   66     66\n",
       "ankit    8   83   77     71\n",
       "tom     95    6   18      5\n",
       "ai       5   14   72     46"
      ]
     },
     "execution_count": 100,
     "metadata": {},
     "output_type": "execute_result"
    }
   ],
   "source": [
    "info_3= pd.DataFrame({'Mat':[0,8,95,5],\n",
    "                     'Eng':[64,83,6,14],\n",
    "                     'Sci':[66,77,18,72],\n",
    "                     'hindi':[66,71,5,46]},\n",
    "                    index=['akash','ankit','tom','ai'])\n",
    "info_3"
   ]
  },
  {
   "cell_type": "code",
   "execution_count": 101,
   "id": "ff9175cd-964f-44f5-bf95-22927596676a",
   "metadata": {},
   "outputs": [],
   "source": [
    "# concat row "
   ]
  },
  {
   "cell_type": "code",
   "execution_count": 102,
   "id": "be10bcc6-3791-403e-aa73-d676ae810275",
   "metadata": {},
   "outputs": [
    {
     "name": "stdout",
     "output_type": "stream",
     "text": [
      "\n",
      " After concatenation along row \n",
      "--------------------------------------------------\n",
      "        Mat  Eng  Sci  hindi\n",
      "Ravi     45   54   66     54\n",
      "Shyam    68   87   77     79\n",
      "Saurav   35   36   88     58\n",
      "Abhi     65   52   70     76\n",
      "aman     45   54   66     66\n",
      "amit     68   87   77     71\n",
      "rahul    35   36   88      5\n",
      "ravi     95   54   72     46\n",
      "akash     0   64   66     66\n",
      "ankit     8   83   77     71\n",
      "tom      95    6   18      5\n",
      "ai        5   14   72     46\n"
     ]
    }
   ],
   "source": [
    "all_student_marks=pd.concat([info,info_2,info_3],axis=0)\n",
    "print(\"\\n After concatenation along row \\n\",'-'*50,sep='')\n",
    "print(all_student_marks)"
   ]
  },
  {
   "cell_type": "code",
   "execution_count": 103,
   "id": "f7637e38-beb8-4c38-8bda-12fc7c6b29e0",
   "metadata": {},
   "outputs": [],
   "source": [
    "# concat column"
   ]
  },
  {
   "cell_type": "code",
   "execution_count": 104,
   "id": "140594ff-b840-4326-a522-974680df355a",
   "metadata": {},
   "outputs": [
    {
     "name": "stdout",
     "output_type": "stream",
     "text": [
      "\n",
      " After concatenation along column\n",
      "----------------------------------------\n",
      "         Mat   Eng   Sci  hindi   Mat   Eng   Sci  hindi   Mat   Eng   Sci  \\\n",
      "Ravi    45.0  54.0  66.0   54.0   NaN   NaN   NaN    NaN   NaN   NaN   NaN   \n",
      "Shyam   68.0  87.0  77.0   79.0   NaN   NaN   NaN    NaN   NaN   NaN   NaN   \n",
      "Saurav  35.0  36.0  88.0   58.0   NaN   NaN   NaN    NaN   NaN   NaN   NaN   \n",
      "Abhi    65.0  52.0  70.0   76.0   NaN   NaN   NaN    NaN   NaN   NaN   NaN   \n",
      "aman     NaN   NaN   NaN    NaN  45.0  54.0  66.0   66.0   NaN   NaN   NaN   \n",
      "amit     NaN   NaN   NaN    NaN  68.0  87.0  77.0   71.0   NaN   NaN   NaN   \n",
      "rahul    NaN   NaN   NaN    NaN  35.0  36.0  88.0    5.0   NaN   NaN   NaN   \n",
      "ravi     NaN   NaN   NaN    NaN  95.0  54.0  72.0   46.0   NaN   NaN   NaN   \n",
      "akash    NaN   NaN   NaN    NaN   NaN   NaN   NaN    NaN   0.0  64.0  66.0   \n",
      "ankit    NaN   NaN   NaN    NaN   NaN   NaN   NaN    NaN   8.0  83.0  77.0   \n",
      "tom      NaN   NaN   NaN    NaN   NaN   NaN   NaN    NaN  95.0   6.0  18.0   \n",
      "ai       NaN   NaN   NaN    NaN   NaN   NaN   NaN    NaN   5.0  14.0  72.0   \n",
      "\n",
      "        hindi  \n",
      "Ravi      NaN  \n",
      "Shyam     NaN  \n",
      "Saurav    NaN  \n",
      "Abhi      NaN  \n",
      "aman      NaN  \n",
      "amit      NaN  \n",
      "rahul     NaN  \n",
      "ravi      NaN  \n",
      "akash    66.0  \n",
      "ankit    71.0  \n",
      "tom       5.0  \n",
      "ai       46.0  \n"
     ]
    }
   ],
   "source": [
    "all_student_marks=pd.concat([info,info_2,info_3],axis=1)\n",
    "print(\"\\n After concatenation along column\\n\",'-'*40,sep='')\n",
    "print(all_student_marks)"
   ]
  },
  {
   "cell_type": "code",
   "execution_count": 105,
   "id": "d09c7bd2-1bfe-4b62-92ac-5ed8dd619320",
   "metadata": {},
   "outputs": [],
   "source": [
    " # Fill all Nan Zero"
   ]
  },
  {
   "cell_type": "code",
   "execution_count": 113,
   "id": "18c759cf-f0eb-4049-8258-0cb4ee7b870f",
   "metadata": {},
   "outputs": [
    {
     "name": "stdout",
     "output_type": "stream",
     "text": [
      "         Mat   Eng   Sci  hindi   Mat   Eng   Sci  hindi   Mat   Eng   Sci  \\\n",
      "Ravi    45.0  54.0  66.0   54.0   0.0   0.0   0.0    0.0   0.0   0.0   0.0   \n",
      "Shyam   68.0  87.0  77.0   79.0   0.0   0.0   0.0    0.0   0.0   0.0   0.0   \n",
      "Saurav  35.0  36.0  88.0   58.0   0.0   0.0   0.0    0.0   0.0   0.0   0.0   \n",
      "Abhi    65.0  52.0  70.0   76.0   0.0   0.0   0.0    0.0   0.0   0.0   0.0   \n",
      "aman     0.0   0.0   0.0    0.0  45.0  54.0  66.0   66.0   0.0   0.0   0.0   \n",
      "amit     0.0   0.0   0.0    0.0  68.0  87.0  77.0   71.0   0.0   0.0   0.0   \n",
      "rahul    0.0   0.0   0.0    0.0  35.0  36.0  88.0    5.0   0.0   0.0   0.0   \n",
      "ravi     0.0   0.0   0.0    0.0  95.0  54.0  72.0   46.0   0.0   0.0   0.0   \n",
      "akash    0.0   0.0   0.0    0.0   0.0   0.0   0.0    0.0   0.0  64.0  66.0   \n",
      "ankit    0.0   0.0   0.0    0.0   0.0   0.0   0.0    0.0   8.0  83.0  77.0   \n",
      "tom      0.0   0.0   0.0    0.0   0.0   0.0   0.0    0.0  95.0   6.0  18.0   \n",
      "ai       0.0   0.0   0.0    0.0   0.0   0.0   0.0    0.0   5.0  14.0  72.0   \n",
      "\n",
      "        hindi  \n",
      "Ravi      0.0  \n",
      "Shyam     0.0  \n",
      "Saurav    0.0  \n",
      "Abhi      0.0  \n",
      "aman      0.0  \n",
      "amit      0.0  \n",
      "rahul     0.0  \n",
      "ravi      0.0  \n",
      "akash    66.0  \n",
      "ankit    71.0  \n",
      "tom       5.0  \n",
      "ai       46.0  \n"
     ]
    }
   ],
   "source": [
    "all_student_marks.fillna(value=0,inplace=True)\n",
    "print(all_student_marks)"
   ]
  },
  {
   "cell_type": "markdown",
   "id": "2868e489-93c9-4a86-9aa4-8aef5bb153a9",
   "metadata": {},
   "source": [
    "# merge\n"
   ]
  },
  {
   "cell_type": "code",
   "execution_count": 5,
   "id": "fe303324-ad90-461f-8883-627c4b748732",
   "metadata": {},
   "outputs": [],
   "source": [
    "import pandas as pd\n",
    "student_id_name=pd.DataFrame({'ID':[25823,3045,3596,4022,4511,5023,5455],\n",
    "                            'Name':['aman','abhi','rock','harry','tom','Pogba','jerry']})"
   ]
  },
  {
   "cell_type": "code",
   "execution_count": 119,
   "id": "b8573f30-5cba-45fe-89bb-295a7049294e",
   "metadata": {},
   "outputs": [
    {
     "data": {
      "text/html": [
       "<div>\n",
       "<style scoped>\n",
       "    .dataframe tbody tr th:only-of-type {\n",
       "        vertical-align: middle;\n",
       "    }\n",
       "\n",
       "    .dataframe tbody tr th {\n",
       "        vertical-align: top;\n",
       "    }\n",
       "\n",
       "    .dataframe thead th {\n",
       "        text-align: right;\n",
       "    }\n",
       "</style>\n",
       "<table border=\"1\" class=\"dataframe\">\n",
       "  <thead>\n",
       "    <tr style=\"text-align: right;\">\n",
       "      <th></th>\n",
       "      <th>ID</th>\n",
       "      <th>Name</th>\n",
       "    </tr>\n",
       "  </thead>\n",
       "  <tbody>\n",
       "    <tr>\n",
       "      <th>0</th>\n",
       "      <td>25823</td>\n",
       "      <td>aman</td>\n",
       "    </tr>\n",
       "    <tr>\n",
       "      <th>1</th>\n",
       "      <td>3045</td>\n",
       "      <td>abhi</td>\n",
       "    </tr>\n",
       "    <tr>\n",
       "      <th>2</th>\n",
       "      <td>3596</td>\n",
       "      <td>rock</td>\n",
       "    </tr>\n",
       "    <tr>\n",
       "      <th>3</th>\n",
       "      <td>4022</td>\n",
       "      <td>harry</td>\n",
       "    </tr>\n",
       "    <tr>\n",
       "      <th>4</th>\n",
       "      <td>4511</td>\n",
       "      <td>tom</td>\n",
       "    </tr>\n",
       "    <tr>\n",
       "      <th>5</th>\n",
       "      <td>5023</td>\n",
       "      <td>Pogba</td>\n",
       "    </tr>\n",
       "    <tr>\n",
       "      <th>6</th>\n",
       "      <td>5455</td>\n",
       "      <td>jerry</td>\n",
       "    </tr>\n",
       "  </tbody>\n",
       "</table>\n",
       "</div>"
      ],
      "text/plain": [
       "      ID   Name\n",
       "0  25823   aman\n",
       "1   3045   abhi\n",
       "2   3596   rock\n",
       "3   4022  harry\n",
       "4   4511    tom\n",
       "5   5023  Pogba\n",
       "6   5455  jerry"
      ]
     },
     "execution_count": 119,
     "metadata": {},
     "output_type": "execute_result"
    }
   ],
   "source": [
    "student_id_name"
   ]
  },
  {
   "cell_type": "code",
   "execution_count": 6,
   "id": "1621f3fc-f90e-463d-a5e7-e493a9185404",
   "metadata": {},
   "outputs": [
    {
     "name": "stdout",
     "output_type": "stream",
     "text": [
      " student details are \t ------------------\n"
     ]
    },
    {
     "data": {
      "text/html": [
       "<div>\n",
       "<style scoped>\n",
       "    .dataframe tbody tr th:only-of-type {\n",
       "        vertical-align: middle;\n",
       "    }\n",
       "\n",
       "    .dataframe tbody tr th {\n",
       "        vertical-align: top;\n",
       "    }\n",
       "\n",
       "    .dataframe thead th {\n",
       "        text-align: right;\n",
       "    }\n",
       "</style>\n",
       "<table border=\"1\" class=\"dataframe\">\n",
       "  <thead>\n",
       "    <tr style=\"text-align: right;\">\n",
       "      <th></th>\n",
       "      <th>ID</th>\n",
       "      <th>Name</th>\n",
       "    </tr>\n",
       "  </thead>\n",
       "  <tbody>\n",
       "    <tr>\n",
       "      <th>0</th>\n",
       "      <td>25823</td>\n",
       "      <td>aman</td>\n",
       "    </tr>\n",
       "    <tr>\n",
       "      <th>1</th>\n",
       "      <td>3045</td>\n",
       "      <td>abhi</td>\n",
       "    </tr>\n",
       "    <tr>\n",
       "      <th>2</th>\n",
       "      <td>3596</td>\n",
       "      <td>rock</td>\n",
       "    </tr>\n",
       "    <tr>\n",
       "      <th>3</th>\n",
       "      <td>4022</td>\n",
       "      <td>harry</td>\n",
       "    </tr>\n",
       "    <tr>\n",
       "      <th>4</th>\n",
       "      <td>4511</td>\n",
       "      <td>tom</td>\n",
       "    </tr>\n",
       "    <tr>\n",
       "      <th>5</th>\n",
       "      <td>5023</td>\n",
       "      <td>Pogba</td>\n",
       "    </tr>\n",
       "    <tr>\n",
       "      <th>6</th>\n",
       "      <td>5455</td>\n",
       "      <td>jerry</td>\n",
       "    </tr>\n",
       "  </tbody>\n",
       "</table>\n",
       "</div>"
      ],
      "text/plain": [
       "      ID   Name\n",
       "0  25823   aman\n",
       "1   3045   abhi\n",
       "2   3596   rock\n",
       "3   4022  harry\n",
       "4   4511    tom\n",
       "5   5023  Pogba\n",
       "6   5455  jerry"
      ]
     },
     "execution_count": 6,
     "metadata": {},
     "output_type": "execute_result"
    }
   ],
   "source": [
    "print(\" student details are \\t ------------------\")\n",
    "student_id_name"
   ]
  },
  {
   "cell_type": "code",
   "execution_count": 11,
   "id": "3889202b-f672-405c-933a-1458469d8d46",
   "metadata": {},
   "outputs": [
    {
     "data": {
      "text/html": [
       "<div>\n",
       "<style scoped>\n",
       "    .dataframe tbody tr th:only-of-type {\n",
       "        vertical-align: middle;\n",
       "    }\n",
       "\n",
       "    .dataframe tbody tr th {\n",
       "        vertical-align: top;\n",
       "    }\n",
       "\n",
       "    .dataframe thead th {\n",
       "        text-align: right;\n",
       "    }\n",
       "</style>\n",
       "<table border=\"1\" class=\"dataframe\">\n",
       "  <thead>\n",
       "    <tr style=\"text-align: right;\">\n",
       "      <th></th>\n",
       "      <th>id</th>\n",
       "      <th>season</th>\n",
       "      <th>city</th>\n",
       "      <th>date</th>\n",
       "      <th>team1</th>\n",
       "      <th>team2</th>\n",
       "      <th>toss_winner</th>\n",
       "      <th>toss_decision</th>\n",
       "      <th>result</th>\n",
       "      <th>dl_applied</th>\n",
       "      <th>winner</th>\n",
       "      <th>win_by_runs</th>\n",
       "      <th>win_by_wickets</th>\n",
       "      <th>player_of_match</th>\n",
       "      <th>venue</th>\n",
       "      <th>umpire1</th>\n",
       "      <th>umpire2</th>\n",
       "      <th>umpire3</th>\n",
       "    </tr>\n",
       "  </thead>\n",
       "  <tbody>\n",
       "    <tr>\n",
       "      <th>0</th>\n",
       "      <td>1</td>\n",
       "      <td>2017</td>\n",
       "      <td>Hyderabad</td>\n",
       "      <td>05/04/17</td>\n",
       "      <td>Sunrisers Hyderabad</td>\n",
       "      <td>Royal Challengers Bangalore</td>\n",
       "      <td>Royal Challengers Bangalore</td>\n",
       "      <td>field</td>\n",
       "      <td>normal</td>\n",
       "      <td>0</td>\n",
       "      <td>Sunrisers Hyderabad</td>\n",
       "      <td>35</td>\n",
       "      <td>0</td>\n",
       "      <td>Yuvraj Singh</td>\n",
       "      <td>Rajiv Gandhi International Stadium, Uppal</td>\n",
       "      <td>AY Dandekar</td>\n",
       "      <td>NJ Llong</td>\n",
       "      <td>NaN</td>\n",
       "    </tr>\n",
       "    <tr>\n",
       "      <th>1</th>\n",
       "      <td>2</td>\n",
       "      <td>2017</td>\n",
       "      <td>Pune</td>\n",
       "      <td>06/04/17</td>\n",
       "      <td>Mumbai Indians</td>\n",
       "      <td>Rising Pune Supergiant</td>\n",
       "      <td>Rising Pune Supergiant</td>\n",
       "      <td>field</td>\n",
       "      <td>normal</td>\n",
       "      <td>0</td>\n",
       "      <td>Rising Pune Supergiant</td>\n",
       "      <td>0</td>\n",
       "      <td>7</td>\n",
       "      <td>SPD Smith</td>\n",
       "      <td>Maharashtra Cricket Association Stadium</td>\n",
       "      <td>A Nand Kishore</td>\n",
       "      <td>S Ravi</td>\n",
       "      <td>NaN</td>\n",
       "    </tr>\n",
       "    <tr>\n",
       "      <th>2</th>\n",
       "      <td>3</td>\n",
       "      <td>2017</td>\n",
       "      <td>Rajkot</td>\n",
       "      <td>07/04/17</td>\n",
       "      <td>Gujarat Lions</td>\n",
       "      <td>Kolkata Knight Riders</td>\n",
       "      <td>Kolkata Knight Riders</td>\n",
       "      <td>field</td>\n",
       "      <td>normal</td>\n",
       "      <td>0</td>\n",
       "      <td>Kolkata Knight Riders</td>\n",
       "      <td>0</td>\n",
       "      <td>10</td>\n",
       "      <td>CA Lynn</td>\n",
       "      <td>Saurashtra Cricket Association Stadium</td>\n",
       "      <td>Nitin Menon</td>\n",
       "      <td>CK Nandan</td>\n",
       "      <td>NaN</td>\n",
       "    </tr>\n",
       "    <tr>\n",
       "      <th>3</th>\n",
       "      <td>4</td>\n",
       "      <td>2017</td>\n",
       "      <td>Indore</td>\n",
       "      <td>08/04/17</td>\n",
       "      <td>Rising Pune Supergiant</td>\n",
       "      <td>Kings XI Punjab</td>\n",
       "      <td>Kings XI Punjab</td>\n",
       "      <td>field</td>\n",
       "      <td>normal</td>\n",
       "      <td>0</td>\n",
       "      <td>Kings XI Punjab</td>\n",
       "      <td>0</td>\n",
       "      <td>6</td>\n",
       "      <td>GJ Maxwell</td>\n",
       "      <td>Holkar Cricket Stadium</td>\n",
       "      <td>AK Chaudhary</td>\n",
       "      <td>C Shamshuddin</td>\n",
       "      <td>NaN</td>\n",
       "    </tr>\n",
       "    <tr>\n",
       "      <th>4</th>\n",
       "      <td>5</td>\n",
       "      <td>2017</td>\n",
       "      <td>Bangalore</td>\n",
       "      <td>08/04/17</td>\n",
       "      <td>Royal Challengers Bangalore</td>\n",
       "      <td>Delhi Daredevils</td>\n",
       "      <td>Royal Challengers Bangalore</td>\n",
       "      <td>bat</td>\n",
       "      <td>normal</td>\n",
       "      <td>0</td>\n",
       "      <td>Royal Challengers Bangalore</td>\n",
       "      <td>15</td>\n",
       "      <td>0</td>\n",
       "      <td>KM Jadhav</td>\n",
       "      <td>M Chinnaswamy Stadium</td>\n",
       "      <td>NaN</td>\n",
       "      <td>NaN</td>\n",
       "      <td>NaN</td>\n",
       "    </tr>\n",
       "    <tr>\n",
       "      <th>...</th>\n",
       "      <td>...</td>\n",
       "      <td>...</td>\n",
       "      <td>...</td>\n",
       "      <td>...</td>\n",
       "      <td>...</td>\n",
       "      <td>...</td>\n",
       "      <td>...</td>\n",
       "      <td>...</td>\n",
       "      <td>...</td>\n",
       "      <td>...</td>\n",
       "      <td>...</td>\n",
       "      <td>...</td>\n",
       "      <td>...</td>\n",
       "      <td>...</td>\n",
       "      <td>...</td>\n",
       "      <td>...</td>\n",
       "      <td>...</td>\n",
       "      <td>...</td>\n",
       "    </tr>\n",
       "    <tr>\n",
       "      <th>631</th>\n",
       "      <td>632</td>\n",
       "      <td>2016</td>\n",
       "      <td>Raipur</td>\n",
       "      <td>22/05/16</td>\n",
       "      <td>Delhi Daredevils</td>\n",
       "      <td>Royal Challengers Bangalore</td>\n",
       "      <td>Royal Challengers Bangalore</td>\n",
       "      <td>field</td>\n",
       "      <td>normal</td>\n",
       "      <td>0</td>\n",
       "      <td>Royal Challengers Bangalore</td>\n",
       "      <td>0</td>\n",
       "      <td>6</td>\n",
       "      <td>V Kohli</td>\n",
       "      <td>Shaheed Veer Narayan Singh International Stadium</td>\n",
       "      <td>A Nand Kishore</td>\n",
       "      <td>BNJ Oxenford</td>\n",
       "      <td>NaN</td>\n",
       "    </tr>\n",
       "    <tr>\n",
       "      <th>632</th>\n",
       "      <td>633</td>\n",
       "      <td>2016</td>\n",
       "      <td>Bangalore</td>\n",
       "      <td>24/05/16</td>\n",
       "      <td>Gujarat Lions</td>\n",
       "      <td>Royal Challengers Bangalore</td>\n",
       "      <td>Royal Challengers Bangalore</td>\n",
       "      <td>field</td>\n",
       "      <td>normal</td>\n",
       "      <td>0</td>\n",
       "      <td>Royal Challengers Bangalore</td>\n",
       "      <td>0</td>\n",
       "      <td>4</td>\n",
       "      <td>AB de Villiers</td>\n",
       "      <td>M Chinnaswamy Stadium</td>\n",
       "      <td>AK Chaudhary</td>\n",
       "      <td>HDPK Dharmasena</td>\n",
       "      <td>NaN</td>\n",
       "    </tr>\n",
       "    <tr>\n",
       "      <th>633</th>\n",
       "      <td>634</td>\n",
       "      <td>2016</td>\n",
       "      <td>Delhi</td>\n",
       "      <td>25/05/16</td>\n",
       "      <td>Sunrisers Hyderabad</td>\n",
       "      <td>Kolkata Knight Riders</td>\n",
       "      <td>Kolkata Knight Riders</td>\n",
       "      <td>field</td>\n",
       "      <td>normal</td>\n",
       "      <td>0</td>\n",
       "      <td>Sunrisers Hyderabad</td>\n",
       "      <td>22</td>\n",
       "      <td>0</td>\n",
       "      <td>MC Henriques</td>\n",
       "      <td>Feroz Shah Kotla</td>\n",
       "      <td>M Erasmus</td>\n",
       "      <td>C Shamshuddin</td>\n",
       "      <td>NaN</td>\n",
       "    </tr>\n",
       "    <tr>\n",
       "      <th>634</th>\n",
       "      <td>635</td>\n",
       "      <td>2016</td>\n",
       "      <td>Delhi</td>\n",
       "      <td>27/05/16</td>\n",
       "      <td>Gujarat Lions</td>\n",
       "      <td>Sunrisers Hyderabad</td>\n",
       "      <td>Sunrisers Hyderabad</td>\n",
       "      <td>field</td>\n",
       "      <td>normal</td>\n",
       "      <td>0</td>\n",
       "      <td>Sunrisers Hyderabad</td>\n",
       "      <td>0</td>\n",
       "      <td>4</td>\n",
       "      <td>DA Warner</td>\n",
       "      <td>Feroz Shah Kotla</td>\n",
       "      <td>M Erasmus</td>\n",
       "      <td>CK Nandan</td>\n",
       "      <td>NaN</td>\n",
       "    </tr>\n",
       "    <tr>\n",
       "      <th>635</th>\n",
       "      <td>636</td>\n",
       "      <td>2016</td>\n",
       "      <td>Bangalore</td>\n",
       "      <td>29/05/16</td>\n",
       "      <td>Sunrisers Hyderabad</td>\n",
       "      <td>Royal Challengers Bangalore</td>\n",
       "      <td>Sunrisers Hyderabad</td>\n",
       "      <td>bat</td>\n",
       "      <td>normal</td>\n",
       "      <td>0</td>\n",
       "      <td>Sunrisers Hyderabad</td>\n",
       "      <td>8</td>\n",
       "      <td>0</td>\n",
       "      <td>BCJ Cutting</td>\n",
       "      <td>M Chinnaswamy Stadium</td>\n",
       "      <td>HDPK Dharmasena</td>\n",
       "      <td>BNJ Oxenford</td>\n",
       "      <td>NaN</td>\n",
       "    </tr>\n",
       "  </tbody>\n",
       "</table>\n",
       "<p>636 rows × 18 columns</p>\n",
       "</div>"
      ],
      "text/plain": [
       "      id  season       city      date                        team1  \\\n",
       "0      1    2017  Hyderabad  05/04/17          Sunrisers Hyderabad   \n",
       "1      2    2017       Pune  06/04/17               Mumbai Indians   \n",
       "2      3    2017     Rajkot  07/04/17                Gujarat Lions   \n",
       "3      4    2017     Indore  08/04/17       Rising Pune Supergiant   \n",
       "4      5    2017  Bangalore  08/04/17  Royal Challengers Bangalore   \n",
       "..   ...     ...        ...       ...                          ...   \n",
       "631  632    2016     Raipur  22/05/16             Delhi Daredevils   \n",
       "632  633    2016  Bangalore  24/05/16                Gujarat Lions   \n",
       "633  634    2016      Delhi  25/05/16          Sunrisers Hyderabad   \n",
       "634  635    2016      Delhi  27/05/16                Gujarat Lions   \n",
       "635  636    2016  Bangalore  29/05/16          Sunrisers Hyderabad   \n",
       "\n",
       "                           team2                  toss_winner toss_decision  \\\n",
       "0    Royal Challengers Bangalore  Royal Challengers Bangalore         field   \n",
       "1         Rising Pune Supergiant       Rising Pune Supergiant         field   \n",
       "2          Kolkata Knight Riders        Kolkata Knight Riders         field   \n",
       "3                Kings XI Punjab              Kings XI Punjab         field   \n",
       "4               Delhi Daredevils  Royal Challengers Bangalore           bat   \n",
       "..                           ...                          ...           ...   \n",
       "631  Royal Challengers Bangalore  Royal Challengers Bangalore         field   \n",
       "632  Royal Challengers Bangalore  Royal Challengers Bangalore         field   \n",
       "633        Kolkata Knight Riders        Kolkata Knight Riders         field   \n",
       "634          Sunrisers Hyderabad          Sunrisers Hyderabad         field   \n",
       "635  Royal Challengers Bangalore          Sunrisers Hyderabad           bat   \n",
       "\n",
       "     result  dl_applied                       winner  win_by_runs  \\\n",
       "0    normal           0          Sunrisers Hyderabad           35   \n",
       "1    normal           0       Rising Pune Supergiant            0   \n",
       "2    normal           0        Kolkata Knight Riders            0   \n",
       "3    normal           0              Kings XI Punjab            0   \n",
       "4    normal           0  Royal Challengers Bangalore           15   \n",
       "..      ...         ...                          ...          ...   \n",
       "631  normal           0  Royal Challengers Bangalore            0   \n",
       "632  normal           0  Royal Challengers Bangalore            0   \n",
       "633  normal           0          Sunrisers Hyderabad           22   \n",
       "634  normal           0          Sunrisers Hyderabad            0   \n",
       "635  normal           0          Sunrisers Hyderabad            8   \n",
       "\n",
       "     win_by_wickets player_of_match  \\\n",
       "0                 0    Yuvraj Singh   \n",
       "1                 7       SPD Smith   \n",
       "2                10         CA Lynn   \n",
       "3                 6      GJ Maxwell   \n",
       "4                 0       KM Jadhav   \n",
       "..              ...             ...   \n",
       "631               6         V Kohli   \n",
       "632               4  AB de Villiers   \n",
       "633               0    MC Henriques   \n",
       "634               4       DA Warner   \n",
       "635               0     BCJ Cutting   \n",
       "\n",
       "                                                venue          umpire1  \\\n",
       "0           Rajiv Gandhi International Stadium, Uppal      AY Dandekar   \n",
       "1             Maharashtra Cricket Association Stadium   A Nand Kishore   \n",
       "2              Saurashtra Cricket Association Stadium      Nitin Menon   \n",
       "3                              Holkar Cricket Stadium     AK Chaudhary   \n",
       "4                               M Chinnaswamy Stadium              NaN   \n",
       "..                                                ...              ...   \n",
       "631  Shaheed Veer Narayan Singh International Stadium   A Nand Kishore   \n",
       "632                             M Chinnaswamy Stadium     AK Chaudhary   \n",
       "633                                  Feroz Shah Kotla        M Erasmus   \n",
       "634                                  Feroz Shah Kotla        M Erasmus   \n",
       "635                             M Chinnaswamy Stadium  HDPK Dharmasena   \n",
       "\n",
       "             umpire2  umpire3  \n",
       "0           NJ Llong      NaN  \n",
       "1             S Ravi      NaN  \n",
       "2          CK Nandan      NaN  \n",
       "3      C Shamshuddin      NaN  \n",
       "4                NaN      NaN  \n",
       "..               ...      ...  \n",
       "631     BNJ Oxenford      NaN  \n",
       "632  HDPK Dharmasena      NaN  \n",
       "633    C Shamshuddin      NaN  \n",
       "634        CK Nandan      NaN  \n",
       "635     BNJ Oxenford      NaN  \n",
       "\n",
       "[636 rows x 18 columns]"
      ]
     },
     "execution_count": 11,
     "metadata": {},
     "output_type": "execute_result"
    }
   ],
   "source": [
    "import pandas as pd\n",
    "dt = pd.read_csv(\"matches.csv\")\n",
    "dt"
   ]
  },
  {
   "cell_type": "markdown",
   "id": "a3692780-a673-4ece-9fe7-4ce05e7326a4",
   "metadata": {},
   "source": [
    "# print starting 20 rows"
   ]
  },
  {
   "cell_type": "code",
   "execution_count": 12,
   "id": "178f5f84-9294-4fc8-86be-bd0353812d85",
   "metadata": {},
   "outputs": [
    {
     "name": "stdout",
     "output_type": "stream",
     "text": [
      "    id  season       city      date                        team1  \\\n",
      "0    1    2017  Hyderabad  05/04/17          Sunrisers Hyderabad   \n",
      "1    2    2017       Pune  06/04/17               Mumbai Indians   \n",
      "2    3    2017     Rajkot  07/04/17                Gujarat Lions   \n",
      "3    4    2017     Indore  08/04/17       Rising Pune Supergiant   \n",
      "4    5    2017  Bangalore  08/04/17  Royal Challengers Bangalore   \n",
      "5    6    2017  Hyderabad  09/04/17                Gujarat Lions   \n",
      "6    7    2017     Mumbai  09/04/17        Kolkata Knight Riders   \n",
      "7    8    2017     Indore  10/04/17  Royal Challengers Bangalore   \n",
      "8    9    2017       Pune  11/04/17             Delhi Daredevils   \n",
      "9   10    2017     Mumbai  12/04/17          Sunrisers Hyderabad   \n",
      "10  11    2017    Kolkata  13/04/17              Kings XI Punjab   \n",
      "11  12    2017  Bangalore  14/04/17  Royal Challengers Bangalore   \n",
      "12  13    2017     Rajkot  14/04/17       Rising Pune Supergiant   \n",
      "13  14    2017    Kolkata  15/04/17        Kolkata Knight Riders   \n",
      "14  15    2017      Delhi  15/04/17             Delhi Daredevils   \n",
      "15  16    2017     Mumbai  16/04/17                Gujarat Lions   \n",
      "16  17    2017  Bangalore  16/04/17       Rising Pune Supergiant   \n",
      "17  18    2017      Delhi  17/04/17             Delhi Daredevils   \n",
      "18  19    2017  Hyderabad  17/04/17          Sunrisers Hyderabad   \n",
      "19  20    2017     Rajkot  18/04/17  Royal Challengers Bangalore   \n",
      "\n",
      "                          team2                  toss_winner toss_decision  \\\n",
      "0   Royal Challengers Bangalore  Royal Challengers Bangalore         field   \n",
      "1        Rising Pune Supergiant       Rising Pune Supergiant         field   \n",
      "2         Kolkata Knight Riders        Kolkata Knight Riders         field   \n",
      "3               Kings XI Punjab              Kings XI Punjab         field   \n",
      "4              Delhi Daredevils  Royal Challengers Bangalore           bat   \n",
      "5           Sunrisers Hyderabad          Sunrisers Hyderabad         field   \n",
      "6                Mumbai Indians               Mumbai Indians         field   \n",
      "7               Kings XI Punjab  Royal Challengers Bangalore           bat   \n",
      "8        Rising Pune Supergiant       Rising Pune Supergiant         field   \n",
      "9                Mumbai Indians               Mumbai Indians         field   \n",
      "10        Kolkata Knight Riders        Kolkata Knight Riders         field   \n",
      "11               Mumbai Indians               Mumbai Indians         field   \n",
      "12                Gujarat Lions                Gujarat Lions         field   \n",
      "13          Sunrisers Hyderabad          Sunrisers Hyderabad         field   \n",
      "14              Kings XI Punjab             Delhi Daredevils           bat   \n",
      "15               Mumbai Indians               Mumbai Indians         field   \n",
      "16  Royal Challengers Bangalore  Royal Challengers Bangalore         field   \n",
      "17        Kolkata Knight Riders             Delhi Daredevils           bat   \n",
      "18              Kings XI Punjab              Kings XI Punjab         field   \n",
      "19                Gujarat Lions                Gujarat Lions         field   \n",
      "\n",
      "    result  dl_applied                       winner  win_by_runs  \\\n",
      "0   normal           0          Sunrisers Hyderabad           35   \n",
      "1   normal           0       Rising Pune Supergiant            0   \n",
      "2   normal           0        Kolkata Knight Riders            0   \n",
      "3   normal           0              Kings XI Punjab            0   \n",
      "4   normal           0  Royal Challengers Bangalore           15   \n",
      "5   normal           0          Sunrisers Hyderabad            0   \n",
      "6   normal           0               Mumbai Indians            0   \n",
      "7   normal           0              Kings XI Punjab            0   \n",
      "8   normal           0             Delhi Daredevils           97   \n",
      "9   normal           0               Mumbai Indians            0   \n",
      "10  normal           0        Kolkata Knight Riders            0   \n",
      "11  normal           0               Mumbai Indians            0   \n",
      "12  normal           0                Gujarat Lions            0   \n",
      "13  normal           0        Kolkata Knight Riders           17   \n",
      "14  normal           0             Delhi Daredevils           51   \n",
      "15  normal           0               Mumbai Indians            0   \n",
      "16  normal           0       Rising Pune Supergiant           27   \n",
      "17  normal           0        Kolkata Knight Riders            0   \n",
      "18  normal           0          Sunrisers Hyderabad            5   \n",
      "19  normal           0  Royal Challengers Bangalore           21   \n",
      "\n",
      "    win_by_wickets  player_of_match  \\\n",
      "0                0     Yuvraj Singh   \n",
      "1                7        SPD Smith   \n",
      "2               10          CA Lynn   \n",
      "3                6       GJ Maxwell   \n",
      "4                0        KM Jadhav   \n",
      "5                9      Rashid Khan   \n",
      "6                4           N Rana   \n",
      "7                8         AR Patel   \n",
      "8                0        SV Samson   \n",
      "9                4        JJ Bumrah   \n",
      "10               8        SP Narine   \n",
      "11               4       KA Pollard   \n",
      "12               7           AJ Tye   \n",
      "13               0       RV Uthappa   \n",
      "14               0      CJ Anderson   \n",
      "15               6           N Rana   \n",
      "16               0        BA Stokes   \n",
      "17               4  NM Coulter-Nile   \n",
      "18               0          B Kumar   \n",
      "19               0         CH Gayle   \n",
      "\n",
      "                                        venue                umpire1  \\\n",
      "0   Rajiv Gandhi International Stadium, Uppal            AY Dandekar   \n",
      "1     Maharashtra Cricket Association Stadium         A Nand Kishore   \n",
      "2      Saurashtra Cricket Association Stadium            Nitin Menon   \n",
      "3                      Holkar Cricket Stadium           AK Chaudhary   \n",
      "4                       M Chinnaswamy Stadium                    NaN   \n",
      "5   Rajiv Gandhi International Stadium, Uppal             A Deshmukh   \n",
      "6                            Wankhede Stadium            Nitin Menon   \n",
      "7                      Holkar Cricket Stadium           AK Chaudhary   \n",
      "8     Maharashtra Cricket Association Stadium            AY Dandekar   \n",
      "9                            Wankhede Stadium            Nitin Menon   \n",
      "10                               Eden Gardens             A Deshmukh   \n",
      "11                      M Chinnaswamy Stadium  KN Ananthapadmanabhan   \n",
      "12     Saurashtra Cricket Association Stadium         A Nand Kishore   \n",
      "13                               Eden Gardens            AY Dandekar   \n",
      "14                           Feroz Shah Kotla               YC Barde   \n",
      "15                           Wankhede Stadium         A Nand Kishore   \n",
      "16                      M Chinnaswamy Stadium  KN Ananthapadmanabhan   \n",
      "17                           Feroz Shah Kotla            Nitin Menon   \n",
      "18  Rajiv Gandhi International Stadium, Uppal            AY Dandekar   \n",
      "19     Saurashtra Cricket Association Stadium                 S Ravi   \n",
      "\n",
      "          umpire2  umpire3  \n",
      "0        NJ Llong      NaN  \n",
      "1          S Ravi      NaN  \n",
      "2       CK Nandan      NaN  \n",
      "3   C Shamshuddin      NaN  \n",
      "4             NaN      NaN  \n",
      "5        NJ Llong      NaN  \n",
      "6       CK Nandan      NaN  \n",
      "7   C Shamshuddin      NaN  \n",
      "8          S Ravi      NaN  \n",
      "9       CK Nandan      NaN  \n",
      "10       NJ Llong      NaN  \n",
      "11   AK Chaudhary      NaN  \n",
      "12         S Ravi      NaN  \n",
      "13       NJ Llong      NaN  \n",
      "14    Nitin Menon      NaN  \n",
      "15         S Ravi      NaN  \n",
      "16  C Shamshuddin      NaN  \n",
      "17      CK Nandan      NaN  \n",
      "18     A Deshmukh      NaN  \n",
      "19      VK Sharma      NaN  \n"
     ]
    }
   ],
   "source": [
    "print(dt.head(20))"
   ]
  },
  {
   "cell_type": "markdown",
   "id": "5d47f0ff-aa66-41fe-99c9-668a032f7960",
   "metadata": {},
   "source": [
    "# print last 10 rows"
   ]
  },
  {
   "cell_type": "code",
   "execution_count": 13,
   "id": "e69d6c44-ffb2-4af9-aeb2-e9d95c1c3c85",
   "metadata": {},
   "outputs": [
    {
     "name": "stdout",
     "output_type": "stream",
     "text": [
      "      id  season           city      date                  team1  \\\n",
      "626  627    2016         Kanpur  19/05/16  Kolkata Knight Riders   \n",
      "627  628    2016         Raipur  20/05/16    Sunrisers Hyderabad   \n",
      "628  629    2016  Visakhapatnam  21/05/16        Kings XI Punjab   \n",
      "629  630    2016         Kanpur  21/05/16         Mumbai Indians   \n",
      "630  631    2016        Kolkata  22/05/16  Kolkata Knight Riders   \n",
      "631  632    2016         Raipur  22/05/16       Delhi Daredevils   \n",
      "632  633    2016      Bangalore  24/05/16          Gujarat Lions   \n",
      "633  634    2016          Delhi  25/05/16    Sunrisers Hyderabad   \n",
      "634  635    2016          Delhi  27/05/16          Gujarat Lions   \n",
      "635  636    2016      Bangalore  29/05/16    Sunrisers Hyderabad   \n",
      "\n",
      "                           team2                  toss_winner toss_decision  \\\n",
      "626                Gujarat Lions                Gujarat Lions         field   \n",
      "627             Delhi Daredevils             Delhi Daredevils         field   \n",
      "628      Rising Pune Supergiants              Kings XI Punjab           bat   \n",
      "629                Gujarat Lions                Gujarat Lions         field   \n",
      "630          Sunrisers Hyderabad          Sunrisers Hyderabad         field   \n",
      "631  Royal Challengers Bangalore  Royal Challengers Bangalore         field   \n",
      "632  Royal Challengers Bangalore  Royal Challengers Bangalore         field   \n",
      "633        Kolkata Knight Riders        Kolkata Knight Riders         field   \n",
      "634          Sunrisers Hyderabad          Sunrisers Hyderabad         field   \n",
      "635  Royal Challengers Bangalore          Sunrisers Hyderabad           bat   \n",
      "\n",
      "     result  dl_applied                       winner  win_by_runs  \\\n",
      "626  normal           0                Gujarat Lions            0   \n",
      "627  normal           0             Delhi Daredevils            0   \n",
      "628  normal           0      Rising Pune Supergiants            0   \n",
      "629  normal           0                Gujarat Lions            0   \n",
      "630  normal           0        Kolkata Knight Riders           22   \n",
      "631  normal           0  Royal Challengers Bangalore            0   \n",
      "632  normal           0  Royal Challengers Bangalore            0   \n",
      "633  normal           0          Sunrisers Hyderabad           22   \n",
      "634  normal           0          Sunrisers Hyderabad            0   \n",
      "635  normal           0          Sunrisers Hyderabad            8   \n",
      "\n",
      "     win_by_wickets player_of_match  \\\n",
      "626               6        DR Smith   \n",
      "627               6         KK Nair   \n",
      "628               4        MS Dhoni   \n",
      "629               6        SK Raina   \n",
      "630               0       YK Pathan   \n",
      "631               6         V Kohli   \n",
      "632               4  AB de Villiers   \n",
      "633               0    MC Henriques   \n",
      "634               4       DA Warner   \n",
      "635               0     BCJ Cutting   \n",
      "\n",
      "                                                 venue                umpire1  \\\n",
      "626                                         Green Park           AK Chaudhary   \n",
      "627   Shaheed Veer Narayan Singh International Stadium         A Nand Kishore   \n",
      "628  Dr. Y.S. Rajasekhara Reddy ACA-VDCA Cricket St...        HDPK Dharmasena   \n",
      "629                                         Green Park           AK Chaudhary   \n",
      "630                                       Eden Gardens  KN Ananthapadmanabhan   \n",
      "631   Shaheed Veer Narayan Singh International Stadium         A Nand Kishore   \n",
      "632                              M Chinnaswamy Stadium           AK Chaudhary   \n",
      "633                                   Feroz Shah Kotla              M Erasmus   \n",
      "634                                   Feroz Shah Kotla              M Erasmus   \n",
      "635                              M Chinnaswamy Stadium        HDPK Dharmasena   \n",
      "\n",
      "             umpire2  umpire3  \n",
      "626        CK Nandan      NaN  \n",
      "627     BNJ Oxenford      NaN  \n",
      "628      Nitin Menon      NaN  \n",
      "629        CK Nandan      NaN  \n",
      "630        M Erasmus      NaN  \n",
      "631     BNJ Oxenford      NaN  \n",
      "632  HDPK Dharmasena      NaN  \n",
      "633    C Shamshuddin      NaN  \n",
      "634        CK Nandan      NaN  \n",
      "635     BNJ Oxenford      NaN  \n"
     ]
    }
   ],
   "source": [
    "print(dt.tail(10))"
   ]
  },
  {
   "cell_type": "code",
   "execution_count": 1,
   "id": "3ff9349a-e57d-4dd0-98dc-79b1ebd46dd5",
   "metadata": {},
   "outputs": [],
   "source": [
    "# join"
   ]
  },
  {
   "cell_type": "code",
   "execution_count": 2,
   "id": "bb6aa150-1f24-41a0-babf-3f086a84ecad",
   "metadata": {},
   "outputs": [],
   "source": [
    "#Join Operator"
   ]
  },
  {
   "cell_type": "code",
   "execution_count": 5,
   "id": "9092cc0a-1ac4-4cd1-a29d-faf042be555c",
   "metadata": {},
   "outputs": [],
   "source": [
    "import pandas as pd\n",
    "left=pd.DataFrame({'A':['A0','A1','A2'],\n",
    "                  'B':['B0','B1','B2']},\n",
    "                 index=['K0','K1','K2'])"
   ]
  },
  {
   "cell_type": "code",
   "execution_count": 6,
   "id": "829af87e-b2bc-49a6-8acd-748b0ecb471d",
   "metadata": {},
   "outputs": [
    {
     "data": {
      "text/html": [
       "<div>\n",
       "<style scoped>\n",
       "    .dataframe tbody tr th:only-of-type {\n",
       "        vertical-align: middle;\n",
       "    }\n",
       "\n",
       "    .dataframe tbody tr th {\n",
       "        vertical-align: top;\n",
       "    }\n",
       "\n",
       "    .dataframe thead th {\n",
       "        text-align: right;\n",
       "    }\n",
       "</style>\n",
       "<table border=\"1\" class=\"dataframe\">\n",
       "  <thead>\n",
       "    <tr style=\"text-align: right;\">\n",
       "      <th></th>\n",
       "      <th>A</th>\n",
       "      <th>B</th>\n",
       "    </tr>\n",
       "  </thead>\n",
       "  <tbody>\n",
       "    <tr>\n",
       "      <th>K0</th>\n",
       "      <td>A0</td>\n",
       "      <td>B0</td>\n",
       "    </tr>\n",
       "    <tr>\n",
       "      <th>K1</th>\n",
       "      <td>A1</td>\n",
       "      <td>B1</td>\n",
       "    </tr>\n",
       "    <tr>\n",
       "      <th>K2</th>\n",
       "      <td>A2</td>\n",
       "      <td>B2</td>\n",
       "    </tr>\n",
       "  </tbody>\n",
       "</table>\n",
       "</div>"
      ],
      "text/plain": [
       "     A   B\n",
       "K0  A0  B0\n",
       "K1  A1  B1\n",
       "K2  A2  B2"
      ]
     },
     "execution_count": 6,
     "metadata": {},
     "output_type": "execute_result"
    }
   ],
   "source": [
    "left"
   ]
  },
  {
   "cell_type": "code",
   "execution_count": 7,
   "id": "593643bb-24eb-479d-a09e-244c7101395e",
   "metadata": {},
   "outputs": [],
   "source": [
    "right=pd.DataFrame({'C':['C0','C2','C3'],\n",
    "                   'D':['D0','D2','D3']},\n",
    "                  index=['K0','K2','K3'])"
   ]
  },
  {
   "cell_type": "code",
   "execution_count": 8,
   "id": "6574bf9c-3469-4e63-9fdb-fa9ce23c42f9",
   "metadata": {},
   "outputs": [
    {
     "data": {
      "text/html": [
       "<div>\n",
       "<style scoped>\n",
       "    .dataframe tbody tr th:only-of-type {\n",
       "        vertical-align: middle;\n",
       "    }\n",
       "\n",
       "    .dataframe tbody tr th {\n",
       "        vertical-align: top;\n",
       "    }\n",
       "\n",
       "    .dataframe thead th {\n",
       "        text-align: right;\n",
       "    }\n",
       "</style>\n",
       "<table border=\"1\" class=\"dataframe\">\n",
       "  <thead>\n",
       "    <tr style=\"text-align: right;\">\n",
       "      <th></th>\n",
       "      <th>C</th>\n",
       "      <th>D</th>\n",
       "    </tr>\n",
       "  </thead>\n",
       "  <tbody>\n",
       "    <tr>\n",
       "      <th>K0</th>\n",
       "      <td>C0</td>\n",
       "      <td>D0</td>\n",
       "    </tr>\n",
       "    <tr>\n",
       "      <th>K2</th>\n",
       "      <td>C2</td>\n",
       "      <td>D2</td>\n",
       "    </tr>\n",
       "    <tr>\n",
       "      <th>K3</th>\n",
       "      <td>C3</td>\n",
       "      <td>D3</td>\n",
       "    </tr>\n",
       "  </tbody>\n",
       "</table>\n",
       "</div>"
      ],
      "text/plain": [
       "     C   D\n",
       "K0  C0  D0\n",
       "K2  C2  D2\n",
       "K3  C3  D3"
      ]
     },
     "execution_count": 8,
     "metadata": {},
     "output_type": "execute_result"
    }
   ],
   "source": [
    "right"
   ]
  },
  {
   "cell_type": "code",
   "execution_count": 9,
   "id": "e507c345-34ee-4121-807d-f46b59caa332",
   "metadata": {},
   "outputs": [
    {
     "data": {
      "text/html": [
       "<div>\n",
       "<style scoped>\n",
       "    .dataframe tbody tr th:only-of-type {\n",
       "        vertical-align: middle;\n",
       "    }\n",
       "\n",
       "    .dataframe tbody tr th {\n",
       "        vertical-align: top;\n",
       "    }\n",
       "\n",
       "    .dataframe thead th {\n",
       "        text-align: right;\n",
       "    }\n",
       "</style>\n",
       "<table border=\"1\" class=\"dataframe\">\n",
       "  <thead>\n",
       "    <tr style=\"text-align: right;\">\n",
       "      <th></th>\n",
       "      <th>A</th>\n",
       "      <th>B</th>\n",
       "      <th>C</th>\n",
       "      <th>D</th>\n",
       "    </tr>\n",
       "  </thead>\n",
       "  <tbody>\n",
       "    <tr>\n",
       "      <th>K0</th>\n",
       "      <td>A0</td>\n",
       "      <td>B0</td>\n",
       "      <td>C0</td>\n",
       "      <td>D0</td>\n",
       "    </tr>\n",
       "    <tr>\n",
       "      <th>K1</th>\n",
       "      <td>A1</td>\n",
       "      <td>B1</td>\n",
       "      <td>NaN</td>\n",
       "      <td>NaN</td>\n",
       "    </tr>\n",
       "    <tr>\n",
       "      <th>K2</th>\n",
       "      <td>A2</td>\n",
       "      <td>B2</td>\n",
       "      <td>C2</td>\n",
       "      <td>D2</td>\n",
       "    </tr>\n",
       "  </tbody>\n",
       "</table>\n",
       "</div>"
      ],
      "text/plain": [
       "     A   B    C    D\n",
       "K0  A0  B0   C0   D0\n",
       "K1  A1  B1  NaN  NaN\n",
       "K2  A2  B2   C2   D2"
      ]
     },
     "execution_count": 9,
     "metadata": {},
     "output_type": "execute_result"
    }
   ],
   "source": [
    "left.join(right)"
   ]
  },
  {
   "cell_type": "code",
   "execution_count": 10,
   "id": "e0fd75c6-0315-4df2-9ac6-294cbd04a5f8",
   "metadata": {},
   "outputs": [
    {
     "data": {
      "text/html": [
       "<div>\n",
       "<style scoped>\n",
       "    .dataframe tbody tr th:only-of-type {\n",
       "        vertical-align: middle;\n",
       "    }\n",
       "\n",
       "    .dataframe tbody tr th {\n",
       "        vertical-align: top;\n",
       "    }\n",
       "\n",
       "    .dataframe thead th {\n",
       "        text-align: right;\n",
       "    }\n",
       "</style>\n",
       "<table border=\"1\" class=\"dataframe\">\n",
       "  <thead>\n",
       "    <tr style=\"text-align: right;\">\n",
       "      <th></th>\n",
       "      <th>A</th>\n",
       "      <th>B</th>\n",
       "      <th>C</th>\n",
       "      <th>D</th>\n",
       "    </tr>\n",
       "  </thead>\n",
       "  <tbody>\n",
       "    <tr>\n",
       "      <th>K0</th>\n",
       "      <td>A0</td>\n",
       "      <td>B0</td>\n",
       "      <td>C0</td>\n",
       "      <td>D0</td>\n",
       "    </tr>\n",
       "    <tr>\n",
       "      <th>K1</th>\n",
       "      <td>A1</td>\n",
       "      <td>B1</td>\n",
       "      <td>NaN</td>\n",
       "      <td>NaN</td>\n",
       "    </tr>\n",
       "    <tr>\n",
       "      <th>K2</th>\n",
       "      <td>A2</td>\n",
       "      <td>B2</td>\n",
       "      <td>C2</td>\n",
       "      <td>D2</td>\n",
       "    </tr>\n",
       "    <tr>\n",
       "      <th>K3</th>\n",
       "      <td>NaN</td>\n",
       "      <td>NaN</td>\n",
       "      <td>C3</td>\n",
       "      <td>D3</td>\n",
       "    </tr>\n",
       "  </tbody>\n",
       "</table>\n",
       "</div>"
      ],
      "text/plain": [
       "      A    B    C    D\n",
       "K0   A0   B0   C0   D0\n",
       "K1   A1   B1  NaN  NaN\n",
       "K2   A2   B2   C2   D2\n",
       "K3  NaN  NaN   C3   D3"
      ]
     },
     "execution_count": 10,
     "metadata": {},
     "output_type": "execute_result"
    }
   ],
   "source": [
    "left.join(right,how='outer')"
   ]
  },
  {
   "cell_type": "code",
   "execution_count": null,
   "id": "a6a9f681-c79d-471f-8779-58810ef30300",
   "metadata": {},
   "outputs": [],
   "source": []
  }
 ],
 "metadata": {
  "kernelspec": {
   "display_name": "Python 3 (ipykernel)",
   "language": "python",
   "name": "python3"
  },
  "language_info": {
   "codemirror_mode": {
    "name": "ipython",
    "version": 3
   },
   "file_extension": ".py",
   "mimetype": "text/x-python",
   "name": "python",
   "nbconvert_exporter": "python",
   "pygments_lexer": "ipython3",
   "version": "3.12.4"
  }
 },
 "nbformat": 4,
 "nbformat_minor": 5
}
