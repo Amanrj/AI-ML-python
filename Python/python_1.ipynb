{
 "cells": [
  {
   "cell_type": "markdown",
   "id": "1f56d5aa-ba69-4685-b2fb-c8200ed3e54c",
   "metadata": {},
   "source": [
    "# Python\n",
    "* Python is a high-level, interpreted programming language known for its simplicity and readability. It was created by Guido van Rossum and first released in 1991. Here are some key features and characteristics of Python:"
   ]
  },
  {
   "cell_type": "markdown",
   "id": "d53ccc1b-9bc9-4907-aaf8-b7edd84046f9",
   "metadata": {},
   "source": [
    "### Easy to Read and Learn:\n",
    "* Python emphasizes readability and simplicity, making it easier to write and understand code."
   ]
  },
  {
   "cell_type": "markdown",
   "id": "7c0d9d53-2933-41a1-8622-4515fe112fb7",
   "metadata": {},
   "source": [
    "### Versatile and Powerful:\n",
    "* Python is a versatile language used for a wide range of applications, including web development, scientific computing, data analysis, artificial intelligence, machine learning, automation, and more."
   ]
  },
  {
   "cell_type": "markdown",
   "id": "101c6e46-8a02-49df-a2ab-a28e46a12d58",
   "metadata": {},
   "source": [
    "### Interpreted and Interactive:\n",
    "* Python code is executed line by line by an interpreter, which allows for quick prototyping and testing."
   ]
  },
  {
   "cell_type": "markdown",
   "id": "946abf6c-2619-46e3-a01b-1582281026fa",
   "metadata": {},
   "source": [
    "### Large Standard Library:\n",
    "* Python comes with a comprehensive standard library that provides modules and functions for many common tasks, eliminating the need to write code from scratch for many functionalities."
   ]
  },
  {
   "cell_type": "markdown",
   "id": "ece435df-3e4c-472c-9467-e76c112d6805",
   "metadata": {},
   "source": [
    "### Dynamic Typing:\n",
    "* Python uses dynamic typing, which means you don't need to declare variable types. This can lead to more flexible and concise code."
   ]
  },
  {
   "cell_type": "markdown",
   "id": "231d9f56-0ea0-4690-ac4a-06564e1574cd",
   "metadata": {},
   "source": [
    "### Community and Ecosystem: \n",
    "* Python has a large and active community of developers who contribute libraries (such as NumPy, Pandas, Django, Flask, TensorFlow) that extend its capabilities."
   ]
  },
  {
   "cell_type": "markdown",
   "id": "4afcfad0-c0c0-41f8-910e-685dcd44a197",
   "metadata": {},
   "source": [
    "### Cross-platform:\n",
    "* Python is available on various platforms (Windows, macOS, Linux) and is widely supported."
   ]
  },
  {
   "cell_type": "markdown",
   "id": "7ae3587f-b5ee-44a6-9b05-70813ba8cdfd",
   "metadata": {},
   "source": [
    "### Popular for Data Science and AI:\r",
    "* Python is widely used in data science and artificial intelligence because it has powerful libraries for data analysis and machine learning. This makes it a top choice for researchers and data analysts.."
   ]
  },
  {
   "cell_type": "raw",
   "id": "cd9172da-f0ca-4932-b8b1-99db24e2342c",
   "metadata": {},
   "source": [
    "#Basics python \n",
    "#lets start with simple expression"
   ]
  },
  {
   "cell_type": "markdown",
   "id": "59a85352-3a54-4259-9cd2-10761df0b9b7",
   "metadata": {},
   "source": [
    "#### What is Keyword- Keyword is are special or reserved word the are recognised by python with some meaning\n"
   ]
  },
  {
   "cell_type": "code",
   "execution_count": 10,
   "id": "fc6501ef-2718-4d38-8757-9721bebe1d20",
   "metadata": {},
   "outputs": [],
   "source": [
    "import keyword"
   ]
  },
  {
   "cell_type": "code",
   "execution_count": 11,
   "id": "597eed4a-13aa-4770-919b-2871e4d10f9a",
   "metadata": {},
   "outputs": [
    {
     "name": "stdout",
     "output_type": "stream",
     "text": [
      "['False', 'None', 'True', 'and', 'as', 'assert', 'async', 'await', 'break', 'class', 'continue', 'def', 'del', 'elif', 'else', 'except', 'finally', 'for', 'from', 'global', 'if', 'import', 'in', 'is', 'lambda', 'nonlocal', 'not', 'or', 'pass', 'raise', 'return', 'try', 'while', 'with', 'yield']\n"
     ]
    }
   ],
   "source": [
    "print(keyword.kwlist)"
   ]
  },
  {
   "cell_type": "markdown",
   "id": "d79fd1a4-f1a0-4e92-8d24-d5ed1e69fd4b",
   "metadata": {},
   "source": [
    "#### Lets start with simple expression\n",
    "### what is boolean expression-Boolean express created with keywords like- and,or,not,True,False\r",
    "#lets se with examples."
   ]
  },
  {
   "cell_type": "code",
   "execution_count": 12,
   "id": "894bc738-d1df-48a0-bb6d-666e87b4b7b9",
   "metadata": {},
   "outputs": [
    {
     "data": {
      "text/plain": [
       "False"
      ]
     },
     "execution_count": 12,
     "metadata": {},
     "output_type": "execute_result"
    }
   ],
   "source": [
    "True and False"
   ]
  },
  {
   "cell_type": "code",
   "execution_count": 13,
   "id": "f95e7b15-229f-4e6d-bd14-381053ce0df8",
   "metadata": {},
   "outputs": [
    {
     "data": {
      "text/plain": [
       "True"
      ]
     },
     "execution_count": 13,
     "metadata": {},
     "output_type": "execute_result"
    }
   ],
   "source": [
    "True and True "
   ]
  },
  {
   "cell_type": "code",
   "execution_count": 14,
   "id": "b51ce4d6-d3d7-4006-8858-4f7534d7f2d4",
   "metadata": {},
   "outputs": [
    {
     "data": {
      "text/plain": [
       "False"
      ]
     },
     "execution_count": 14,
     "metadata": {},
     "output_type": "execute_result"
    }
   ],
   "source": [
    "False and False"
   ]
  },
  {
   "cell_type": "code",
   "execution_count": 15,
   "id": "6fd7776b-6835-4910-b89b-b9ef61ac2cc0",
   "metadata": {},
   "outputs": [
    {
     "data": {
      "text/plain": [
       "True"
      ]
     },
     "execution_count": 15,
     "metadata": {},
     "output_type": "execute_result"
    }
   ],
   "source": [
    "True or False"
   ]
  },
  {
   "cell_type": "code",
   "execution_count": 16,
   "id": "43d1682c-7781-4c74-b248-0e63735ea8b1",
   "metadata": {},
   "outputs": [
    {
     "data": {
      "text/plain": [
       "True"
      ]
     },
     "execution_count": 16,
     "metadata": {},
     "output_type": "execute_result"
    }
   ],
   "source": [
    "True or True "
   ]
  },
  {
   "cell_type": "code",
   "execution_count": 17,
   "id": "a7642ffd-7fd4-4b11-8c77-47aaa5280c99",
   "metadata": {},
   "outputs": [
    {
     "data": {
      "text/plain": [
       "False"
      ]
     },
     "execution_count": 17,
     "metadata": {},
     "output_type": "execute_result"
    }
   ],
   "source": [
    "False or False"
   ]
  },
  {
   "cell_type": "markdown",
   "id": "9bea2216-4aa3-45e6-8a96-3934956c1272",
   "metadata": {},
   "source": [
    " ##### lets explain \n",
    "* and means both condition are true = true otherwise return false\n",
    "* or means if any condition are true = true otherwise return false"
   ]
  },
  {
   "cell_type": "code",
   "execution_count": 20,
   "id": "6c9680ec-4676-4353-ab96-a956854d974b",
   "metadata": {},
   "outputs": [
    {
     "data": {
      "text/plain": [
       "False"
      ]
     },
     "execution_count": 20,
     "metadata": {},
     "output_type": "execute_result"
    }
   ],
   "source": [
    "not True"
   ]
  },
  {
   "cell_type": "code",
   "execution_count": 21,
   "id": "c34653fd-2e1c-4c41-9855-c61736d82eb4",
   "metadata": {},
   "outputs": [
    {
     "data": {
      "text/plain": [
       "True"
      ]
     },
     "execution_count": 21,
     "metadata": {},
     "output_type": "execute_result"
    }
   ],
   "source": [
    "not False"
   ]
  },
  {
   "cell_type": "code",
   "execution_count": 22,
   "id": "c7ac990d-4f7e-4e15-884f-51b96834fd21",
   "metadata": {},
   "outputs": [
    {
     "data": {
      "text/plain": [
       "True"
      ]
     },
     "execution_count": 22,
     "metadata": {},
     "output_type": "execute_result"
    }
   ],
   "source": [
    "True is True"
   ]
  },
  {
   "cell_type": "code",
   "execution_count": 23,
   "id": "ec1dfe54-e9d8-40ab-9def-d5199cda6060",
   "metadata": {},
   "outputs": [
    {
     "data": {
      "text/plain": [
       "False"
      ]
     },
     "execution_count": 23,
     "metadata": {},
     "output_type": "execute_result"
    }
   ],
   "source": [
    "True is False"
   ]
  },
  {
   "cell_type": "code",
   "execution_count": 24,
   "id": "aee14d9f-ccf8-4e56-947d-c5daa6bd893a",
   "metadata": {},
   "outputs": [
    {
     "data": {
      "text/plain": [
       "False"
      ]
     },
     "execution_count": 24,
     "metadata": {},
     "output_type": "execute_result"
    }
   ],
   "source": [
    "False is True"
   ]
  },
  {
   "cell_type": "markdown",
   "id": "9ce07614-b92a-4698-8c39-6244c5532385",
   "metadata": {},
   "source": [
    "##### True = 1\n",
    "##### False = 0"
   ]
  },
  {
   "cell_type": "code",
   "execution_count": 25,
   "id": "8703ace7-cf0a-4bb5-a40b-85c12c6552cb",
   "metadata": {},
   "outputs": [
    {
     "data": {
      "text/plain": [
       "2"
      ]
     },
     "execution_count": 25,
     "metadata": {},
     "output_type": "execute_result"
    }
   ],
   "source": [
    "True + True"
   ]
  },
  {
   "cell_type": "code",
   "execution_count": 26,
   "id": "300cfc65-7a65-45ec-beef-9caf68a895ac",
   "metadata": {},
   "outputs": [
    {
     "data": {
      "text/plain": [
       "1"
      ]
     },
     "execution_count": 26,
     "metadata": {},
     "output_type": "execute_result"
    }
   ],
   "source": [
    "True + False"
   ]
  },
  {
   "cell_type": "code",
   "execution_count": 27,
   "id": "eee184a7-76e8-4b7d-a817-152873702496",
   "metadata": {},
   "outputs": [
    {
     "data": {
      "text/plain": [
       "0"
      ]
     },
     "execution_count": 27,
     "metadata": {},
     "output_type": "execute_result"
    }
   ],
   "source": [
    "False + False"
   ]
  },
  {
   "cell_type": "code",
   "execution_count": 28,
   "id": "cc602ba8-c1ec-4148-8760-e99cae43240d",
   "metadata": {},
   "outputs": [
    {
     "data": {
      "text/plain": [
       "-1"
      ]
     },
     "execution_count": 28,
     "metadata": {},
     "output_type": "execute_result"
    }
   ],
   "source": [
    "False - True"
   ]
  },
  {
   "cell_type": "code",
   "execution_count": 29,
   "id": "31d4c01f-64d3-4902-99c2-a5b1c0d3ee5c",
   "metadata": {},
   "outputs": [
    {
     "data": {
      "text/plain": [
       "0"
      ]
     },
     "execution_count": 29,
     "metadata": {},
     "output_type": "execute_result"
    }
   ],
   "source": [
    "True - True"
   ]
  },
  {
   "cell_type": "code",
   "execution_count": 30,
   "id": "daf8176f-e729-4069-b999-9a8687ac9776",
   "metadata": {},
   "outputs": [
    {
     "data": {
      "text/plain": [
       "1"
      ]
     },
     "execution_count": 30,
     "metadata": {},
     "output_type": "execute_result"
    }
   ],
   "source": [
    "True - False"
   ]
  },
  {
   "cell_type": "code",
   "execution_count": 31,
   "id": "2e614a43-de33-486a-a73c-060346df8350",
   "metadata": {},
   "outputs": [],
   "source": [
    "#lets know one more thing\n",
    "# (is)  and  (==) is same        == Means eqaul to"
   ]
  },
  {
   "cell_type": "code",
   "execution_count": 32,
   "id": "1e0e34da-d26a-4b5d-ba20-7240b4371b11",
   "metadata": {},
   "outputs": [
    {
     "data": {
      "text/plain": [
       "False"
      ]
     },
     "execution_count": 32,
     "metadata": {},
     "output_type": "execute_result"
    }
   ],
   "source": [
    "6 == 5"
   ]
  },
  {
   "cell_type": "code",
   "execution_count": 35,
   "id": "e0f8f92f-90fd-4b8b-a6d7-224db4edc998",
   "metadata": {},
   "outputs": [
    {
     "data": {
      "text/plain": [
       "False"
      ]
     },
     "execution_count": 35,
     "metadata": {},
     "output_type": "execute_result"
    }
   ],
   "source": [
    "20 <= 10"
   ]
  },
  {
   "cell_type": "markdown",
   "id": "9e4c1ae6-c3dc-4fa6-8000-fd888d74cdbb",
   "metadata": {},
   "source": [
    "## Data types\n",
    "#### 1. integer/Number\n",
    "#### 2. List\n",
    "#### 3. Tuple\n",
    "#### 4. Set\n",
    "#### 5.dictionary"
   ]
  },
  {
   "cell_type": "markdown",
   "id": "5a9df6c2-b9cf-4541-8b6d-abf9d9e2f4e4",
   "metadata": {},
   "source": [
    "####  * Integer/Number = integers are zero,negative,positive and whole numbers"
   ]
  },
  {
   "cell_type": "code",
   "execution_count": 37,
   "id": "a4ab3b35-22ec-417a-a467-a44679ee2286",
   "metadata": {},
   "outputs": [],
   "source": [
    "a = 20"
   ]
  },
  {
   "cell_type": "code",
   "execution_count": 38,
   "id": "53b508e5-c2d7-456d-92f5-e0d38f9adcca",
   "metadata": {},
   "outputs": [],
   "source": [
    "# a is variable \n",
    "# 20 is data\n"
   ]
  },
  {
   "cell_type": "code",
   "execution_count": 39,
   "id": "65d9c3d9-950c-4262-ba0e-203f1bfdce7e",
   "metadata": {},
   "outputs": [],
   "source": [
    "# check the data type"
   ]
  },
  {
   "cell_type": "code",
   "execution_count": 42,
   "id": "be3424bb-fb13-4042-8398-3629bcbaf11b",
   "metadata": {},
   "outputs": [
    {
     "data": {
      "text/plain": [
       "int"
      ]
     },
     "execution_count": 42,
     "metadata": {},
     "output_type": "execute_result"
    }
   ],
   "source": [
    "type (a)"
   ]
  },
  {
   "cell_type": "code",
   "execution_count": 43,
   "id": "1529fbe5-169a-46e6-a714-ab394c36e751",
   "metadata": {},
   "outputs": [
    {
     "name": "stdout",
     "output_type": "stream",
     "text": [
      "<class 'int'>\n"
     ]
    }
   ],
   "source": [
    "print(type(a))"
   ]
  },
  {
   "cell_type": "markdown",
   "id": "cc1f1c62-4e0f-493c-9f6a-9fa99c9cc02f",
   "metadata": {},
   "source": [
    "#### Float = all decimal numbers are float"
   ]
  },
  {
   "cell_type": "code",
   "execution_count": 49,
   "id": "8dab83c3-92c3-4e89-865a-1d38c4940017",
   "metadata": {},
   "outputs": [],
   "source": [
    "a = 10.3"
   ]
  },
  {
   "cell_type": "code",
   "execution_count": 62,
   "id": "8375f817-20be-47b0-91af-b36b9cff9cf5",
   "metadata": {},
   "outputs": [
    {
     "data": {
      "text/plain": [
       "float"
      ]
     },
     "execution_count": 62,
     "metadata": {},
     "output_type": "execute_result"
    }
   ],
   "source": [
    "type(a)\n"
   ]
  },
  {
   "cell_type": "markdown",
   "id": "72ed94ee-ff57-42b0-b309-6e0908bc49e4",
   "metadata": {},
   "source": [
    "#### String = string is a sequence of characters enclosed in either single quotes ('') or double quotes (\"\")"
   ]
  },
  {
   "cell_type": "code",
   "execution_count": 52,
   "id": "85d931da-a076-490c-aa51-5b142622399b",
   "metadata": {},
   "outputs": [],
   "source": [
    "y = \"aman\""
   ]
  },
  {
   "cell_type": "code",
   "execution_count": 53,
   "id": "cd4d18b3-5ab7-4c06-bd5e-33a827207382",
   "metadata": {},
   "outputs": [
    {
     "data": {
      "text/plain": [
       "str"
      ]
     },
     "execution_count": 53,
     "metadata": {},
     "output_type": "execute_result"
    }
   ],
   "source": [
    "type(y)"
   ]
  },
  {
   "cell_type": "code",
   "execution_count": 54,
   "id": "8112d385-c2eb-4349-88fe-c679fe36eb4e",
   "metadata": {},
   "outputs": [
    {
     "name": "stdout",
     "output_type": "stream",
     "text": [
      "<class 'str'>\n"
     ]
    }
   ],
   "source": [
    "print(type(y))"
   ]
  },
  {
   "cell_type": "code",
   "execution_count": 55,
   "id": "edacaae2-e900-4b34-ac84-ea28223b2e76",
   "metadata": {},
   "outputs": [
    {
     "ename": "TypeError",
     "evalue": "unsupported operand type(s) for +: 'float' and 'str'",
     "output_type": "error",
     "traceback": [
      "\u001b[1;31m---------------------------------------------------------------------------\u001b[0m",
      "\u001b[1;31mTypeError\u001b[0m                                 Traceback (most recent call last)",
      "Cell \u001b[1;32mIn[55], line 1\u001b[0m\n\u001b[1;32m----> 1\u001b[0m a \u001b[38;5;241m+\u001b[39m y\n",
      "\u001b[1;31mTypeError\u001b[0m: unsupported operand type(s) for +: 'float' and 'str'"
     ]
    }
   ],
   "source": [
    "a + y"
   ]
  },
  {
   "cell_type": "code",
   "execution_count": 56,
   "id": "d2283957-102c-4ccd-b4b4-2de6e61d0d45",
   "metadata": {},
   "outputs": [
    {
     "data": {
      "text/plain": [
       "'10.3aman'"
      ]
     },
     "execution_count": 56,
     "metadata": {},
     "output_type": "execute_result"
    }
   ],
   "source": [
    "str(a) + y"
   ]
  },
  {
   "cell_type": "code",
   "execution_count": 57,
   "id": "85d99f8a-8b42-41bf-9c84-120f0bf0a76c",
   "metadata": {},
   "outputs": [],
   "source": [
    "x = 40\n",
    "r = 30\n"
   ]
  },
  {
   "cell_type": "code",
   "execution_count": 60,
   "id": "4c0debae-15c1-4563-a4f6-b3ab0b1fb7fe",
   "metadata": {},
   "outputs": [],
   "source": [
    " z= x + a"
   ]
  },
  {
   "cell_type": "code",
   "execution_count": 61,
   "id": "a98dcc24-1272-465a-a564-b597817b1231",
   "metadata": {},
   "outputs": [
    {
     "name": "stdout",
     "output_type": "stream",
     "text": [
      "50.3\n"
     ]
    }
   ],
   "source": [
    "print(z)"
   ]
  },
  {
   "cell_type": "code",
   "execution_count": 72,
   "id": "2d277f8c-d09f-46cb-8e11-233443a0ad1e",
   "metadata": {},
   "outputs": [],
   "source": [
    "str1 = \" python \"\n",
    "str2 = \" is a programming \"\n",
    "str3 = \" language\""
   ]
  },
  {
   "cell_type": "code",
   "execution_count": 73,
   "id": "2771c676-8d2b-43d6-a280-aeb9b285bd36",
   "metadata": {},
   "outputs": [],
   "source": [
    "str = (str1+str2+str3)"
   ]
  },
  {
   "cell_type": "code",
   "execution_count": 1,
   "id": "0591d58b-8fe4-49c6-b36d-d24baac35a9d",
   "metadata": {},
   "outputs": [
    {
     "name": "stdout",
     "output_type": "stream",
     "text": [
      "<class 'str'>\n"
     ]
    }
   ],
   "source": [
    "print(str)"
   ]
  },
  {
   "cell_type": "code",
   "execution_count": null,
   "id": "f8aa213d-2262-4d33-9d3e-7d96dbb6e122",
   "metadata": {},
   "outputs": [],
   "source": []
  }
 ],
 "metadata": {
  "kernelspec": {
   "display_name": "Python 3 (ipykernel)",
   "language": "python",
   "name": "python3"
  },
  "language_info": {
   "codemirror_mode": {
    "name": "ipython",
    "version": 3
   },
   "file_extension": ".py",
   "mimetype": "text/x-python",
   "name": "python",
   "nbconvert_exporter": "python",
   "pygments_lexer": "ipython3",
   "version": "3.11.7"
  }
 },
 "nbformat": 4,
 "nbformat_minor": 5
}
