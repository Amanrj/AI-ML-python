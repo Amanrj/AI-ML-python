{
 "cells": [
  {
   "cell_type": "markdown",
   "id": "963049ce-b552-4743-a771-153eac8fc6e0",
   "metadata": {},
   "source": [
    "#### what is count method ? count methos is which method the csn show how many time availability of duplicate things."
   ]
  },
  {
   "cell_type": "code",
   "execution_count": 23,
   "id": "52ef38bd-4021-41c2-85b6-3bc55909b0b4",
   "metadata": {},
   "outputs": [
    {
     "data": {
      "text/plain": [
       "4"
      ]
     },
     "execution_count": 23,
     "metadata": {},
     "output_type": "execute_result"
    }
   ],
   "source": [
    "my_list = [10,20,30,23,1,1,10,90,10,40,20,10]\n",
    "my_list.count(10)"
   ]
  },
  {
   "cell_type": "code",
   "execution_count": 25,
   "id": "60948bf6-505d-4f2a-8d79-c506d1d4f591",
   "metadata": {},
   "outputs": [
    {
     "data": {
      "text/plain": [
       "[10, 20, 30, 23, 1, 1, 10, 90, 10, 40, 20, 10]"
      ]
     },
     "execution_count": 25,
     "metadata": {},
     "output_type": "execute_result"
    }
   ],
   "source": [
    "my_list"
   ]
  },
  {
   "cell_type": "code",
   "execution_count": 27,
   "id": "a9609570-9e96-4d5d-9179-1578319cec5c",
   "metadata": {},
   "outputs": [
    {
     "data": {
      "text/plain": [
       "2"
      ]
     },
     "execution_count": 27,
     "metadata": {},
     "output_type": "execute_result"
    }
   ],
   "source": [
    "my_list.count(1)"
   ]
  },
  {
   "cell_type": "markdown",
   "id": "6cd79471-7862-465f-9a60-9a061650512e",
   "metadata": {},
   "source": [
    "#### What is sort method ? sort method helps in  to arrange the elements by ascending and descending order"
   ]
  },
  {
   "cell_type": "code",
   "execution_count": 29,
   "id": "0d41fa9b-a63b-4b12-9192-c61589ba7f05",
   "metadata": {},
   "outputs": [
    {
     "data": {
      "text/plain": [
       "[10, 20, 30, 23, 1, 1, 10, 90, 10, 40, 20, 10]"
      ]
     },
     "execution_count": 29,
     "metadata": {},
     "output_type": "execute_result"
    }
   ],
   "source": [
    "my_list"
   ]
  },
  {
   "cell_type": "code",
   "execution_count": 33,
   "id": "2b5481eb-1079-4646-b5b5-c8e8ce6c40c8",
   "metadata": {},
   "outputs": [
    {
     "data": {
      "text/plain": [
       "[1, 1, 10, 10, 10, 10, 20, 20, 23, 30, 40, 90]"
      ]
     },
     "execution_count": 33,
     "metadata": {},
     "output_type": "execute_result"
    }
   ],
   "source": [
    "my_list.sort()\n",
    "my_list"
   ]
  },
  {
   "cell_type": "code",
   "execution_count": 39,
   "id": "e6e31c55-11a7-4ac2-a5c8-28a8a8a12a07",
   "metadata": {},
   "outputs": [
    {
     "data": {
      "text/plain": [
       "[90, 40, 30, 23, 20, 20, 10, 10, 10, 10, 1, 1]"
      ]
     },
     "execution_count": 39,
     "metadata": {},
     "output_type": "execute_result"
    }
   ],
   "source": [
    "my_list.sort(reverse=True)\n",
    "my_list"
   ]
  },
  {
   "cell_type": "markdown",
   "id": "6107f59c-db13-4af7-aef1-2d95f2c5519c",
   "metadata": {},
   "source": [
    "#### reverse(): Reverses the elements of the list in place"
   ]
  },
  {
   "cell_type": "code",
   "execution_count": 42,
   "id": "af7da2dd-02cd-4cb0-a6fb-741627e862ae",
   "metadata": {},
   "outputs": [
    {
     "data": {
      "text/plain": [
       "[90, 40, 30, 23, 20, 20, 10, 10, 10, 10, 1, 1]"
      ]
     },
     "execution_count": 42,
     "metadata": {},
     "output_type": "execute_result"
    }
   ],
   "source": [
    "my_list\n"
   ]
  },
  {
   "cell_type": "code",
   "execution_count": 44,
   "id": "184cc18a-40ca-4de1-887f-80aa625b4ebd",
   "metadata": {},
   "outputs": [],
   "source": [
    "my_list.reverse()"
   ]
  },
  {
   "cell_type": "code",
   "execution_count": 46,
   "id": "8e41be30-ceb6-40c7-99ce-9cfc8f20b488",
   "metadata": {},
   "outputs": [
    {
     "data": {
      "text/plain": [
       "[1, 1, 10, 10, 10, 10, 20, 20, 23, 30, 40, 90]"
      ]
     },
     "execution_count": 46,
     "metadata": {},
     "output_type": "execute_result"
    }
   ],
   "source": [
    "my_list"
   ]
  },
  {
   "cell_type": "markdown",
   "id": "3b499a8e-59f4-4f34-9b41-4b4814e8003b",
   "metadata": {},
   "source": [
    "#### copy(): Returns a shallow copy of the list."
   ]
  },
  {
   "cell_type": "code",
   "execution_count": 49,
   "id": "acca76f0-ff64-4982-8669-3920642440b8",
   "metadata": {},
   "outputs": [
    {
     "data": {
      "text/plain": [
       "[1, 1, 10, 10, 10, 10, 20, 20, 23, 30, 40, 90]"
      ]
     },
     "execution_count": 49,
     "metadata": {},
     "output_type": "execute_result"
    }
   ],
   "source": [
    "my_list"
   ]
  },
  {
   "cell_type": "code",
   "execution_count": 51,
   "id": "d213a76b-f14c-4ede-90ab-9096a428c2f9",
   "metadata": {},
   "outputs": [],
   "source": [
    "new_list = my_list.copy()"
   ]
  },
  {
   "cell_type": "code",
   "execution_count": 53,
   "id": "fbdf1c6f-9c2f-45cf-a970-a30911ee66ab",
   "metadata": {},
   "outputs": [
    {
     "data": {
      "text/plain": [
       "[1, 1, 10, 10, 10, 10, 20, 20, 23, 30, 40, 90]"
      ]
     },
     "execution_count": 53,
     "metadata": {},
     "output_type": "execute_result"
    }
   ],
   "source": [
    "new_list"
   ]
  },
  {
   "cell_type": "markdown",
   "id": "72e941e9-c0f2-4969-838b-8c92b92c4a31",
   "metadata": {},
   "source": [
    "\n",
    "\n",
    "## TUPLE "
   ]
  },
  {
   "cell_type": "markdown",
   "id": "8f8f7c8f-389d-44ea-aa4c-459087bb4876",
   "metadata": {},
   "source": [
    "a tuple is a collection data type that is ordered and immutable, meaning that once a tuple is created, its elements cannot be changed. Tuples are similar to lists, but they are defined using parentheses () instead of square brackets []."
   ]
  },
  {
   "cell_type": "markdown",
   "id": "6d93c667-fe82-42ce-9e55-4e45055d275c",
   "metadata": {},
   "source": [
    "##### methods in tuple are :\n",
    "  * indexing\n",
    "  * slicing\n",
    "  * count\n",
    "  * concatenation"
   ]
  },
  {
   "cell_type": "code",
   "execution_count": 62,
   "id": "70132291-7b18-4027-9f5b-e173d185ded2",
   "metadata": {},
   "outputs": [
    {
     "data": {
      "text/plain": [
       "3"
      ]
     },
     "execution_count": 62,
     "metadata": {},
     "output_type": "execute_result"
    }
   ],
   "source": [
    "my_tuple=(2,4,6,8,10)\n",
    "my_tuple.index(8)  # indexing\n"
   ]
  },
  {
   "cell_type": "code",
   "execution_count": 65,
   "id": "1fb3a308-8803-40be-8f7d-9a9873f6e161",
   "metadata": {},
   "outputs": [
    {
     "data": {
      "text/plain": [
       "(4, 6, 8)"
      ]
     },
     "execution_count": 65,
     "metadata": {},
     "output_type": "execute_result"
    }
   ],
   "source": [
    "my_tuple[1:4] # slicing"
   ]
  },
  {
   "cell_type": "code",
   "execution_count": 69,
   "id": "af80b4ab-87c4-4bb2-b083-5e95578cd1ee",
   "metadata": {},
   "outputs": [
    {
     "data": {
      "text/plain": [
       "1"
      ]
     },
     "execution_count": 69,
     "metadata": {},
     "output_type": "execute_result"
    }
   ],
   "source": [
    "my_tuple.count(2)  # count"
   ]
  },
  {
   "cell_type": "code",
   "execution_count": 71,
   "id": "c793e07d-3973-4ce5-9ded-e460285f70e7",
   "metadata": {},
   "outputs": [],
   "source": [
    "new_tuple = my_tuple + (34,89) # concatenation"
   ]
  },
  {
   "cell_type": "code",
   "execution_count": 73,
   "id": "4ab9f328-e6f0-4abc-ad0b-5d6f10d48232",
   "metadata": {},
   "outputs": [
    {
     "data": {
      "text/plain": [
       "(2, 4, 6, 8, 10, 34, 89)"
      ]
     },
     "execution_count": 73,
     "metadata": {},
     "output_type": "execute_result"
    }
   ],
   "source": [
    "new_tuple"
   ]
  },
  {
   "cell_type": "markdown",
   "id": "2820a979-89d6-4dc4-ba31-27bc0b26238e",
   "metadata": {},
   "source": [
    "len(new_tuple)"
   ]
  },
  {
   "cell_type": "code",
   "execution_count": 93,
   "id": "ca6b39be-c398-4e5d-917c-e28b48ba8485",
   "metadata": {},
   "outputs": [
    {
     "data": {
      "text/plain": [
       "(2, 4, 6, 8, 10)"
      ]
     },
     "execution_count": 93,
     "metadata": {},
     "output_type": "execute_result"
    }
   ],
   "source": [
    "my_tuple"
   ]
  },
  {
   "cell_type": "code",
   "execution_count": 95,
   "id": "b15e0c76-1617-435a-ac81-6ff3a089a581",
   "metadata": {},
   "outputs": [
    {
     "data": {
      "text/plain": [
       "5"
      ]
     },
     "execution_count": 95,
     "metadata": {},
     "output_type": "execute_result"
    }
   ],
   "source": [
    "len(my_tuple)  # finding length"
   ]
  },
  {
   "cell_type": "code",
   "execution_count": null,
   "id": "026ba87e-06aa-4484-ab8b-5e0fc277d097",
   "metadata": {},
   "outputs": [],
   "source": []
  },
  {
   "cell_type": "markdown",
   "id": "20b1808b-f100-415e-a11b-b7cd8431efe4",
   "metadata": {},
   "source": [
    "####  SET"
   ]
  },
  {
   "cell_type": "markdown",
   "id": "600400ca-b884-4a44-ac08-25bacab25032",
   "metadata": {},
   "source": [
    "a set is an unordered collection of unique items. Sets are used to store multiple items in a single variable, and they have several useful properties and methods that make them suitable for certain tasks, such as membership testing, removing duplicates from a sequence, and performing mathematical set operations like union, intersection, and difference."
   ]
  },
  {
   "cell_type": "code",
   "execution_count": 104,
   "id": "526f8ed6-a76f-4912-a191-b42f11361591",
   "metadata": {},
   "outputs": [],
   "source": [
    "my_set = {1, 2, 3, 4, 5}  # basic set\n"
   ]
  },
  {
   "cell_type": "code",
   "execution_count": 106,
   "id": "510f7706-2baa-4d30-a372-a619670b6afb",
   "metadata": {},
   "outputs": [],
   "source": [
    "my_set = set([1, 2, 3, 4, 5]) # using the set function\n"
   ]
  },
  {
   "cell_type": "code",
   "execution_count": 108,
   "id": "c143dca2-264b-4abb-9a3a-8a0842e2a8b2",
   "metadata": {},
   "outputs": [],
   "source": [
    "empty_set = set()  # empty set\n",
    "  "
   ]
  },
  {
   "cell_type": "markdown",
   "id": "8b31065a-6002-4177-a2b7-69584fe079a7",
   "metadata": {},
   "source": [
    "methods of set are :\n",
    "* add\n",
    "* remove\n",
    "* discard\n",
    "* pop\n",
    "* clear\n",
    "* update"
   ]
  },
  {
   "cell_type": "code",
   "execution_count": 113,
   "id": "315e48f9-d1cc-4570-aa03-e6717bf58eb6",
   "metadata": {},
   "outputs": [
    {
     "data": {
      "text/plain": [
       "{1, 2, 3, 4, 5}"
      ]
     },
     "execution_count": 113,
     "metadata": {},
     "output_type": "execute_result"
    }
   ],
   "source": [
    "my_set "
   ]
  },
  {
   "cell_type": "code",
   "execution_count": 115,
   "id": "c8ecc1ad-1ba1-499b-8980-8df42df33422",
   "metadata": {},
   "outputs": [],
   "source": [
    "my_set.add(6)   #add the item"
   ]
  },
  {
   "cell_type": "code",
   "execution_count": 117,
   "id": "ddb56015-7953-48d5-b752-a5dd31dc2ea8",
   "metadata": {},
   "outputs": [
    {
     "data": {
      "text/plain": [
       "{1, 2, 3, 4, 5, 6}"
      ]
     },
     "execution_count": 117,
     "metadata": {},
     "output_type": "execute_result"
    }
   ],
   "source": [
    "my_set"
   ]
  },
  {
   "cell_type": "code",
   "execution_count": 119,
   "id": "9ea6e1ab-2a89-4247-a73d-71e1dcb8982e",
   "metadata": {},
   "outputs": [],
   "source": [
    "my_set.remove(5)   # remove the item"
   ]
  },
  {
   "cell_type": "code",
   "execution_count": 121,
   "id": "20ce5de7-a0c1-4d30-9f4c-a2af5bcad95b",
   "metadata": {},
   "outputs": [
    {
     "data": {
      "text/plain": [
       "{1, 2, 3, 4, 6}"
      ]
     },
     "execution_count": 121,
     "metadata": {},
     "output_type": "execute_result"
    }
   ],
   "source": [
    "my_set"
   ]
  },
  {
   "cell_type": "code",
   "execution_count": 123,
   "id": "991b2158-7bb5-4d68-943d-525472bd62b6",
   "metadata": {},
   "outputs": [
    {
     "data": {
      "text/plain": [
       "{1, 2, 4, 6}"
      ]
     },
     "execution_count": 123,
     "metadata": {},
     "output_type": "execute_result"
    }
   ],
   "source": [
    "my_set.discard(3)  # discard the item\n",
    "my_set"
   ]
  },
  {
   "cell_type": "code",
   "execution_count": 125,
   "id": "3a549a44-bbbf-4471-9063-33def955d82f",
   "metadata": {},
   "outputs": [
    {
     "data": {
      "text/plain": [
       "{1, 2, 4, 6}"
      ]
     },
     "execution_count": 125,
     "metadata": {},
     "output_type": "execute_result"
    }
   ],
   "source": [
    "my_set.discard(8)\n",
    "my_set"
   ]
  },
  {
   "cell_type": "code",
   "execution_count": 131,
   "id": "c90e2dbc-bbda-4ac0-9551-d3b86fbe165d",
   "metadata": {},
   "outputs": [
    {
     "data": {
      "text/plain": [
       "{2, 4, 6}"
      ]
     },
     "execution_count": 131,
     "metadata": {},
     "output_type": "execute_result"
    }
   ],
   "source": [
    "my_set.pop()   #pop the item \n",
    "my_set"
   ]
  },
  {
   "cell_type": "code",
   "execution_count": 133,
   "id": "71c6356b-9a2e-4def-b987-f60e81d48376",
   "metadata": {},
   "outputs": [
    {
     "data": {
      "text/plain": [
       "{4, 6}"
      ]
     },
     "execution_count": 133,
     "metadata": {},
     "output_type": "execute_result"
    }
   ],
   "source": [
    "my_set.pop()\n",
    "my_set"
   ]
  },
  {
   "cell_type": "code",
   "execution_count": 135,
   "id": "65399dc2-5e4e-41d9-8f38-ec2b54679ef1",
   "metadata": {},
   "outputs": [
    {
     "data": {
      "text/plain": [
       "{4, 6}"
      ]
     },
     "execution_count": 135,
     "metadata": {},
     "output_type": "execute_result"
    }
   ],
   "source": [
    "my_set"
   ]
  },
  {
   "cell_type": "code",
   "execution_count": 137,
   "id": "ac74affb-0267-4ba5-befb-ff4f217e6856",
   "metadata": {},
   "outputs": [],
   "source": [
    "my_set.clear()  # remove all items fron set using clear method"
   ]
  },
  {
   "cell_type": "code",
   "execution_count": 139,
   "id": "7ac849c0-7b45-482c-923f-ff4fa89683f2",
   "metadata": {},
   "outputs": [
    {
     "data": {
      "text/plain": [
       "set()"
      ]
     },
     "execution_count": 139,
     "metadata": {},
     "output_type": "execute_result"
    }
   ],
   "source": [
    "my_set"
   ]
  },
  {
   "cell_type": "markdown",
   "id": "43920786-df74-4dd7-b823-019b45368ddd",
   "metadata": {},
   "source": [
    "### DICTIONARY"
   ]
  },
  {
   "cell_type": "markdown",
   "id": "3362be5b-927a-4cc3-8952-e372013c686e",
   "metadata": {},
   "source": [
    "a dictionary is an unordered collection of items. Each item is a key-value pair, where each key is unique. Dictionaries are mutable, which means that they can be changed after they are created. They are often used for storing data in a structured format, similar to a real-life dictionary or a database."
   ]
  },
  {
   "cell_type": "code",
   "execution_count": 169,
   "id": "e45c01d2-8acd-49ca-a812-6b9aa4893b68",
   "metadata": {},
   "outputs": [],
   "source": [
    "my_dict = {\n",
    "    \"name\": \"Alice\",\n",
    "    \"age\": 25,\n",
    "    \"city\": \"New York\"\n",
    "}\n"
   ]
  },
  {
   "cell_type": "code",
   "execution_count": 171,
   "id": "85de5578-8c08-46da-92ae-f59b2a6dd205",
   "metadata": {},
   "outputs": [
    {
     "data": {
      "text/plain": [
       "'Alice'"
      ]
     },
     "execution_count": 171,
     "metadata": {},
     "output_type": "execute_result"
    }
   ],
   "source": [
    "my_dict[\"name\"]"
   ]
  },
  {
   "cell_type": "code",
   "execution_count": 173,
   "id": "555b2d3f-c076-4198-8d39-8581e895c7f2",
   "metadata": {},
   "outputs": [
    {
     "data": {
      "text/plain": [
       "25"
      ]
     },
     "execution_count": 173,
     "metadata": {},
     "output_type": "execute_result"
    }
   ],
   "source": [
    "my_dict.get(\"age\")"
   ]
  },
  {
   "cell_type": "code",
   "execution_count": 175,
   "id": "ded9d242-02c9-409a-8f6f-9f36adb205c2",
   "metadata": {},
   "outputs": [
    {
     "data": {
      "text/plain": [
       "{'name': 'prince', 'age': 25, 'city': 'New York'}"
      ]
     },
     "execution_count": 175,
     "metadata": {},
     "output_type": "execute_result"
    }
   ],
   "source": [
    "my_dict[\"name\"]= \"prince\" # update key value\n",
    "my_dict"
   ]
  },
  {
   "cell_type": "code",
   "execution_count": 177,
   "id": "92ae294f-54ea-498e-a12a-bcc1883a4e0f",
   "metadata": {},
   "outputs": [
    {
     "data": {
      "text/plain": [
       "25"
      ]
     },
     "execution_count": 177,
     "metadata": {},
     "output_type": "execute_result"
    }
   ],
   "source": [
    "my_dict.pop(\"age\") # remove the key value pairs"
   ]
  },
  {
   "cell_type": "code",
   "execution_count": 179,
   "id": "64e442e6-cfe1-44a8-b5f4-e37a151192e8",
   "metadata": {},
   "outputs": [
    {
     "data": {
      "text/plain": [
       "{'name': 'prince', 'city': 'New York'}"
      ]
     },
     "execution_count": 179,
     "metadata": {},
     "output_type": "execute_result"
    }
   ],
   "source": [
    "my_dict\n"
   ]
  },
  {
   "cell_type": "code",
   "execution_count": 185,
   "id": "9e8a5a4f-71f9-4a21-a51a-af17ce36ffe4",
   "metadata": {},
   "outputs": [],
   "source": [
    "my_dict[\"age\"]  = 20   #adding or  updating value"
   ]
  },
  {
   "cell_type": "code",
   "execution_count": 187,
   "id": "41696c22-9bfa-4140-a5ce-8e980810d0f0",
   "metadata": {},
   "outputs": [
    {
     "data": {
      "text/plain": [
       "{'name': 'prince', 'city': 'New York', 'age': 20}"
      ]
     },
     "execution_count": 187,
     "metadata": {},
     "output_type": "execute_result"
    }
   ],
   "source": [
    "my_dict"
   ]
  },
  {
   "cell_type": "code",
   "execution_count": 191,
   "id": "91fc4366-ecd1-491d-9847-82bdcf2c3d60",
   "metadata": {},
   "outputs": [
    {
     "name": "stdout",
     "output_type": "stream",
     "text": [
      "city exist in the dictionary \n"
     ]
    }
   ],
   "source": [
    "if \"city\"  in my_dict :\n",
    "    print(\"city exist in the dictionary \")  # checking if a key exists"
   ]
  },
  {
   "cell_type": "code",
   "execution_count": 193,
   "id": "65875337-3252-4eb4-86e1-041df1ea8571",
   "metadata": {},
   "outputs": [
    {
     "data": {
      "text/plain": [
       "dict_keys(['name', 'city', 'age'])"
      ]
     },
     "execution_count": 193,
     "metadata": {},
     "output_type": "execute_result"
    }
   ],
   "source": [
    "my_dict.keys()   # return a view object of all keys"
   ]
  },
  {
   "cell_type": "code",
   "execution_count": 195,
   "id": "f133e436-c9e9-4e7b-8c91-30d2dbf20cae",
   "metadata": {},
   "outputs": [
    {
     "data": {
      "text/plain": [
       "dict_values(['prince', 'New York', 20])"
      ]
     },
     "execution_count": 195,
     "metadata": {},
     "output_type": "execute_result"
    }
   ],
   "source": [
    "my_dict.values()  # return a view  object of all value"
   ]
  },
  {
   "cell_type": "code",
   "execution_count": 197,
   "id": "c540953d-a231-474f-b6dc-39cc32237324",
   "metadata": {},
   "outputs": [],
   "source": [
    "new_dict = my_dict.copy()   # copying a dictionary"
   ]
  },
  {
   "cell_type": "code",
   "execution_count": 199,
   "id": "62c54c72-b3ed-4a89-81b5-41e7bfb96640",
   "metadata": {},
   "outputs": [
    {
     "data": {
      "text/plain": [
       "{'name': 'prince', 'city': 'New York', 'age': 20}"
      ]
     },
     "execution_count": 199,
     "metadata": {},
     "output_type": "execute_result"
    }
   ],
   "source": [
    "new_dict"
   ]
  },
  {
   "cell_type": "code",
   "execution_count": 205,
   "id": "ca1a4ad0-0c95-41fb-a3ba-458d5c52c1cd",
   "metadata": {},
   "outputs": [],
   "source": [
    "new_dict.clear()  #remove all key pairs fron the directory"
   ]
  },
  {
   "cell_type": "code",
   "execution_count": 207,
   "id": "ce60e6bb-b0a4-45a5-9d5b-9099e55bde62",
   "metadata": {},
   "outputs": [],
   "source": [
    "other_dict = { \"gender\" : \"male\" ,  \"country\" : \"usa\"}\n",
    "my_dict.update(other_dict)    # Merging Dictionaries"
   ]
  },
  {
   "cell_type": "code",
   "execution_count": 209,
   "id": "d7001c39-aa80-469b-8774-db846df9385d",
   "metadata": {},
   "outputs": [
    {
     "data": {
      "text/plain": [
       "{'name': 'prince',\n",
       " 'city': 'New York',\n",
       " 'age': 20,\n",
       " 'gender': 'male',\n",
       " 'country': 'usa'}"
      ]
     },
     "execution_count": 209,
     "metadata": {},
     "output_type": "execute_result"
    }
   ],
   "source": [
    "my_dict"
   ]
  },
  {
   "cell_type": "code",
   "execution_count": null,
   "id": "8b37af2b-5f58-4ab8-90ac-7b02e5cf132d",
   "metadata": {},
   "outputs": [],
   "source": []
  }
 ],
 "metadata": {
  "kernelspec": {
   "display_name": "Python 3 (ipykernel)",
   "language": "python",
   "name": "python3"
  },
  "language_info": {
   "codemirror_mode": {
    "name": "ipython",
    "version": 3
   },
   "file_extension": ".py",
   "mimetype": "text/x-python",
   "name": "python",
   "nbconvert_exporter": "python",
   "pygments_lexer": "ipython3",
   "version": "3.11.7"
  }
 },
 "nbformat": 4,
 "nbformat_minor": 5
}
