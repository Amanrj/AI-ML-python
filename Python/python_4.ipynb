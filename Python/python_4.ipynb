{
 "cells": [
  {
   "cell_type": "markdown",
   "id": "0cb606df-66cc-499b-a3ab-7f4041dfb5ee",
   "metadata": {},
   "source": [
    "# Range Function in python"
   ]
  },
  {
   "cell_type": "raw",
   "id": "29ef176a-417d-4191-af77-a08eaf4ef37c",
   "metadata": {},
   "source": [
    "The range() function in Python is used to generate a sequence of numbers. It's commonly used in for-loops to iterate over a sequence of numbers. The range() function can take one, two, or three arguments:\n",
    "\n",
    "Syntax\n",
    "range(stop)\n",
    "range(start, stop)\n",
    "range(start, stop, step)"
   ]
  },
  {
   "cell_type": "code",
   "execution_count": 2,
   "id": "f9b3b2de-f1cf-4b52-bf62-45b3172817eb",
   "metadata": {},
   "outputs": [
    {
     "name": "stdout",
     "output_type": "stream",
     "text": [
      "range(0, 50)\n"
     ]
    }
   ],
   "source": [
    "print(range(50))"
   ]
  },
  {
   "cell_type": "code",
   "execution_count": 20,
   "id": "d0180eba-ec88-4693-87b9-016cc4d10f25",
   "metadata": {},
   "outputs": [
    {
     "name": "stdout",
     "output_type": "stream",
     "text": [
      "10\n",
      "15\n",
      "20\n",
      "25\n",
      "30\n",
      "35\n",
      "40\n",
      "45\n"
     ]
    }
   ],
   "source": [
    "for i in range(10,50,5):\n",
    " print (i)"
   ]
  },
  {
   "cell_type": "code",
   "execution_count": 16,
   "id": "99c6a933-eb2b-475e-ba5f-6a734774b400",
   "metadata": {},
   "outputs": [
    {
     "name": "stdout",
     "output_type": "stream",
     "text": [
      "[0, 1, 2, 3, 4, 5, 6, 7, 8, 9, 10, 11, 12, 13, 14, 15, 16, 17, 18, 19]\n"
     ]
    }
   ],
   "source": [
    "print(list(range(20)))"
   ]
  },
  {
   "cell_type": "code",
   "execution_count": 24,
   "id": "20156d44-91d7-47f7-bdca-7ce15780c795",
   "metadata": {},
   "outputs": [
    {
     "name": "stdout",
     "output_type": "stream",
     "text": [
      "[10, 12, 14, 16, 18]\n"
     ]
    }
   ],
   "source": [
    "print(list(range(10 ,20,2)))"
   ]
  },
  {
   "cell_type": "code",
   "execution_count": 25,
   "id": "213866c4-7d0a-44da-81fa-f89a3c69410e",
   "metadata": {},
   "outputs": [],
   "source": [
    "# store range function in a new variable"
   ]
  },
  {
   "cell_type": "code",
   "execution_count": 26,
   "id": "4d16df0f-cc37-4e22-98dc-a6a6b5553a9f",
   "metadata": {},
   "outputs": [],
   "source": [
    "new = list(range(10,20,2))"
   ]
  },
  {
   "cell_type": "code",
   "execution_count": 27,
   "id": "53b794af-2382-4a37-9084-ae108b2bed76",
   "metadata": {},
   "outputs": [
    {
     "data": {
      "text/plain": [
       "[10, 12, 14, 16, 18]"
      ]
     },
     "execution_count": 27,
     "metadata": {},
     "output_type": "execute_result"
    }
   ],
   "source": [
    "new"
   ]
  },
  {
   "cell_type": "code",
   "execution_count": null,
   "id": "e7dc8c27-f32f-469e-80fc-f731746dd597",
   "metadata": {},
   "outputs": [],
   "source": [
    " # using reverse function in a list"
   ]
  },
  {
   "cell_type": "code",
   "execution_count": 68,
   "id": "6f6e36c4-7293-408b-b5f1-0678c9edf1cd",
   "metadata": {},
   "outputs": [],
   "source": [
    "reverse = list(range(100, 20,-5))"
   ]
  },
  {
   "cell_type": "code",
   "execution_count": 69,
   "id": "5f62a104-d411-4fa1-adb8-e4c9ad89b1fb",
   "metadata": {},
   "outputs": [
    {
     "data": {
      "text/plain": [
       "[100, 95, 90, 85, 80, 75, 70, 65, 60, 55, 50, 45, 40, 35, 30, 25]"
      ]
     },
     "execution_count": 69,
     "metadata": {},
     "output_type": "execute_result"
    }
   ],
   "source": [
    "reverse"
   ]
  },
  {
   "cell_type": "code",
   "execution_count": 30,
   "id": "41f2979c-d46e-4438-a460-59fc210e07a0",
   "metadata": {},
   "outputs": [],
   "source": [
    "reverse_=list(range(1600,99,-100)) "
   ]
  },
  {
   "cell_type": "code",
   "execution_count": 31,
   "id": "fb14e657-d074-4cc7-b6c6-3bd7682903a6",
   "metadata": {},
   "outputs": [
    {
     "data": {
      "text/plain": [
       "[1600,\n",
       " 1500,\n",
       " 1400,\n",
       " 1300,\n",
       " 1200,\n",
       " 1100,\n",
       " 1000,\n",
       " 900,\n",
       " 800,\n",
       " 700,\n",
       " 600,\n",
       " 500,\n",
       " 400,\n",
       " 300,\n",
       " 200,\n",
       " 100]"
      ]
     },
     "execution_count": 31,
     "metadata": {},
     "output_type": "execute_result"
    }
   ],
   "source": [
    "reverse_"
   ]
  },
  {
   "cell_type": "code",
   "execution_count": 35,
   "id": "9085d948-c3be-4d8c-93a1-3e673918071e",
   "metadata": {},
   "outputs": [
    {
     "name": "stdout",
     "output_type": "stream",
     "text": [
      "[5, 4, 3, 2, 1]\n"
     ]
    }
   ],
   "source": [
    "my_list = [1, 2, 3, 4, 5]\n",
    "my_list.reverse()\n",
    "print(my_list)\n"
   ]
  },
  {
   "cell_type": "code",
   "execution_count": 36,
   "id": "7f39e8c8-39c7-45b5-8472-c34e2f5b517b",
   "metadata": {},
   "outputs": [
    {
     "name": "stdout",
     "output_type": "stream",
     "text": [
      "NAMA\n"
     ]
    }
   ],
   "source": [
    "my_string = \"AMAN\"\n",
    "reversed_string = my_string[::-1]\n",
    "print(reversed_string)\n",
    "\n"
   ]
  },
  {
   "cell_type": "markdown",
   "id": "b793d11c-b08f-4c9e-bcc4-580bfddf93b6",
   "metadata": {},
   "source": [
    "# loop function in python"
   ]
  },
  {
   "cell_type": "raw",
   "id": "6dd5c587-47d5-4bd3-b580-bfd05ca16710",
   "metadata": {},
   "source": [
    "In Python, loops are used to execute a block of code repeatedly. There are two main types of loops in Python: for loops and while loops.\n",
    "1. for loop\n",
    "2. while loop"
   ]
  },
  {
   "cell_type": "raw",
   "id": "f5bcc303-6138-4514-a7dd-88ef2241bbd1",
   "metadata": {},
   "source": [
    "  1. for Loop\n",
    "The for loop is used for iterating over a sequence (such as a list, tuple, dictionary, set, or string)."
   ]
  },
  {
   "cell_type": "code",
   "execution_count": 39,
   "id": "34e40b35-254c-4f08-9b62-e2ed20689e2e",
   "metadata": {},
   "outputs": [
    {
     "name": "stdout",
     "output_type": "stream",
     "text": [
      "apple\n",
      "banana\n",
      "cherry\n"
     ]
    }
   ],
   "source": [
    "fruits = [\"apple\", \"banana\", \"cherry\"]    #  using for loop\n",
    "for fruit in fruits:\n",
    "    print(fruit)\n"
   ]
  },
  {
   "cell_type": "code",
   "execution_count": 40,
   "id": "8115b335-a53b-48a0-8d3d-feb90f36fe9c",
   "metadata": {},
   "outputs": [
    {
     "name": "stdout",
     "output_type": "stream",
     "text": [
      "h\n",
      "e\n",
      "l\n",
      "l\n",
      "o\n"
     ]
    }
   ],
   "source": [
    "for char in \"hello\":\n",
    "    print(char)\n",
    "\n"
   ]
  },
  {
   "cell_type": "code",
   "execution_count": 43,
   "id": "24a307de-6c37-4ec7-afb3-d3a15a858d55",
   "metadata": {},
   "outputs": [
    {
     "data": {
      "text/plain": [
       "['aman', 'ashish', 'ravi', 'ujjwal']"
      ]
     },
     "execution_count": 43,
     "metadata": {},
     "output_type": "execute_result"
    }
   ],
   "source": [
    "name = ['aman', 'ashish', 'ravi', 'ujjwal']"
   ]
  },
  {
   "cell_type": "code",
   "execution_count": 48,
   "id": "1a96c769-1aed-413d-aeed-d782c1573566",
   "metadata": {},
   "outputs": [
    {
     "name": "stdout",
     "output_type": "stream",
     "text": [
      "aman\n",
      "ashish\n",
      "ravi\n",
      "ujjwal\n"
     ]
    }
   ],
   "source": [
    "for num in name:\n",
    "    print(num)"
   ]
  },
  {
   "cell_type": "raw",
   "id": "612860e2-bdc0-4be8-83fb-b35d59eb1683",
   "metadata": {},
   "source": [
    "2. while Loop\n",
    "The while loop continues to execute a block of code as long as a specified condition is True."
   ]
  },
  {
   "cell_type": "code",
   "execution_count": 41,
   "id": "ac706261-b6e1-4749-8059-c509527a36ee",
   "metadata": {},
   "outputs": [
    {
     "name": "stdout",
     "output_type": "stream",
     "text": [
      "0\n",
      "1\n",
      "2\n",
      "3\n",
      "4\n"
     ]
    }
   ],
   "source": [
    "i = 0\n",
    "while i < 5:\n",
    "    print(i)\n",
    "    i = i+1\n"
   ]
  },
  {
   "cell_type": "markdown",
   "id": "7d0868f0-7d83-49a8-9653-a16149bf9cf9",
   "metadata": {},
   "source": [
    "# Break statement "
   ]
  },
  {
   "cell_type": "raw",
   "id": "14fab496-8db4-4a5b-9a21-efd397ca5fe8",
   "metadata": {},
   "source": [
    "break Statement :\n",
    "The break statement is used to exit a loop prematurely when a certain condition is met."
   ]
  },
  {
   "cell_type": "code",
   "execution_count": 42,
   "id": "2fb8e8ad-8a6a-4663-97ab-96fc07834077",
   "metadata": {},
   "outputs": [
    {
     "name": "stdout",
     "output_type": "stream",
     "text": [
      "0\n",
      "1\n",
      "2\n",
      "3\n",
      "4\n",
      "5\n"
     ]
    }
   ],
   "source": [
    "for i in range(10):\n",
    "    if i == 6:\n",
    "        break\n",
    "    print(i)\n",
    "\n"
   ]
  },
  {
   "cell_type": "code",
   "execution_count": 50,
   "id": "47746611-f7e5-4106-a505-54ab40c4aa91",
   "metadata": {},
   "outputs": [],
   "source": [
    "student_score=[78,98,65,45,89,87,32,65,54,98,89,78,69,58,47]"
   ]
  },
  {
   "cell_type": "code",
   "execution_count": 51,
   "id": "93731067-9459-45ef-9c60-9ebe7773c233",
   "metadata": {},
   "outputs": [
    {
     "name": "stdout",
     "output_type": "stream",
     "text": [
      "78 First class\n",
      "98 Distiction\n",
      "65 First class\n",
      "45 Jsut Pass\n",
      "89 Second class\n",
      "87 Second class\n",
      "32 You are fail, please try next time\n",
      "65 First class\n",
      "54 Second class\n",
      "98 Distiction\n",
      "89 Second class\n",
      "78 First class\n",
      "69 First class\n",
      "58 Second class\n",
      "47 Second class\n"
     ]
    }
   ],
   "source": [
    "for marks in student_score:\n",
    "    if marks>90:\n",
    "        if marks>85:\n",
    "            print(marks , \"Distiction\")\n",
    "        else :\n",
    "            print(marks , \"First class\")\n",
    "    elif marks >60 and marks<85 :\n",
    "        print(marks ,\"First class\")\n",
    "    elif marks>45:\n",
    "        print(marks ,\"Second class\")\n",
    "    elif marks >35:\n",
    "        print(marks ,\"Jsut Pass\")\n",
    "    else:\n",
    "        print(marks ,\"You are fail, please try next time\")"
   ]
  },
  {
   "cell_type": "markdown",
   "id": "55ba0ff7-6bff-4e40-bbba-0f519c31cab7",
   "metadata": {},
   "source": [
    "# list compresension in python "
   ]
  },
  {
   "cell_type": "raw",
   "id": "443368ed-7293-4973-937e-26e5c57f9049",
   "metadata": {},
   "source": [
    " What is list comprehension ? List comprehension is a shorter syntax when you want to create a new list  based ,-\n",
    " on the values of existing list.\n"
   ]
  },
  {
   "cell_type": "code",
   "execution_count": 52,
   "id": "08fdad94-291e-4e7d-8e1a-e070b2168a07",
   "metadata": {},
   "outputs": [],
   "source": [
    "salary=[1000,2000,3000,5000,7000,1000,2000,9000]"
   ]
  },
  {
   "cell_type": "code",
   "execution_count": 53,
   "id": "6188de88-83ed-4348-ad60-98dd926c11ce",
   "metadata": {},
   "outputs": [],
   "source": [
    "sal=[val for val in salary if val==2000]"
   ]
  },
  {
   "cell_type": "code",
   "execution_count": 54,
   "id": "0cf86783-ce29-42e9-ba4e-6060bfaf5971",
   "metadata": {},
   "outputs": [
    {
     "data": {
      "text/plain": [
       "[2000, 2000]"
      ]
     },
     "execution_count": 54,
     "metadata": {},
     "output_type": "execute_result"
    }
   ],
   "source": [
    "sal"
   ]
  },
  {
   "cell_type": "code",
   "execution_count": 55,
   "id": "5f72fa76-5aba-422f-b23a-adf55c8a9f24",
   "metadata": {},
   "outputs": [],
   "source": [
    "#for loop with else"
   ]
  },
  {
   "cell_type": "code",
   "execution_count": 70,
   "id": "2f5beb6a-86f3-47f6-9890-2986a2c789f2",
   "metadata": {},
   "outputs": [
    {
     "name": "stdout",
     "output_type": "stream",
     "text": [
      "Multiplication table for 10\n",
      "10\n",
      "20\n",
      "30\n",
      "40\n",
      "50\n",
      "60\n",
      "70\n",
      "80\n",
      "90\n",
      "100\n",
      "\n",
      "\n",
      "Multiplication table for 11\n",
      "11\n",
      "22\n",
      "33\n",
      "44\n",
      "55\n",
      "66\n",
      "77\n",
      "88\n",
      "99\n",
      "110\n",
      "\n",
      "\n",
      "Multiplication table for 12\n",
      "12\n",
      "24\n",
      "36\n",
      "48\n",
      "60\n",
      "72\n",
      "84\n",
      "96\n",
      "108\n",
      "120\n",
      "\n",
      "\n",
      "Multiplication table for 13\n",
      "13\n",
      "26\n",
      "39\n",
      "52\n",
      "65\n",
      "78\n",
      "91\n",
      "104\n",
      "117\n",
      "130\n",
      "\n",
      "\n",
      "Multiplication table for 14\n",
      "14\n",
      "28\n",
      "42\n",
      "56\n",
      "70\n",
      "84\n",
      "98\n",
      "112\n",
      "126\n",
      "140\n",
      "\n",
      "\n",
      "******************************\n",
      "Thats all\n",
      "******************************\n"
     ]
    }
   ],
   "source": [
    "\n",
    "for num in range(10,15):\n",
    "    print(\"Multiplication table for\",num)\n",
    "    for i in range(1,11):\n",
    "        print(num*i)\n",
    "        if i ==10:\n",
    "            print( \"\\n\" )\n",
    "else:\n",
    "    print(\"*\" * 30)\n",
    "    print(\"Thats all\")\n",
    "    print(\"*\" * 30)"
   ]
  },
  {
   "cell_type": "code",
   "execution_count": 57,
   "id": "ad42bfcc-f1b9-441d-94bd-22c1a9ea5a3c",
   "metadata": {},
   "outputs": [],
   "source": [
    "# another way of print multiplication table."
   ]
  },
  {
   "cell_type": "code",
   "execution_count": 58,
   "id": "e5872396-afd5-4dc4-b340-c1cfe52b1c7b",
   "metadata": {},
   "outputs": [
    {
     "name": "stdin",
     "output_type": "stream",
     "text": [
      "Enter Number which one you want a table 12\n"
     ]
    },
    {
     "name": "stdout",
     "output_type": "stream",
     "text": [
      "12 X 1 = 12\n",
      "12 X 2 = 24\n",
      "12 X 3 = 36\n",
      "12 X 4 = 48\n",
      "12 X 5 = 60\n",
      "12 X 6 = 72\n",
      "12 X 7 = 84\n",
      "12 X 8 = 96\n",
      "12 X 9 = 108\n",
      "12 X 10 = 120\n"
     ]
    }
   ],
   "source": [
    "\n",
    "num=int(input(\"Enter Number which one you want a table\"))\n",
    "\n",
    "for i in range(1,11):\n",
    "    print(str(num), 'X' ,str(i),\"=\",str(num*i))"
   ]
  },
  {
   "cell_type": "markdown",
   "id": "e06e7b32-6f95-40f7-94b5-860f25522bc1",
   "metadata": {},
   "source": [
    "# F-String in python"
   ]
  },
  {
   "cell_type": "raw",
   "id": "6e2db1b8-d2f8-433c-99df-d437dba4fd28",
   "metadata": {},
   "source": [
    "\n",
    "F-strings (formatted string literals) in Python provide a concise and readable way to include expressions inside string literals. Introduced in Python 3.6, f-strings are prefixed with an f or F before the opening quote, and expressions are enclosed in curly braces {} within the string."
   ]
  },
  {
   "cell_type": "code",
   "execution_count": 61,
   "id": "dbbd01ce-5480-4153-b4f0-0b0463502c9d",
   "metadata": {},
   "outputs": [
    {
     "name": "stdout",
     "output_type": "stream",
     "text": [
      "Hello, my name is roy and I am 30 years old.\n"
     ]
    }
   ],
   "source": [
    "name = \"roy\"\n",
    "age = 30\n",
    "greeting = f\"Hello, my name is {name} and I am {age} years old.\"\n",
    "print(greeting)\n"
   ]
  },
  {
   "cell_type": "code",
   "execution_count": 62,
   "id": "ab9dce64-ff56-48a7-a9e0-10b16ea68f4f",
   "metadata": {},
   "outputs": [
    {
     "name": "stdout",
     "output_type": "stream",
     "text": [
      "Hello, BOB!\n"
     ]
    }
   ],
   "source": [
    "def to_uppercase(s):\n",
    "    return s.upper()\n",
    "\n",
    "name = \"Bob\"\n",
    "message = f\"Hello, {to_uppercase(name)}!\"\n",
    "print(message)\n"
   ]
  },
  {
   "cell_type": "code",
   "execution_count": 63,
   "id": "310c8f0c-c49e-4e7d-a0ae-23d9121ed5cd",
   "metadata": {},
   "outputs": [
    {
     "name": "stdout",
     "output_type": "stream",
     "text": [
      "Charlie is 25 years old.\n"
     ]
    }
   ],
   "source": [
    "person = {\"name\": \"Charlie\", \"age\": 25}\n",
    "info = f\"{person['name']} is {person['age']} years old.\"\n",
    "print(info)\n"
   ]
  },
  {
   "cell_type": "markdown",
   "id": "3c720ee9-d2e7-4af2-8ecf-ca2716ced48c",
   "metadata": {},
   "source": [
    "# zip function in python "
   ]
  },
  {
   "cell_type": "raw",
   "id": "6dfdb6c6-4513-43d2-b52e-345b7d2cb8df",
   "metadata": {},
   "source": [
    "The zip() function in Python is used to combine multiple iterables (like lists, tuples, etc.) into a single iterable of tuples. Each tuple contains elements from the corresponding position in each of the input iterables."
   ]
  },
  {
   "cell_type": "code",
   "execution_count": 64,
   "id": "885d98d2-4fa6-4240-9298-62014a7cbde5",
   "metadata": {},
   "outputs": [
    {
     "name": "stdout",
     "output_type": "stream",
     "text": [
      "[(1, 'a'), (2, 'b'), (3, 'c')]\n"
     ]
    }
   ],
   "source": [
    "list1 = [1, 2, 3]\n",
    "list2 = ['a', 'b', 'c']\n",
    "\n",
    "zipped = zip(list1, list2)\n",
    "print(list(zipped))\n"
   ]
  },
  {
   "cell_type": "code",
   "execution_count": 65,
   "id": "04087b9b-4c8b-4e21-a30c-b1a4509fa210",
   "metadata": {},
   "outputs": [
    {
     "name": "stdout",
     "output_type": "stream",
     "text": [
      "[(1, 'a'), (2, 'b'), (3, 'c')]\n"
     ]
    }
   ],
   "source": [
    "tuple1 = (1, 2, 3)\n",
    "tuple2 = ('a', 'b', 'c')\n",
    "\n",
    "zipped = zip(tuple1, tuple2)\n",
    "print(list(zipped))\n",
    "\n"
   ]
  },
  {
   "cell_type": "code",
   "execution_count": 66,
   "id": "62742a86-4523-4cdb-8ff2-19cf0a30cc7b",
   "metadata": {},
   "outputs": [
    {
     "name": "stdout",
     "output_type": "stream",
     "text": [
      "[(1, 'a'), (2, 'b')]\n"
     ]
    }
   ],
   "source": [
    "list1 = [1, 2, 3]\n",
    "list2 = ['a', 'b']\n",
    "\n",
    "zipped = zip(list1, list2)\n",
    "print(list(zipped))\n"
   ]
  },
  {
   "cell_type": "code",
   "execution_count": 67,
   "id": "eb26ebff-938d-4bd8-9f18-94f260507599",
   "metadata": {},
   "outputs": [
    {
     "name": "stdout",
     "output_type": "stream",
     "text": [
      "{'name': 'Alice', 'age': 30, 'city': 'New York'}\n"
     ]
    }
   ],
   "source": [
    "keys = [\"name\", \"age\", \"city\"]\n",
    "values = [\"Alice\", 30, \"New York\"]\n",
    "\n",
    "dictionary = dict(zip(keys, values))\n",
    "print(dictionary)\n"
   ]
  },
  {
   "cell_type": "code",
   "execution_count": null,
   "id": "44f1aae7-874d-4654-9437-8a3c7a22763b",
   "metadata": {},
   "outputs": [],
   "source": []
  }
 ],
 "metadata": {
  "kernelspec": {
   "display_name": "Python 3 (ipykernel)",
   "language": "python",
   "name": "python3"
  },
  "language_info": {
   "codemirror_mode": {
    "name": "ipython",
    "version": 3
   },
   "file_extension": ".py",
   "mimetype": "text/x-python",
   "name": "python",
   "nbconvert_exporter": "python",
   "pygments_lexer": "ipython3",
   "version": "3.12.4"
  }
 },
 "nbformat": 4,
 "nbformat_minor": 5
}
