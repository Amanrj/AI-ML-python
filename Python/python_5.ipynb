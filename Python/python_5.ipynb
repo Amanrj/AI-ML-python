{
 "cells": [
  {
   "cell_type": "markdown",
   "id": "1edf2100-7832-44a1-afa9-235d88bd147d",
   "metadata": {},
   "source": [
    "# Function "
   ]
  },
  {
   "cell_type": "raw",
   "id": "474d0e07-3c8d-4e1c-876a-544f96a79a7a",
   "metadata": {},
   "source": [
    "\n",
    "Functions in Python are blocks of reusable code that perform a specific task. They help in organizing code, making it more readable, and enabling reuse of code. Functions can take input (arguments), perform operations, and return output (results)."
   ]
  },
  {
   "cell_type": "code",
   "execution_count": 1,
   "id": "7a280465-1ccb-4015-9713-ff3329f90a07",
   "metadata": {},
   "outputs": [],
   "source": [
    "def is_num():\n",
    "    print(\"this is number:\")"
   ]
  },
  {
   "cell_type": "code",
   "execution_count": 3,
   "id": "7353fd96-bd23-492d-ad86-03ee0a42455c",
   "metadata": {},
   "outputs": [
    {
     "name": "stdout",
     "output_type": "stream",
     "text": [
      "this is number:\n"
     ]
    }
   ],
   "source": [
    "is_num()"
   ]
  },
  {
   "cell_type": "code",
   "execution_count": 4,
   "id": "00d25fd7-eea9-4321-bda8-49bd324397dd",
   "metadata": {},
   "outputs": [
    {
     "name": "stdout",
     "output_type": "stream",
     "text": [
      "Hello, World!\n"
     ]
    }
   ],
   "source": [
    "def greet():\n",
    "    print(\"Hello, World!\")\n",
    "\n",
    "greet()\n"
   ]
  },
  {
   "cell_type": "code",
   "execution_count": 5,
   "id": "a6d429f6-ca62-4e26-a3f6-088077cc29f8",
   "metadata": {},
   "outputs": [
    {
     "name": "stdout",
     "output_type": "stream",
     "text": [
      "Hello, Aly!\n"
     ]
    }
   ],
   "source": [
    "def greet(name):\n",
    "    print(f\"Hello, {name}!\")\n",
    "\n",
    "greet(\"Aly\")\n",
    "\n"
   ]
  },
  {
   "cell_type": "code",
   "execution_count": 6,
   "id": "f17ac0a1-dbf7-4db3-b7e4-3e7d15f715d4",
   "metadata": {},
   "outputs": [],
   "source": [
    "# function with Return value "
   ]
  },
  {
   "cell_type": "code",
   "execution_count": 7,
   "id": "97783d38-6520-47ad-a7b3-7295d934837e",
   "metadata": {},
   "outputs": [
    {
     "name": "stdout",
     "output_type": "stream",
     "text": [
      "8\n"
     ]
    }
   ],
   "source": [
    "def add(a, b):\n",
    "    return a + b\n",
    "\n",
    "result = add(3, 5)\n",
    "print(result)\n",
    "\n"
   ]
  },
  {
   "cell_type": "code",
   "execution_count": 8,
   "id": "bfc155cd-aeea-481c-a6d6-ece560e0a6b6",
   "metadata": {},
   "outputs": [],
   "source": [
    "#Using return\n",
    "#what is return? "
   ]
  },
  {
   "cell_type": "raw",
   "id": "6e9e4601-ac6c-4c94-9b87-fb6ec3556e3a",
   "metadata": {},
   "source": [
    "The return statement in Python is used to exit a function and go back to the place from where it was called. It can be used to return a value from a function. If no value is specified, the function returns None."
   ]
  },
  {
   "cell_type": "code",
   "execution_count": 9,
   "id": "f57d2063-123a-4c8c-a9b1-075c4e1f688d",
   "metadata": {},
   "outputs": [],
   "source": [
    "def function_name(parameters):\n",
    "\n",
    "    return value\n"
   ]
  },
  {
   "cell_type": "code",
   "execution_count": 10,
   "id": "98bc1ae8-ae4d-4955-a594-c78e648dc740",
   "metadata": {},
   "outputs": [
    {
     "name": "stdout",
     "output_type": "stream",
     "text": [
      "8\n"
     ]
    }
   ],
   "source": [
    "def add(a, b):\n",
    "    return a + b\n",
    "\n",
    "result = add(3, 5)\n",
    "print(result)\n"
   ]
  },
  {
   "cell_type": "code",
   "execution_count": 11,
   "id": "a543af26-89bb-404d-9cc9-d8f13ce53f78",
   "metadata": {},
   "outputs": [],
   "source": [
    "#Returning Multiple Values"
   ]
  },
  {
   "cell_type": "code",
   "execution_count": 12,
   "id": "fb5cabf5-9c81-42b0-8f14-077635255b01",
   "metadata": {},
   "outputs": [
    {
     "name": "stdout",
     "output_type": "stream",
     "text": [
      "Aly\n",
      "30\n",
      "New York\n"
     ]
    }
   ],
   "source": [
    "def get_person_info():\n",
    "    name = \"Aly\"\n",
    "    age = 30\n",
    "    city = \"New York\"\n",
    "    return name, age, city\n",
    "\n",
    "name, age, city = get_person_info()\n",
    "print(name)  \n",
    "print(age)   \n",
    "print(city) \n"
   ]
  },
  {
   "cell_type": "markdown",
   "id": "818c7254-0909-4bbb-815b-0e1acc90ce78",
   "metadata": {},
   "source": [
    "# Lambda Function"
   ]
  },
  {
   "cell_type": "raw",
   "id": "8458552b-b07b-41c1-a99a-1f30a437ad7a",
   "metadata": {},
   "source": [
    "Lambda functions in Python are small, anonymous functions defined using the lambda keyword. They can have any number of arguments but only one expression. Lambda functions are often used for short, simple functions that are needed for a short period of time."
   ]
  },
  {
   "cell_type": "code",
   "execution_count": 13,
   "id": "b2f02870-9366-4ac9-bf30-31a30c2b9060",
   "metadata": {},
   "outputs": [
    {
     "name": "stdout",
     "output_type": "stream",
     "text": [
      "5\n"
     ]
    }
   ],
   "source": [
    "add = lambda x, y: x + y\n",
    "print(add(2, 3))\n"
   ]
  },
  {
   "cell_type": "markdown",
   "id": "1e6cd8e0-8b24-4881-9c49-a14de5c78722",
   "metadata": {},
   "source": [
    "# *args"
   ]
  },
  {
   "cell_type": "raw",
   "id": "8c1133d3-68e9-49c7-80b7-0ce90b55bd93",
   "metadata": {},
   "source": [
    "*args allows you to pass a variable number of non-keyword arguments to a function. The arguments are passed as a tuple."
   ]
  },
  {
   "cell_type": "code",
   "execution_count": 15,
   "id": "53bd5db2-8feb-4328-9691-f69c8a27bdb7",
   "metadata": {},
   "outputs": [
    {
     "name": "stdout",
     "output_type": "stream",
     "text": [
      "Hello, Aman!\n",
      "Hello, vicky!\n",
      "Hello, Charlie!\n"
     ]
    }
   ],
   "source": [
    "def greet(*args):\n",
    "    for name in args:\n",
    "        print(f\"Hello, {name}!\")\n",
    "\n",
    "greet(\"Aman\", \"vicky\", \"Charlie\")\n"
   ]
  },
  {
   "cell_type": "markdown",
   "id": "b4deec33-3ce1-4719-b3a4-18e691bf43a1",
   "metadata": {},
   "source": [
    "# **kwargs"
   ]
  },
  {
   "cell_type": "raw",
   "id": "a47a18a7-693f-4394-b849-3b922a6ffb85",
   "metadata": {},
   "source": [
    "**kwargs allows you to pass a variable number of keyword arguments to a function. The arguments are passed as a dictionary."
   ]
  },
  {
   "cell_type": "code",
   "execution_count": 16,
   "id": "97fc0cfb-125f-4034-858c-ef3dd6cc25f8",
   "metadata": {},
   "outputs": [
    {
     "name": "stdout",
     "output_type": "stream",
     "text": [
      "name: Aly\n",
      "age: 30\n",
      "city: New York\n"
     ]
    }
   ],
   "source": [
    "def describe_person(**kwargs):\n",
    "    for key, value in kwargs.items():\n",
    "        print(f\"{key}: {value}\")\n",
    "\n",
    "describe_person(name=\"Aly\", age=30, city=\"New York\")\n"
   ]
  },
  {
   "cell_type": "markdown",
   "id": "f60ef677-f65e-45ad-840a-ebfc2a6347e2",
   "metadata": {},
   "source": [
    "# string indexing"
   ]
  },
  {
   "cell_type": "raw",
   "id": "df55ccc1-818a-4d8b-b9c8-2854e3705a2d",
   "metadata": {},
   "source": [
    "\n",
    "String indexing in Python allows you to access individual characters or substrings within a string. Each character in a string is assigned a unique index based on its position. Indexing starts from 0 for the first character and goes up to len(string) - 1 for the last character. Negative indexing is also supported, where -1 refers to the last character, -2 to the second last, and so on."
   ]
  },
  {
   "cell_type": "code",
   "execution_count": 21,
   "id": "2dd8b6e3-6c0c-4d83-ad39-a62412f43cd1",
   "metadata": {},
   "outputs": [
    {
     "name": "stdout",
     "output_type": "stream",
     "text": [
      "y\n",
      "i\n",
      "a\n"
     ]
    }
   ],
   "source": [
    "text = \"my name in aman \"\n",
    "print(text[1])   \n",
    "print(text[8])   \n",
    "print(text[11])  \n"
   ]
  },
  {
   "cell_type": "code",
   "execution_count": 22,
   "id": "123b05c2-05ec-4e77-9b7e-60a1cba26e33",
   "metadata": {},
   "outputs": [
    {
     "name": "stdout",
     "output_type": "stream",
     "text": [
      "!\n",
      "W\n",
      "H\n"
     ]
    }
   ],
   "source": [
    "text = \"Hello, World!\"\n",
    "print(text[-1]) \n",
    "print(text[-6])  \n",
    "print(text[-13]) \n"
   ]
  },
  {
   "cell_type": "code",
   "execution_count": 23,
   "id": "51f3f8b8-4994-4e7d-85dd-79427553ba95",
   "metadata": {},
   "outputs": [
    {
     "data": {
      "text/plain": [
       "','"
      ]
     },
     "execution_count": 23,
     "metadata": {},
     "output_type": "execute_result"
    }
   ],
   "source": [
    "text[5]"
   ]
  },
  {
   "cell_type": "code",
   "execution_count": 24,
   "id": "1ef1d73d-2eb1-4575-b20b-fcec4242366a",
   "metadata": {},
   "outputs": [
    {
     "data": {
      "text/plain": [
       "' '"
      ]
     },
     "execution_count": 24,
     "metadata": {},
     "output_type": "execute_result"
    }
   ],
   "source": [
    "text[6]"
   ]
  },
  {
   "cell_type": "code",
   "execution_count": 25,
   "id": "91ced88b-0469-4493-a1c0-a7da316ea8d1",
   "metadata": {},
   "outputs": [
    {
     "data": {
      "text/plain": [
       "'ello, W'"
      ]
     },
     "execution_count": 25,
     "metadata": {},
     "output_type": "execute_result"
    }
   ],
   "source": [
    "text[1:8]"
   ]
  },
  {
   "cell_type": "code",
   "execution_count": 26,
   "id": "f2b3ab41-6754-445e-8782-b4f0e5c10502",
   "metadata": {},
   "outputs": [
    {
     "data": {
      "text/plain": [
       "'Hl r!'"
      ]
     },
     "execution_count": 26,
     "metadata": {},
     "output_type": "execute_result"
    }
   ],
   "source": [
    "text[::3]"
   ]
  },
  {
   "cell_type": "markdown",
   "id": "a7359952-6d2d-4f38-b9f5-990ce0315376",
   "metadata": {},
   "source": [
    "# Map Function"
   ]
  },
  {
   "cell_type": "raw",
   "id": "f6fa3f2f-fa75-43ac-93fc-d59a81b40d9f",
   "metadata": {},
   "source": [
    "The map() function in Python is used to apply a given function to each item in an iterable (such as a list or tuple) and return an iterable of the results. It’s a convenient way to process and transform data in a functional programming style."
   ]
  },
  {
   "cell_type": "code",
   "execution_count": 27,
   "id": "7ba653d0-9375-46d4-84a7-3c966921ab00",
   "metadata": {},
   "outputs": [
    {
     "name": "stdout",
     "output_type": "stream",
     "text": [
      "[1, 4, 9, 16, 25]\n"
     ]
    }
   ],
   "source": [
    "def square(x):\n",
    "    return x * x\n",
    "\n",
    "numbers = [1, 2, 3, 4, 5]\n",
    "squared_numbers = map(square, numbers)\n",
    "print(list(squared_numbers))\n",
    "\n"
   ]
  },
  {
   "cell_type": "code",
   "execution_count": 28,
   "id": "9011fef4-a03d-4e45-a557-d24cc6d7b022",
   "metadata": {},
   "outputs": [
    {
     "name": "stdout",
     "output_type": "stream",
     "text": [
      "[5, 7, 9]\n"
     ]
    }
   ],
   "source": [
    "def add(x, y):\n",
    "    return x + y\n",
    "\n",
    "list1 = [1, 2, 3]\n",
    "list2 = [4, 5, 6]\n",
    "summed = map(add, list1, list2)\n",
    "print(list(summed))\n",
    "\n"
   ]
  },
  {
   "cell_type": "code",
   "execution_count": 29,
   "id": "9665bead-ad1f-4da7-9829-791b76d3ebaa",
   "metadata": {},
   "outputs": [
    {
     "name": "stdout",
     "output_type": "stream",
     "text": [
      "HELLO\n"
     ]
    }
   ],
   "source": [
    "def uppercase(char):\n",
    "    return char.upper()\n",
    "\n",
    "text = \"hello\"\n",
    "uppercase_text = map(uppercase, text)\n",
    "print(''.join(uppercase_text))\n"
   ]
  },
  {
   "cell_type": "markdown",
   "id": "75946f0d-7588-49bc-8d8c-154ff1514793",
   "metadata": {},
   "source": [
    "# filter Function"
   ]
  },
  {
   "cell_type": "raw",
   "id": "977e1b4e-d51f-4fcd-9998-2889cf044f08",
   "metadata": {},
   "source": [
    "The filter() function in Python is used to construct an iterator from elements of an iterable for which a function returns True. It’s commonly used to filter elements based on a condition."
   ]
  },
  {
   "cell_type": "code",
   "execution_count": 30,
   "id": "a5dd1e9f-5b9f-4385-b4fc-35ae0a77d6fd",
   "metadata": {},
   "outputs": [
    {
     "name": "stdout",
     "output_type": "stream",
     "text": [
      "[2, 4, 6]\n"
     ]
    }
   ],
   "source": [
    "def is_even(num):\n",
    "    return num % 2 == 0\n",
    "\n",
    "numbers = [1, 2, 3, 4, 5, 6]\n",
    "even_numbers = filter(is_even, numbers)\n",
    "print(list(even_numbers))\n",
    "\n"
   ]
  },
  {
   "cell_type": "code",
   "execution_count": 31,
   "id": "33389892-21c9-46ed-b26e-0d2221ffba41",
   "metadata": {},
   "outputs": [
    {
     "name": "stdout",
     "output_type": "stream",
     "text": [
      "[2, 4, 6]\n"
     ]
    }
   ],
   "source": [
    "def is_even(num):\n",
    "    return num % 2 == 0\n",
    "\n",
    "numbers = [1, 2, 3, 4, 5, 6]\n",
    "even_numbers = filter(is_even, numbers)\n",
    "print(list(even_numbers))\n",
    "\n"
   ]
  },
  {
   "cell_type": "code",
   "execution_count": 32,
   "id": "cb50c6dc-36ae-4403-b035-a6d8c0b1e2f2",
   "metadata": {},
   "outputs": [],
   "source": [
    "#What is the difference between Map and Filter Fucntion.\n",
    "# Map Fucntion - map accepts all element in a given list and function can be applied to it.\n",
    "\n",
    "#Filter Function-Filter accept all data in a list and runs that through a fucntion to create a new list\n",
    "# with all elements that returs True in that Function."
   ]
  },
  {
   "cell_type": "code",
   "execution_count": 33,
   "id": "1a2ee54b-5c70-45d8-861c-3f26eb239efc",
   "metadata": {},
   "outputs": [
    {
     "data": {
      "text/plain": [
       "[False, True, False]"
      ]
     },
     "execution_count": 33,
     "metadata": {},
     "output_type": "execute_result"
    }
   ],
   "source": [
    "list(map(lambda var:var%2==0,[1,2,3]))"
   ]
  },
  {
   "cell_type": "code",
   "execution_count": 34,
   "id": "9e5fc190-f5d8-47b2-b349-a027b862436a",
   "metadata": {},
   "outputs": [
    {
     "data": {
      "text/plain": [
       "[2]"
      ]
     },
     "execution_count": 34,
     "metadata": {},
     "output_type": "execute_result"
    }
   ],
   "source": [
    "\n",
    "list(filter(lambda var:var%2==0,[1,2,3]))"
   ]
  },
  {
   "cell_type": "code",
   "execution_count": null,
   "id": "a6898fad-032b-46a6-ab88-89741916090a",
   "metadata": {},
   "outputs": [],
   "source": []
  }
 ],
 "metadata": {
  "kernelspec": {
   "display_name": "Python 3 (ipykernel)",
   "language": "python",
   "name": "python3"
  },
  "language_info": {
   "codemirror_mode": {
    "name": "ipython",
    "version": 3
   },
   "file_extension": ".py",
   "mimetype": "text/x-python",
   "name": "python",
   "nbconvert_exporter": "python",
   "pygments_lexer": "ipython3",
   "version": "3.12.4"
  }
 },
 "nbformat": 4,
 "nbformat_minor": 5
}
