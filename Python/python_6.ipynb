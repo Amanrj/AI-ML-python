{
 "cells": [
  {
   "cell_type": "markdown",
   "id": "345be605-d5af-43fa-9aa5-78b111ba5c51",
   "metadata": {},
   "source": [
    "# Global and Local variable in python "
   ]
  },
  {
   "cell_type": "raw",
   "id": "8493b2f5-1a7c-4d91-9046-86bb2a3208c5",
   "metadata": {},
   "source": [
    "Global variable  are defined outside of all functions and can be accessed from any functions like (loacal and global fumctions) with the same module."
   ]
  },
  {
   "cell_type": "code",
   "execution_count": 1,
   "id": "b3b70698-44fd-45bd-ab42-17b45ee05214",
   "metadata": {},
   "outputs": [
    {
     "name": "stdout",
     "output_type": "stream",
     "text": [
      "I'm global\n",
      "I'm global\n"
     ]
    }
   ],
   "source": [
    "global_var = \"I'm global\"\n",
    "\n",
    "def my_function():\n",
    "    print(global_var)\n",
    "my_function()\n",
    "print(global_var)\n"
   ]
  },
  {
   "cell_type": "raw",
   "id": "32491200-d9ea-469c-af5a-4e999720ae35",
   "metadata": {},
   "source": [
    "Local variables are defined within a function or a block and can only be accessed within that function or block. They are created when the function is called and destroyed when the function exits."
   ]
  },
  {
   "cell_type": "code",
   "execution_count": 2,
   "id": "09c8dbbd-8abf-4827-84f7-0ded99cd37b1",
   "metadata": {},
   "outputs": [
    {
     "name": "stdout",
     "output_type": "stream",
     "text": [
      "I'm local\n"
     ]
    },
    {
     "ename": "NameError",
     "evalue": "name 'local_var' is not defined",
     "output_type": "error",
     "traceback": [
      "\u001b[1;31m---------------------------------------------------------------------------\u001b[0m",
      "\u001b[1;31mNameError\u001b[0m                                 Traceback (most recent call last)",
      "Cell \u001b[1;32mIn[2], line 7\u001b[0m\n\u001b[0;32m      3\u001b[0m     \u001b[38;5;28mprint\u001b[39m(local_var)\n\u001b[0;32m      5\u001b[0m my_function()\n\u001b[1;32m----> 7\u001b[0m \u001b[38;5;28mprint\u001b[39m(local_var)\n",
      "\u001b[1;31mNameError\u001b[0m: name 'local_var' is not defined"
     ]
    }
   ],
   "source": [
    "def my_function():\n",
    "    local_var = \"I'm local\"\n",
    "    print(local_var)\n",
    "\n",
    "my_function()\n",
    "\n",
    "print(local_var)  \n"
   ]
  },
  {
   "cell_type": "markdown",
   "id": "39b87549-45c7-43f8-ad45-265f39c41098",
   "metadata": {},
   "source": [
    " ## Input Keyword/User"
   ]
  },
  {
   "cell_type": "code",
   "execution_count": 1,
   "id": "87f00c70-266f-46ac-89dc-992feb6c63ed",
   "metadata": {},
   "outputs": [
    {
     "name": "stdin",
     "output_type": "stream",
     "text": [
      "Enter your name:  aman\n",
      "Enter your age:  20\n"
     ]
    },
    {
     "name": "stdout",
     "output_type": "stream",
     "text": [
      "Hello, aman! You are 20 years old.\n"
     ]
    }
   ],
   "source": [
    "name = input(\"Enter your name: \")\n",
    "age = input(\"Enter your age: \")\n",
    "print(f\"Hello, {name}! You are {age} years old.\")\n"
   ]
  },
  {
   "cell_type": "code",
   "execution_count": 3,
   "id": "e9365429-c805-41c5-88c0-82214380ded5",
   "metadata": {},
   "outputs": [
    {
     "name": "stdin",
     "output_type": "stream",
     "text": [
      "Enter Your Marks in math 56\n",
      "Enter Your Marks in sci 34\n"
     ]
    },
    {
     "name": "stdout",
     "output_type": "stream",
     "text": [
      "90  Out of 200\n"
     ]
    }
   ],
   "source": [
    "maths=int(input(\"Enter Your Marks in math\"))  #(int) use for integer\n",
    "science=int(input(\"Enter Your Marks in sci\"))\n",
    "total_marks=maths + science\n",
    "print(total_marks,\" Out of 200\")"
   ]
  },
  {
   "cell_type": "code",
   "execution_count": 4,
   "id": "fbb5ea8f-6bc2-4912-9cd1-08f520e7a42f",
   "metadata": {},
   "outputs": [],
   "source": [
    "def phone_price(phone_make,phone_age,phone_model_gb):\n",
    "    if phone_make==\"iphone13\":\n",
    "        if 0<phone_age<=6:\n",
    "            if phone_model_gb==128:\n",
    "                print(\"Rs 65000 - Rs 75000\")\n",
    "            elif phone_model_gb==256:\n",
    "                print(\"Rs 80000\")\n",
    "        if 6<phone_age<=12:\n",
    "            if phone_model_gb==128:\n",
    "                print(\"Rs 60000 - Rs 65000\")\n",
    "            elif phone_model_gb==256:\n",
    "                print(\"Rs70000\")\n",
    "    elif phone_make==\"iphone11\":\n",
    "        if 0<phone_age<=6:\n",
    "            if phone_model_gb==64:\n",
    "                print(\"Rs 44000 - Rs 48000\")\n",
    "            elif phone_model_gb==128:\n",
    "                print(\"RS 50000 - Rs 550000\")\n",
    "        if 6<phone_age<=12:\n",
    "            if phone_model_gb==64:\n",
    "                print(\"Rs 39000 - Rs 42000\")\n",
    "            elif phone_model_gb:\n",
    "                print(\"Rs 45000 - 48000\")\n",
    "    else:\n",
    "        print(\"No Stock Right Now, Please check after few days\")"
   ]
  },
  {
   "cell_type": "code",
   "execution_count": 5,
   "id": "4368801d-fcb6-4ae9-b1cb-7472d70d605f",
   "metadata": {},
   "outputs": [
    {
     "name": "stdin",
     "output_type": "stream",
     "text": [
      " Enter Your Required Phone   iphone\n",
      " Enter how old phone you need   5\n",
      " Enter how much space do you want in you phone   12\n"
     ]
    },
    {
     "name": "stdout",
     "output_type": "stream",
     "text": [
      "No Stock Right Now, Please check after few days\n"
     ]
    }
   ],
   "source": [
    "phone=input(\" Enter Your Required Phone  \")\n",
    "months_old=int(input(\" Enter how old phone you need  \"))\n",
    "capacity=int(input(\" Enter how much space do you want in you phone  \"))\n",
    "phone_price(phone,months_old,capacity)"
   ]
  },
  {
   "cell_type": "markdown",
   "id": "ce9eaa58-d7d8-45f4-b4cc-2526b3de7201",
   "metadata": {},
   "source": [
    "# Exception handling"
   ]
  },
  {
   "cell_type": "raw",
   "id": "eaca2999-f2f4-4bc3-a310-5be1b3d2aa39",
   "metadata": {},
   "source": [
    "Exception handling in Python is done using try, except, else, and finally blocks. Here's an overview of how each part works:\n",
    "\n",
    "try: The code that might raise an exception is placed inside the try block.\n",
    "except: The code that runs if an exception occurs is placed inside the except block.\n",
    "else: The code that runs if no exception occurs is placed inside the else block.\n",
    "finally: The code that always runs, regardless of whether an exception occurs or not, is placed inside the finally block."
   ]
  },
  {
   "cell_type": "code",
   "execution_count": 6,
   "id": "7a3a3cb4-3c9b-490e-bf26-2b20908fb344",
   "metadata": {},
   "outputs": [
    {
     "name": "stdin",
     "output_type": "stream",
     "text": [
      "Enter a number:  89\n"
     ]
    },
    {
     "name": "stdout",
     "output_type": "stream",
     "text": [
      "Execution completed.\n"
     ]
    }
   ],
   "source": [
    "try:\n",
    "    number = int(input(\"Enter a number: \"))\n",
    "    result = 10 / number\n",
    "except ValueError:\n",
    "    print(\"Invalid input! Please enter a valid number.\")\n",
    "except ZeroDivisionError:\n",
    "    print(\"Error! Division by zero is not allowed.\")\n",
    "    print(f\"The result is {result}.\")\n",
    "finally:\n",
    "    print(\"Execution completed.\")\n"
   ]
  },
  {
   "cell_type": "code",
   "execution_count": 8,
   "id": "bfd5443b-a117-43bf-8076-4fc134f7c762",
   "metadata": {},
   "outputs": [],
   "source": [
    "marks_1=10\n",
    "subject=\"AI/ML\"\n",
    "marks_2=7"
   ]
  },
  {
   "cell_type": "code",
   "execution_count": 9,
   "id": "ab6be78d-3709-4f90-8257-c420cc223078",
   "metadata": {},
   "outputs": [
    {
     "name": "stdout",
     "output_type": "stream",
     "text": [
      "You are only add integer + integer ,not with integer + string\n"
     ]
    }
   ],
   "source": [
    "try:\n",
    "    total= marks_1 + subject\n",
    "except:\n",
    "    print(\"You are only add integer + integer ,not with integer + string\")\n",
    "else:\n",
    "    (total)"
   ]
  },
  {
   "cell_type": "code",
   "execution_count": 10,
   "id": "852a34d3-6e4f-4e60-a835-3e4096cba1d4",
   "metadata": {},
   "outputs": [
    {
     "name": "stdout",
     "output_type": "stream",
     "text": [
      "Your Total marks is \n",
      "\t\t 17\n"
     ]
    }
   ],
   "source": [
    "try:\n",
    "    total=marks_1 + marks_2\n",
    "except:\n",
    "    print(\"plese dont add integer with string\")\n",
    "else:\n",
    "    print(\"Your Total marks is \\n\\t\\t\",total)"
   ]
  },
  {
   "cell_type": "code",
   "execution_count": 12,
   "id": "13318ea0-e54f-4b46-a7ae-78448016d7ea",
   "metadata": {},
   "outputs": [
    {
     "name": "stdin",
     "output_type": "stream",
     "text": [
      "Enter Your Car number  677\n",
      "Enter Your Name  GJH\n",
      "Enter Your Number  RY\n"
     ]
    }
   ],
   "source": [
    "try:\n",
    "    car_number=input(\"Enter Your Car number \")\n",
    "    name=input(\"Enter Your Name \")\n",
    "    mobile_number=input(\"Enter Your Number \")\n",
    "    if car_number ==\" \":\n",
    "        raise Exception()\n",
    "    elif name ==\" \":\n",
    "        raise Exception()\n",
    "    elif mobie_number ==\" \":\n",
    "        raise Exception()\n",
    "    else:\n",
    "        pass\n",
    "except:\n",
    "    if car_number ==\" \":\n",
    "        print(\"\\n The Registration Field Required\")\n",
    "    if name ==\" \":\n",
    "        print(\"\\n The Name Field is required\")\n",
    "    if mobile_number ==\" \":\n",
    "        print(\"\\n The Mobile Number Field is required\")\n",
    "    \n",
    "else:\n",
    "    print(\"Thanks for registration\")"
   ]
  },
  {
   "cell_type": "code",
   "execution_count": 13,
   "id": "7f4154ab-7b7d-467e-8b41-945c34bacded",
   "metadata": {},
   "outputs": [],
   "source": [
    "#Finally Block. We dont actually need to memorize the list of exception types. \n",
    "# Because fianlly blocks use when try and except both getting error , then finally will print.\n",
    "# and finally will execute all times . if there are any error or not.\n"
   ]
  },
  {
   "cell_type": "code",
   "execution_count": 14,
   "id": "3eda0c4b-2a59-468c-8657-753831666294",
   "metadata": {},
   "outputs": [
    {
     "name": "stdin",
     "output_type": "stream",
     "text": [
      "Enter Your Car number  09\n",
      "Enter Your Name   OKJ\n",
      "Enter Your Number   JK\n"
     ]
    },
    {
     "name": "stdout",
     "output_type": "stream",
     "text": [
      "Thanks for registration\n"
     ]
    }
   ],
   "source": [
    "try:\n",
    "    car_number=input(\"Enter Your Car number \")\n",
    "    name=input(\"Enter Your Name  \")\n",
    "    mobile_number=input(\"Enter Your Number  \")\n",
    "    if car_number ==\" \":\n",
    "        raise Exception()\n",
    "    elif name ==\" \":\n",
    "        raise Exception()\n",
    "    elif mobie_number ==\" \":\n",
    "        raise Exception()\n",
    "    else:\n",
    "        pass\n",
    "except:\n",
    "    if car_number ==\" \":\n",
    "        print(\"\\n The Registration Field Required\")\n",
    "    if name ==\" \":\n",
    "        print(\"\\n The Name Field is required\")\n",
    "    if mobile_number ==\" \":\n",
    "        print(\"\\n The Mobile Number Field is required\")\n",
    "    \n",
    "finally:\n",
    "    print(\"Thanks for registration\")"
   ]
  },
  {
   "cell_type": "code",
   "execution_count": null,
   "id": "676db29c-4de5-49c7-8f48-378a1a413fbb",
   "metadata": {},
   "outputs": [],
   "source": []
  }
 ],
 "metadata": {
  "kernelspec": {
   "display_name": "Python 3 (ipykernel)",
   "language": "python",
   "name": "python3"
  },
  "language_info": {
   "codemirror_mode": {
    "name": "ipython",
    "version": 3
   },
   "file_extension": ".py",
   "mimetype": "text/x-python",
   "name": "python",
   "nbconvert_exporter": "python",
   "pygments_lexer": "ipython3",
   "version": "3.12.4"
  }
 },
 "nbformat": 4,
 "nbformat_minor": 5
}
