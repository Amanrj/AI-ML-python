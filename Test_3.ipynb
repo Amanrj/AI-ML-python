{
 "cells": [
  {
   "cell_type": "markdown",
   "id": "042887b2-c4ea-488d-8735-e69468ecfcd9",
   "metadata": {},
   "source": [
    "# Part 1: Pandas (8 questions, 16 marks"
   ]
  },
  {
   "cell_type": "raw",
   "id": "a861d43a-8ddc-406c-b5bb-97635852f8e6",
   "metadata": {},
   "source": [
    "DataFrame Creation (2 marks)\n",
    "Create a DataFrame from the following dictionary:\n"
   ]
  },
  {
   "cell_type": "code",
   "execution_count": 6,
   "id": "7e37db23-0e31-4243-b4e4-d7009ffbd4df",
   "metadata": {},
   "outputs": [],
   "source": [
    "import pandas as pd\n",
    "data = {\n",
    " 'Name': ['Alice', 'Bob', 'Charlie', 'David', 'Eve'],\n",
    " 'Age': [24, 27, 22, 32, 29],\n",
    " 'Score': [85.5, 90.3, 88.0, 92.1, 78.8]\n",
    "}"
   ]
  },
  {
   "cell_type": "code",
   "execution_count": 8,
   "id": "b268041c-3c8e-4171-bdfa-90f229e63aed",
   "metadata": {},
   "outputs": [
    {
     "name": "stdout",
     "output_type": "stream",
     "text": [
      "      Name  Age  Score\n",
      "0    Alice   24   85.5\n",
      "1      Bob   27   90.3\n",
      "2  Charlie   22   88.0\n",
      "3    David   32   92.1\n",
      "4      Eve   29   78.8\n"
     ]
    }
   ],
   "source": [
    "df = pd.DataFrame(data)\n",
    "print(df)"
   ]
  },
  {
   "cell_type": "raw",
   "id": "6c5b54f3-ffff-495a-ad0b-2489d2dc7beb",
   "metadata": {},
   "source": [
    "Inspecting DataFrame (2 marks)\n",
    "Using the DataFrame created in question 1, display the first three rows."
   ]
  },
  {
   "cell_type": "code",
   "execution_count": 11,
   "id": "96fd568e-6198-4bf3-9b5b-d3b643ea0efd",
   "metadata": {},
   "outputs": [
    {
     "data": {
      "text/html": [
       "<div>\n",
       "<style scoped>\n",
       "    .dataframe tbody tr th:only-of-type {\n",
       "        vertical-align: middle;\n",
       "    }\n",
       "\n",
       "    .dataframe tbody tr th {\n",
       "        vertical-align: top;\n",
       "    }\n",
       "\n",
       "    .dataframe thead th {\n",
       "        text-align: right;\n",
       "    }\n",
       "</style>\n",
       "<table border=\"1\" class=\"dataframe\">\n",
       "  <thead>\n",
       "    <tr style=\"text-align: right;\">\n",
       "      <th></th>\n",
       "      <th>Name</th>\n",
       "      <th>Age</th>\n",
       "      <th>Score</th>\n",
       "    </tr>\n",
       "  </thead>\n",
       "  <tbody>\n",
       "    <tr>\n",
       "      <th>0</th>\n",
       "      <td>Alice</td>\n",
       "      <td>24</td>\n",
       "      <td>85.5</td>\n",
       "    </tr>\n",
       "    <tr>\n",
       "      <th>1</th>\n",
       "      <td>Bob</td>\n",
       "      <td>27</td>\n",
       "      <td>90.3</td>\n",
       "    </tr>\n",
       "    <tr>\n",
       "      <th>2</th>\n",
       "      <td>Charlie</td>\n",
       "      <td>22</td>\n",
       "      <td>88.0</td>\n",
       "    </tr>\n",
       "  </tbody>\n",
       "</table>\n",
       "</div>"
      ],
      "text/plain": [
       "      Name  Age  Score\n",
       "0    Alice   24   85.5\n",
       "1      Bob   27   90.3\n",
       "2  Charlie   22   88.0"
      ]
     },
     "execution_count": 11,
     "metadata": {},
     "output_type": "execute_result"
    }
   ],
   "source": [
    "df.head(3)"
   ]
  },
  {
   "cell_type": "raw",
   "id": "ec63b248-15f6-4395-8771-9951036ab4da",
   "metadata": {},
   "source": [
    "Column Selection (2 marks)\n",
    "Select and display the 'Name' and 'Score' columns from the DataFrame created in question 1."
   ]
  },
  {
   "cell_type": "code",
   "execution_count": 17,
   "id": "9b6c06d9-c979-45a4-bffe-503fc25539b2",
   "metadata": {},
   "outputs": [],
   "source": [
    "show = df[['Name','Score']]"
   ]
  },
  {
   "cell_type": "code",
   "execution_count": 18,
   "id": "e51d5475-37fc-437b-aeaa-e3ca445045d4",
   "metadata": {},
   "outputs": [
    {
     "name": "stdout",
     "output_type": "stream",
     "text": [
      "      Name  Score\n",
      "0    Alice   85.5\n",
      "1      Bob   90.3\n",
      "2  Charlie   88.0\n",
      "3    David   92.1\n",
      "4      Eve   78.8\n"
     ]
    }
   ],
   "source": [
    "print(show)"
   ]
  },
  {
   "cell_type": "raw",
   "id": "53822f33-7470-41d1-9dfc-ae904e0953d3",
   "metadata": {},
   "source": [
    "Filtering Data (2 marks)\n",
    "Filter the DataFrame to show only the rows where the 'Age' is greater than 25."
   ]
  },
  {
   "cell_type": "code",
   "execution_count": 23,
   "id": "776a2d9c-4973-49d4-9dc6-2c3922ad57ed",
   "metadata": {},
   "outputs": [],
   "source": [
    "filter= df[df['Age']> 25]"
   ]
  },
  {
   "cell_type": "code",
   "execution_count": 24,
   "id": "dc7a0378-99b6-4bbd-b28f-86ea6fa0effb",
   "metadata": {},
   "outputs": [
    {
     "name": "stdout",
     "output_type": "stream",
     "text": [
      "    Name  Age  Score\n",
      "1    Bob   27   90.3\n",
      "3  David   32   92.1\n",
      "4    Eve   29   78.8\n"
     ]
    }
   ],
   "source": [
    "print(filter)"
   ]
  },
  {
   "cell_type": "raw",
   "id": "ac529079-0810-49aa-8e71-d1c2565b85da",
   "metadata": {},
   "source": [
    "Adding a Column (2 marks)\n",
    "Add a new column 'Passed' to the DataFrame, where the value is True if the 'Score' is greater than\n",
    "80, otherwise False."
   ]
  },
  {
   "cell_type": "code",
   "execution_count": 29,
   "id": "235f088f-8b86-4509-bcdc-fe23e0d6b215",
   "metadata": {},
   "outputs": [],
   "source": [
    "df ['passed'] = df['Score']"
   ]
  },
  {
   "cell_type": "code",
   "execution_count": 27,
   "id": "2c71b609-c235-4274-8034-625514ab7c1c",
   "metadata": {},
   "outputs": [
    {
     "data": {
      "text/plain": [
       "0     True\n",
       "1     True\n",
       "2     True\n",
       "3     True\n",
       "4    False\n",
       "Name: Score, dtype: bool"
      ]
     },
     "execution_count": 27,
     "metadata": {},
     "output_type": "execute_result"
    }
   ],
   "source": [
    "df['Score']>80"
   ]
  },
  {
   "cell_type": "code",
   "execution_count": 30,
   "id": "98275c33-8080-4ec7-8f4a-ae43849b9718",
   "metadata": {},
   "outputs": [
    {
     "name": "stdout",
     "output_type": "stream",
     "text": [
      "      Name  Age  Score  passed\n",
      "0    Alice   24   85.5    85.5\n",
      "1      Bob   27   90.3    90.3\n",
      "2  Charlie   22   88.0    88.0\n",
      "3    David   32   92.1    92.1\n",
      "4      Eve   29   78.8    78.8\n"
     ]
    }
   ],
   "source": [
    "print(df)"
   ]
  },
  {
   "cell_type": "markdown",
   "id": "71b40748-7c23-433f-a8f3-accf3d05dc98",
   "metadata": {},
   "source": [
    "### Sort the DataFrame by the 'Score' column in descending order."
   ]
  },
  {
   "cell_type": "code",
   "execution_count": 55,
   "id": "e7d006de-6213-458b-8d62-d724998d2eed",
   "metadata": {},
   "outputs": [
    {
     "ename": "TypeError",
     "evalue": "'bool' object is not callable",
     "output_type": "error",
     "traceback": [
      "\u001b[1;31m---------------------------------------------------------------------------\u001b[0m",
      "\u001b[1;31mTypeError\u001b[0m                                 Traceback (most recent call last)",
      "Cell \u001b[1;32mIn[55], line 1\u001b[0m\n\u001b[1;32m----> 1\u001b[0m short\u001b[38;5;241m=\u001b[39m df\u001b[38;5;241m.\u001b[39msort([\u001b[38;5;124m'\u001b[39m\u001b[38;5;124mScore\u001b[39m\u001b[38;5;124m'\u001b[39m])\n",
      "\u001b[1;31mTypeError\u001b[0m: 'bool' object is not callable"
     ]
    }
   ],
   "source": [
    " short= df.sort(['Score'])\n"
   ]
  },
  {
   "cell_type": "markdown",
   "id": "d048b594-d2f6-4e0f-9b70-01658287a710",
   "metadata": {},
   "source": [
    "### Group the DataFrame by the 'Passed' column and calculate the mean 'Score' for each group."
   ]
  },
  {
   "cell_type": "code",
   "execution_count": null,
   "id": "5387b3f0-4c2d-4ad9-8057-26f78d278168",
   "metadata": {},
   "outputs": [],
   "source": [
    "group =df.groupby('Passed')\n",
    "print(group.mean())"
   ]
  },
  {
   "cell_type": "markdown",
   "id": "0ebdc316-1c4a-4b98-acaf-4ee241a6143c",
   "metadata": {},
   "source": [
    "### Handling Missing Data (2 marks)\n",
    "Add a new column 'Attendance' with values [90, np.nan, 85, 87, np.nan]. Write the code to fill\n",
    "missing values with the mean of the column."
   ]
  },
  {
   "cell_type": "code",
   "execution_count": 59,
   "id": "0fffbb5b-8e3d-45cb-8030-9e03ac91e120",
   "metadata": {},
   "outputs": [
    {
     "ename": "NameError",
     "evalue": "name 'Attendance' is not defined",
     "output_type": "error",
     "traceback": [
      "\u001b[1;31m---------------------------------------------------------------------------\u001b[0m",
      "\u001b[1;31mNameError\u001b[0m                                 Traceback (most recent call last)",
      "Cell \u001b[1;32mIn[59], line 2\u001b[0m\n\u001b[0;32m      1\u001b[0m \u001b[38;5;28;01mimport\u001b[39;00m \u001b[38;5;21;01mnumpy\u001b[39;00m \u001b[38;5;28;01mas\u001b[39;00m \u001b[38;5;21;01mnp\u001b[39;00m\n\u001b[1;32m----> 2\u001b[0m data[Attendance] \u001b[38;5;241m=\u001b[39m [\u001b[38;5;241m90\u001b[39m,np\u001b[38;5;241m.\u001b[39mnan,\u001b[38;5;241m85\u001b[39m,\u001b[38;5;241m87\u001b[39m,np\u001b[38;5;241m.\u001b[39mnan]\n",
      "\u001b[1;31mNameError\u001b[0m: name 'Attendance' is not defined"
     ]
    }
   ],
   "source": [
    "import numpy as np\n",
    "data[Attendance] = [90,np.nan,85,87,np.nan]"
   ]
  },
  {
   "cell_type": "code",
   "execution_count": 60,
   "id": "7578f988-f3a9-4776-ba71-7c216fb350ec",
   "metadata": {},
   "outputs": [
    {
     "name": "stdout",
     "output_type": "stream",
     "text": [
      "<pandas.core.groupby.generic.DataFrameGroupBy object at 0x0000023DCC607AD0>\n"
     ]
    }
   ],
   "source": [
    "print(df)"
   ]
  },
  {
   "cell_type": "code",
   "execution_count": 61,
   "id": "a3fd77d8-2f39-4141-9f4f-52931194a2dd",
   "metadata": {},
   "outputs": [
    {
     "ename": "KeyError",
     "evalue": "'Column not found: Attendance'",
     "output_type": "error",
     "traceback": [
      "\u001b[1;31m---------------------------------------------------------------------------\u001b[0m",
      "\u001b[1;31mKeyError\u001b[0m                                  Traceback (most recent call last)",
      "Cell \u001b[1;32mIn[61], line 1\u001b[0m\n\u001b[1;32m----> 1\u001b[0m mean_data \u001b[38;5;241m=\u001b[39m df[\u001b[38;5;124m'\u001b[39m\u001b[38;5;124mAttendance\u001b[39m\u001b[38;5;124m'\u001b[39m]\u001b[38;5;241m.\u001b[39mmean()\n",
      "File \u001b[1;32m~\\anaconda3\\Lib\\site-packages\\pandas\\core\\groupby\\generic.py:1951\u001b[0m, in \u001b[0;36mDataFrameGroupBy.__getitem__\u001b[1;34m(self, key)\u001b[0m\n\u001b[0;32m   1944\u001b[0m \u001b[38;5;28;01mif\u001b[39;00m \u001b[38;5;28misinstance\u001b[39m(key, \u001b[38;5;28mtuple\u001b[39m) \u001b[38;5;129;01mand\u001b[39;00m \u001b[38;5;28mlen\u001b[39m(key) \u001b[38;5;241m>\u001b[39m \u001b[38;5;241m1\u001b[39m:\n\u001b[0;32m   1945\u001b[0m     \u001b[38;5;66;03m# if len == 1, then it becomes a SeriesGroupBy and this is actually\u001b[39;00m\n\u001b[0;32m   1946\u001b[0m     \u001b[38;5;66;03m# valid syntax, so don't raise\u001b[39;00m\n\u001b[0;32m   1947\u001b[0m     \u001b[38;5;28;01mraise\u001b[39;00m \u001b[38;5;167;01mValueError\u001b[39;00m(\n\u001b[0;32m   1948\u001b[0m         \u001b[38;5;124m\"\u001b[39m\u001b[38;5;124mCannot subset columns with a tuple with more than one element. \u001b[39m\u001b[38;5;124m\"\u001b[39m\n\u001b[0;32m   1949\u001b[0m         \u001b[38;5;124m\"\u001b[39m\u001b[38;5;124mUse a list instead.\u001b[39m\u001b[38;5;124m\"\u001b[39m\n\u001b[0;32m   1950\u001b[0m     )\n\u001b[1;32m-> 1951\u001b[0m \u001b[38;5;28;01mreturn\u001b[39;00m \u001b[38;5;28msuper\u001b[39m()\u001b[38;5;241m.\u001b[39m\u001b[38;5;21m__getitem__\u001b[39m(key)\n",
      "File \u001b[1;32m~\\anaconda3\\Lib\\site-packages\\pandas\\core\\base.py:244\u001b[0m, in \u001b[0;36mSelectionMixin.__getitem__\u001b[1;34m(self, key)\u001b[0m\n\u001b[0;32m    242\u001b[0m \u001b[38;5;28;01melse\u001b[39;00m:\n\u001b[0;32m    243\u001b[0m     \u001b[38;5;28;01mif\u001b[39;00m key \u001b[38;5;129;01mnot\u001b[39;00m \u001b[38;5;129;01min\u001b[39;00m \u001b[38;5;28mself\u001b[39m\u001b[38;5;241m.\u001b[39mobj:\n\u001b[1;32m--> 244\u001b[0m         \u001b[38;5;28;01mraise\u001b[39;00m \u001b[38;5;167;01mKeyError\u001b[39;00m(\u001b[38;5;124mf\u001b[39m\u001b[38;5;124m\"\u001b[39m\u001b[38;5;124mColumn not found: \u001b[39m\u001b[38;5;132;01m{\u001b[39;00mkey\u001b[38;5;132;01m}\u001b[39;00m\u001b[38;5;124m\"\u001b[39m)\n\u001b[0;32m    245\u001b[0m     ndim \u001b[38;5;241m=\u001b[39m \u001b[38;5;28mself\u001b[39m\u001b[38;5;241m.\u001b[39mobj[key]\u001b[38;5;241m.\u001b[39mndim\n\u001b[0;32m    246\u001b[0m     \u001b[38;5;28;01mreturn\u001b[39;00m \u001b[38;5;28mself\u001b[39m\u001b[38;5;241m.\u001b[39m_gotitem(key, ndim\u001b[38;5;241m=\u001b[39mndim)\n",
      "\u001b[1;31mKeyError\u001b[0m: 'Column not found: Attendance'"
     ]
    }
   ],
   "source": [
    "mean_data = df['Attendance'].mean()"
   ]
  },
  {
   "cell_type": "code",
   "execution_count": null,
   "id": "313f1ed0-ad7b-4543-926b-5e2b6f599c59",
   "metadata": {},
   "outputs": [],
   "source": []
  },
  {
   "cell_type": "markdown",
   "id": "0ce46df2-28b7-4556-b81b-f46b12be104d",
   "metadata": {},
   "source": [
    "# Part 2: Numpy (8 questions, 16 marks)"
   ]
  },
  {
   "cell_type": "raw",
   "id": "f6d265a1-7cab-408c-8955-adbb60aeac39",
   "metadata": {},
   "source": [
    "Array Creation (2 marks)\n",
    "Create a numpy array with values ranging from 10 to 19."
   ]
  },
  {
   "cell_type": "code",
   "execution_count": 66,
   "id": "ac7a2e80-b432-4aee-a0f9-5c9cff694686",
   "metadata": {},
   "outputs": [
    {
     "name": "stdout",
     "output_type": "stream",
     "text": [
      "[10 11 12 13 14 15 16 17 18 19]\n"
     ]
    }
   ],
   "source": [
    "import numpy as np\n",
    "a = np.arange(10, 20)\n",
    "print(a)\n"
   ]
  },
  {
   "cell_type": "markdown",
   "id": "7fa17653-729e-4e55-bd70-aab97d3bf7fd",
   "metadata": {},
   "source": [
    "Array Reshape (2 marks)\n",
    "Reshape the array created in question 9 into a 2x5 matrix."
   ]
  },
  {
   "cell_type": "code",
   "execution_count": 68,
   "id": "693dfdc2-6337-475b-b6f6-b99bf1940cac",
   "metadata": {},
   "outputs": [
    {
     "name": "stdout",
     "output_type": "stream",
     "text": [
      "[[10 11 12 13 14]\n",
      " [15 16 17 18 19]]\n"
     ]
    }
   ],
   "source": [
    "Reshape = a.reshape(2,5)\n",
    "print(Reshape)"
   ]
  },
  {
   "cell_type": "raw",
   "id": "55e4d21f-faf2-44c5-ad9c-614e1ea6ef31",
   "metadata": {},
   "source": [
    "Array Operations (2 marks)\n",
    "Create two numpy arrays:\n",
    "array1 = np.array([1, 2, 3])\n",
    "array2 = np.array([4, 5, 6])\n",
    "Perform element-wise addition and multiplication."
   ]
  },
  {
   "cell_type": "code",
   "execution_count": 69,
   "id": "0e6d96ac-0ccf-4fea-8645-594b863bf618",
   "metadata": {},
   "outputs": [
    {
     "name": "stdout",
     "output_type": "stream",
     "text": [
      "[5 7 9]\n",
      "[ 4 10 18]\n"
     ]
    }
   ],
   "source": [
    "array1 = np.array([1, 2, 3])\n",
    "array2 = np.array([4, 5, 6])\n",
    "addition = array1+ array2\n",
    "mult = array1 * array2\n",
    "print(addition)\n",
    "print(mult)"
   ]
  },
  {
   "cell_type": "raw",
   "id": "2fc74eb8-9e3b-4fa6-808f-4a480efbe41e",
   "metadata": {},
   "source": [
    "Array Indexing (2 marks)\n",
    "Using the array [10, 20, 30, 40, 50], select the second and fourth element"
   ]
  },
  {
   "cell_type": "code",
   "execution_count": 70,
   "id": "85e003c3-3c76-4ce9-bea2-8db4c7d8ed9d",
   "metadata": {},
   "outputs": [],
   "source": [
    "array = np.array([10,20,30,40,50])"
   ]
  },
  {
   "cell_type": "code",
   "execution_count": 71,
   "id": "86ed551d-a54f-4924-881c-2e07d55322ca",
   "metadata": {},
   "outputs": [
    {
     "data": {
      "text/plain": [
       "array([10, 20, 30, 40, 50])"
      ]
     },
     "execution_count": 71,
     "metadata": {},
     "output_type": "execute_result"
    }
   ],
   "source": [
    "array"
   ]
  },
  {
   "cell_type": "code",
   "execution_count": 73,
   "id": "15fa6537-711b-410d-a58a-55c08bc017aa",
   "metadata": {},
   "outputs": [
    {
     "name": "stdout",
     "output_type": "stream",
     "text": [
      "[20 40]\n"
     ]
    }
   ],
   "source": [
    "new_array = array[[1,3]]\n",
    "print(new_array)"
   ]
  },
  {
   "cell_type": "markdown",
   "id": "bb8f9744-f7ec-4a8d-9fdb-a016a29e56e9",
   "metadata": {},
   "source": [
    " ### Array Slicing (2 marks)\n",
    "### Slice the array [1, 2, 3, 4, 5, 6] to get [2, 3, 4]."
   ]
  },
  {
   "cell_type": "code",
   "execution_count": 77,
   "id": "cac07abd-77e5-42fc-a518-1be44e01be3b",
   "metadata": {},
   "outputs": [
    {
     "name": "stdout",
     "output_type": "stream",
     "text": [
      "[2, 3, 4]\n"
     ]
    }
   ],
   "source": [
    "array = [1,2,3,4,5,6]\n",
    "new_array = array[1:4]\n",
    "print(new_array)"
   ]
  },
  {
   "cell_type": "markdown",
   "id": "a7d8eafb-851e-4dde-b1a0-1c49106a4a6a",
   "metadata": {},
   "source": [
    " ### Statistical Functions (2 marks)\n",
    "### Compute the mean and standard deviation of the array [10, 20, 30, 40, 50]"
   ]
  },
  {
   "cell_type": "code",
   "execution_count": 78,
   "id": "70cdd84a-354e-44db-841e-a36f5bccaf01",
   "metadata": {},
   "outputs": [
    {
     "name": "stdout",
     "output_type": "stream",
     "text": [
      "Mean: 30.0\n",
      "Standard Deviation: 15.811388300841896\n"
     ]
    }
   ],
   "source": [
    "import numpy as np\n",
    "\n",
    "data = np.array([10, 20, 30, 40, 50])\n",
    "mean = np.mean(data)\n",
    "std_dev = np.std(data, ddof=1)  \n",
    "print(\"Mean:\", mean)\n",
    "print(\"Standard Deviation:\", std_dev)\n"
   ]
  },
  {
   "cell_type": "markdown",
   "id": "331ef876-61ea-4464-94a5-9defb33e92e4",
   "metadata": {},
   "source": [
    "### Broadcasting (2 marks)\n",
    " ### Provide an example of broadcasting with arrays of different shapes."
   ]
  },
  {
   "cell_type": "code",
   "execution_count": 81,
   "id": "c908a765-8cdd-4978-a3e5-4d24bd09087f",
   "metadata": {},
   "outputs": [
    {
     "name": "stdout",
     "output_type": "stream",
     "text": [
      "2D Array:\n",
      "[[ 1  2  3  4]\n",
      " [ 5  6  7  8]\n",
      " [ 9 10 11 12]]\n",
      "[10 20 30 40]\n",
      "[[11 22 33 44]\n",
      " [15 26 37 48]\n",
      " [19 30 41 52]]\n"
     ]
    }
   ],
   "source": [
    "array_2= np.array([\n",
    "    [1, 2, 3, 4],\n",
    "    [5, 6, 7, 8],\n",
    "    [9, 10, 11, 12]\n",
    "])\n",
    "array_1 = np.array([10, 20, 30, 40])\n",
    "result = array_2 + array_1\n",
    "print(array_2)\n",
    "print(array_1)\n",
    "print(result)\n"
   ]
  },
  {
   "cell_type": "markdown",
   "id": "d436c005-1c3b-4e82-8b24-6fcb14d855b5",
   "metadata": {},
   "source": [
    "  ### Matrix Operations (2 marks)\n",
    "### Create a 3x3 identity matrix using nump"
   ]
  },
  {
   "cell_type": "code",
   "execution_count": 83,
   "id": "f7fdc9af-fcd6-4be3-9dff-e853ac38033e",
   "metadata": {},
   "outputs": [
    {
     "name": "stdout",
     "output_type": "stream",
     "text": [
      "[[1. 0. 0.]\n",
      " [0. 1. 0.]\n",
      " [0. 0. 1.]]\n"
     ]
    }
   ],
   "source": [
    "matrix = np.eye(3)\n",
    "print(matrix)\n"
   ]
  },
  {
   "cell_type": "markdown",
   "id": "921f5258-8387-400d-a9cb-3821a12659d9",
   "metadata": {},
   "source": [
    "### Part 3: Data Visualization (4 questions, 8 marks)\n",
    " #### Creating Box Plot (2 marks)\n",
    "#### Using the following data, create a box plot using seaborn:\n",
    "#### data = [12, 15, 14, 10, 8, 11, 14, 18, 22, 24, 30, 28, 26, 30, 32, 35, 38]"
   ]
  },
  {
   "cell_type": "code",
   "execution_count": 88,
   "id": "f6e05d5e-5a44-4e56-80bc-4c5b7071a640",
   "metadata": {},
   "outputs": [
    {
     "data": {
      "image/png": "[encoded data removed]",
      "text/plain": [
       "<Figure size 640x480 with 1 Axes>"
      ]
     },
     "metadata": {},
     "output_type": "display_data"
    }
   ],
   "source": [
    "import seaborn as sns\n",
    "import matplotlib.pyplot as plt\n",
    "import pandas as pd\n",
    "data = [12, 15, 14, 10, 8, 11, 14, 18, 22, 24, 30, 28, 26, 30, 32, 35, 38]\n",
    "df = pd.DataFrame(data, columns=['Values'])\n",
    "sns.boxplot(x='Values', data=df)\n",
    "\n",
    "\n",
    "plt.show()\n"
   ]
  },
  {
   "cell_type": "markdown",
   "id": "1f6b2198-aca1-43f0-ad92-d46c05dc96e8",
   "metadata": {},
   "source": [
    " ### Creating Histogram (2 marks)\n",
    "### Using the same data as in question 17, create a histogram using matplotlib."
   ]
  },
  {
   "cell_type": "code",
   "execution_count": 89,
   "id": "e042afe8-c1fd-48b9-ae16-815dcdff289d",
   "metadata": {},
   "outputs": [
    {
     "data": {
      "image/png": "[encoded data removed]",
      "text/plain": [
       "<Figure size 640x480 with 1 Axes>"
      ]
     },
     "metadata": {},
     "output_type": "display_data"
    }
   ],
   "source": [
    "plt.hist(data)\n",
    "plt.show()"
   ]
  },
  {
   "cell_type": "markdown",
   "id": "4d7f0f30-a721-46bd-b045-69d4761f1c58",
   "metadata": {},
   "source": [
    "### Using the DataFrame from Part 1, create a bar plot to show the 'Score' of each individual using\n",
    "seaborn."
   ]
  },
  {
   "cell_type": "code",
   "execution_count": null,
   "id": "5c14b481-4a0f-4171-bd19-6a73b9523c19",
   "metadata": {},
   "outputs": [],
   "source": []
  },
  {
   "cell_type": "code",
   "execution_count": null,
   "id": "92f213a8-051b-4686-a5d0-d09ecb7c9198",
   "metadata": {},
   "outputs": [],
   "source": []
  },
  {
   "cell_type": "code",
   "execution_count": null,
   "id": "f3bfdecd-9581-4669-b6e6-76081f2aa420",
   "metadata": {},
   "outputs": [],
   "source": []
  },
  {
   "cell_type": "markdown",
   "id": "17cba1ba-6927-4f8c-80bc-d9826e50fe0f",
   "metadata": {},
   "source": [
    " ### Creating Pie Plot (2 marks)\n",
    "### Create a pie plot using the following data: ['Apples', 'Bananas', 'Cherries', 'Dates'] with\n",
    "### corresponding values [10, 15, 7, 3"
   ]
  },
  {
   "cell_type": "code",
   "execution_count": 93,
   "id": "6c508cb0-8c41-4654-bbbf-fcb9dd07834b",
   "metadata": {},
   "outputs": [
    {
     "data": {
      "image/png": "[encoded data removed]",
      "text/plain": [
       "<Figure size 640x480 with 1 Axes>"
      ]
     },
     "metadata": {},
     "output_type": "display_data"
    }
   ],
   "source": [
    "labels = ['Apples', 'Bananas', 'Cherries', 'Dates']\n",
    "sizes = [10, 15, 7, 3]\n",
    "plt.pie(sizes)\n",
    "plt.show()\n"
   ]
  },
  {
   "cell_type": "code",
   "execution_count": null,
   "id": "492b7a12-96a0-45f6-9d58-75d29a7efde7",
   "metadata": {},
   "outputs": [],
   "source": []
  }
 ],
 "metadata": {
  "kernelspec": {
   "display_name": "Python 3 (ipykernel)",
   "language": "python",
   "name": "python3"
  },
  "language_info": {
   "codemirror_mode": {
    "name": "ipython",
    "version": 3
   },
   "file_extension": ".py",
   "mimetype": "text/x-python",
   "name": "python",
   "nbconvert_exporter": "python",
   "pygments_lexer": "ipython3",
   "version": "3.12.4"
  }
 },
 "nbformat": 4,
 "nbformat_minor": 5
}
