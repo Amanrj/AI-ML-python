{
 "cells": [
  {
   "cell_type": "markdown",
   "id": "d88b63c5-fbb4-4682-b0b8-f1b468e8b9bc",
   "metadata": {},
   "source": [
    "# PANDAS IN PYTHON"
   ]
  },
  {
   "cell_type": "markdown",
   "id": "bdbb3088-6b28-450a-b556-107cae18ea49",
   "metadata": {},
   "source": [
    "##### Pandas is an open source data analysis and manipulation library for python. it provides data structue and functions needed to work with structured data seamlessly and intuitively. the  primary data structure in pandas are:\n",
    "   #### 1. series : A one-dimentional labeled array capable of holding any data type\n",
    "   #### 2. DataFrame : A two-dimensional labeled data structure with columns of potentially different datatypes."
   ]
  },
  {
   "cell_type": "code",
   "execution_count": null,
   "id": "80aeec74-4414-4878-980d-297913903ebe",
   "metadata": {},
   "outputs": [],
   "source": [
    "# importing pandas "
   ]
  },
  {
   "cell_type": "code",
   "execution_count": 34,
   "id": "bf2cdc55-ff3c-4b7c-acb1-848cc8077dc1",
   "metadata": {},
   "outputs": [],
   "source": [
    "import pandas as pd"
   ]
  },
  {
   "cell_type": "code",
   "execution_count": 41,
   "id": "ad246111-3c04-436d-9cbb-13461b460937",
   "metadata": {},
   "outputs": [],
   "source": [
    "# creating blank series"
   ]
  },
  {
   "cell_type": "code",
   "execution_count": 40,
   "id": "b2a480ec-dd5b-4dfb-b259-5f973198a8b8",
   "metadata": {},
   "outputs": [
    {
     "name": "stdout",
     "output_type": "stream",
     "text": [
      "Series([], dtype: object)\n"
     ]
    }
   ],
   "source": [
    "import pandas as pd\n",
    "\n",
    "# Create a blank series\n",
    "blank_series = pd.Series()\n",
    "\n",
    "print(blank_series)\n"
   ]
  },
  {
   "cell_type": "code",
   "execution_count": 44,
   "id": "8d894108-8d54-4b12-9aee-35b3ba91fa0e",
   "metadata": {},
   "outputs": [
    {
     "name": "stdout",
     "output_type": "stream",
     "text": [
      "0     0\n",
      "1    11\n",
      "2    22\n",
      "3    33\n",
      "4    44\n",
      "5    55\n",
      "6    66\n",
      "7    77\n",
      "8    88\n",
      "9    99\n",
      "dtype: int64\n"
     ]
    }
   ],
   "source": [
    "series = pd.Series([0,11,22,33,44,55,66,77,88,99])\n",
    "print(series)"
   ]
  },
  {
   "cell_type": "markdown",
   "id": "bf51e60b-053c-4dcd-8355-379ab43ad034",
   "metadata": {},
   "source": [
    "# Creating  a dictionary"
   ]
  },
  {
   "cell_type": "code",
   "execution_count": 46,
   "id": "5629887f-5851-4e43-9fd9-263b4596fa6e",
   "metadata": {},
   "outputs": [
    {
     "name": "stdout",
     "output_type": "stream",
     "text": [
      "{'f': [1, 2, 3], 'g': [4, 8, 9], 'h': [4, 7, 1]}\n"
     ]
    }
   ],
   "source": [
    "dictionary = {'f': [1,2,3], 'g': [4,8,9], 'h':[4,7,1]}\n",
    "print(dictionary)"
   ]
  },
  {
   "cell_type": "markdown",
   "id": "fe57f458-ca35-40cf-a1e2-a79cbc7de70f",
   "metadata": {},
   "source": [
    "# Creating a  Dataframe "
   ]
  },
  {
   "cell_type": "code",
   "execution_count": 47,
   "id": "91823e7e-a2b0-44a0-b5a5-23d77a2041f2",
   "metadata": {},
   "outputs": [
    {
     "name": "stdout",
     "output_type": "stream",
     "text": [
      "      Name  Age         City\n",
      "0    Alice   24     New York\n",
      "1      Bob   27  Los Angeles\n",
      "2  Charlie   22      Chicago\n",
      "3    David   32      Houston\n"
     ]
    }
   ],
   "source": [
    "data = {\n",
    "    'Name': ['Alice', 'Bob', 'Charlie', 'David'],\n",
    "    'Age': [24, 27, 22, 32],\n",
    "    'City': ['New York', 'Los Angeles', 'Chicago', 'Houston']\n",
    "}\n",
    "df = pd.DataFrame(data)\n",
    "print(df)\n"
   ]
  },
  {
   "cell_type": "code",
   "execution_count": 54,
   "id": "6dbfc17e-5f65-4537-9e5e-d1882122f4e6",
   "metadata": {},
   "outputs": [
    {
     "name": "stdout",
     "output_type": "stream",
     "text": [
      "   name state  salary\n",
      "0  aman    br   20000\n",
      "1   tom    gj   30000\n",
      "2   jim    tm   49000\n",
      "3   raj    cn    5000\n"
     ]
    }
   ],
   "source": [
    "info = {\n",
    "    'name' : ['aman' , 'tom' , 'jim' , 'raj'],\n",
    "    'state' : ['br' , 'gj' , 'tm', 'cn'],\n",
    "    'salary' : [20000 , 30000, 49000, 5000]\n",
    "}\n",
    "d = pd.DataFrame(info)\n",
    "print(d)"
   ]
  },
  {
   "cell_type": "code",
   "execution_count": 55,
   "id": "48765b2d-10bd-4f66-8bcc-13543c651fee",
   "metadata": {},
   "outputs": [],
   "source": [
    "# add new column in table and add values "
   ]
  },
  {
   "cell_type": "code",
   "execution_count": 58,
   "id": "f1acdc0c-e434-474b-a1ba-62152ea0063c",
   "metadata": {},
   "outputs": [
    {
     "name": "stdout",
     "output_type": "stream",
     "text": [
      "   name state  salary mobile\n",
      "0  aman    br   20000     99\n",
      "1   tom    gj   30000     44\n",
      "2   jim    tm   49000     66\n",
      "3   raj    cn    5000     88\n"
     ]
    }
   ],
   "source": [
    "d['mobile']= \"99,44,66,88\".split(',')\n",
    "print (d)"
   ]
  },
  {
   "cell_type": "code",
   "execution_count": 59,
   "id": "bc3aa098-5d72-4e1f-81c7-dc5d97613c31",
   "metadata": {},
   "outputs": [],
   "source": [
    "# nan values  "
   ]
  },
  {
   "cell_type": "code",
   "execution_count": 72,
   "id": "056d0dc9-55a2-477f-bed2-6a2f30d13ca1",
   "metadata": {},
   "outputs": [
    {
     "name": "stdout",
     "output_type": "stream",
     "text": [
      "   name state   salary\n",
      "0  aman    br  20000.0\n",
      "1   tom    gj  30000.0\n",
      "2   NaN    tm  49000.0\n",
      "3   NaN    cn      NaN\n"
     ]
    }
   ],
   "source": [
    "info = {\n",
    "    'name' : ['aman' , 'tom' , np.nan , np.nan],\n",
    "    'state' : ['br' , 'gj' , 'tm', 'cn'],\n",
    "    'salary' : [20000 , 30000, 49000, np.nan]}\n",
    "d = pd.DataFrame(info)\n",
    "print(d)"
   ]
  },
  {
   "cell_type": "code",
   "execution_count": 62,
   "id": "6326b8be-ce18-4456-b4c1-47b9031250b0",
   "metadata": {},
   "outputs": [],
   "source": [
    " # drop nan values // column"
   ]
  },
  {
   "cell_type": "code",
   "execution_count": 64,
   "id": "501abd8a-e6cc-47f2-b040-35c3808cd672",
   "metadata": {},
   "outputs": [
    {
     "name": "stdout",
     "output_type": "stream",
     "text": [
      "\n",
      " Dropping any column with nan value\n",
      "-----------------------------------\n",
      "     name state\n",
      "0    aman    br\n",
      "1     tom    gj\n",
      "2  np.nan    tm\n",
      "3  np.nan    cn\n"
     ]
    }
   ],
   "source": [
    "print(\"\\n Dropping any column with nan value\\n\",'-'*35,sep='')\n",
    "print(d.dropna(axis=1))  //"
   ]
  },
  {
   "cell_type": "code",
   "execution_count": 73,
   "id": "6bd7ba33-45e4-48a1-8474-68348cf8097c",
   "metadata": {},
   "outputs": [
    {
     "name": "stdout",
     "output_type": "stream",
     "text": [
      "\n",
      " Dropping any Rows with nan value\n",
      "---------------------------------------------------------------------------\n",
      "   name state   salary\n",
      "0  aman    br  20000.0\n",
      "1   tom    gj  30000.0\n"
     ]
    }
   ],
   "source": [
    "print(\"\\n Dropping any Rows with nan value\\n\",'-'*75,sep='')\n",
    "print(d.dropna(axis=0))"
   ]
  },
  {
   "cell_type": "code",
   "execution_count": 74,
   "id": "615c676c-af0a-49bf-aa39-4d373b86408d",
   "metadata": {},
   "outputs": [],
   "source": [
    "# fill the position of nan with 99"
   ]
  },
  {
   "cell_type": "code",
   "execution_count": 77,
   "id": "408ec9c0-491c-4445-8389-47cedb1e825b",
   "metadata": {},
   "outputs": [
    {
     "name": "stdout",
     "output_type": "stream",
     "text": [
      "\n",
      " Filling Value with 99 \t--------\n",
      "   name state   salary\n",
      "0  aman    br  20000.0\n",
      "1   tom    gj  30000.0\n",
      "2    99    tm  49000.0\n",
      "3    99    cn     99.0\n"
     ]
    }
   ],
   "source": [
    "print(\"\\n Filling Value with 99 \\t\",'-'*8,sep='')\n",
    "print(d.fillna(value=99))"
   ]
  },
  {
   "cell_type": "code",
   "execution_count": 80,
   "id": "65f02e29-32dc-42ec-b92a-902a1faeef0e",
   "metadata": {},
   "outputs": [
    {
     "name": "stdout",
     "output_type": "stream",
     "text": [
      "\n",
      " Filling Value with 00 \n",
      "-----------------------------------\n",
      "   name state   salary\n",
      "0  aman    br  20000.0\n",
      "1   tom    gj  30000.0\n",
      "2     0    tm  49000.0\n",
      "3     0    cn      0.0\n"
     ]
    }
   ],
   "source": [
    "print(\"\\n Filling Value with 00 \\n\",'-'*35,sep='')\n",
    "print(d.fillna(value=00))"
   ]
  },
  {
   "cell_type": "code",
   "execution_count": 81,
   "id": "6968d175-08d3-4204-8ebd-0c87ff60be8a",
   "metadata": {},
   "outputs": [
    {
     "name": "stdout",
     "output_type": "stream",
     "text": [
      "   name state   salary\n",
      "0  aman    br  20000.0\n",
      "1   tom    gj  30000.0\n",
      "2   NaN    tm  49000.0\n",
      "3   NaN    cn      NaN\n"
     ]
    }
   ],
   "source": [
    "print(d)"
   ]
  },
  {
   "cell_type": "code",
   "execution_count": 84,
   "id": "b4c65bc3-c319-4aed-b790-3b6e21dc2d09",
   "metadata": {},
   "outputs": [
    {
     "name": "stdout",
     "output_type": "stream",
     "text": [
      "\n",
      " Filling Values (mean of a column )\n",
      " -\n",
      "      name state   salary\n",
      "0     aman    br  20000.0\n",
      "1      tom    gj  30000.0\n",
      "2  33000.0    tm  49000.0\n",
      "3  33000.0    cn  33000.0\n"
     ]
    }
   ],
   "source": [
    "print(\"\\n Filling Values (mean of a column )\\n\",'-')\n",
    "d.fillna(value=d['salary'].mean(),inplace=True)\n",
    "print(d)"
   ]
  },
  {
   "cell_type": "code",
   "execution_count": 85,
   "id": "d9b6139d-e90a-4101-98dc-f6d5a6b78d25",
   "metadata": {},
   "outputs": [],
   "source": [
    " #find the mean company wise. firstly we have to group by column names using groupby"
   ]
  },
  {
   "cell_type": "code",
   "execution_count": 88,
   "id": "66fdae10-589c-468b-8972-cd5476abc662",
   "metadata": {},
   "outputs": [],
   "source": [
    "df = pd.DataFrame({'Animal': ['Falcon', 'Falcon',\n",
    "                              'Parrot', 'Parrot'],\n",
    "                   'Max Speed': [380., 370., 24., 26.]})\n",
    "\n"
   ]
  },
  {
   "cell_type": "code",
   "execution_count": 89,
   "id": "e78adf7e-fb96-48a9-8e55-cef1f06cb914",
   "metadata": {},
   "outputs": [
    {
     "name": "stdout",
     "output_type": "stream",
     "text": [
      "   Animal  Max Speed\n",
      "0  Falcon      380.0\n",
      "1  Falcon      370.0\n",
      "2  Parrot       24.0\n",
      "3  Parrot       26.0\n"
     ]
    }
   ],
   "source": [
    "print (df)"
   ]
  },
  {
   "cell_type": "code",
   "execution_count": 93,
   "id": "e3eb20b7-7aed-4042-ba9f-a6e6e86750cd",
   "metadata": {},
   "outputs": [
    {
     "data": {
      "text/html": [
       "<div>\n",
       "<style scoped>\n",
       "    .dataframe tbody tr th:only-of-type {\n",
       "        vertical-align: middle;\n",
       "    }\n",
       "\n",
       "    .dataframe tbody tr th {\n",
       "        vertical-align: top;\n",
       "    }\n",
       "\n",
       "    .dataframe thead th {\n",
       "        text-align: right;\n",
       "    }\n",
       "</style>\n",
       "<table border=\"1\" class=\"dataframe\">\n",
       "  <thead>\n",
       "    <tr style=\"text-align: right;\">\n",
       "      <th></th>\n",
       "      <th>Max Speed</th>\n",
       "    </tr>\n",
       "    <tr>\n",
       "      <th>Animal</th>\n",
       "      <th></th>\n",
       "    </tr>\n",
       "  </thead>\n",
       "  <tbody>\n",
       "    <tr>\n",
       "      <th>Falcon</th>\n",
       "      <td>375.0</td>\n",
       "    </tr>\n",
       "    <tr>\n",
       "      <th>Parrot</th>\n",
       "      <td>25.0</td>\n",
       "    </tr>\n",
       "  </tbody>\n",
       "</table>\n",
       "</div>"
      ],
      "text/plain": [
       "        Max Speed\n",
       "Animal           \n",
       "Falcon      375.0\n",
       "Parrot       25.0"
      ]
     },
     "execution_count": 93,
     "metadata": {},
     "output_type": "execute_result"
    }
   ],
   "source": [
    "df.groupby(['Animal']).mean() "
   ]
  },
  {
   "cell_type": "code",
   "execution_count": 94,
   "id": "d08a65e1-b710-4e6d-b1a9-998e659d16e1",
   "metadata": {},
   "outputs": [],
   "source": [
    "#Concating DataFrame \n",
    "#There are Three types of concating  -1 = Concat\n",
    "#                                     2  = Merge\n",
    "#                                     3 =  Join\n"
   ]
  },
  {
   "cell_type": "code",
   "execution_count": 95,
   "id": "c11f2d39-81ac-4248-bb3b-658bbc0a7cac",
   "metadata": {},
   "outputs": [],
   "source": [
    "info =pd.DataFrame({'Mat':[45,68,35,65],\n",
    "                     'Eng':[54,87,36,52],\n",
    "                     'Sci':[66,77,88,70],\n",
    "                     'hindi':[54,79,58,76]},\n",
    "                    index=['Ravi','Shyam','Saurav','Abhi'])"
   ]
  },
  {
   "cell_type": "code",
   "execution_count": 96,
   "id": "cf3c75af-e75f-46c3-ba88-d2eff453fc3c",
   "metadata": {},
   "outputs": [
    {
     "name": "stdout",
     "output_type": "stream",
     "text": [
      "        Mat  Eng  Sci  hindi\n",
      "Ravi     45   54   66     54\n",
      "Shyam    68   87   77     79\n",
      "Saurav   35   36   88     58\n",
      "Abhi     65   52   70     76\n"
     ]
    }
   ],
   "source": [
    "print(info)"
   ]
  },
  {
   "cell_type": "code",
   "execution_count": 98,
   "id": "105cdf9b-f7b2-4f2b-8408-6f780f769fa0",
   "metadata": {},
   "outputs": [
    {
     "data": {
      "text/html": [
       "<div>\n",
       "<style scoped>\n",
       "    .dataframe tbody tr th:only-of-type {\n",
       "        vertical-align: middle;\n",
       "    }\n",
       "\n",
       "    .dataframe tbody tr th {\n",
       "        vertical-align: top;\n",
       "    }\n",
       "\n",
       "    .dataframe thead th {\n",
       "        text-align: right;\n",
       "    }\n",
       "</style>\n",
       "<table border=\"1\" class=\"dataframe\">\n",
       "  <thead>\n",
       "    <tr style=\"text-align: right;\">\n",
       "      <th></th>\n",
       "      <th>Mat</th>\n",
       "      <th>Eng</th>\n",
       "      <th>Sci</th>\n",
       "      <th>hindi</th>\n",
       "    </tr>\n",
       "  </thead>\n",
       "  <tbody>\n",
       "    <tr>\n",
       "      <th>aman</th>\n",
       "      <td>45</td>\n",
       "      <td>54</td>\n",
       "      <td>66</td>\n",
       "      <td>66</td>\n",
       "    </tr>\n",
       "    <tr>\n",
       "      <th>amit</th>\n",
       "      <td>68</td>\n",
       "      <td>87</td>\n",
       "      <td>77</td>\n",
       "      <td>71</td>\n",
       "    </tr>\n",
       "    <tr>\n",
       "      <th>rahul</th>\n",
       "      <td>35</td>\n",
       "      <td>36</td>\n",
       "      <td>88</td>\n",
       "      <td>5</td>\n",
       "    </tr>\n",
       "    <tr>\n",
       "      <th>ravi</th>\n",
       "      <td>95</td>\n",
       "      <td>54</td>\n",
       "      <td>72</td>\n",
       "      <td>46</td>\n",
       "    </tr>\n",
       "  </tbody>\n",
       "</table>\n",
       "</div>"
      ],
      "text/plain": [
       "       Mat  Eng  Sci  hindi\n",
       "aman    45   54   66     66\n",
       "amit    68   87   77     71\n",
       "rahul   35   36   88      5\n",
       "ravi    95   54   72     46"
      ]
     },
     "execution_count": 98,
     "metadata": {},
     "output_type": "execute_result"
    }
   ],
   "source": [
    "info_2=pd.DataFrame({'Mat':[45,68,35,95],\n",
    "                     'Eng':[54,87,36,54],\n",
    "                     'Sci':[66,77,88,72],\n",
    "                     'hindi':[66,71,5,46]},\n",
    "                    index=['aman','amit','rahul','ravi'])\n",
    "info_2"
   ]
  },
  {
   "cell_type": "code",
   "execution_count": 100,
   "id": "f4c6852a-caf6-4e7b-bd13-86e4c4245b67",
   "metadata": {},
   "outputs": [
    {
     "data": {
      "text/html": [
       "<div>\n",
       "<style scoped>\n",
       "    .dataframe tbody tr th:only-of-type {\n",
       "        vertical-align: middle;\n",
       "    }\n",
       "\n",
       "    .dataframe tbody tr th {\n",
       "        vertical-align: top;\n",
       "    }\n",
       "\n",
       "    .dataframe thead th {\n",
       "        text-align: right;\n",
       "    }\n",
       "</style>\n",
       "<table border=\"1\" class=\"dataframe\">\n",
       "  <thead>\n",
       "    <tr style=\"text-align: right;\">\n",
       "      <th></th>\n",
       "      <th>Mat</th>\n",
       "      <th>Eng</th>\n",
       "      <th>Sci</th>\n",
       "      <th>hindi</th>\n",
       "    </tr>\n",
       "  </thead>\n",
       "  <tbody>\n",
       "    <tr>\n",
       "      <th>akash</th>\n",
       "      <td>0</td>\n",
       "      <td>64</td>\n",
       "      <td>66</td>\n",
       "      <td>66</td>\n",
       "    </tr>\n",
       "    <tr>\n",
       "      <th>ankit</th>\n",
       "      <td>8</td>\n",
       "      <td>83</td>\n",
       "      <td>77</td>\n",
       "      <td>71</td>\n",
       "    </tr>\n",
       "    <tr>\n",
       "      <th>tom</th>\n",
       "      <td>95</td>\n",
       "      <td>6</td>\n",
       "      <td>18</td>\n",
       "      <td>5</td>\n",
       "    </tr>\n",
       "    <tr>\n",
       "      <th>ai</th>\n",
       "      <td>5</td>\n",
       "      <td>14</td>\n",
       "      <td>72</td>\n",
       "      <td>46</td>\n",
       "    </tr>\n",
       "  </tbody>\n",
       "</table>\n",
       "</div>"
      ],
      "text/plain": [
       "       Mat  Eng  Sci  hindi\n",
       "akash    0   64   66     66\n",
       "ankit    8   83   77     71\n",
       "tom     95    6   18      5\n",
       "ai       5   14   72     46"
      ]
     },
     "execution_count": 100,
     "metadata": {},
     "output_type": "execute_result"
    }
   ],
   "source": [
    "info_3= pd.DataFrame({'Mat':[0,8,95,5],\n",
    "                     'Eng':[64,83,6,14],\n",
    "                     'Sci':[66,77,18,72],\n",
    "                     'hindi':[66,71,5,46]},\n",
    "                    index=['akash','ankit','tom','ai'])\n",
    "info_3"
   ]
  },
  {
   "cell_type": "code",
   "execution_count": 101,
   "id": "ff9175cd-964f-44f5-bf95-22927596676a",
   "metadata": {},
   "outputs": [],
   "source": [
    "# concat row "
   ]
  },
  {
   "cell_type": "code",
   "execution_count": 102,
   "id": "be10bcc6-3791-403e-aa73-d676ae810275",
   "metadata": {},
   "outputs": [
    {
     "name": "stdout",
     "output_type": "stream",
     "text": [
      "\n",
      " After concatenation along row \n",
      "--------------------------------------------------\n",
      "        Mat  Eng  Sci  hindi\n",
      "Ravi     45   54   66     54\n",
      "Shyam    68   87   77     79\n",
      "Saurav   35   36   88     58\n",
      "Abhi     65   52   70     76\n",
      "aman     45   54   66     66\n",
      "amit     68   87   77     71\n",
      "rahul    35   36   88      5\n",
      "ravi     95   54   72     46\n",
      "akash     0   64   66     66\n",
      "ankit     8   83   77     71\n",
      "tom      95    6   18      5\n",
      "ai        5   14   72     46\n"
     ]
    }
   ],
   "source": [
    "all_student_marks=pd.concat([info,info_2,info_3],axis=0)\n",
    "print(\"\\n After concatenation along row \\n\",'-'*50,sep='')\n",
    "print(all_student_marks)"
   ]
  },
  {
   "cell_type": "code",
   "execution_count": 103,
   "id": "f7637e38-beb8-4c38-8bda-12fc7c6b29e0",
   "metadata": {},
   "outputs": [],
   "source": [
    "# concat column"
   ]
  },
  {
   "cell_type": "code",
   "execution_count": 104,
   "id": "140594ff-b840-4326-a522-974680df355a",
   "metadata": {},
   "outputs": [
    {
     "name": "stdout",
     "output_type": "stream",
     "text": [
      "\n",
      " After concatenation along column\n",
      "----------------------------------------\n",
      "         Mat   Eng   Sci  hindi   Mat   Eng   Sci  hindi   Mat   Eng   Sci  \\\n",
      "Ravi    45.0  54.0  66.0   54.0   NaN   NaN   NaN    NaN   NaN   NaN   NaN   \n",
      "Shyam   68.0  87.0  77.0   79.0   NaN   NaN   NaN    NaN   NaN   NaN   NaN   \n",
      "Saurav  35.0  36.0  88.0   58.0   NaN   NaN   NaN    NaN   NaN   NaN   NaN   \n",
      "Abhi    65.0  52.0  70.0   76.0   NaN   NaN   NaN    NaN   NaN   NaN   NaN   \n",
      "aman     NaN   NaN   NaN    NaN  45.0  54.0  66.0   66.0   NaN   NaN   NaN   \n",
      "amit     NaN   NaN   NaN    NaN  68.0  87.0  77.0   71.0   NaN   NaN   NaN   \n",
      "rahul    NaN   NaN   NaN    NaN  35.0  36.0  88.0    5.0   NaN   NaN   NaN   \n",
      "ravi     NaN   NaN   NaN    NaN  95.0  54.0  72.0   46.0   NaN   NaN   NaN   \n",
      "akash    NaN   NaN   NaN    NaN   NaN   NaN   NaN    NaN   0.0  64.0  66.0   \n",
      "ankit    NaN   NaN   NaN    NaN   NaN   NaN   NaN    NaN   8.0  83.0  77.0   \n",
      "tom      NaN   NaN   NaN    NaN   NaN   NaN   NaN    NaN  95.0   6.0  18.0   \n",
      "ai       NaN   NaN   NaN    NaN   NaN   NaN   NaN    NaN   5.0  14.0  72.0   \n",
      "\n",
      "        hindi  \n",
      "Ravi      NaN  \n",
      "Shyam     NaN  \n",
      "Saurav    NaN  \n",
      "Abhi      NaN  \n",
      "aman      NaN  \n",
      "amit      NaN  \n",
      "rahul     NaN  \n",
      "ravi      NaN  \n",
      "akash    66.0  \n",
      "ankit    71.0  \n",
      "tom       5.0  \n",
      "ai       46.0  \n"
     ]
    }
   ],
   "source": [
    "all_student_marks=pd.concat([info,info_2,info_3],axis=1)\n",
    "print(\"\\n After concatenation along column\\n\",'-'*40,sep='')\n",
    "print(all_student_marks)"
   ]
  },
  {
   "cell_type": "code",
   "execution_count": 105,
   "id": "d09c7bd2-1bfe-4b62-92ac-5ed8dd619320",
   "metadata": {},
   "outputs": [],
   "source": [
    " # Fill all Nan Zero"
   ]
  },
  {
   "cell_type": "code",
   "execution_count": 113,
   "id": "18c759cf-f0eb-4049-8258-0cb4ee7b870f",
   "metadata": {},
   "outputs": [
    {
     "name": "stdout",
     "output_type": "stream",
     "text": [
      "         Mat   Eng   Sci  hindi   Mat   Eng   Sci  hindi   Mat   Eng   Sci  \\\n",
      "Ravi    45.0  54.0  66.0   54.0   0.0   0.0   0.0    0.0   0.0   0.0   0.0   \n",
      "Shyam   68.0  87.0  77.0   79.0   0.0   0.0   0.0    0.0   0.0   0.0   0.0   \n",
      "Saurav  35.0  36.0  88.0   58.0   0.0   0.0   0.0    0.0   0.0   0.0   0.0   \n",
      "Abhi    65.0  52.0  70.0   76.0   0.0   0.0   0.0    0.0   0.0   0.0   0.0   \n",
      "aman     0.0   0.0   0.0    0.0  45.0  54.0  66.0   66.0   0.0   0.0   0.0   \n",
      "amit     0.0   0.0   0.0    0.0  68.0  87.0  77.0   71.0   0.0   0.0   0.0   \n",
      "rahul    0.0   0.0   0.0    0.0  35.0  36.0  88.0    5.0   0.0   0.0   0.0   \n",
      "ravi     0.0   0.0   0.0    0.0  95.0  54.0  72.0   46.0   0.0   0.0   0.0   \n",
      "akash    0.0   0.0   0.0    0.0   0.0   0.0   0.0    0.0   0.0  64.0  66.0   \n",
      "ankit    0.0   0.0   0.0    0.0   0.0   0.0   0.0    0.0   8.0  83.0  77.0   \n",
      "tom      0.0   0.0   0.0    0.0   0.0   0.0   0.0    0.0  95.0   6.0  18.0   \n",
      "ai       0.0   0.0   0.0    0.0   0.0   0.0   0.0    0.0   5.0  14.0  72.0   \n",
      "\n",
      "        hindi  \n",
      "Ravi      0.0  \n",
      "Shyam     0.0  \n",
      "Saurav    0.0  \n",
      "Abhi      0.0  \n",
      "aman      0.0  \n",
      "amit      0.0  \n",
      "rahul     0.0  \n",
      "ravi      0.0  \n",
      "akash    66.0  \n",
      "ankit    71.0  \n",
      "tom       5.0  \n",
      "ai       46.0  \n"
     ]
    }
   ],
   "source": [
    "all_student_marks.fillna(value=0,inplace=True)\n",
    "print(all_student_marks)"
   ]
  },
  {
   "cell_type": "markdown",
   "id": "2868e489-93c9-4a86-9aa4-8aef5bb153a9",
   "metadata": {},
   "source": [
    "# merge\n"
   ]
  },
  {
   "cell_type": "code",
   "execution_count": 117,
   "id": "fe303324-ad90-461f-8883-627c4b748732",
   "metadata": {},
   "outputs": [],
   "source": [
    "student_id_name=pd.DataFrame({'ID':[25823,3045,3596,4022,4511,5023,5455],\n",
    "                            'Name':['aman','abhi','rock','harry','tom','Pogba','jerry']})"
   ]
  },
  {
   "cell_type": "code",
   "execution_count": 119,
   "id": "b8573f30-5cba-45fe-89bb-295a7049294e",
   "metadata": {},
   "outputs": [
    {
     "data": {
      "text/html": [
       "<div>\n",
       "<style scoped>\n",
       "    .dataframe tbody tr th:only-of-type {\n",
       "        vertical-align: middle;\n",
       "    }\n",
       "\n",
       "    .dataframe tbody tr th {\n",
       "        vertical-align: top;\n",
       "    }\n",
       "\n",
       "    .dataframe thead th {\n",
       "        text-align: right;\n",
       "    }\n",
       "</style>\n",
       "<table border=\"1\" class=\"dataframe\">\n",
       "  <thead>\n",
       "    <tr style=\"text-align: right;\">\n",
       "      <th></th>\n",
       "      <th>ID</th>\n",
       "      <th>Name</th>\n",
       "    </tr>\n",
       "  </thead>\n",
       "  <tbody>\n",
       "    <tr>\n",
       "      <th>0</th>\n",
       "      <td>25823</td>\n",
       "      <td>aman</td>\n",
       "    </tr>\n",
       "    <tr>\n",
       "      <th>1</th>\n",
       "      <td>3045</td>\n",
       "      <td>abhi</td>\n",
       "    </tr>\n",
       "    <tr>\n",
       "      <th>2</th>\n",
       "      <td>3596</td>\n",
       "      <td>rock</td>\n",
       "    </tr>\n",
       "    <tr>\n",
       "      <th>3</th>\n",
       "      <td>4022</td>\n",
       "      <td>harry</td>\n",
       "    </tr>\n",
       "    <tr>\n",
       "      <th>4</th>\n",
       "      <td>4511</td>\n",
       "      <td>tom</td>\n",
       "    </tr>\n",
       "    <tr>\n",
       "      <th>5</th>\n",
       "      <td>5023</td>\n",
       "      <td>Pogba</td>\n",
       "    </tr>\n",
       "    <tr>\n",
       "      <th>6</th>\n",
       "      <td>5455</td>\n",
       "      <td>jerry</td>\n",
       "    </tr>\n",
       "  </tbody>\n",
       "</table>\n",
       "</div>"
      ],
      "text/plain": [
       "      ID   Name\n",
       "0  25823   aman\n",
       "1   3045   abhi\n",
       "2   3596   rock\n",
       "3   4022  harry\n",
       "4   4511    tom\n",
       "5   5023  Pogba\n",
       "6   5455  jerry"
      ]
     },
     "execution_count": 119,
     "metadata": {},
     "output_type": "execute_result"
    }
   ],
   "source": [
    "student_id_name"
   ]
  },
  {
   "cell_type": "code",
   "execution_count": 120,
   "id": "1621f3fc-f90e-463d-a5e7-e493a9185404",
   "metadata": {},
   "outputs": [
    {
     "name": "stdout",
     "output_type": "stream",
     "text": [
      " student details are \t ------------------\n"
     ]
    },
    {
     "data": {
      "text/html": [
       "<div>\n",
       "<style scoped>\n",
       "    .dataframe tbody tr th:only-of-type {\n",
       "        vertical-align: middle;\n",
       "    }\n",
       "\n",
       "    .dataframe tbody tr th {\n",
       "        vertical-align: top;\n",
       "    }\n",
       "\n",
       "    .dataframe thead th {\n",
       "        text-align: right;\n",
       "    }\n",
       "</style>\n",
       "<table border=\"1\" class=\"dataframe\">\n",
       "  <thead>\n",
       "    <tr style=\"text-align: right;\">\n",
       "      <th></th>\n",
       "      <th>ID</th>\n",
       "      <th>Name</th>\n",
       "    </tr>\n",
       "  </thead>\n",
       "  <tbody>\n",
       "    <tr>\n",
       "      <th>0</th>\n",
       "      <td>25823</td>\n",
       "      <td>aman</td>\n",
       "    </tr>\n",
       "    <tr>\n",
       "      <th>1</th>\n",
       "      <td>3045</td>\n",
       "      <td>abhi</td>\n",
       "    </tr>\n",
       "    <tr>\n",
       "      <th>2</th>\n",
       "      <td>3596</td>\n",
       "      <td>rock</td>\n",
       "    </tr>\n",
       "    <tr>\n",
       "      <th>3</th>\n",
       "      <td>4022</td>\n",
       "      <td>harry</td>\n",
       "    </tr>\n",
       "    <tr>\n",
       "      <th>4</th>\n",
       "      <td>4511</td>\n",
       "      <td>tom</td>\n",
       "    </tr>\n",
       "    <tr>\n",
       "      <th>5</th>\n",
       "      <td>5023</td>\n",
       "      <td>Pogba</td>\n",
       "    </tr>\n",
       "    <tr>\n",
       "      <th>6</th>\n",
       "      <td>5455</td>\n",
       "      <td>jerry</td>\n",
       "    </tr>\n",
       "  </tbody>\n",
       "</table>\n",
       "</div>"
      ],
      "text/plain": [
       "      ID   Name\n",
       "0  25823   aman\n",
       "1   3045   abhi\n",
       "2   3596   rock\n",
       "3   4022  harry\n",
       "4   4511    tom\n",
       "5   5023  Pogba\n",
       "6   5455  jerry"
      ]
     },
     "execution_count": 120,
     "metadata": {},
     "output_type": "execute_result"
    }
   ],
   "source": [
    "print(\" student details are \\t ------------------\")\n",
    "student_id_name"
   ]
  },
  {
   "cell_type": "code",
   "execution_count": 122,
   "id": "94f875fc-a098-44cf-bd72-9db018a846fb",
   "metadata": {},
   "outputs": [
    {
     "ename": "ValueError",
     "evalue": "All arrays must be of the same length",
     "output_type": "error",
     "traceback": [
      "\u001b[1;31m---------------------------------------------------------------------------\u001b[0m",
      "\u001b[1;31mValueError\u001b[0m                                Traceback (most recent call last)",
      "Cell \u001b[1;32mIn[122], line 1\u001b[0m\n\u001b[1;32m----> 1\u001b[0m student_detail\u001b[38;5;241m=\u001b[39mpd\u001b[38;5;241m.\u001b[39mDataFrame({\u001b[38;5;124m'\u001b[39m\u001b[38;5;124mID\u001b[39m\u001b[38;5;124m'\u001b[39m:[\u001b[38;5;241m25823\u001b[39m,\u001b[38;5;241m3045\u001b[39m,\u001b[38;5;241m3596\u001b[39m,\u001b[38;5;241m4022\u001b[39m,\u001b[38;5;241m4511\u001b[39m,\u001b[38;5;241m5023\u001b[39m,\u001b[38;5;241m5455\u001b[39m],\n\u001b[0;32m      2\u001b[0m                             \u001b[38;5;124m'\u001b[39m\u001b[38;5;124mAge\u001b[39m\u001b[38;5;124m'\u001b[39m:[\u001b[38;5;241m36\u001b[39m,\u001b[38;5;241m34\u001b[39m,\u001b[38;5;241m20\u001b[39m,\u001b[38;5;241m28\u001b[39m,\u001b[38;5;241m37\u001b[39m,\u001b[38;5;241m70\u001b[39m],\n\u001b[0;32m      3\u001b[0m                             \u001b[38;5;124m'\u001b[39m\u001b[38;5;124mCountry\u001b[39m\u001b[38;5;124m'\u001b[39m:[\u001b[38;5;124m'\u001b[39m\u001b[38;5;124mPorugal\u001b[39m\u001b[38;5;124m'\u001b[39m,\u001b[38;5;124m'\u001b[39m\u001b[38;5;124mArgentina\u001b[39m\u001b[38;5;124m'\u001b[39m,\u001b[38;5;124m'\u001b[39m\u001b[38;5;124mEngland\u001b[39m\u001b[38;5;124m'\u001b[39m,\u001b[38;5;124m'\u001b[39m\u001b[38;5;124mFrance\u001b[39m\u001b[38;5;124m'\u001b[39m,\u001b[38;5;124m'\u001b[39m\u001b[38;5;124mIndia\u001b[39m\u001b[38;5;124m'\u001b[39m]})\n",
      "File \u001b[1;32m~\\anaconda3\\Lib\\site-packages\\pandas\\core\\frame.py:778\u001b[0m, in \u001b[0;36mDataFrame.__init__\u001b[1;34m(self, data, index, columns, dtype, copy)\u001b[0m\n\u001b[0;32m    772\u001b[0m     mgr \u001b[38;5;241m=\u001b[39m \u001b[38;5;28mself\u001b[39m\u001b[38;5;241m.\u001b[39m_init_mgr(\n\u001b[0;32m    773\u001b[0m         data, axes\u001b[38;5;241m=\u001b[39m{\u001b[38;5;124m\"\u001b[39m\u001b[38;5;124mindex\u001b[39m\u001b[38;5;124m\"\u001b[39m: index, \u001b[38;5;124m\"\u001b[39m\u001b[38;5;124mcolumns\u001b[39m\u001b[38;5;124m\"\u001b[39m: columns}, dtype\u001b[38;5;241m=\u001b[39mdtype, copy\u001b[38;5;241m=\u001b[39mcopy\n\u001b[0;32m    774\u001b[0m     )\n\u001b[0;32m    776\u001b[0m \u001b[38;5;28;01melif\u001b[39;00m \u001b[38;5;28misinstance\u001b[39m(data, \u001b[38;5;28mdict\u001b[39m):\n\u001b[0;32m    777\u001b[0m     \u001b[38;5;66;03m# GH#38939 de facto copy defaults to False only in non-dict cases\u001b[39;00m\n\u001b[1;32m--> 778\u001b[0m     mgr \u001b[38;5;241m=\u001b[39m dict_to_mgr(data, index, columns, dtype\u001b[38;5;241m=\u001b[39mdtype, copy\u001b[38;5;241m=\u001b[39mcopy, typ\u001b[38;5;241m=\u001b[39mmanager)\n\u001b[0;32m    779\u001b[0m \u001b[38;5;28;01melif\u001b[39;00m \u001b[38;5;28misinstance\u001b[39m(data, ma\u001b[38;5;241m.\u001b[39mMaskedArray):\n\u001b[0;32m    780\u001b[0m     \u001b[38;5;28;01mfrom\u001b[39;00m \u001b[38;5;21;01mnumpy\u001b[39;00m\u001b[38;5;21;01m.\u001b[39;00m\u001b[38;5;21;01mma\u001b[39;00m \u001b[38;5;28;01mimport\u001b[39;00m mrecords\n",
      "File \u001b[1;32m~\\anaconda3\\Lib\\site-packages\\pandas\\core\\internals\\construction.py:503\u001b[0m, in \u001b[0;36mdict_to_mgr\u001b[1;34m(data, index, columns, dtype, typ, copy)\u001b[0m\n\u001b[0;32m    499\u001b[0m     \u001b[38;5;28;01melse\u001b[39;00m:\n\u001b[0;32m    500\u001b[0m         \u001b[38;5;66;03m# dtype check to exclude e.g. range objects, scalars\u001b[39;00m\n\u001b[0;32m    501\u001b[0m         arrays \u001b[38;5;241m=\u001b[39m [x\u001b[38;5;241m.\u001b[39mcopy() \u001b[38;5;28;01mif\u001b[39;00m \u001b[38;5;28mhasattr\u001b[39m(x, \u001b[38;5;124m\"\u001b[39m\u001b[38;5;124mdtype\u001b[39m\u001b[38;5;124m\"\u001b[39m) \u001b[38;5;28;01melse\u001b[39;00m x \u001b[38;5;28;01mfor\u001b[39;00m x \u001b[38;5;129;01min\u001b[39;00m arrays]\n\u001b[1;32m--> 503\u001b[0m \u001b[38;5;28;01mreturn\u001b[39;00m arrays_to_mgr(arrays, columns, index, dtype\u001b[38;5;241m=\u001b[39mdtype, typ\u001b[38;5;241m=\u001b[39mtyp, consolidate\u001b[38;5;241m=\u001b[39mcopy)\n",
      "File \u001b[1;32m~\\anaconda3\\Lib\\site-packages\\pandas\\core\\internals\\construction.py:114\u001b[0m, in \u001b[0;36marrays_to_mgr\u001b[1;34m(arrays, columns, index, dtype, verify_integrity, typ, consolidate)\u001b[0m\n\u001b[0;32m    111\u001b[0m \u001b[38;5;28;01mif\u001b[39;00m verify_integrity:\n\u001b[0;32m    112\u001b[0m     \u001b[38;5;66;03m# figure out the index, if necessary\u001b[39;00m\n\u001b[0;32m    113\u001b[0m     \u001b[38;5;28;01mif\u001b[39;00m index \u001b[38;5;129;01mis\u001b[39;00m \u001b[38;5;28;01mNone\u001b[39;00m:\n\u001b[1;32m--> 114\u001b[0m         index \u001b[38;5;241m=\u001b[39m _extract_index(arrays)\n\u001b[0;32m    115\u001b[0m     \u001b[38;5;28;01melse\u001b[39;00m:\n\u001b[0;32m    116\u001b[0m         index \u001b[38;5;241m=\u001b[39m ensure_index(index)\n",
      "File \u001b[1;32m~\\anaconda3\\Lib\\site-packages\\pandas\\core\\internals\\construction.py:677\u001b[0m, in \u001b[0;36m_extract_index\u001b[1;34m(data)\u001b[0m\n\u001b[0;32m    675\u001b[0m lengths \u001b[38;5;241m=\u001b[39m \u001b[38;5;28mlist\u001b[39m(\u001b[38;5;28mset\u001b[39m(raw_lengths))\n\u001b[0;32m    676\u001b[0m \u001b[38;5;28;01mif\u001b[39;00m \u001b[38;5;28mlen\u001b[39m(lengths) \u001b[38;5;241m>\u001b[39m \u001b[38;5;241m1\u001b[39m:\n\u001b[1;32m--> 677\u001b[0m     \u001b[38;5;28;01mraise\u001b[39;00m \u001b[38;5;167;01mValueError\u001b[39;00m(\u001b[38;5;124m\"\u001b[39m\u001b[38;5;124mAll arrays must be of the same length\u001b[39m\u001b[38;5;124m\"\u001b[39m)\n\u001b[0;32m    679\u001b[0m \u001b[38;5;28;01mif\u001b[39;00m have_dicts:\n\u001b[0;32m    680\u001b[0m     \u001b[38;5;28;01mraise\u001b[39;00m \u001b[38;5;167;01mValueError\u001b[39;00m(\n\u001b[0;32m    681\u001b[0m         \u001b[38;5;124m\"\u001b[39m\u001b[38;5;124mMixing dicts with non-Series may lead to ambiguous ordering.\u001b[39m\u001b[38;5;124m\"\u001b[39m\n\u001b[0;32m    682\u001b[0m     )\n",
      "\u001b[1;31mValueError\u001b[0m: All arrays must be of the same length"
     ]
    }
   ],
   "source": [
    "student_detail=pd.DataFrame({'ID':[25823,3045,3596,4022,4511,5023,5455],\n",
    "                            'Age':[36,34,20,28,37,70],\n",
    "                            'Country':['Porugal','Argentina','England','France','India']})"
   ]
  },
  {
   "cell_type": "code",
   "execution_count": null,
   "id": "f3ab0b80-ffe1-46ab-96ab-18ac4621bac3",
   "metadata": {},
   "outputs": [],
   "source": []
  }
 ],
 "metadata": {
  "kernelspec": {
   "display_name": "Python 3 (ipykernel)",
   "language": "python",
   "name": "python3"
  },
  "language_info": {
   "codemirror_mode": {
    "name": "ipython",
    "version": 3
   },
   "file_extension": ".py",
   "mimetype": "text/x-python",
   "name": "python",
   "nbconvert_exporter": "python",
   "pygments_lexer": "ipython3",
   "version": "3.12.4"
  }
 },
 "nbformat": 4,
 "nbformat_minor": 5
}
