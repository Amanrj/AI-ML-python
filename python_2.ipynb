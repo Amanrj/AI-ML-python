{
 "cells": [
  {
   "cell_type": "markdown",
   "id": "bc4ac20e-4a64-42b4-b084-6b4f12e565eb",
   "metadata": {},
   "source": [
    "#### Complex number : \n",
    "complex numbers are supported as a built-in data type. They are represented using the complex.the syntax real_part + imaginary_part*j, where j or J denotes the imaginary unit."
   ]
  },
  {
   "cell_type": "code",
   "execution_count": 1,
   "id": "d9778cc5-a9f1-4bb2-be95-b00183712fec",
   "metadata": {},
   "outputs": [],
   "source": [
    "# Creating complex numbers\n"
   ]
  },
  {
   "cell_type": "code",
   "execution_count": 5,
   "id": "870eece8-ace6-434d-8139-85ab78931f96",
   "metadata": {},
   "outputs": [],
   "source": [
    "z1 = 3 + 4j   # 3 + 4i\n",
    "z2 = 1 - 2j   # 1 - 2i"
   ]
  },
  {
   "cell_type": "code",
   "execution_count": 8,
   "id": "07cad455-80d6-4bf7-ac64-4ba93df34b75",
   "metadata": {},
   "outputs": [
    {
     "data": {
      "text/plain": [
       "(3+4j)"
      ]
     },
     "execution_count": 8,
     "metadata": {},
     "output_type": "execute_result"
    }
   ],
   "source": [
    "z1"
   ]
  },
  {
   "cell_type": "code",
   "execution_count": 9,
   "id": "127fa739-c13a-48a4-b665-b99b24d2e0af",
   "metadata": {},
   "outputs": [
    {
     "data": {
      "text/plain": [
       "(1-2j)"
      ]
     },
     "execution_count": 9,
     "metadata": {},
     "output_type": "execute_result"
    }
   ],
   "source": [
    "z2"
   ]
  },
  {
   "cell_type": "code",
   "execution_count": 10,
   "id": "fccc0eda-7cc9-4bd4-a723-a7f879a132aa",
   "metadata": {},
   "outputs": [
    {
     "data": {
      "text/plain": [
       "(4+2j)"
      ]
     },
     "execution_count": 10,
     "metadata": {},
     "output_type": "execute_result"
    }
   ],
   "source": [
    "z1+z2"
   ]
  },
  {
   "cell_type": "code",
   "execution_count": 11,
   "id": "37fa6d71-2c65-4a71-b95c-55192e5a401d",
   "metadata": {},
   "outputs": [
    {
     "data": {
      "text/plain": [
       "complex"
      ]
     },
     "execution_count": 11,
     "metadata": {},
     "output_type": "execute_result"
    }
   ],
   "source": [
    "type (z2)"
   ]
  },
  {
   "cell_type": "markdown",
   "id": "8c5cfdff-b3ed-4234-b8b7-f2c557ed525a",
   "metadata": {},
   "source": [
    "#### operation on string"
   ]
  },
  {
   "cell_type": "code",
   "execution_count": 3,
   "id": "d17f07c3-a0f5-4d1d-a51a-49f1aba873b6",
   "metadata": {},
   "outputs": [
    {
     "name": "stdout",
     "output_type": "stream",
     "text": [
      "  python  python  python  python  python\n"
     ]
    }
   ],
   "source": [
    "print(\"  python\" * 5)"
   ]
  },
  {
   "cell_type": "code",
   "execution_count": 4,
   "id": "5d0fe5ec-bbf6-47a9-aa43-165e1ce40d83",
   "metadata": {},
   "outputs": [
    {
     "name": "stdout",
     "output_type": "stream",
     "text": [
      " 7  7  7  7  7  7  7  7  7  7  7  7  7  7  7  7  7  7  7  7  7  7  7  7  7  7  7  7  7  7  7  7  7  7  7  7  7  7  7  7  7  7  7  7  7  7  7  7  7  7 \n"
     ]
    }
   ],
   "source": [
    "print(\" 7 \" * 50)"
   ]
  },
  {
   "cell_type": "code",
   "execution_count": 8,
   "id": "425014fc-2b5f-420a-82d6-e4144821b1d0",
   "metadata": {},
   "outputs": [
    {
     "ename": "TypeError",
     "evalue": "can only concatenate str (not \"int\") to str",
     "output_type": "error",
     "traceback": [
      "\u001b[1;31m---------------------------------------------------------------------------\u001b[0m",
      "\u001b[1;31mTypeError\u001b[0m                                 Traceback (most recent call last)",
      "Cell \u001b[1;32mIn[8], line 1\u001b[0m\n\u001b[1;32m----> 1\u001b[0m \u001b[38;5;28mprint\u001b[39m(\u001b[38;5;124m\"\u001b[39m\u001b[38;5;124m boy \u001b[39m\u001b[38;5;124m\"\u001b[39m \u001b[38;5;241m+\u001b[39m \u001b[38;5;241m56\u001b[39m)\n",
      "\u001b[1;31mTypeError\u001b[0m: can only concatenate str (not \"int\") to str"
     ]
    }
   ],
   "source": [
    "print(\" boy \" + 56)  # add string and integer"
   ]
  },
  {
   "cell_type": "code",
   "execution_count": 12,
   "id": "8e23f913-b6c5-4b95-9414-ef6290b8f6d1",
   "metadata": {},
   "outputs": [
    {
     "name": "stdout",
     "output_type": "stream",
     "text": [
      " Ravi 5\n"
     ]
    }
   ],
   "source": [
    "print (\" Ravi \" + \"5\")"
   ]
  },
  {
   "cell_type": "code",
   "execution_count": 14,
   "id": "0b8a599f-8203-48b3-bb87-abe27bc2d50e",
   "metadata": {},
   "outputs": [
    {
     "name": "stdout",
     "output_type": "stream",
     "text": [
      " hello 50\n"
     ]
    }
   ],
   "source": [
    "print(\" hello \"  + str(50))"
   ]
  },
  {
   "cell_type": "markdown",
   "id": "0453eea2-c028-4400-89f2-63bf3a42aab9",
   "metadata": {},
   "source": [
    "### DATA STRUCTURE IN PYTHON"
   ]
  },
  {
   "cell_type": "markdown",
   "id": "ee6eff28-f14c-4374-b9c8-bac912edb5ae",
   "metadata": {},
   "source": [
    "#####  Data structure  which can hold,store and save out data . data structure is a way of organizing and storing data so it can be accessed and modified efficiently . \n",
    "python provides several built-in data structure are :\n",
    "\n",
    "1. LIST\n",
    "2. TUPLE\n",
    "3. SET\n",
    "4. DICTIONARY"
   ]
  },
  {
   "cell_type": "markdown",
   "id": "313c7d3a-9f8b-4d09-b082-b3e2e1210899",
   "metadata": {},
   "source": [
    "### 1.  LIST : \n",
    "##### A list is a collection of different kinds of values or items. Since Python lists are mutable, we can change their elements after forming. The comma (,) and the square brackets [enclose the List's items] serve as separators."
   ]
  },
  {
   "cell_type": "code",
   "execution_count": 15,
   "id": "813f4b8e-07ab-4c2c-83a5-2dff8d29ad5e",
   "metadata": {},
   "outputs": [],
   "source": [
    "a = []"
   ]
  },
  {
   "cell_type": "code",
   "execution_count": 16,
   "id": "b23e5f53-a1bd-4e41-9ef7-0f9a4d8bd5fe",
   "metadata": {},
   "outputs": [
    {
     "data": {
      "text/plain": [
       "list"
      ]
     },
     "execution_count": 16,
     "metadata": {},
     "output_type": "execute_result"
    }
   ],
   "source": [
    "type(a)"
   ]
  },
  {
   "cell_type": "code",
   "execution_count": 17,
   "id": "8f8b98a5-94c7-4533-8554-507f9cd21450",
   "metadata": {},
   "outputs": [],
   "source": [
    "a = [ \"ram\" , 45 , 8.21 , \"ravi\"] # creating list"
   ]
  },
  {
   "cell_type": "code",
   "execution_count": 18,
   "id": "beddd155-700e-4fdb-aee0-9886694aa8ad",
   "metadata": {},
   "outputs": [
    {
     "name": "stdout",
     "output_type": "stream",
     "text": [
      "<class 'list'>\n"
     ]
    }
   ],
   "source": [
    "print(type(a))"
   ]
  },
  {
   "cell_type": "code",
   "execution_count": 19,
   "id": "34903b9f-4666-4aa5-b5c3-502d58a6900f",
   "metadata": {},
   "outputs": [
    {
     "name": "stdout",
     "output_type": "stream",
     "text": [
      "['ram', 45, 8.21, 'ravi']\n"
     ]
    }
   ],
   "source": [
    "print(a)"
   ]
  },
  {
   "cell_type": "code",
   "execution_count": 20,
   "id": "e2209615-1a28-4ad2-95d5-f06870c5422c",
   "metadata": {},
   "outputs": [],
   "source": [
    "# create copy list"
   ]
  },
  {
   "cell_type": "code",
   "execution_count": 21,
   "id": "00cb1b28-4e98-46d9-b138-9f6741680565",
   "metadata": {},
   "outputs": [],
   "source": [
    "new_list = a"
   ]
  },
  {
   "cell_type": "code",
   "execution_count": 22,
   "id": "bb1605cd-4b07-4643-b90a-3be60dfed7d2",
   "metadata": {},
   "outputs": [
    {
     "name": "stdout",
     "output_type": "stream",
     "text": [
      "['ram', 45, 8.21, 'ravi']\n"
     ]
    }
   ],
   "source": [
    "print (new_list)"
   ]
  },
  {
   "cell_type": "code",
   "execution_count": 23,
   "id": "c4056a37-7661-4a90-acbe-bf2b561122c7",
   "metadata": {},
   "outputs": [],
   "source": [
    "# different method of copy list"
   ]
  },
  {
   "cell_type": "code",
   "execution_count": 24,
   "id": "dbd19d56-3ce4-4510-a34c-410af40abf7d",
   "metadata": {},
   "outputs": [
    {
     "name": "stdout",
     "output_type": "stream",
     "text": [
      "['aman', 34, 2.0, 'rohit', 101]\n"
     ]
    }
   ],
   "source": [
    "name = [\"aman\" , 34, 2.0 , \"rohit\" , 101]\n",
    "print(name)"
   ]
  },
  {
   "cell_type": "code",
   "execution_count": 25,
   "id": "3d99ad3d-60d4-4282-91bf-17699df1bca1",
   "metadata": {},
   "outputs": [
    {
     "name": "stdout",
     "output_type": "stream",
     "text": [
      "['aman', 34, 2.0, 'rohit', 101]\n"
     ]
    }
   ],
   "source": [
    "new_name = name.copy()  # copy method in list\n",
    "print(new_name)"
   ]
  },
  {
   "cell_type": "code",
   "execution_count": 26,
   "id": "1085dbd3-17e3-4181-ae27-b7713719c9ed",
   "metadata": {},
   "outputs": [
    {
     "data": {
      "text/plain": [
       "['aman', 34, 2.0, 'rohit', 101]"
      ]
     },
     "execution_count": 26,
     "metadata": {},
     "output_type": "execute_result"
    }
   ],
   "source": [
    "new_name"
   ]
  },
  {
   "cell_type": "code",
   "execution_count": 27,
   "id": "486f4ff9-c69c-478a-85a1-d3cedbad7b5b",
   "metadata": {},
   "outputs": [
    {
     "data": {
      "text/plain": [
       "['n', 'e', 'w', '_', 'n', 'a', 'm', 'e']"
      ]
     },
     "execution_count": 27,
     "metadata": {},
     "output_type": "execute_result"
    }
   ],
   "source": [
    "list ('new_name')  #seprate all elements"
   ]
  },
  {
   "cell_type": "code",
   "execution_count": 28,
   "id": "735e855c-2c65-4658-824c-35dd5aed40da",
   "metadata": {},
   "outputs": [
    {
     "data": {
      "text/plain": [
       "['a', 'm', 'a', 'n', ' ', 'k', 'u', 'm', 'a', 'r']"
      ]
     },
     "execution_count": 28,
     "metadata": {},
     "output_type": "execute_result"
    }
   ],
   "source": [
    "list ('aman kumar')"
   ]
  },
  {
   "cell_type": "code",
   "execution_count": 29,
   "id": "cb6f7227-04e6-4969-8f19-ba598546cc36",
   "metadata": {},
   "outputs": [
    {
     "ename": "TypeError",
     "evalue": "'int' object is not iterable",
     "output_type": "error",
     "traceback": [
      "\u001b[1;31m---------------------------------------------------------------------------\u001b[0m",
      "\u001b[1;31mTypeError\u001b[0m                                 Traceback (most recent call last)",
      "Cell \u001b[1;32mIn[29], line 1\u001b[0m\n\u001b[1;32m----> 1\u001b[0m \u001b[38;5;28mlist\u001b[39m (\u001b[38;5;241m1004\u001b[39m)\n",
      "\u001b[1;31mTypeError\u001b[0m: 'int' object is not iterable"
     ]
    }
   ],
   "source": [
    "list (1004)    # integer is not iterable"
   ]
  },
  {
   "cell_type": "markdown",
   "id": "ac274e58-4bc4-480d-b336-ecb9427741a8",
   "metadata": {},
   "source": [
    "# method in list are : \n",
    " * 1 append()\n",
    " * 2 extend()\n",
    " * 3 insert()\n",
    " * 4 remove()\n",
    " * 5 pop()\n",
    " * 6 clear()\n",
    " * 7 index() \n",
    " * 8 count()\n",
    " * 9 short()\n",
    " * 10 reverse()\n",
    " * 11 copy()\n",
    " * 12 length()"
   ]
  },
  {
   "cell_type": "markdown",
   "id": "b4f4f884-c3ec-4de0-b17c-bdf0ee4e2e1e",
   "metadata": {},
   "source": [
    "#### append(x): Adds an item to the end of the list.\n"
   ]
  },
  {
   "cell_type": "code",
   "execution_count": 11,
   "id": "079056c2-544a-4255-849a-f9a7abfca581",
   "metadata": {},
   "outputs": [],
   "source": [
    "my_list = [\"aman\"]\n",
    "my_list.append(100)"
   ]
  },
  {
   "cell_type": "code",
   "execution_count": 13,
   "id": "6e01f198-cf88-4a4c-b41c-2bbc868d1935",
   "metadata": {},
   "outputs": [
    {
     "data": {
      "text/plain": [
       "['aman', 100]"
      ]
     },
     "execution_count": 13,
     "metadata": {},
     "output_type": "execute_result"
    }
   ],
   "source": [
    "my_list"
   ]
  },
  {
   "cell_type": "code",
   "execution_count": 26,
   "id": "d0475a69-d7ee-45df-9b1b-fbcf6b2b5e4c",
   "metadata": {},
   "outputs": [
    {
     "ename": "TypeError",
     "evalue": "list.append() takes exactly one argument (2 given)",
     "output_type": "error",
     "traceback": [
      "\u001b[1;31m---------------------------------------------------------------------------\u001b[0m",
      "\u001b[1;31mTypeError\u001b[0m                                 Traceback (most recent call last)",
      "Cell \u001b[1;32mIn[26], line 1\u001b[0m\n\u001b[1;32m----> 1\u001b[0m my_list\u001b[38;5;241m.\u001b[39mappend(\u001b[38;5;124m\"\u001b[39m\u001b[38;5;124mworld\u001b[39m\u001b[38;5;124m\"\u001b[39m , \u001b[38;5;241m103\u001b[39m)\n",
      "\u001b[1;31mTypeError\u001b[0m: list.append() takes exactly one argument (2 given)"
     ]
    }
   ],
   "source": [
    "my_list.append(\"world\" , 103)"
   ]
  },
  {
   "cell_type": "markdown",
   "id": "f04d3f16-3dd8-41d4-9374-e9dd4a2ada03",
   "metadata": {},
   "source": [
    " * #### extend(iterable): Extends the list by appending all the items from the iterable."
   ]
  },
  {
   "cell_type": "code",
   "execution_count": 32,
   "id": "674509bd-f427-4449-9d5d-0722e08bdc24",
   "metadata": {},
   "outputs": [
    {
     "data": {
      "text/plain": [
       "['aman', 100, 'world', 'hello', 'tom', 234]"
      ]
     },
     "execution_count": 32,
     "metadata": {},
     "output_type": "execute_result"
    }
   ],
   "source": [
    "my_list.extend([\"hello\",\"tom\",234])\n",
    "my_list"
   ]
  },
  {
   "cell_type": "markdown",
   "id": "01d8f2b5-2bf6-4caf-b8c4-d099570913f4",
   "metadata": {},
   "source": [
    " * #### insert(i, x): Inserts an item at a given position."
   ]
  },
  {
   "cell_type": "code",
   "execution_count": 51,
   "id": "fa1c8764-32f7-405c-a670-f7cb3f79235c",
   "metadata": {},
   "outputs": [
    {
     "data": {
      "text/plain": [
       "['aman', 100, 'int', 'world', 'hello', 'tom', 234]"
      ]
     },
     "execution_count": 51,
     "metadata": {},
     "output_type": "execute_result"
    }
   ],
   "source": [
    "my_list.insert(2 , \"int\")\n",
    "my_list"
   ]
  },
  {
   "cell_type": "code",
   "execution_count": 53,
   "id": "5c6dbd30-1d68-4ff4-9601-89e23b5ebdd9",
   "metadata": {},
   "outputs": [
    {
     "data": {
      "text/plain": [
       "['sky', 'aman', 100, 'int', 'world', 'hello', 'tom', 234]"
      ]
     },
     "execution_count": 53,
     "metadata": {},
     "output_type": "execute_result"
    }
   ],
   "source": [
    "my_list.insert(0 , \"sky\")\n",
    "my_list"
   ]
  },
  {
   "cell_type": "markdown",
   "id": "1e82a73b-45b9-4fe5-abc5-1ce17158b807",
   "metadata": {},
   "source": [
    "* #### remove(x): Removes the first item from the list that has a value of x."
   ]
  },
  {
   "cell_type": "code",
   "execution_count": 60,
   "id": "f12cfff0-10a7-4621-9d53-6039ca880830",
   "metadata": {},
   "outputs": [
    {
     "data": {
      "text/plain": [
       "['sky', 'aman', 'int', 'world', 'hello', 'tom', 234]"
      ]
     },
     "execution_count": 60,
     "metadata": {},
     "output_type": "execute_result"
    }
   ],
   "source": [
    "my_list.remove(100)\n",
    "my_list"
   ]
  },
  {
   "cell_type": "code",
   "execution_count": 62,
   "id": "7cf7137b-b207-43a4-a092-16429da7db4e",
   "metadata": {},
   "outputs": [
    {
     "data": {
      "text/plain": [
       "['sky', 'aman', 'world', 'hello', 'tom', 234]"
      ]
     },
     "execution_count": 62,
     "metadata": {},
     "output_type": "execute_result"
    }
   ],
   "source": [
    "my_list.remove(\"int\")\n",
    "my_list"
   ]
  },
  {
   "cell_type": "code",
   "execution_count": 66,
   "id": "4d2fd108-8014-44ac-ab1b-c3da34d5b654",
   "metadata": {},
   "outputs": [
    {
     "ename": "TypeError",
     "evalue": "list.remove() takes exactly one argument (2 given)",
     "output_type": "error",
     "traceback": [
      "\u001b[1;31m---------------------------------------------------------------------------\u001b[0m",
      "\u001b[1;31mTypeError\u001b[0m                                 Traceback (most recent call last)",
      "Cell \u001b[1;32mIn[66], line 1\u001b[0m\n\u001b[1;32m----> 1\u001b[0m my_list\u001b[38;5;241m.\u001b[39mremove(\u001b[38;5;124m\"\u001b[39m\u001b[38;5;124msky\u001b[39m\u001b[38;5;124m\"\u001b[39m , \u001b[38;5;241m234\u001b[39m)\n\u001b[0;32m      2\u001b[0m my_list\n",
      "\u001b[1;31mTypeError\u001b[0m: list.remove() takes exactly one argument (2 given)"
     ]
    }
   ],
   "source": [
    "my_list.remove(\"sky\" , 234)\n",
    "my_list"
   ]
  },
  {
   "cell_type": "markdown",
   "id": "d0e4f1aa-a230-461b-8d4d-100469dd1e85",
   "metadata": {},
   "source": [
    "* #### pop([i]): Removes and returns the item at the given position in the list. If no index is specified, pop() removes and returns the last item in the list."
   ]
  },
  {
   "cell_type": "code",
   "execution_count": 71,
   "id": "186e4651-4c9a-4ded-8892-07f8959e1838",
   "metadata": {},
   "outputs": [
    {
     "data": {
      "text/plain": [
       "['aman', 'world', 'hello', 'tom', 234]"
      ]
     },
     "execution_count": 71,
     "metadata": {},
     "output_type": "execute_result"
    }
   ],
   "source": [
    "my_list"
   ]
  },
  {
   "cell_type": "code",
   "execution_count": 73,
   "id": "eadc8d8c-1039-41bb-8cd4-7b5f25e20da5",
   "metadata": {},
   "outputs": [
    {
     "data": {
      "text/plain": [
       "234"
      ]
     },
     "execution_count": 73,
     "metadata": {},
     "output_type": "execute_result"
    }
   ],
   "source": [
    "my_list.pop()  # remove the last item"
   ]
  },
  {
   "cell_type": "code",
   "execution_count": 75,
   "id": "c4c81493-913c-4639-8006-9ced9d2fc970",
   "metadata": {},
   "outputs": [
    {
     "data": {
      "text/plain": [
       "['aman', 'world', 'hello', 'tom']"
      ]
     },
     "execution_count": 75,
     "metadata": {},
     "output_type": "execute_result"
    }
   ],
   "source": [
    "my_list"
   ]
  },
  {
   "cell_type": "code",
   "execution_count": 77,
   "id": "f1c7a31d-151b-4f4f-a162-4d494222424d",
   "metadata": {},
   "outputs": [
    {
     "data": {
      "text/plain": [
       "['aman', 'world', 'hello']"
      ]
     },
     "execution_count": 77,
     "metadata": {},
     "output_type": "execute_result"
    }
   ],
   "source": [
    "my_list.pop(3)  # Remove the item at index 2\n",
    "my_list"
   ]
  },
  {
   "cell_type": "code",
   "execution_count": 79,
   "id": "56e09b1c-e3dc-475a-94c4-3a55e6950211",
   "metadata": {},
   "outputs": [
    {
     "ename": "TypeError",
     "evalue": "pop expected at most 1 argument, got 2",
     "output_type": "error",
     "traceback": [
      "\u001b[1;31m---------------------------------------------------------------------------\u001b[0m",
      "\u001b[1;31mTypeError\u001b[0m                                 Traceback (most recent call last)",
      "Cell \u001b[1;32mIn[79], line 1\u001b[0m\n\u001b[1;32m----> 1\u001b[0m my_list\u001b[38;5;241m.\u001b[39mpop(\u001b[38;5;241m0\u001b[39m , \u001b[38;5;241m1\u001b[39m)\n\u001b[0;32m      2\u001b[0m my_list\n",
      "\u001b[1;31mTypeError\u001b[0m: pop expected at most 1 argument, got 2"
     ]
    }
   ],
   "source": [
    "my_list.pop(0 , 1)\n",
    "my_list"
   ]
  },
  {
   "cell_type": "markdown",
   "id": "025f533b-27dc-46b8-aa5a-858f0a59673a",
   "metadata": {},
   "source": [
    " * #### clear(): Removes all items from the list."
   ]
  },
  {
   "cell_type": "code",
   "execution_count": 82,
   "id": "ab515365-066c-4a4f-bd09-f153f147cc08",
   "metadata": {},
   "outputs": [
    {
     "data": {
      "text/plain": [
       "['aman', 'world', 'hello']"
      ]
     },
     "execution_count": 82,
     "metadata": {},
     "output_type": "execute_result"
    }
   ],
   "source": [
    "my_list\n"
   ]
  },
  {
   "cell_type": "code",
   "execution_count": 88,
   "id": "5859c04e-fc4a-4dc8-9c5d-999184c622bf",
   "metadata": {},
   "outputs": [
    {
     "data": {
      "text/plain": [
       "[]"
      ]
     },
     "execution_count": 88,
     "metadata": {},
     "output_type": "execute_result"
    }
   ],
   "source": [
    "my_list.clear()\n",
    "my_list"
   ]
  },
  {
   "cell_type": "code",
   "execution_count": 90,
   "id": "98478fc5-99fd-433c-b678-14214bb49564",
   "metadata": {},
   "outputs": [
    {
     "data": {
      "text/plain": [
       "[]"
      ]
     },
     "execution_count": 90,
     "metadata": {},
     "output_type": "execute_result"
    }
   ],
   "source": [
    "my_list"
   ]
  },
  {
   "cell_type": "code",
   "execution_count": 122,
   "id": "93d2d9eb-b729-429e-83a2-5b0145aa7bc5",
   "metadata": {},
   "outputs": [
    {
     "data": {
      "text/plain": [
       "['ravi', 'rakesh', 235, 'amit']"
      ]
     },
     "execution_count": 122,
     "metadata": {},
     "output_type": "execute_result"
    }
   ],
   "source": [
    "my_list =[ \"ravi\" , \"rakesh\" , 235 ,\"amit\" ]\n",
    "my_list"
   ]
  },
  {
   "cell_type": "markdown",
   "id": "70d62748-cf05-45d2-bf0c-32082f6aa729",
   "metadata": {},
   "source": [
    "* #### index : This method return position number of first occurrence of given element in the list .  if it doesn't found the element Shows value Error.\n",
    "* syntax : List_name.index(element)"
   ]
  },
  {
   "cell_type": "code",
   "execution_count": 124,
   "id": "635cbcf6-9575-453a-b6ff-ff9e41b214dd",
   "metadata": {},
   "outputs": [
    {
     "data": {
      "text/plain": [
       "['ravi', 'rakesh', 235, 'amit']"
      ]
     },
     "execution_count": 124,
     "metadata": {},
     "output_type": "execute_result"
    }
   ],
   "source": [
    "my_list"
   ]
  },
  {
   "cell_type": "code",
   "execution_count": 126,
   "id": "43d8ae06-cb4f-4ed7-b556-b9be063aa8d2",
   "metadata": {},
   "outputs": [
    {
     "data": {
      "text/plain": [
       "1"
      ]
     },
     "execution_count": 126,
     "metadata": {},
     "output_type": "execute_result"
    }
   ],
   "source": [
    "my_list.index(\"rakesh\")\n"
   ]
  },
  {
   "cell_type": "code",
   "execution_count": 128,
   "id": "18d19a54-6467-452a-8838-599c61064629",
   "metadata": {},
   "outputs": [
    {
     "data": {
      "text/plain": [
       "2"
      ]
     },
     "execution_count": 128,
     "metadata": {},
     "output_type": "execute_result"
    }
   ],
   "source": [
    "my_list.index( 235)\n"
   ]
  },
  {
   "cell_type": "code",
   "execution_count": 130,
   "id": "176a977c-cb5e-4183-8e55-fe50de8ca61e",
   "metadata": {},
   "outputs": [
    {
     "data": {
      "text/plain": [
       "['ravi', 'rakesh', 235, 'amit']"
      ]
     },
     "execution_count": 130,
     "metadata": {},
     "output_type": "execute_result"
    }
   ],
   "source": [
    "my_list"
   ]
  },
  {
   "cell_type": "code",
   "execution_count": 132,
   "id": "bf374e49-807c-4cb8-82b8-a02e7e8688b9",
   "metadata": {},
   "outputs": [
    {
     "data": {
      "text/plain": [
       "4"
      ]
     },
     "execution_count": 132,
     "metadata": {},
     "output_type": "execute_result"
    }
   ],
   "source": [
    "len(my_list)   # finding length"
   ]
  },
  {
   "cell_type": "code",
   "execution_count": null,
   "id": "7520a678-71fc-475f-a957-b4507940d4ad",
   "metadata": {},
   "outputs": [],
   "source": []
  }
 ],
 "metadata": {
  "kernelspec": {
   "display_name": "Python 3 (ipykernel)",
   "language": "python",
   "name": "python3"
  },
  "language_info": {
   "codemirror_mode": {
    "name": "ipython",
    "version": 3
   },
   "file_extension": ".py",
   "mimetype": "text/x-python",
   "name": "python",
   "nbconvert_exporter": "python",
   "pygments_lexer": "ipython3",
   "version": "3.11.7"
  }
 },
 "nbformat": 4,
 "nbformat_minor": 5
}
