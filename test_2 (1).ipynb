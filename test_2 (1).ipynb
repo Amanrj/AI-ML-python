{
 "cells": [
  {
   "cell_type": "markdown",
   "id": "0b5a15dd-a799-4b22-be08-096c982f46e2",
   "metadata": {},
   "source": [
    "Question\n",
    "Task 1: Basic Python Programming (20 Marks)\n",
    "1. Write a function `fibonacci(n)` that generates the first `n` numbers in the Fibonacci sequence and returns them as a list. (10 Marks)\n",
    "2. Write a function `is_prime(num)` that checks if a given number is a prime number. Return `True` if the number is prime, otherwise return `False`. (10 Marks)\n",
    "Task 2: Data Manipulation with Pandas (30 Marks)\n",
    "Using the dataset provided below, perform the following tasks. The dataset contains information about a company's sales.\n",
    "import pandas as pd\n",
    "data = {\n",
    " 'Date': ['2024-01-01', '2024-01-02', '2024-01-03', '2024-01-04', '2024-01-05'],\n",
    " 'Sales': [200, 220, 210, 215, 225],\n",
    " 'Region': ['North', 'South', 'East', 'West', 'North'],\n",
    " 'Manager': ['John', 'Jane', 'Joe', 'Jake', 'John']\n",
    "}\n",
    "df = pd.DataFrame(data)\n",
    "1. Load the dataset into a pandas DataFrame and display its first 5 rows. (5 Marks)\n",
    "2. Add a new column `Profit` which is 10% of the `Sales` column. (5 Marks)\n",
    "3. Group the data by `Region` and calculate the total sales for each region. (10 Marks)\n",
    "4. Find the region with the highest average sales. (10 Marks)\n",
    "Task 3: Data Loading and Manipulation from GitHub (10 Marks)\n",
    "1. Load a CSV file from a GitHub repository into a pandas DataFrame. Use the following URL for the dataset:\n",
    " https://raw.githubusercontent.com/datasciencedojo/datasets/master/titanic.csv\n",
    " Display the first 5 rows of the DataFrame. (1 Mark)\n",
    "2. Display summary statistics of the DataFrame. (1 Mark)\n",
    "3. Check for null values in the DataFrame and display the count of null values in each column. (1 Mark)\n",
    "4. Fill the null values in the 'Age' column with the mean age. (1 Mark)\n",
    "5. Drop the rows where 'Embarked' is null. (1 Mark)\n",
    "6. Create a new column 'FamilySize' which is the sum of 'SibSp' and 'Parch'. (1 Mark)\n",
    "7. Convert the 'Sex' column to numerical values (male: 0, female: 1). (1 Mark)\n",
    "8. Group the data by 'Pclass' and calculate the average fare for each class. (1 Mark)\n",
    "9. Find the most common port of embarkation ('Embarked' column). (1 Mark)\n",
    "10. Create a pivot table that shows the survival rate ('Survived') for each combination of 'Sex' and 'Pclass'. (1 Mark)\n",
    "End of Assessment\n",
    "Please ensure your notebook is saved and submitted as per the instructions"
   ]
  },
  {
   "cell_type": "code",
   "execution_count": 2,
   "id": "e083556d-37bd-4e7a-af23-29c3b3f36746",
   "metadata": {},
   "outputs": [],
   "source": [
    "## Task .1 Answer 1. "
   ]
  },
  {
   "cell_type": "code",
   "execution_count": 8,
   "id": "d0ba72f4-9671-4c86-ad67-27de3060b012",
   "metadata": {},
   "outputs": [
    {
     "name": "stdout",
     "output_type": "stream",
     "text": [
      "The first 10 numbers in the Fibonacci sequence are: [0, 1, 1, 2, 3, 5, 8, 13, 21, 34]\n"
     ]
    }
   ],
   "source": [
    "def fibonacci(n):\n",
    "    if n <= 0:\n",
    "        return []\n",
    "    elif n == 1:\n",
    "        return [0]\n",
    "    elif n == 2:\n",
    "        return [0, 1]\n",
    "\n",
    "    sequence = [0, 1]\n",
    "    for i in range(2, n):\n",
    "        sequence.append(sequence[-1] + sequence[-2])\n",
    "    \n",
    "    return sequence\n",
    "\n",
    
    "n = 10\n",
    "result = fibonacci(n)\n",
    "print(f\"The first {n} numbers in the Fibonacci sequence are: {result}\")\n"
   ]
  },
  {
   "cell_type": "code",
   "execution_count": 9,
   "id": "6888140e-d1bf-46b2-bd0a-165898c84dae",
   "metadata": {},
   "outputs": [],
   "source": [
    "## Answer 2 . "
   ]
  },
  {
   "cell_type": "code",
   "execution_count": null,
   "id": "6b99e100-a829-4022-b7ed-df348eac6fce",
   "metadata": {},
   "outputs": [],
   "source": [
    "def is_prime(num):\n",
    "    if num <= 1:\n",
    "        return False\n",
    "    for i in range(2, num):\n",
    "        if num % i == 0:\n",
    "            return False\n",
    "    return True\n",
    "\n",
    "
    "number = int(input(\"Enter a number to check if it's prime: \"))\n",
    "if is_prime(number):\n",
    "    print(f\"{number} is a prime number.\")\n",
    "else:\n",
    "    print(f\"{number} is not a prime number.\")\n"
   ]
  },
  {
   "cell_type": "markdown",
   "id": "53d8d030-a861-40dc-a68c-15b2768dc636",
   "metadata": {},
   "source": [
    "Task 3 : Data Manipulation with Pandas (30 Marks) Using the dataset provided below, perform the following tasks. The dataset contains information about a company's sales. import pandas as pd data = { 'Date': ['2024-01-01', '2024-01-02', '2024-01-03', '2024-01-04', '2024-01-05'], 'Sales': [200, 220, 210, 215, 225], 'Region': ['North', 'South', 'East', 'West', 'North'], 'Manager': ['John', 'Jane', 'Joe', 'Jake', 'John'] } df = pd.DataFrame(data)"
   ]
  },
  {
   "cell_type": "code",
   "execution_count": 2,
   "id": "cbdc22e5-01b6-414e-91f4-e7beead7e5d0",
   "metadata": {},
   "outputs": [],
   "source": [
    "import pandas as pd \n",
    "data = { 'Date': ['2024-01-01', '2024-01-02', '2024-01-03', '2024-01-04', '2024-01-05'],\n",
    " 'Sales': [200, 220, 210, 215, 225], \n",
    " 'Region': ['North', 'South', 'East', 'West', 'North'],\n",
    " 'Manager': ['John', 'Jane', 'Joe', 'Jake', 'John'] } \n",
    "df = pd.DataFrame(data)"
   ]
  },
  {
   "cell_type": "code",
   "execution_count": 3,
   "id": "f9459a46-0b24-48ad-9109-253f47e29096",
   "metadata": {},
   "outputs": [
    {
     "name": "stdout",
     "output_type": "stream",
     "text": [
      "         Date  Sales Region Manager\n",
      "0  2024-01-01    200  North    John\n",
      "1  2024-01-02    220  South    Jane\n",
      "2  2024-01-03    210   East     Joe\n",
      "3  2024-01-04    215   West    Jake\n",
      "4  2024-01-05    225  North    John\n"
     ]
    }
   ],
   "source": [
    "print(df)"
   ]
  },
  {
   "cell_type": "code",
   "execution_count": 4,
   "id": "f00ddffd-1d0c-4533-80ed-669f42ddead5",
   "metadata": {},
   "outputs": [],
   "source": [
    "#Load the dataset into a pandas DataFrame and display its first 5 rows.\n"
   ]
  },
  {
   "cell_type": "code",
   "execution_count": 8,
   "id": "cb1e3a16-e8a1-44d3-a011-858cc6119ca6",
   "metadata": {},
   "outputs": [],
   "source": [
    "# ans : 3"
   ]
  },
  {
   "cell_type": "code",
   "execution_count": 7,
   "id": "f101916d-281a-4cb8-b81f-f1f33cfc0aec",
   "metadata": {},
   "outputs": [
    {
     "name": "stdout",
     "output_type": "stream",
     "text": [
      "         Date  Sales Region Manager\n",
      "0  2024-01-01    200  North    John\n",
      "1  2024-01-02    220  South    Jane\n",
      "2  2024-01-03    210   East     Joe\n",
      "3  2024-01-04    215   West    Jake\n",
      "4  2024-01-05    225  North    John\n"
     ]
    }
   ],
   "source": [
    "import pandas as pd\n",
    "\n",
    "# Load the dataset into a DataFrame\n",
    "\n",
    "df = pd.DataFrame(data)\n",
    "# Display the first 5 rows\n",
    "print(df.head())\n"
   ]
  },
  {
   "cell_type": "markdown",
   "id": "d0095d31-1a33-4851-b7b7-6d56cf4c1303",
   "metadata": {},
   "source": [
    " 4.  Add a new column Profit which is 10% of the Sales column. (5 Marks)"
   ]
  },
  {
   "cell_type": "code",
   "execution_count": 9,
   "id": "84e7079e-08d6-4e8d-ad56-f419c069f6f0",
   "metadata": {},
   "outputs": [
    {
     "name": "stdout",
     "output_type": "stream",
     "text": [
      "   Sales  Profit\n",
      "0    200    20.0\n",
      "1    220    22.0\n",
      "2    210    21.0\n",
      "3    215    21.5\n",
      "4    225    22.5\n"
     ]
    }
   ],
   "source": [
    "import pandas as pd\n",
    "\n",
    "df = pd.DataFrame({\n",
    "    'Sales': [200, 220, 210, 215, 225]\n",
    "})\n",
    "\n",
    "\n",
    "df['Profit'] = df['Sales'] * 0.10\n",
    "\n",
    "\n",
    "print(df)\n"
   ]
  },
  {
   "cell_type": "markdown",
   "id": "e3c8dc5d-5dc5-4f3a-9b2d-90d430df5fff",
   "metadata": {},
   "source": [
    "5. Group the data by Region and calculate the total sales for each region. (10 Marks)"
   ]
  },
  {
   "cell_type": "code",
   "execution_count": 10,
   "id": "2b0f2488-36af-44dd-a214-3efa01e9fd22",
   "metadata": {},
   "outputs": [
    {
     "name": "stdout",
     "output_type": "stream",
     "text": [
      "Region\n",
      "East     210\n",
      "North    425\n",
      "South    220\n",
      "West     215\n",
      "Name: Sales, dtype: int64\n"
     ]
    }
   ],
   "source": [
    "import pandas as pd\n",
    "df = pd.DataFrame({\n",
    "    'Region': ['North', 'South', 'East', 'West', 'North'],\n",
    "    'Sales': [200, 220, 210, 215, 225]\n",
    "})\n",
    "\n",
    "total_sales_by_region = df.groupby('Region')['Sales'].sum()\n",
    "\n",
    "print(total_sales_by_region)\n"
   ]
  },
  {
   "cell_type": "markdown",
   "id": "bdcf972a-a7d3-4d2b-9ae4-8d5af8cd35f3",
   "metadata": {},
   "source": [
    "6. Find the region with the highest average sales. (10 Marks) "
   ]
  },
  {
   "cell_type": "code",
   "execution_count": 11,
   "id": "d2e8cbfc-0fd2-47dc-953a-3f9a0219d893",
   "metadata": {},
   "outputs": [
    {
     "name": "stdout",
     "output_type": "stream",
     "text": [
      "The region with the highest average sales is: South\n"
     ]
    }
   ],
   "source": [
    "average_sales_by_region = df.groupby('Region')['Sales'].mean()\n",
    "\n",
    "\n",
    "region_with_highest_avg_sales = average_sales_by_region.idxmax()\n",
    "\n",
    "# Display the result\n",
    "print(f\"The region with the highest average sales is: {region_with_highest_avg_sales}\")"
   ]
  },
  {
   "cell_type": "markdown",
   "id": "e4e2d328-e5e9-4247-ad23-e370fb325d8c",
   "metadata": {},
   "source": [
    "  7.  Load a CSV file from a GitHub repository into a pandas DataFrame. Use the following URL for the dataset: https://raw.githubusercontent.com/datasciencedojo/datasets/master/titanic.csv Display the first 5 rows of the DataFrame. (1 Mark)"
   ]
  },
  {
   "cell_type": "code",
   "execution_count": 12,
   "id": "7ce815ba-f56f-48fe-87ed-393efda69c7b",
   "metadata": {},
   "outputs": [
    {
     "name": "stdout",
     "output_type": "stream",
     "text": [
      "   PassengerId  Survived  Pclass  \\\n",
      "0            1         0       3   \n",
      "1            2         1       1   \n",
      "2            3         1       3   \n",
      "3            4         1       1   \n",
      "4            5         0       3   \n",
      "\n",
      "                                                Name     Sex   Age  SibSp  \\\n",
      "0                            Braund, Mr. Owen Harris    male  22.0      1   \n",
      "1  Cumings, Mrs. John Bradley (Florence Briggs Th...  female  38.0      1   \n",
      "2                             Heikkinen, Miss. Laina  female  26.0      0   \n",
      "3       Futrelle, Mrs. Jacques Heath (Lily May Peel)  female  35.0      1   \n",
      "4                           Allen, Mr. William Henry    male  35.0      0   \n",
      "\n",
      "   Parch            Ticket     Fare Cabin Embarked  \n",
      "0      0         A/5 21171   7.2500   NaN        S  \n",
      "1      0          PC 17599  71.2833   C85        C  \n",
      "2      0  STON/O2. 3101282   7.9250   NaN        S  \n",
      "3      0            113803  53.1000  C123        S  \n",
      "4      0            373450   8.0500   NaN        S  \n"
     ]
    }
   ],
   "source": [
    "import pandas as pd\n",
    "\n",
    "\n",
    "url = 'https://raw.githubusercontent.com/datasciencedojo/datasets/master/titanic.csv'\n",
    "\n",
    "\n",
    "df = pd.read_csv(url)\n",
    "\n",
    "# Display the first 5 rows\n",
    "print(df.head())\n"
   ]
  },
  {
   "cell_type": "markdown",
   "id": "4446d0e4-de2a-4059-8f7a-f52313f6594e",
   "metadata": {},
   "source": [
    " ### 8 .Display summary statistics of the DataFrame. "
   ]
  },
  {
   "cell_type": "code",
   "execution_count": 13,
   "id": "58233750-3780-4673-9b33-8355dfe294d8",
   "metadata": {},
   "outputs": [
    {
     "name": "stdout",
     "output_type": "stream",
     "text": [
      "        PassengerId    Survived      Pclass                     Name   Sex  \\\n",
      "count    891.000000  891.000000  891.000000                      891   891   \n",
      "unique          NaN         NaN         NaN                      891     2   \n",
      "top             NaN         NaN         NaN  Braund, Mr. Owen Harris  male   \n",
      "freq            NaN         NaN         NaN                        1   577   \n",
      "mean     446.000000    0.383838    2.308642                      NaN   NaN   \n",
      "std      257.353842    0.486592    0.836071                      NaN   NaN   \n",
      "min        1.000000    0.000000    1.000000                      NaN   NaN   \n",
      "25%      223.500000    0.000000    2.000000                      NaN   NaN   \n",
      "50%      446.000000    0.000000    3.000000                      NaN   NaN   \n",
      "75%      668.500000    1.000000    3.000000                      NaN   NaN   \n",
      "max      891.000000    1.000000    3.000000                      NaN   NaN   \n",
      "\n",
      "               Age       SibSp       Parch  Ticket        Fare    Cabin  \\\n",
      "count   714.000000  891.000000  891.000000     891  891.000000      204   \n",
      "unique         NaN         NaN         NaN     681         NaN      147   \n",
      "top            NaN         NaN         NaN  347082         NaN  B96 B98   \n",
      "freq           NaN         NaN         NaN       7         NaN        4   \n",
      "mean     29.699118    0.523008    0.381594     NaN   32.204208      NaN   \n",
      "std      14.526497    1.102743    0.806057     NaN   49.693429      NaN   \n",
      "min       0.420000    0.000000    0.000000     NaN    0.000000      NaN   \n",
      "25%      20.125000    0.000000    0.000000     NaN    7.910400      NaN   \n",
      "50%      28.000000    0.000000    0.000000     NaN   14.454200      NaN   \n",
      "75%      38.000000    1.000000    0.000000     NaN   31.000000      NaN   \n",
      "max      80.000000    8.000000    6.000000     NaN  512.329200      NaN   \n",
      "\n",
      "       Embarked  \n",
      "count       889  \n",
      "unique        3  \n",
      "top           S  \n",
      "freq        644  \n",
      "mean        NaN  \n",
      "std         NaN  \n",
      "min         NaN  \n",
      "25%         NaN  \n",
      "50%         NaN  \n",
      "75%         NaN  \n",
      "max         NaN  \n"
     ]
    }
   ],
   "source": [
    "import pandas as pd\n",
    "url = 'https://raw.githubusercontent.com/datasciencedojo/datasets/master/titanic.csv'\n",
    "df = pd.read_csv(url)\n",
    "\n",
    "print(df.describe(include='all'))\n"
   ]
  },
  {
   "cell_type": "markdown",
   "id": "44e04d7f-f041-4714-b6df-7c36bc1dbcde",
   "metadata": {},
   "source": [
    " #### 9 .Check for null values in the DataFrame and display the count of null values in each column."
   ]
  },
  {
   "cell_type": "code",
   "execution_count": 14,
   "id": "6847158c-3c0c-4065-907a-409d8e319e25",
   "metadata": {},
   "outputs": [
    {
     "name": "stdout",
     "output_type": "stream",
     "text": [
      "PassengerId      0\n",
      "Survived         0\n",
      "Pclass           0\n",
      "Name             0\n",
      "Sex              0\n",
      "Age            177\n",
      "SibSp            0\n",
      "Parch            0\n",
      "Ticket           0\n",
      "Fare             0\n",
      "Cabin          687\n",
      "Embarked         2\n",
      "dtype: int64\n"
     ]
    }
   ],
   "source": [
    "import pandas as pd\n",
    "\n",
    "# URL of the CSV file\n",
    "url = 'https://raw.githubusercontent.com/datasciencedojo/datasets/master/titanic.csv'\n",
    "\n",
    "# Load the dataset into a DataFrame\n",
    "df = pd.read_csv(url)\n",
    "\n",
    "# Check for null values and display the count of null values in each column\n",
    "null_counts = df.isnull().sum()\n",
    "\n",
    "print(null_counts)\n"
   ]
  },
  {
   "cell_type": "markdown",
   "id": "fedb6e75-c3e2-4e58-828c-94c0b94a28cd",
   "metadata": {},
   "source": [
    " ## 10. Fill the null values in the 'Age' column with the mean age. "
   ]
  },
  {
   "cell_type": "code",
   "execution_count": 18,
   "id": "803ebb1e-deb6-4e78-82aa-a475d500dc32",
   "metadata": {},
   "outputs": [
    {
     "name": "stdout",
     "output_type": "stream",
     "text": [
      "   PassengerId  Survived  Pclass  \\\n",
      "0            1         0       3   \n",
      "1            2         1       1   \n",
      "2            3         1       3   \n",
      "3            4         1       1   \n",
      "4            5         0       3   \n",
      "\n",
      "                                                Name     Sex   Age  SibSp  \\\n",
      "0                            Braund, Mr. Owen Harris    male  22.0      1   \n",
      "1  Cumings, Mrs. John Bradley (Florence Briggs Th...  female  38.0      1   \n",
      "2                             Heikkinen, Miss. Laina  female  26.0      0   \n",
      "3       Futrelle, Mrs. Jacques Heath (Lily May Peel)  female  35.0      1   \n",
      "4                           Allen, Mr. William Henry    male  35.0      0   \n",
      "\n",
      "   Parch            Ticket     Fare Cabin Embarked  \n",
      "0      0         A/5 21171   7.2500   NaN        S  \n",
      "1      0          PC 17599  71.2833   C85        C  \n",
      "2      0  STON/O2. 3101282   7.9250   NaN        S  \n",
      "3      0            113803  53.1000  C123        S  \n",
      "4      0            373450   8.0500   NaN        S  \n"
     ]
    },
    {
     "name": "stderr",
     "output_type": "stream",
     "text": [
      "C:\\Users\\HP\\AppData\\Local\\Temp\\ipykernel_20232\\221747955.py:13: FutureWarning: A value is trying to be set on a copy of a DataFrame or Series through chained assignment using an inplace method.\n",
      "The behavior will change in pandas 3.0. This inplace method will never work because the intermediate object on which we are setting values always behaves as a copy.\n",
      "\n",
      "For example, when doing 'df[col].method(value, inplace=True)', try using 'df.method({col: value}, inplace=True)' or df[col] = df[col].method(value) instead, to perform the operation inplace on the original object.\n",
      "\n",
      "\n",
      "  df['Age'].fillna(mean_age, inplace=True)\n"
     ]
    }
   ],
   "source": [
    "import pandas as pd\n",
    "\n",
    "# URL of the CSV file\n",
    "url = 'https://raw.githubusercontent.com/datasciencedojo/datasets/master/titanic.csv'\n",
    "\n",
    "# Load the dataset into a DataFrame\n",
    "df = pd.read_csv(url)\n",
    "\n",
    "# Calculate the mean of the 'Age' column\n",
    "mean_age = df['Age'].mean()\n",
    "\n",
    "# Fill the null values in the 'Age' column with the mean age\n",
    "df['Age'].fillna(mean_age, inplace=True)\n",
    "\n",
    "# Display the first 5 rows to confirm the changes\n",
    "print(df.head())\n"
   ]
  },
  {
   "cell_type": "markdown",
   "id": "4edff463-ce94-46a2-808b-797996d916a4",
   "metadata": {},
   "source": [
    "## 11. Drop the rows where 'Embarked' is null. (1 Mark)"
   ]
  },
  {
   "cell_type": "code",
   "execution_count": 19,
   "id": "ca78bc52-b7c5-447b-b649-a3969baaaca4",
   "metadata": {},
   "outputs": [
    {
     "name": "stdout",
     "output_type": "stream",
     "text": [
      "     PassengerId  Survived  Pclass  \\\n",
      "0              1         0       3   \n",
      "1              2         1       1   \n",
      "2              3         1       3   \n",
      "3              4         1       1   \n",
      "4              5         0       3   \n",
      "..           ...       ...     ...   \n",
      "886          887         0       2   \n",
      "887          888         1       1   \n",
      "888          889         0       3   \n",
      "889          890         1       1   \n",
      "890          891         0       3   \n",
      "\n",
      "                                                  Name     Sex        Age  \\\n",
      "0                              Braund, Mr. Owen Harris    male  22.000000   \n",
      "1    Cumings, Mrs. John Bradley (Florence Briggs Th...  female  38.000000   \n",
      "2                               Heikkinen, Miss. Laina  female  26.000000   \n",
      "3         Futrelle, Mrs. Jacques Heath (Lily May Peel)  female  35.000000   \n",
      "4                             Allen, Mr. William Henry    male  35.000000   \n",
      "..                                                 ...     ...        ...   \n",
      "886                              Montvila, Rev. Juozas    male  27.000000   \n",
      "887                       Graham, Miss. Margaret Edith  female  19.000000   \n",
      "888           Johnston, Miss. Catherine Helen \"Carrie\"  female  29.699118   \n",
      "889                              Behr, Mr. Karl Howell    male  26.000000   \n",
      "890                                Dooley, Mr. Patrick    male  32.000000   \n",
      "\n",
      "     SibSp  Parch            Ticket     Fare Cabin Embarked  \n",
      "0        1      0         A/5 21171   7.2500   NaN        S  \n",
      "1        1      0          PC 17599  71.2833   C85        C  \n",
      "2        0      0  STON/O2. 3101282   7.9250   NaN        S  \n",
      "3        1      0            113803  53.1000  C123        S  \n",
      "4        0      0            373450   8.0500   NaN        S  \n",
      "..     ...    ...               ...      ...   ...      ...  \n",
      "886      0      0            211536  13.0000   NaN        S  \n",
      "887      0      0            112053  30.0000   B42        S  \n",
      "888      1      2        W./C. 6607  23.4500   NaN        S  \n",
      "889      0      0            111369  30.0000  C148        C  \n",
      "890      0      0            370376   7.7500   NaN        Q  \n",
      "\n",
      "[891 rows x 12 columns]\n",
      "The history saving thread hit an unexpected error (OperationalError('database or disk is full')).History will not be written to the database.\n"
     ]
    }
   ],
   "source": [
    "print (df)"
   ]
  },
  {
   "cell_type": "code",
   "execution_count": 20,
   "id": "556632eb-f47b-46c9-8b34-20b1f39a1a0a",
   "metadata": {},
   "outputs": [
    {
     "name": "stdout",
     "output_type": "stream",
     "text": [
      "   PassengerId  Survived  Pclass  \\\n",
      "0            1         0       3   \n",
      "1            2         1       1   \n",
      "2            3         1       3   \n",
      "3            4         1       1   \n",
      "4            5         0       3   \n",
      "\n",
      "                                                Name     Sex   Age  SibSp  \\\n",
      "0                            Braund, Mr. Owen Harris    male  22.0      1   \n",
      "1  Cumings, Mrs. John Bradley (Florence Briggs Th...  female  38.0      1   \n",
      "2                             Heikkinen, Miss. Laina  female  26.0      0   \n",
      "3       Futrelle, Mrs. Jacques Heath (Lily May Peel)  female  35.0      1   \n",
      "4                           Allen, Mr. William Henry    male  35.0      0   \n",
      "\n",
      "   Parch            Ticket     Fare Cabin Embarked  \n",
      "0      0         A/5 21171   7.2500   NaN        S  \n",
      "1      0          PC 17599  71.2833   C85        C  \n",
      "2      0  STON/O2. 3101282   7.9250   NaN        S  \n",
      "3      0            113803  53.1000  C123        S  \n",
      "4      0            373450   8.0500   NaN        S  \n"
     ]
    }
   ],
   "source": [
    "import pandas as pd\n",
    "\n",
    "# URL of the CSV file\n",
    "url = 'https://raw.githubusercontent.com/datasciencedojo/datasets/master/titanic.csv'\n",
    "\n",
    "# Load the dataset into a DataFrame\n",
    "df = pd.read_csv(url)\n",
    "\n",
    "# Drop rows where 'Embarked' is null\n",
    "df_cleaned = df.dropna(subset=['Embarked'])\n",
    "\n",
    "# Display the first 5 rows to confirm the changes\n",
    "print(df_cleaned.head())\n"
   ]
  },
  {
   "cell_type": "markdown",
   "id": "98c8ac1d-6465-481f-94ad-7b4103a1fa6f",
   "metadata": {},
   "source": [
    "   ## 12.Create a new column 'FamilySize' which is the sum of 'SibSp' and 'Parch'. (1 Mark)"
   ]
  },
  {
   "cell_type": "code",
   "execution_count": 21,
   "id": "9b80891f-40d4-455c-a5ab-be1ae62b179c",
   "metadata": {},
   "outputs": [
    {
     "name": "stdout",
     "output_type": "stream",
     "text": [
      "     PassengerId  Survived  Pclass  \\\n",
      "0              1         0       3   \n",
      "1              2         1       1   \n",
      "2              3         1       3   \n",
      "3              4         1       1   \n",
      "4              5         0       3   \n",
      "..           ...       ...     ...   \n",
      "886          887         0       2   \n",
      "887          888         1       1   \n",
      "888          889         0       3   \n",
      "889          890         1       1   \n",
      "890          891         0       3   \n",
      "\n",
      "                                                  Name     Sex   Age  SibSp  \\\n",
      "0                              Braund, Mr. Owen Harris    male  22.0      1   \n",
      "1    Cumings, Mrs. John Bradley (Florence Briggs Th...  female  38.0      1   \n",
      "2                               Heikkinen, Miss. Laina  female  26.0      0   \n",
      "3         Futrelle, Mrs. Jacques Heath (Lily May Peel)  female  35.0      1   \n",
      "4                             Allen, Mr. William Henry    male  35.0      0   \n",
      "..                                                 ...     ...   ...    ...   \n",
      "886                              Montvila, Rev. Juozas    male  27.0      0   \n",
      "887                       Graham, Miss. Margaret Edith  female  19.0      0   \n",
      "888           Johnston, Miss. Catherine Helen \"Carrie\"  female   NaN      1   \n",
      "889                              Behr, Mr. Karl Howell    male  26.0      0   \n",
      "890                                Dooley, Mr. Patrick    male  32.0      0   \n",
      "\n",
      "     Parch            Ticket     Fare Cabin Embarked  \n",
      "0        0         A/5 21171   7.2500   NaN        S  \n",
      "1        0          PC 17599  71.2833   C85        C  \n",
      "2        0  STON/O2. 3101282   7.9250   NaN        S  \n",
      "3        0            113803  53.1000  C123        S  \n",
      "4        0            373450   8.0500   NaN        S  \n",
      "..     ...               ...      ...   ...      ...  \n",
      "886      0            211536  13.0000   NaN        S  \n",
      "887      0            112053  30.0000   B42        S  \n",
      "888      2        W./C. 6607  23.4500   NaN        S  \n",
      "889      0            111369  30.0000  C148        C  \n",
      "890      0            370376   7.7500   NaN        Q  \n",
      "\n",
      "[891 rows x 12 columns]\n"
     ]
    }
   ],
   "source": [
    "print(df)"
   ]
  },
  {
   "cell_type": "code",
   "execution_count": 22,
   "id": "2e94ab21-cffd-4bb5-bd4f-78e8aa11f3d7",
   "metadata": {},
   "outputs": [
    {
     "name": "stdout",
     "output_type": "stream",
     "text": [
      "   PassengerId  Survived  Pclass  \\\n",
      "0            1         0       3   \n",
      "1            2         1       1   \n",
      "2            3         1       3   \n",
      "3            4         1       1   \n",
      "4            5         0       3   \n",
      "\n",
      "                                                Name     Sex   Age  SibSp  \\\n",
      "0                            Braund, Mr. Owen Harris    male  22.0      1   \n",
      "1  Cumings, Mrs. John Bradley (Florence Briggs Th...  female  38.0      1   \n",
      "2                             Heikkinen, Miss. Laina  female  26.0      0   \n",
      "3       Futrelle, Mrs. Jacques Heath (Lily May Peel)  female  35.0      1   \n",
      "4                           Allen, Mr. William Henry    male  35.0      0   \n",
      "\n",
      "   Parch            Ticket     Fare Cabin Embarked  FamilySize  \n",
      "0      0         A/5 21171   7.2500   NaN        S           1  \n",
      "1      0          PC 17599  71.2833   C85        C           1  \n",
      "2      0  STON/O2. 3101282   7.9250   NaN        S           0  \n",
      "3      0            113803  53.1000  C123        S           1  \n",
      "4      0            373450   8.0500   NaN        S           0  \n"
     ]
    }
   ],
   "source": [
    "import pandas as pd\n",
    "\n",
    "# URL of the CSV file\n",
    "url = 'https://raw.githubusercontent.com/datasciencedojo/datasets/master/titanic.csv'\n",
    "\n",
    "# Load the dataset into a DataFrame\n",
    "df = pd.read_csv(url)\n",
    "\n",
    "# Create a new column 'FamilySize' which is the sum of 'SibSp' and 'Parch'\n",
    "df['FamilySize'] = df['SibSp'] + df['Parch']\n",
    "\n",
    "# Display the first 5 rows to confirm the changes\n",
    "print(df.head())\n"
   ]
  },
  {
   "cell_type": "markdown",
   "id": "068bf5b3-dc2d-47e3-bac9-fea78e2b4396",
   "metadata": {},
   "source": [
    "#### 13. Convert the 'Sex' column to numerical values (male: 0, female: 1)."
   ]
  },
  {
   "cell_type": "code",
   "execution_count": 23,
   "id": "b6a3f9d2-d2de-4994-9b52-009812102c20",
   "metadata": {},
   "outputs": [
    {
     "name": "stdout",
     "output_type": "stream",
     "text": [
      "   PassengerId  Survived  Pclass  \\\n",
      "0            1         0       3   \n",
      "1            2         1       1   \n",
      "2            3         1       3   \n",
      "3            4         1       1   \n",
      "4            5         0       3   \n",
      "\n",
      "                                                Name  Sex   Age  SibSp  Parch  \\\n",
      "0                            Braund, Mr. Owen Harris    0  22.0      1      0   \n",
      "1  Cumings, Mrs. John Bradley (Florence Briggs Th...    1  38.0      1      0   \n",
      "2                             Heikkinen, Miss. Laina    1  26.0      0      0   \n",
      "3       Futrelle, Mrs. Jacques Heath (Lily May Peel)    1  35.0      1      0   \n",
      "4                           Allen, Mr. William Henry    0  35.0      0      0   \n",
      "\n",
      "             Ticket     Fare Cabin Embarked  \n",
      "0         A/5 21171   7.2500   NaN        S  \n",
      "1          PC 17599  71.2833   C85        C  \n",
      "2  STON/O2. 3101282   7.9250   NaN        S  \n",
      "3            113803  53.1000  C123        S  \n",
      "4            373450   8.0500   NaN        S  \n"
     ]
    }
   ],
   "source": [
    "import pandas as pd\n",
    "\n",
    "url = 'https://raw.githubusercontent.com/datasciencedojo/datasets/master/titanic.csv'\n",
    "\n",
    "df = pd.read_csv(url)\n",
    "\n",
    "# Convert the 'Sex' column to numerical values (male: 0, female: 1)\n",
    "df['Sex'] = df['Sex'].map({'male': 0, 'female': 1})\n",
    "\n",
    "print(df.head())\n"
   ]
  },
  {
   "cell_type": "markdown",
   "id": "61aaa9c3-fdef-41b9-844d-5203f1d70594",
   "metadata": {},
   "source": [
    "#### 14.Group the data by 'Pclass' and calculate the average fare for each class. (1 Mark)"
   ]
  },
  {
   "cell_type": "code",
   "execution_count": 24,
   "id": "d188d9a2-7efb-41c7-9993-4381f0c6ade8",
   "metadata": {},
   "outputs": [
    {
     "name": "stdout",
     "output_type": "stream",
     "text": [
      "Pclass\n",
      "1    84.154687\n",
      "2    20.662183\n",
      "3    13.675550\n",
      "Name: Fare, dtype: float64\n"
     ]
    }
   ],
   "source": [
    "import pandas as pd\n",
    "\n",
    "url = 'https://raw.githubusercontent.com/datasciencedojo/datasets/master/titanic.csv'\n",
    "\n",
    "df = pd.read_csv(url)\n",
    "\n",
    "average_class = df.groupby('Pclass')['Fare'].mean()\n",
    "\n",
    "\n",
    "print(average_class)\n"
   ]
  },
  {
   "cell_type": "markdown",
   "id": "c8916579-4de3-4417-826c-87e28653557b",
   "metadata": {},
   "source": [
    "### 15 . Find the most common port of embarkation ('Embarked' column). (1 Mark)"
   ]
  },
  {
   "cell_type": "code",
   "execution_count": 25,
   "id": "52cca871-aaf0-498e-8774-210d2363c42c",
   "metadata": {},
   "outputs": [
    {
     "name": "stdout",
     "output_type": "stream",
     "text": [
      "The most common port of embarkation is: S\n"
     ]
    }
   ],
   "source": [
    "import pandas as pd\n",
    "\n",
    "url = 'https://raw.githubusercontent.com/datasciencedojo/datasets/master/titanic.csv'\n",
    "\n",
    "df = pd.read_csv(url)\n",
    "\n",
    "most_common_embarked = df['Embarked'].mode()[0]\n",
    "\n",
    "print(f\"The most common port of embarkation is: {most_common_embarked}\")\n"
   ]
  },
  {
   "cell_type": "markdown",
   "id": "ebfbb30c-7521-4b31-84b7-abbcccd2db13",
   "metadata": {},
   "source": [
    "   ### .16.Create a pivot table that shows the survival rate ('Survived') for each combination of 'Sex' and 'Pclass'. (1 Mark) "
   ]
  },
  {
   "cell_type": "code",
   "execution_count": 27,
   "id": "8a167335-d386-4f07-afe3-2da49547edb9",
   "metadata": {},
   "outputs": [
    {
     "name": "stdout",
     "output_type": "stream",
     "text": [
      "Pclass         1         2         3\n",
      "Sex                                 \n",
      "female  0.968085  0.921053  0.500000\n",
      "male    0.368852  0.157407  0.135447\n"
     ]
    }
   ],
   "source": [
    "import pandas as pd\n",
    "url = 'https://raw.githubusercontent.com/datasciencedojo/datasets/master/titanic.csv'\n",
    "df = pd.read_csv(url)\n",
    "\n",
    "\n",
    "pivot_table = df.pivot_table(values='Survived', index='Sex', columns='Pclass')\n",
    "\n",
    "\n",
    "print(pivot_table)\n"
   ]
  },
  {
   "cell_type": "code",
   "execution_count": null,
   "id": "8835a051-6e16-46f2-a900-2b371a6c0378",
   "metadata": {},
   "outputs": [],
   "source": []
  }
 ],
 "metadata": {
  "kernelspec": {
   "display_name": "Python 3 (ipykernel)",
   "language": "python",
   "name": "python3"
  },
  "language_info": {
   "codemirror_mode": {
    "name": "ipython",
    "version": 3
   },
   "file_extension": ".py",
   "mimetype": "text/x-python",
   "name": "python",
   "nbconvert_exporter": "python",
   "pygments_lexer": "ipython3",
   "version": "3.12.4"
  }
 },
 "nbformat": 4,
 "nbformat_minor": 5
}
