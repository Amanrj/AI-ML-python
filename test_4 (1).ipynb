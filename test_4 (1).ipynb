{
 "cells": [
  {
   "cell_type": "markdown",
   "id": "a2d03c1b-3b7f-4e29-aed5-fe7c3c93a61c",
   "metadata": {
    "id": "a2d03c1b-3b7f-4e29-aed5-fe7c3c93a61c"
   },
   "source": [
    "# Statistics Test 2.0"
   ]
  },
  {
   "cell_type": "markdown",
   "id": "eacdfe41-4c50-4a8d-8af9-25d78ccbab02",
   "metadata": {
    "id": "eacdfe41-4c50-4a8d-8af9-25d78ccbab02"
   },
   "source": [
    "Time - 1.30 Hr\n",
    "\n",
    "\n",
    "Total Marks = 60\n",
    "\n"
   ]
  },
  {
   "cell_type": "markdown",
   "id": "-h45Y-7UcYVW",
   "metadata": {
    "id": "-h45Y-7UcYVW"
   },
   "source": [
    "**MCQ**"
   ]
  },
  {
   "cell_type": "markdown",
   "id": "-0TTQIaXcLJF",
   "metadata": {
    "id": "-0TTQIaXcLJF"
   },
   "source": [
    "**Which of the following is a measure of central tendency?**\n",
    "\n",
    "    A) Variance\n",
    "    B) Standard Deviation\n",
    "    C) Mean\n",
    "    D) Range"
   ]
  },
  {
   "cell_type": "markdown",
   "id": "b4f3f557-e0d7-4636-8732-1f8260cc1a37",
   "metadata": {},
   "source": [
    "c. Mean"
   ]
  },
  {
   "cell_type": "markdown",
   "id": "YEex8H5ocLLr",
   "metadata": {
    "id": "YEex8H5ocLLr"
   },
   "source": [
    "**In a dataset with values [2, 4, 4, 6, 8], what is the median?**\n",
    "\n",
    "    A) 4\n",
    "    B) 4.5\n",
    "    C) 6\n",
    "    D) 8"
   ]
  },
  {
   "cell_type": "markdown",
   "id": "d5943cb0-59b5-4713-8f1c-d891bf770f53",
   "metadata": {},
   "source": [
    "A . 4"
   ]
  },
  {
   "cell_type": "markdown",
   "id": "NLR39gAncLNz",
   "metadata": {
    "id": "NLR39gAncLNz"
   },
   "source": [
    "**Inferential statistics are used to:**\n",
    "\n",
    "    A) Describe the data's central tendency\n",
    "    B) Summarize the data\n",
    "    C) Make predictions or inferences about a population based on a sample\n",
    "    D) Visualize the data"
   ]
  },
  {
   "cell_type": "markdown",
   "id": "e1e54eeb-7068-4e3d-903f-8594ec47e3fa",
   "metadata": {},
   "source": [
    "B. summarize the data"
   ]
  },
  {
   "cell_type": "markdown",
   "id": "gxSeoRancLP9",
   "metadata": {
    "id": "gxSeoRancLP9"
   },
   "source": [
    "**What does a confidence interval represent?**\n",
    "\n",
    "    A) The range within which the population mean is expected to fall with a certain probability\n",
    "    B) The exact value of the population mean\n",
    "    C) The variability within the sample\n",
    "    D) The number of samples required"
   ]
  },
  {
   "cell_type": "markdown",
   "id": "f4c47da6-e36b-430a-b8ac-f6095719715e",
   "metadata": {},
   "source": [
    "A. The range within which the population mean is expected to fall with a certain probability"
   ]
  },
  {
   "cell_type": "markdown",
   "id": "8VcnEmX9cLSM",
   "metadata": {
    "id": "8VcnEmX9cLSM"
   },
   "source": [
    "**According to the Central Limit Theorem, as the sample size increases, the distribution of the sample mean:**\n",
    "\n",
    "    A) Becomes skewed\n",
    "    B) Approaches a normal distribution\n",
    "    C) Remains uniform\n",
    "    D) Becomes bimodal"
   ]
  },
  {
   "cell_type": "markdown",
   "id": "3c352e47-e9da-468b-b089-6cdcdd371b72",
   "metadata": {},
   "source": [
    "B. Approaches a normal distribution"
   ]
  },
  {
   "cell_type": "markdown",
   "id": "mQAz26m_cLUq",
   "metadata": {
    "id": "mQAz26m_cLUq"
   },
   "source": [
    "**The Central Limit Theorem is important because:**\n",
    "\n",
    "    A) It helps in defining the exact population distribution\n",
    "    B) It allows for the use of normal distribution to make inferences about sample means\n",
    "    C) It eliminates the need for sampling\n",
    "    D) It ensures sample sizes are always large"
   ]
  },
  {
   "cell_type": "markdown",
   "id": "d7765483-8776-4d59-809b-d4fd093d8c5f",
   "metadata": {},
   "source": [
    "B. It allows for the use of normal distribution to make inferences about sample means"
   ]
  },
  {
   "cell_type": "markdown",
   "id": "F1T_g8pgcLWv",
   "metadata": {
    "id": "F1T_g8pgcLWv"
   },
   "source": [
    "**ANOVA is used to test:**\n",
    "\n",
    "    A) The association between two categorical variables\n",
    "    B) The differences between means of three or more groups\n",
    "    C) The proportion of a sample\n",
    "    D) The correlation between two continuous variables"
   ]
  },
  {
   "cell_type": "markdown",
   "id": "52fa7805-8ad5-4412-bb1a-86f312de50be",
   "metadata": {},
   "source": [
    "A. The association between two categorical variables"
   ]
  },
  {
   "cell_type": "markdown",
   "id": "MXX8Exw3dBzd",
   "metadata": {
    "id": "MXX8Exw3dBzd"
   },
   "source": [
    "**A p-value less than 0.05 in an ANOVA test indicates:**\n",
    "\n",
    "    A) There is no significant difference between group means\n",
    "    B) The means of at least one group are significantly different from others\n",
    "    C) The variances within groups are equal\n",
    "    D) The sample size is too small"
   ]
  },
  {
   "cell_type": "markdown",
   "id": "1fb8b3cb-267e-4e59-8db1-f29f4c0047bc",
   "metadata": {},
   "source": [
    "B. The means of at least one group are significantly different from others"
   ]
  },
  {
   "cell_type": "markdown",
   "id": "T5dE7-GIdB14",
   "metadata": {
    "id": "T5dE7-GIdB14"
   },
   "source": [
    "**The chi-square test of independence assesses:**\n",
    "\n",
    "    A) If two continuous variables are related\n",
    "    B) The goodness-of-fit of a model\n",
    "    C) The association between two categorical variables\n",
    "    D) The variance of a single variable"
   ]
  },
  {
   "cell_type": "markdown",
   "id": "bfcd822a-b012-4899-b7ed-1f565ad5cacd",
   "metadata": {},
   "source": [
    "C. The association between two categorical variables"
   ]
  },
  {
   "cell_type": "markdown",
   "id": "TbkJYhyNdIa0",
   "metadata": {
    "id": "TbkJYhyNdIa0"
   },
   "source": [
    "**The two-sample t-test assumes:**\n",
    "\n",
    "    A) Equal variances between the two groups\n",
    "    B) Unequal variances between the two groups\n",
    "    C) No assumption about variances\n",
    "    D) The samples are paired"
   ]
  },
  {
   "cell_type": "markdown",
   "id": "31e1e14b-472c-4111-96dd-a731511a18fb",
   "metadata": {},
   "source": [
    "A. Equal variances between the two groups"
   ]
  },
  {
   "cell_type": "markdown",
   "id": "6b85eac4-9fa5-4a6e-8944-31cfdb85b1f7",
   "metadata": {
    "id": "6b85eac4-9fa5-4a6e-8944-31cfdb85b1f7"
   },
   "source": [
    "# Python Basic Exercise\n",
    "\n",
    "### Solve any three"
   ]
  },
  {
   "cell_type": "markdown",
   "id": "daf26a58-0326-40aa-bdb6-8d765abaa5e8",
   "metadata": {
    "id": "daf26a58-0326-40aa-bdb6-8d765abaa5e8"
   },
   "source": [
    "Que 1 -> You have a list a=[1,2,3,6,9,7,4,5,8], and you have to find the kth element from the list. This means I want to find the 2nd largest number from the list. Similarly, you have to create a function where I pass a number, say 4, and the function will return the 4th largest number from the list."
   ]
  },
  {
   "cell_type": "code",
   "execution_count": 22,
   "id": "6f85b635-779f-4c1f-be25-fed8ad6ca5b0",
   "metadata": {
    "id": "6f85b635-779f-4c1f-be25-fed8ad6ca5b0"
   },
   "outputs": [
    {
     "name": "stdout",
     "output_type": "stream",
     "text": [
      "81\n",
      "52\n"
     ]
    }
   ],
   "source": [
    "\n",
    "def find_kth_largest(lst, k):\n",
    "    sorted_lst = sorted(lst, reverse=True)\n",
    "    if k <= len(sorted_lst) and k > 0:\n",
    "        return sorted_lst[k - 1]\n",
    "    else:\n",
    "        return \"Invalid value \"\n",
    "\n",
    "a = [11, 52, 73, 96, 2, 4, 9, 50, 81]\n",
    "k = 2\n",
    "print(find_kth_largest(a, k))\n",
    "k = 4\n",
    "print(find_kth_largest(a, k))\n"
   ]
  },
  {
   "cell_type": "markdown",
   "id": "bb4ffbe7-2bd2-47fe-be13-41ce39dde5a7",
   "metadata": {
    "id": "bb4ffbe7-2bd2-47fe-be13-41ce39dde5a7"
   },
   "source": [
    "Que 2-> you have a list [1,8,0,6,4,0,6,0,0,2,0], You need to shift all the zeros to the right , without using any inbuilt function."
   ]
  },
  {
   "cell_type": "code",
   "execution_count": null,
   "id": "39017c11-1084-4c96-b229-83ba71c15b98",
   "metadata": {
    "id": "39017c11-1084-4c96-b229-83ba71c15b98"
   },
   "outputs": [],
   "source": [
    "Sol->"
   ]
  },
  {
   "cell_type": "markdown",
   "id": "8f6bb4bc-9d9f-4f99-ad34-489934da6fb8",
   "metadata": {
    "id": "8f6bb4bc-9d9f-4f99-ad34-489934da6fb8"
   },
   "source": [
    "Que 3->Reverse a string without using any inbuilt function like slicing."
   ]
  },
  {
   "cell_type": "code",
   "execution_count": 19,
   "id": "3cfc4b48-15e0-4fcf-8cb7-1c6171d407e6",
   "metadata": {
    "id": "3cfc4b48-15e0-4fcf-8cb7-1c6171d407e6"
   },
   "outputs": [
    {
     "name": "stdout",
     "output_type": "stream",
     "text": [
      "The original string is : amankumar\n",
      "The reversed string is : ramuknama\n"
     ]
    }
   ],
   "source": [
    "def reverse(string):\n",
    "   string = string[::-1]\n",
    "   return string\n",
    "value = \"amankumar\"\n",
    "print(\"The original string is : \", end=\"\")\n",
    "print(value)\n",
    "print(\"The reversed string is : \", end=\"\")\n",
    "print(reverse(value))"
   ]
  },
  {
   "cell_type": "markdown",
   "id": "b1262b95-144a-4654-bfa1-1e9d8a84fab0",
   "metadata": {
    "id": "58b475ca-89a9-4074-adfa-1b31e6609aaf"
   },
   "source": [
    "Que 4-> To find common prefix in array of strings\n",
    "\n",
    "array= ['Abce','Abcjhgj','Abcf']\n",
    "\n",
    "\n",
    "The common prefix among the strings 'Abce', 'Abcjhgj', and 'Abcf' is 'Abc'. So, the common prefix is 'Abc'."
   ]
  },
  {
   "cell_type": "code",
   "execution_count": null,
   "id": "80d7e6ea-574b-4135-aa87-a042e9956390",
   "metadata": {
    "id": "80d7e6ea-574b-4135-aa87-a042e9956390"
   },
   "outputs": [],
   "source": [
    "Sol->"
   ]
  },
  {
   "cell_type": "markdown",
   "id": "91637a40-f4ed-414d-9c71-c82374cb13a3",
   "metadata": {
    "id": "91637a40-f4ed-414d-9c71-c82374cb13a3"
   },
   "source": [
    "Que 5- Given the list l = [1,2,0,1,2,0,0], I want the output to be ans = [0,0,0,2,2,1,1] without using any inbuilt function"
   ]
  },
  {
   "cell_type": "code",
   "execution_count": null,
   "id": "ea7b0b77-9ff4-4f73-9a99-129c665fb961",
   "metadata": {
    "id": "ea7b0b77-9ff4-4f73-9a99-129c665fb961"
   },
   "outputs": [],
   "source": [
    "Sol->\n"
   ]
  },
  {
   "cell_type": "code",
   "execution_count": null,
   "id": "f36bc3d6-7bd0-4f8e-aad7-ac40484e911f",
   "metadata": {
    "id": "f36bc3d6-7bd0-4f8e-aad7-ac40484e911f"
   },
   "outputs": [],
   "source": []
  },
  {
   "cell_type": "markdown",
   "id": "e17c874f-ffe2-416f-af6c-2ba6e57a0bfd",
   "metadata": {
    "id": "e17c874f-ffe2-416f-af6c-2ba6e57a0bfd"
   },
   "source": [
    "# Statistics Theory Question\n"
   ]
  },
  {
   "cell_type": "markdown",
   "id": "0b748385-fe05-40f2-adc8-5b643f95b906",
   "metadata": {
    "id": "0b748385-fe05-40f2-adc8-5b643f95b906"
   },
   "source": [
    "Que 1- What is Central Limit Theoram ? Explain."
   ]
  },
  {
   "cell_type": "markdown",
   "id": "4b782c06-b7dd-4f5e-9e57-f9e9aefa73c1",
   "metadata": {
    "id": "6e9ac27e-7076-4a13-89a6-d0ebe39d10f1"
   },
   "source": [
    "Ans=\n",
    "The central limit theorem states that if you take sufficiently large samples from a population, the samples’ means will be normally distributed, even if the population isn’t normally distributed.\n",
    "\n",
    "Explain : A population follows a Poisson distribution . If we take 10,000 samples from the population, each with a sample size of 50, the sample means follow a normal distribution, as predicted by the central limit theorem \n"
   ]
  },
  {
   "cell_type": "markdown",
   "id": "8466b61e-24b9-4567-bd63-04d8fb5360ad",
   "metadata": {
    "id": "8466b61e-24b9-4567-bd63-04d8fb5360ad"
   },
   "source": [
    "Que 2- What is CDF(Comulative density function). Explain with mathematics."
   ]
  },
  {
   "cell_type": "markdown",
   "id": "998a9197-1b8c-4ae9-b675-fde4b6d4f7ca",
   "metadata": {
    "id": "02b38da6-fd6a-4ecc-8275-aa85a320f78a"
   },
   "source": [
    "Ans= CDF stand for comulative Density Function . In this function  describes the probability that a random variable will take a value less than or equal to a given value.\n",
    "     "
   ]
  },
  {
   "cell_type": "markdown",
   "id": "6ada9cfc-cb42-4e64-b74e-7befd45cbe4a",
   "metadata": {
    "id": "6ada9cfc-cb42-4e64-b74e-7befd45cbe4a"
   },
   "source": [
    "Que 3- What is Anova test. how we can calculate behind the scene ?"
   ]
  },
  {
   "cell_type": "markdown",
   "id": "98f74de7-38af-4573-956a-b493e8e597db",
   "metadata": {
    "id": "b2173ae3-80fc-4ba6-bbb9-3013db30a02f"
   },
   "source": [
    "Ans=\n",
    "Anova stands for Analysis of Variance, is a statistical test used to analyze the difference between the means of more than two groups.\n",
    "A one-way ANOVA uses one independent variable, while a two-way ANOVA uses two independent variables\n",
    ". calculate behind the scene\n",
    "step1 : Calculate the mean of each column\r",
    "#step2 : Calculate thefinald mean\n",
    "#step3 : Variation betwe and n,withi\r\n",
    "#step4 : calculate the mean squared variance of between and withn\r\n",
    "#step5 : calculate F statistics and corresponding p value"
   ]
  },
  {
   "cell_type": "markdown",
   "id": "dffe2da1-3353-4865-85eb-fff2caea349a",
   "metadata": {
    "id": "dffe2da1-3353-4865-85eb-fff2caea349a"
   },
   "source": [
    "Que 4-  What is Chi-Square test. how we will calculate behind the scene."
   ]
  },
  {
   "cell_type": "markdown",
   "id": "c0cb448e-f694-4310-8cd5-96b524a0fa22",
   "metadata": {
    "id": "00d08145-13da-4d6d-a580-fca78914b2d8"
   },
   "source": [
    "Ans=The chi-square test is a statistical test used to determine if there is a significant association between two categorical variables. It is a non-parametric test, meaning it does not make assumptions about the underlying distribution of the data."
   ]
  },
  {
   "cell_type": "markdown",
   "id": "8fec219a-1fe3-41db-a2ba-8a0b5e0b4a43",
   "metadata": {
    "id": "8fec219a-1fe3-41db-a2ba-8a0b5e0b4a43"
   },
   "source": [
    "Que 5-  What is the difference between inferential and descriptive statistics."
   ]
  },
  {
   "cell_type": "code",
   "execution_count": null,
   "id": "6717b5d9-704f-4f01-854a-d89d40cb8568",
   "metadata": {
    "id": "6717b5d9-704f-4f01-854a-d89d40cb8568"
   },
   "outputs": [],
   "source": [
    "Ans= "
   ]
  },
  {
   "cell_type": "markdown",
   "id": "d7a2df48-9875-4b6b-ba26-feee4e03b1d5",
   "metadata": {
    "id": "d7a2df48-9875-4b6b-ba26-feee4e03b1d5"
   },
   "source": [
    "Que 6- Explain any 2 distribution."
   ]
  },
  {
   "cell_type": "markdown",
   "id": "43a04a89-3aa5-4aad-b658-fdb66ddc916c",
   "metadata": {
    "id": "938bde99-9a25-4a93-b594-182b09b7db61"
   },
   "source": [
    "Ans = Normal Distribution : The normal distribution is the most important and most widely used distribution in statistics. It is sometimes called the \"bell curve\".. The standard normal distribution has two parameters: the mean and the standard deviation. In a normal distribution, mean (average), median (midpoint), and mode (most frequent observation) are equal. These values represent the peak or highest point. \n",
    "\n",
    "Uniform Distribution :uniform distribution is a symmetric probability distribution where all outcomes have an equal  of occurring. All values in the distribution have a constant probability, making them uniformly distributed. "
   ]
  },
  {
   "cell_type": "markdown",
   "id": "5c2a1d3b-bea9-4de6-8018-a120e2d36528",
   "metadata": {
    "id": "5c2a1d3b-bea9-4de6-8018-a120e2d36528"
   },
   "source": [
    "# Statistics Mathematics  Question\n",
    "\n"
   ]
  },
  {
   "cell_type": "markdown",
   "id": "40749fa8-a06d-4d9c-8864-4bb8b24599a3",
   "metadata": {
    "id": "40749fa8-a06d-4d9c-8864-4bb8b24599a3"
   },
   "source": [
    "Que 1 - if I generate heights for 1000 people from a normal distribution, what would be the probability for a new person to have a height of 70 inches using (CDF) then z-score table? take height in inches.\n",
    "\n",
    "#### Mean height (in inches) of the population\n",
    "mean_height = 66\n",
    "\n",
    "#### Standard deviation of heights (in inches) of the population\n",
    "std_dev_height = 3\n",
    "\n",
    "\n",
    "##### Generate data using this code\n",
    "###### Generate heights for 1000 people from a normal distribution\n",
    "heights = np.random.normal(mean_height, std_dev_height, 1000)))"
   ]
  },
  {
   "cell_type": "code",
   "execution_count": 24,
   "id": "e0b6c3a7-4b11-403f-860d-0beab1408712",
   "metadata": {
    "id": "e0b6c3a7-4b11-403f-860d-0beab1408712"
   },
   "outputs": [
    {
     "name": "stdout",
     "output_type": "stream",
     "text": [
      "Z-Score: 1.3333333333333333\n",
      "Probability of a new person height less than or equal to 70 inches: 0.9087887802741321\n"
     ]
    }
   ],
   "source": [
    "\n",
    "import numpy as np\n",
    "from scipy.stats import norm\n",
    "mean_height = 66\n",
    "std_height = 3\n",
    "heights = np.random.normal(mean_height, std_height, 1000)\n",
    "height = 70\n",
    "z_score = (height - mean_height) / std_height\n",
    "probability = norm.cdf(z_score)\n",
    "print(f\"Z-Score: {z_score:}\")\n",
    "print(f\"Probability of a new person height less than or equal to 70 inches: {probability:}\")"
   ]
  },
  {
   "cell_type": "markdown",
   "id": "99a22f4f-7737-4ef9-9ad0-fb7bd8e0ba46",
   "metadata": {
    "id": "99a22f4f-7737-4ef9-9ad0-fb7bd8e0ba46"
   },
   "source": [
    "Que 2-  Suppose a fitness center manager anticipates the attendance for a particular yoga class throughout the week. Based on historical data and other factors, they estimate the expected attendance in numbers:\n",
    "\n",
    "### Expected Attendance:\n",
    "\n",
    "Monday: 40\n",
    "\n",
    "Tuesday: 45\n",
    "\n",
    "Wednesday: 38\n",
    "\n",
    "Thursday: 50\n",
    "\n",
    "Friday: 55\n",
    "\n",
    "Saturday: 60\n",
    "\n",
    "Sunday: 65\n",
    "\n",
    "However, after the week concludes, the actual attendance is recorded:\n",
    "\n",
    "\n",
    "\n",
    "### Observed (Actual) Attendance:\n",
    "\n",
    "\n",
    "\n",
    "Monday: 38\n",
    "\n",
    "Tuesday: 43\n",
    "\n",
    "Wednesday: 40\n",
    "\n",
    "Thursday: 48\n",
    "\n",
    "Friday: 52\n",
    "\n",
    "Saturday: 58\n",
    "\n",
    "Sunday: 62\n",
    "\n",
    "Ho: There is no significant difference between the expected and observed attendance for the yoga class throughout the week.\n",
    "\n",
    "Ha: There is a significant difference between the expected and observed attendance for the yoga class throughout the week.\n",
    "\n",
    "#### Use chi-square test *Statistical Tools*"
   ]
  },
  {
   "cell_type": "code",
   "execution_count": 34,
   "id": "06f2df44-24f4-4314-900d-d03f02823ceb",
   "metadata": {
    "id": "06f2df44-24f4-4314-900d-d03f02823ceb"
   },
   "outputs": [
    {
     "name": "stdout",
     "output_type": "stream",
     "text": [
      "Chi-square Statistics: 0.7429166155481945\n",
      "P-value: 0.9971480488328517\n",
      "Fail to reject the null hypothesis: There is no significant difference between expected and observed attendance.\n"
     ]
    }
   ],
   "source": [
    "import numpy as np\n",
    "from scipy.stats import chi\n",
    "\n",
    "expected_attendance = np.array([40, 45, 38, 50, 55, 60, 65])\n",
    "observed_attendance = np.array([38, 43, 40, 48, 52, 58, 62])\n",
    "\n",
    "chi_square_statistics = np.sum((observed_attendance - expected_attendance) ** 2 / expected_attendance)\n",
    "df = len(expected_attendance) - 1\n",
    "\n",
    "p_value = 1 - chi.cdf(chi_square_statistics, df)\n",
    "print(f\"Chi-square Statistics: {chi_square_statistics:}\")\n",
    "print(f\"P-value: {p_value:}\")\n",
    "\n",
    "alpha = 0.05\n",
    "if p_value < alpha:\n",
    "    print(\"Reject the null hypothesis: There is a significant difference between expected and observed attendance.\")\n",
    "else:\n",
    "    print(\"Fail to reject the null hypothesis: There is no significant difference between expected and observed attendance.\")"
   ]
  },
  {
   "cell_type": "markdown",
   "id": "a651ae03-9b6a-4af4-a3e9-97b90bb8913e",
   "metadata": {
    "id": "a651ae03-9b6a-4af4-a3e9-97b90bb8913e"
   },
   "source": [
    "Que3 -> Calculate anova test\n",
    "\n",
    "\n",
    "\n",
    "\n",
    "\n",
    "    | Student_ID | Semester | Total_Marks |\n",
    "    |------------|----------|-------------|\n",
    "    | 1          | Fall     | 85          |\n",
    "    | 2          | Fall     | 78          |\n",
    "    | 3          | Fall     | 92          |\n",
    "    | 4          | Spring   | 88          |\n",
    "    | 5          | Spring   | 75          |\n",
    "    | 6          | Spring   | 82          |\n",
    "    | 7          | Summer   | 90          |\n",
    "    | 8          | Summer   | 86          |\n",
    "    | 9          | Summer   | 79          |    \n",
    "\n",
    "\n",
    "Null Hypothesis (Ho): The average marks of students in each semester are approximately equal.\n",
    "\n",
    "Alternative Hypothesis (Ha): The average marks of students in at least one semester are different."
   ]
  },
  {
   "cell_type": "code",
   "execution_count": 38,
   "id": "f4680b16-587c-4bec-809e-bfe473b7538a",
   "metadata": {
    "id": "f4680b16-587c-4bec-809e-bfe473b7538a"
   },
   "outputs": [
    {
     "name": "stdout",
     "output_type": "stream",
     "text": [
      "F-Statistic: 0.27\n",
      "P-Value: 0.7704295549801264\n",
      "Fail to reject the null hypothesis: The average marks of students in each semester are approximately equal.\n"
     ]
    }
   ],
   "source": [
    "import pandas as pd\n",
    "import scipy.stats as stats\n",
    "\n",
    "data = {\n",
    "    'Student_ID': [1, 2, 3, 4, 5, 6, 7, 8, 9],\n",
    "    'Semester': ['Fall', 'Fall', 'Fall', 'Spring', 'Spring', 'Spring', 'Summer', 'Summer', 'Summer'],\n",
    "    'Total_Marks': [85, 78, 92, 88, 75, 82, 90, 86, 79]\n",
    "}\n",
    "\n",
    "\n",
    "df = pd.DataFrame(data)\n",
    "anova_result = stats.f_oneway(\n",
    "    df[df['Semester'] == 'Fall']['Total_Marks'],\n",
    "    df[df['Semester'] == 'Spring']['Total_Marks'],\n",
    "    df[df['Semester'] == 'Summer']['Total_Marks']\n",
    ")\n",
    "\n",
    "print(f\"F-Statistic: {anova_result.statistic:.2f}\")\n",
    "print(f\"P-Value: {anova_result.pvalue}\")\n",
    "alpha = 0.05\n",
    "\n",
    "\n",
    "if anova_result.pvalue < alpha:\n",
    "    print(\"Reject the null hypothesis: The average marks of students in at least one semester are significantly different.\")\n",
    "else:\n",
    "    print(\"Fail to reject the null hypothesis: The average marks of students in each semester are approximately equal.\")"
   ]
  },
  {
   "cell_type": "code",
   "execution_count": 37,
   "id": "d53135d4-8642-469e-adc7-cc8665a07a7e",
   "metadata": {
    "id": "d53135d4-8642-469e-adc7-cc8665a07a7e"
   },
   "outputs": [],
   "source": [
    "#Solution only submit in Github"
   ]
  },
  {
   "cell_type": "code",
   "execution_count": null,
   "id": "81d8187f-1a71-40ea-a3ed-6c30f21ad72b",
   "metadata": {
    "id": "81d8187f-1a71-40ea-a3ed-6c30f21ad72b"
   },
   "outputs": [],
   "source": []
  }
 ],
 "metadata": {
  "colab": {
   "provenance": []
  },
  "kernelspec": {
   "display_name": "Python 3 (ipykernel)",
   "language": "python",
   "name": "python3"
  },
  "language_info": {
   "codemirror_mode": {
    "name": "ipython",
    "version": 3
   },
   "file_extension": ".py",
   "mimetype": "text/x-python",
   "name": "python",
   "nbconvert_exporter": "python",
   "pygments_lexer": "ipython3",
   "version": "3.12.4"
  }
 },
 "nbformat": 4,
 "nbformat_minor": 5
}
